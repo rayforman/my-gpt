{
  "cells": [
    {
      "cell_type": "code",
      "execution_count": null,
      "metadata": {
        "colab": {
          "base_uri": "https://localhost:8080/"
        },
        "id": "Cgq2mSxh5epq",
        "outputId": "2fe4ae3e-6c4c-4ec2-93e9-3ff2d7faf4dc"
      },
      "outputs": [
        {
          "name": "stdout",
          "output_type": "stream",
          "text": [
            "--2024-03-03 06:47:49--  https://raw.githubusercontent.com/karpathy/char-rnn/master/data/tinyshakespeare/input.txt\n",
            "Resolving raw.githubusercontent.com (raw.githubusercontent.com)... 185.199.108.133, 185.199.109.133, 185.199.110.133, ...\n",
            "Connecting to raw.githubusercontent.com (raw.githubusercontent.com)|185.199.108.133|:443... connected.\n",
            "HTTP request sent, awaiting response... 200 OK\n",
            "Length: 1115394 (1.1M) [text/plain]\n",
            "Saving to: ‘input.txt’\n",
            "\n",
            "\rinput.txt             0%[                    ]       0  --.-KB/s               \rinput.txt           100%[===================>]   1.06M  --.-KB/s    in 0.02s   \n",
            "\n",
            "2024-03-03 06:47:50 (56.1 MB/s) - ‘input.txt’ saved [1115394/1115394]\n",
            "\n"
          ]
        }
      ],
      "source": [
        "# We always start with a dataset to train on. Let's download the tiny shakespeare dataset\n",
        "!wget https://raw.githubusercontent.com/karpathy/char-rnn/master/data/tinyshakespeare/input.txt"
      ]
    },
    {
      "cell_type": "code",
      "execution_count": null,
      "metadata": {
        "id": "FX7wC1RfA87D"
      },
      "outputs": [],
      "source": [
        "# read it in to inspect it\n",
        "with open('input.txt', 'r', encoding='utf-8') as f:\n",
        "    text = f.read()"
      ]
    },
    {
      "cell_type": "code",
      "execution_count": null,
      "metadata": {
        "colab": {
          "base_uri": "https://localhost:8080/"
        },
        "id": "Hqolln2qA_Vp",
        "outputId": "ed775631-5391-45e0-888b-d5f6af181c9f"
      },
      "outputs": [
        {
          "name": "stdout",
          "output_type": "stream",
          "text": [
            "length of dataset in characters:  1115394\n"
          ]
        }
      ],
      "source": [
        "print(\"length of dataset in characters: \", len(text))"
      ]
    },
    {
      "cell_type": "code",
      "execution_count": null,
      "metadata": {
        "colab": {
          "base_uri": "https://localhost:8080/"
        },
        "id": "Z3BhVIc_BDhM",
        "outputId": "7c0b33e1-84a4-4c35-9e0c-39f98ec87439"
      },
      "outputs": [
        {
          "name": "stdout",
          "output_type": "stream",
          "text": [
            "First Citizen:\n",
            "Before we proceed any further, hear me speak.\n",
            "\n",
            "All:\n",
            "Speak, speak.\n",
            "\n",
            "First Citizen:\n",
            "You are all resolved rather to die than to famish?\n",
            "\n",
            "All:\n",
            "Resolved. resolved.\n",
            "\n",
            "First Citizen:\n",
            "First, you know Caius Marcius is chief enemy to the people.\n",
            "\n",
            "All:\n",
            "We know't, we know't.\n",
            "\n",
            "First Citizen:\n",
            "Let us kill him, and we'll have corn at our own price.\n",
            "Is't a verdict?\n",
            "\n",
            "All:\n",
            "No more talking on't; let it be done: away, away!\n",
            "\n",
            "Second Citizen:\n",
            "One word, good citizens.\n",
            "\n",
            "First Citizen:\n",
            "We are accounted poor citizens, the patricians good.\n",
            "What authority surfeits on would relieve us: if they\n",
            "would yield us but the superfluity, while it were\n",
            "wholesome, we might guess they relieved us humanely;\n",
            "but they think we are too dear: the leanness that\n",
            "afflicts us, the object of our misery, is as an\n",
            "inventory to particularise their abundance; our\n",
            "sufferance is a gain to them Let us revenge this with\n",
            "our pikes, ere we become rakes: for the gods know I\n",
            "speak this in hunger for bread, not in thirst for revenge.\n",
            "\n",
            "\n"
          ]
        }
      ],
      "source": [
        "# let's look at the first 1000 characters\n",
        "print(text[:1000])"
      ]
    },
    {
      "cell_type": "code",
      "execution_count": null,
      "metadata": {
        "colab": {
          "base_uri": "https://localhost:8080/"
        },
        "id": "36RAqXPBBFdZ",
        "outputId": "c956f739-68d8-460b-9564-90873f44736f"
      },
      "outputs": [
        {
          "name": "stdout",
          "output_type": "stream",
          "text": [
            "\n",
            " !$&',-.3:;?ABCDEFGHIJKLMNOPQRSTUVWXYZabcdefghijklmnopqrstuvwxyz\n",
            "65\n"
          ]
        }
      ],
      "source": [
        "# here are all the unique characters that occur in this text\n",
        "chars = sorted(list(set(text)))\n",
        "vocab_size = len(chars)\n",
        "print(''.join(chars))\n",
        "print(vocab_size)"
      ]
    },
    {
      "cell_type": "markdown",
      "metadata": {
        "id": "FGQ1dNaDBPUW"
      },
      "source": [
        "The text is a sequence of text.  `set` gives the set of all characters that uniquely occur in the text.  Then `list` converts to an arbitrary ordering of this set, and then we sort them.\n",
        "\n",
        "\n",
        "The number of these is our vocabulary size.  Theere are 65 total unique characters in the dataset.  \n",
        "\n",
        "Next we need some strategy to \"tokenize\" the text.  When people say this, they mean convert raw text to some sequence of integers according to some vocabulary of possible elements.  Here, we are translating individual characters to integers.  Let's look at this..."
      ]
    },
    {
      "cell_type": "code",
      "execution_count": null,
      "metadata": {
        "colab": {
          "base_uri": "https://localhost:8080/"
        },
        "id": "NGxmIbOsBJQy",
        "outputId": "c3880a6e-230a-4984-ff43-a2d90b7486c8"
      },
      "outputs": [
        {
          "name": "stdout",
          "output_type": "stream",
          "text": [
            "[46, 47, 47, 1, 58, 46, 43, 56, 43]\n",
            "hii there\n"
          ]
        }
      ],
      "source": [
        "# create a mapping from characters to integers\n",
        "stoi = { ch:i for i,ch in enumerate(chars) }\n",
        "itos = { i:ch for i,ch in enumerate(chars) }\n",
        "encode = lambda s: [stoi[c] for c in s] # encoder: take a string, output a list of integers\n",
        "decode = lambda l: ''.join([itos[i] for i in l]) # decoder: take a list of integers, output a string\n",
        "\n",
        "print(encode(\"hii there\"))\n",
        "print(decode(encode(\"hii there\")))"
      ]
    },
    {
      "cell_type": "markdown",
      "metadata": {
        "id": "YgZ8qRfDBxSV"
      },
      "source": [
        "When we `encode`, we receive a list of integers.  Then we can reverse this to get back the exact string with `decode`.  \n",
        "\n",
        "We basically create a look-up table from character to integer and vice-versa.  This is only one of many possible encodings, such as sub-word based (`SentencePiece`, `BytePairEncodings`, etc).  Let's stick with this simple scheme for now."
      ]
    },
    {
      "cell_type": "code",
      "execution_count": null,
      "metadata": {
        "colab": {
          "base_uri": "https://localhost:8080/"
        },
        "id": "9k0Q1yNzBiFU",
        "outputId": "65f30ec9-5225-496e-ae1a-73fd5857cac0"
      },
      "outputs": [
        {
          "name": "stdout",
          "output_type": "stream",
          "text": [
            "torch.Size([1115394]) torch.int64\n",
            "tensor([18, 47, 56, 57, 58,  1, 15, 47, 58, 47, 64, 43, 52, 10,  0, 14, 43, 44,\n",
            "        53, 56, 43,  1, 61, 43,  1, 54, 56, 53, 41, 43, 43, 42,  1, 39, 52, 63,\n",
            "         1, 44, 59, 56, 58, 46, 43, 56,  6,  1, 46, 43, 39, 56,  1, 51, 43,  1,\n",
            "        57, 54, 43, 39, 49,  8,  0,  0, 13, 50, 50, 10,  0, 31, 54, 43, 39, 49,\n",
            "         6,  1, 57, 54, 43, 39, 49,  8,  0,  0, 18, 47, 56, 57, 58,  1, 15, 47,\n",
            "        58, 47, 64, 43, 52, 10,  0, 37, 53, 59,  1, 39, 56, 43,  1, 39, 50, 50,\n",
            "         1, 56, 43, 57, 53, 50, 60, 43, 42,  1, 56, 39, 58, 46, 43, 56,  1, 58,\n",
            "        53,  1, 42, 47, 43,  1, 58, 46, 39, 52,  1, 58, 53,  1, 44, 39, 51, 47,\n",
            "        57, 46, 12,  0,  0, 13, 50, 50, 10,  0, 30, 43, 57, 53, 50, 60, 43, 42,\n",
            "         8,  1, 56, 43, 57, 53, 50, 60, 43, 42,  8,  0,  0, 18, 47, 56, 57, 58,\n",
            "         1, 15, 47, 58, 47, 64, 43, 52, 10,  0, 18, 47, 56, 57, 58,  6,  1, 63,\n",
            "        53, 59,  1, 49, 52, 53, 61,  1, 15, 39, 47, 59, 57,  1, 25, 39, 56, 41,\n",
            "        47, 59, 57,  1, 47, 57,  1, 41, 46, 47, 43, 44,  1, 43, 52, 43, 51, 63,\n",
            "         1, 58, 53,  1, 58, 46, 43,  1, 54, 43, 53, 54, 50, 43,  8,  0,  0, 13,\n",
            "        50, 50, 10,  0, 35, 43,  1, 49, 52, 53, 61,  5, 58,  6,  1, 61, 43,  1,\n",
            "        49, 52, 53, 61,  5, 58,  8,  0,  0, 18, 47, 56, 57, 58,  1, 15, 47, 58,\n",
            "        47, 64, 43, 52, 10,  0, 24, 43, 58,  1, 59, 57,  1, 49, 47, 50, 50,  1,\n",
            "        46, 47, 51,  6,  1, 39, 52, 42,  1, 61, 43,  5, 50, 50,  1, 46, 39, 60,\n",
            "        43,  1, 41, 53, 56, 52,  1, 39, 58,  1, 53, 59, 56,  1, 53, 61, 52,  1,\n",
            "        54, 56, 47, 41, 43,  8,  0, 21, 57,  5, 58,  1, 39,  1, 60, 43, 56, 42,\n",
            "        47, 41, 58, 12,  0,  0, 13, 50, 50, 10,  0, 26, 53,  1, 51, 53, 56, 43,\n",
            "         1, 58, 39, 50, 49, 47, 52, 45,  1, 53, 52,  5, 58, 11,  1, 50, 43, 58,\n",
            "         1, 47, 58,  1, 40, 43,  1, 42, 53, 52, 43, 10,  1, 39, 61, 39, 63,  6,\n",
            "         1, 39, 61, 39, 63,  2,  0,  0, 31, 43, 41, 53, 52, 42,  1, 15, 47, 58,\n",
            "        47, 64, 43, 52, 10,  0, 27, 52, 43,  1, 61, 53, 56, 42,  6,  1, 45, 53,\n",
            "        53, 42,  1, 41, 47, 58, 47, 64, 43, 52, 57,  8,  0,  0, 18, 47, 56, 57,\n",
            "        58,  1, 15, 47, 58, 47, 64, 43, 52, 10,  0, 35, 43,  1, 39, 56, 43,  1,\n",
            "        39, 41, 41, 53, 59, 52, 58, 43, 42,  1, 54, 53, 53, 56,  1, 41, 47, 58,\n",
            "        47, 64, 43, 52, 57,  6,  1, 58, 46, 43,  1, 54, 39, 58, 56, 47, 41, 47,\n",
            "        39, 52, 57,  1, 45, 53, 53, 42,  8,  0, 35, 46, 39, 58,  1, 39, 59, 58,\n",
            "        46, 53, 56, 47, 58, 63,  1, 57, 59, 56, 44, 43, 47, 58, 57,  1, 53, 52,\n",
            "         1, 61, 53, 59, 50, 42,  1, 56, 43, 50, 47, 43, 60, 43,  1, 59, 57, 10,\n",
            "         1, 47, 44,  1, 58, 46, 43, 63,  0, 61, 53, 59, 50, 42,  1, 63, 47, 43,\n",
            "        50, 42,  1, 59, 57,  1, 40, 59, 58,  1, 58, 46, 43,  1, 57, 59, 54, 43,\n",
            "        56, 44, 50, 59, 47, 58, 63,  6,  1, 61, 46, 47, 50, 43,  1, 47, 58,  1,\n",
            "        61, 43, 56, 43,  0, 61, 46, 53, 50, 43, 57, 53, 51, 43,  6,  1, 61, 43,\n",
            "         1, 51, 47, 45, 46, 58,  1, 45, 59, 43, 57, 57,  1, 58, 46, 43, 63,  1,\n",
            "        56, 43, 50, 47, 43, 60, 43, 42,  1, 59, 57,  1, 46, 59, 51, 39, 52, 43,\n",
            "        50, 63, 11,  0, 40, 59, 58,  1, 58, 46, 43, 63,  1, 58, 46, 47, 52, 49,\n",
            "         1, 61, 43,  1, 39, 56, 43,  1, 58, 53, 53,  1, 42, 43, 39, 56, 10,  1,\n",
            "        58, 46, 43,  1, 50, 43, 39, 52, 52, 43, 57, 57,  1, 58, 46, 39, 58,  0,\n",
            "        39, 44, 44, 50, 47, 41, 58, 57,  1, 59, 57,  6,  1, 58, 46, 43,  1, 53,\n",
            "        40, 48, 43, 41, 58,  1, 53, 44,  1, 53, 59, 56,  1, 51, 47, 57, 43, 56,\n",
            "        63,  6,  1, 47, 57,  1, 39, 57,  1, 39, 52,  0, 47, 52, 60, 43, 52, 58,\n",
            "        53, 56, 63,  1, 58, 53,  1, 54, 39, 56, 58, 47, 41, 59, 50, 39, 56, 47,\n",
            "        57, 43,  1, 58, 46, 43, 47, 56,  1, 39, 40, 59, 52, 42, 39, 52, 41, 43,\n",
            "        11,  1, 53, 59, 56,  0, 57, 59, 44, 44, 43, 56, 39, 52, 41, 43,  1, 47,\n",
            "        57,  1, 39,  1, 45, 39, 47, 52,  1, 58, 53,  1, 58, 46, 43, 51,  1, 24,\n",
            "        43, 58,  1, 59, 57,  1, 56, 43, 60, 43, 52, 45, 43,  1, 58, 46, 47, 57,\n",
            "         1, 61, 47, 58, 46,  0, 53, 59, 56,  1, 54, 47, 49, 43, 57,  6,  1, 43,\n",
            "        56, 43,  1, 61, 43,  1, 40, 43, 41, 53, 51, 43,  1, 56, 39, 49, 43, 57,\n",
            "        10,  1, 44, 53, 56,  1, 58, 46, 43,  1, 45, 53, 42, 57,  1, 49, 52, 53,\n",
            "        61,  1, 21,  0, 57, 54, 43, 39, 49,  1, 58, 46, 47, 57,  1, 47, 52,  1,\n",
            "        46, 59, 52, 45, 43, 56,  1, 44, 53, 56,  1, 40, 56, 43, 39, 42,  6,  1,\n",
            "        52, 53, 58,  1, 47, 52,  1, 58, 46, 47, 56, 57, 58,  1, 44, 53, 56,  1,\n",
            "        56, 43, 60, 43, 52, 45, 43,  8,  0,  0])\n"
          ]
        }
      ],
      "source": [
        "# let's now encode the entire text dataset and store it into a torch.Tensor\n",
        "import torch # we use PyTorch: https://pytorch.org\n",
        "data = torch.tensor(encode(text), dtype=torch.long)\n",
        "print(data.shape, data.dtype)\n",
        "print(data[:1000]) # the 1000 characters we looked at earier will to the GPT look like this"
      ]
    },
    {
      "cell_type": "markdown",
      "metadata": {
        "id": "gaqgyml0CuN9"
      },
      "source": [
        "This is an identical translation of the Shakespeare text using our vocabulary mapping, as a single very large sequence of integers"
      ]
    },
    {
      "cell_type": "code",
      "execution_count": null,
      "metadata": {
        "id": "RSIPWmtwCleU"
      },
      "outputs": [],
      "source": [
        "# Let's now split up the data into train and validation sets, so we don't just memorize all of the data.  It should\n",
        "# be able to produce new text that is like the training text.\n",
        "n = int(0.9*len(data)) # first 90% will be train, rest val\n",
        "train_data = data[:n]\n",
        "val_data = data[n:]"
      ]
    },
    {
      "cell_type": "code",
      "execution_count": null,
      "metadata": {
        "colab": {
          "base_uri": "https://localhost:8080/"
        },
        "id": "Rq8EkrCGC1_G",
        "outputId": "ddd47306-a82e-44de-c15b-a261e7d38412"
      },
      "outputs": [
        {
          "data": {
            "text/plain": [
              "tensor([18, 47, 56, 57, 58,  1, 15, 47, 58])"
            ]
          },
          "execution_count": 9,
          "metadata": {},
          "output_type": "execute_result"
        }
      ],
      "source": [
        "# We're never going to put the entire text all at once.  This is too expensive.\n",
        "# When we train the transformer, we work with chunks of the dataset, and we randomly\n",
        "# sample different chunks.  Each chunk has a maximum length and we will call this `block_size`.\n",
        "block_size = 8\n",
        "train_data[:block_size+1]  # let's look at the first `block_size` + 1 in the training data"
      ]
    },
    {
      "cell_type": "markdown",
      "metadata": {
        "id": "Yz4ADNf4DQxK"
      },
      "source": [
        "This has multiple examples packed in to a single example.  We will simultaneously train it to make predictions at every single position.  For 9 characters, we have 8 examples in it.\n",
        "\n",
        "In the context of [18] (the first character), 47 comes next.\n",
        "In the context of [18, 47] (the first 2 characters), 56 comes next.\n",
        "And so on..."
      ]
    },
    {
      "cell_type": "code",
      "execution_count": null,
      "metadata": {
        "colab": {
          "base_uri": "https://localhost:8080/"
        },
        "id": "D5vjy-HiC5kd",
        "outputId": "b19fe3b9-2d31-4f67-be9d-1f3717ff4dbc"
      },
      "outputs": [
        {
          "name": "stdout",
          "output_type": "stream",
          "text": [
            "when input is tensor([18]) the target: 47\n",
            "when input is tensor([18, 47]) the target: 56\n",
            "when input is tensor([18, 47, 56]) the target: 57\n",
            "when input is tensor([18, 47, 56, 57]) the target: 58\n",
            "when input is tensor([18, 47, 56, 57, 58]) the target: 1\n",
            "when input is tensor([18, 47, 56, 57, 58,  1]) the target: 15\n",
            "when input is tensor([18, 47, 56, 57, 58,  1, 15]) the target: 47\n",
            "when input is tensor([18, 47, 56, 57, 58,  1, 15, 47]) the target: 58\n"
          ]
        }
      ],
      "source": [
        "# Let's spell this out in code\n",
        "x = train_data[:block_size]\n",
        "y = train_data[1:block_size+1]  # targets for each position in the sequence.  notice offset by 1!\n",
        "for t in range(block_size):\n",
        "    context = x[:t+1]  # up to and including t\n",
        "    target = y[t]\n",
        "    print(f\"when input is {context} the target: {target}\")"
      ]
    },
    {
      "cell_type": "markdown",
      "metadata": {
        "id": "JlEoiniHD6iY"
      },
      "source": [
        "This is important b/c it presents to the model sequences of different lengths, up to the maximum sequence length (or block_size).  This way, when we want to do generation of new sequences, we can start with a sequence as short as 1 character, and the transformer knows what to do with a sequence of length 1 to start iteratively producing new sequences.\n",
        "\n",
        "After we get to block_size, we start truncating b/c the transformer doesn't know what to do with sequences larger than that."
      ]
    },
    {
      "cell_type": "code",
      "execution_count": null,
      "metadata": {
        "colab": {
          "base_uri": "https://localhost:8080/"
        },
        "id": "kFzX5D0VDmV1",
        "outputId": "9bbda44b-3148-4cc4-e1e8-8aa499f1ac92"
      },
      "outputs": [
        {
          "name": "stdout",
          "output_type": "stream",
          "text": [
            "inputs:\n",
            "torch.Size([4, 8])\n",
            "tensor([[24, 43, 58,  5, 57,  1, 46, 43],\n",
            "        [44, 53, 56,  1, 58, 46, 39, 58],\n",
            "        [52, 58,  1, 58, 46, 39, 58,  1],\n",
            "        [25, 17, 27, 10,  0, 21,  1, 54]])\n",
            "targets:\n",
            "torch.Size([4, 8])\n",
            "tensor([[43, 58,  5, 57,  1, 46, 43, 39],\n",
            "        [53, 56,  1, 58, 46, 39, 58,  1],\n",
            "        [58,  1, 58, 46, 39, 58,  1, 46],\n",
            "        [17, 27, 10,  0, 21,  1, 54, 39]])\n",
            "----\n",
            "when input is [24] the target: 43\n",
            "when input is [24, 43] the target: 58\n",
            "when input is [24, 43, 58] the target: 5\n",
            "when input is [24, 43, 58, 5] the target: 57\n",
            "when input is [24, 43, 58, 5, 57] the target: 1\n",
            "when input is [24, 43, 58, 5, 57, 1] the target: 46\n",
            "when input is [24, 43, 58, 5, 57, 1, 46] the target: 43\n",
            "when input is [24, 43, 58, 5, 57, 1, 46, 43] the target: 39\n",
            "when input is [44] the target: 53\n",
            "when input is [44, 53] the target: 56\n",
            "when input is [44, 53, 56] the target: 1\n",
            "when input is [44, 53, 56, 1] the target: 58\n",
            "when input is [44, 53, 56, 1, 58] the target: 46\n",
            "when input is [44, 53, 56, 1, 58, 46] the target: 39\n",
            "when input is [44, 53, 56, 1, 58, 46, 39] the target: 58\n",
            "when input is [44, 53, 56, 1, 58, 46, 39, 58] the target: 1\n",
            "when input is [52] the target: 58\n",
            "when input is [52, 58] the target: 1\n",
            "when input is [52, 58, 1] the target: 58\n",
            "when input is [52, 58, 1, 58] the target: 46\n",
            "when input is [52, 58, 1, 58, 46] the target: 39\n",
            "when input is [52, 58, 1, 58, 46, 39] the target: 58\n",
            "when input is [52, 58, 1, 58, 46, 39, 58] the target: 1\n",
            "when input is [52, 58, 1, 58, 46, 39, 58, 1] the target: 46\n",
            "when input is [25] the target: 17\n",
            "when input is [25, 17] the target: 27\n",
            "when input is [25, 17, 27] the target: 10\n",
            "when input is [25, 17, 27, 10] the target: 0\n",
            "when input is [25, 17, 27, 10, 0] the target: 21\n",
            "when input is [25, 17, 27, 10, 0, 21] the target: 1\n",
            "when input is [25, 17, 27, 10, 0, 21, 1] the target: 54\n",
            "when input is [25, 17, 27, 10, 0, 21, 1, 54] the target: 39\n"
          ]
        }
      ],
      "source": [
        "# Let's extend this to have a batch dimension.  We will stack multiple sequences\n",
        "# into a single tensor for better efficiency.  They are processed independently.\n",
        "#\n",
        "# We will start randomly generated sequences from the dataset.\n",
        "#\n",
        "torch.manual_seed(1337)\n",
        "batch_size = 4 # how many independent sequences will we process in parallel?\n",
        "block_size = 8 # what is the maximum context length for predictions?\n",
        "\n",
        "def get_batch(split):\n",
        "    ### generate a small batch of data of inputs x and targets y\n",
        "\n",
        "    # Choose if we sample from the train or val split\n",
        "    data = train_data if split == 'train' else val_data\n",
        "\n",
        "    # When we generate random positions, we generate batch_size number of random offsets,\n",
        "    # each of can support sequences of length block_size.\n",
        "    ix = torch.randint(len(data) - block_size, (batch_size,))\n",
        "\n",
        "    # Then generate the input sequences and targets, which are offset by 1\n",
        "    # from the inputs.  Stack them all up as individual rows in a tensor.\n",
        "    x = torch.stack([data[i:i+block_size] for i in ix])\n",
        "    y = torch.stack([data[i+1:i+block_size+1] for i in ix])\n",
        "    return x, y\n",
        "\n",
        "xb, yb = get_batch('train')\n",
        "print('inputs:')\n",
        "print(xb.shape)\n",
        "print(xb)\n",
        "print('targets:')\n",
        "print(yb.shape)\n",
        "print(yb)\n",
        "\n",
        "print('----')\n",
        "\n",
        "# 32 independent examples pack in to a single batch!\n",
        "for b in range(batch_size): # batch dimension\n",
        "    for t in range(block_size): # time dimension\n",
        "        context = xb[b, :t+1]\n",
        "        target = yb[b,t]\n",
        "        print(f\"when input is {context.tolist()} the target: {target}\")"
      ]
    },
    {
      "cell_type": "code",
      "execution_count": null,
      "metadata": {
        "colab": {
          "base_uri": "https://localhost:8080/"
        },
        "id": "ULwQUSYQERM6",
        "outputId": "344e18ed-23da-4aa5-9ffc-82538cd377eb"
      },
      "outputs": [
        {
          "name": "stdout",
          "output_type": "stream",
          "text": [
            "tensor([[24, 43, 58,  5, 57,  1, 46, 43],\n",
            "        [44, 53, 56,  1, 58, 46, 39, 58],\n",
            "        [52, 58,  1, 58, 46, 39, 58,  1],\n",
            "        [25, 17, 27, 10,  0, 21,  1, 54]])\n"
          ]
        }
      ],
      "source": [
        "print(xb) # our input to the transformer"
      ]
    },
    {
      "cell_type": "markdown",
      "metadata": {
        "id": "Ap3LWoPHFQy9"
      },
      "source": [
        "(back to the slides)  Let us start to create what is the simplest possible language model, called the `Bigram Language Model`.  "
      ]
    },
    {
      "cell_type": "code",
      "execution_count": null,
      "metadata": {
        "colab": {
          "base_uri": "https://localhost:8080/"
        },
        "id": "EtzNQXwLFQGJ",
        "outputId": "c5f763e7-088c-404e-f433-784cf17fa426"
      },
      "outputs": [
        {
          "name": "stdout",
          "output_type": "stream",
          "text": [
            "torch.Size([32, 65])\n",
            "tensor(4.8786, grad_fn=<NllLossBackward0>)\n"
          ]
        }
      ],
      "source": [
        "import torch\n",
        "import torch.nn as nn\n",
        "from torch.nn import functional as F\n",
        "torch.manual_seed(1337)\n",
        "\n",
        "class BigramLanguageModel(nn.Module):\n",
        "\n",
        "    def __init__(self, vocab_size):\n",
        "        super().__init__()\n",
        "        # each token directly reads off the logits for the next token from a lookup table\n",
        "        self.token_embedding_table = nn.Embedding(vocab_size, vocab_size)\n",
        "\n",
        "    def forward(self, idx, targets=None):\n",
        "\n",
        "        # idx and targets are both (B,T) tensor of integers\n",
        "        logits = self.token_embedding_table(idx) # (B,T,C)\n",
        "\n",
        "        if targets is None:\n",
        "            # This allows us to optionally not have a targets, for example\n",
        "            # if we don't need the loss and are just doing inferencing/generation.\n",
        "            loss = None\n",
        "        else:\n",
        "            # PyTorch expects the channels to be the 2nd dimension, so we\n",
        "            # need to do some reshaping.\n",
        "            B, T, C = logits.shape\n",
        "            logits = logits.view(B*T, C)\n",
        "            targets = targets.view(B*T)\n",
        "            loss = F.cross_entropy(logits, targets)\n",
        "\n",
        "        return logits, loss\n",
        "\n",
        "m = BigramLanguageModel(vocab_size)\n",
        "logits, loss = m(xb, yb)\n",
        "print(logits.shape)\n",
        "print(loss)"
      ]
    },
    {
      "cell_type": "markdown",
      "metadata": {
        "id": "DIQH7JsmIT8C"
      },
      "source": [
        "Note that since we know that we have 65 elements in the vocabulary, we can actually guess at what the loss should be when we start off.  In particular, we are expecting `-ln(1/65) ~ 4.17`.  We are getting 4.87, and so initial predictions are not super diffuse and have some entropy.  \n",
        "\n",
        "Now let's add the ability to generate new sequences."
      ]
    },
    {
      "cell_type": "code",
      "execution_count": null,
      "metadata": {
        "colab": {
          "base_uri": "https://localhost:8080/"
        },
        "id": "rPo5XuVkHIQO",
        "outputId": "7e8995e9-6766-4394-a143-033779b46e4a"
      },
      "outputs": [
        {
          "name": "stdout",
          "output_type": "stream",
          "text": [
            "torch.Size([32, 65])\n",
            "tensor(4.8786, grad_fn=<NllLossBackward0>)\n",
            "\n",
            "Sr?qP-QWktXoL&jLDJgOLVz'RIoDqHdhsV&vLLxatjscMpwLERSPyao.qfzs$Ys$zF-w,;eEkzxjgCKFChs!iWW.ObzDnxA Ms$3\n"
          ]
        }
      ],
      "source": [
        "torch.manual_seed(1337)\n",
        "\n",
        "class BigramLanguageModel(nn.Module):\n",
        "\n",
        "    def __init__(self, vocab_size):\n",
        "        super().__init__()\n",
        "        # each token directly reads off the logits for the next token from a lookup table\n",
        "        self.token_embedding_table = nn.Embedding(vocab_size, vocab_size)\n",
        "\n",
        "    def forward(self, idx, targets=None):\n",
        "\n",
        "        # idx and targets are both (B,T) tensor of integers\n",
        "        logits = self.token_embedding_table(idx) # (B,T,C)\n",
        "\n",
        "        if targets is None:\n",
        "            loss = None\n",
        "        else:\n",
        "            B, T, C = logits.shape\n",
        "            logits = logits.view(B*T, C)\n",
        "            targets = targets.view(B*T)\n",
        "            loss = F.cross_entropy(logits, targets)\n",
        "\n",
        "        return logits, loss\n",
        "\n",
        "    def generate(self, idx, max_new_tokens):\n",
        "        # idx is (B, T) array of indices in the current context.\n",
        "        #\n",
        "        # the job of this function is to take the (B, T) sequence, and extend\n",
        "        # it to be (B, T+1), and then (B, T+2), and so on, until we have extended\n",
        "        # it to `max_new_tokens` additional length.\n",
        "        for _ in range(max_new_tokens):\n",
        "            # get the predictions with current indices.  ignore the loss.\n",
        "            logits, loss = self(idx)\n",
        "            # focus only on the last time step, so pluck out the last element in the time dimension\n",
        "            logits = logits[:, -1, :] # becomes (B, C)\n",
        "            # apply softmax to get probabilities\n",
        "            probs = F.softmax(logits, dim=-1) # (B, C)\n",
        "            # sample from the distribution to get a single prediction for what comes next according to the given PDF\n",
        "            idx_next = torch.multinomial(probs, num_samples=1) # (B, 1)\n",
        "            # append sampled index to the running sequence\n",
        "            idx = torch.cat((idx, idx_next), dim=1) # (B, T+1)\n",
        "        return idx\n",
        "\n",
        "m = BigramLanguageModel(vocab_size)\n",
        "logits, loss = m(xb, yb)\n",
        "print(logits.shape)\n",
        "print(loss)\n",
        "\n",
        "# Create a batch size of 1, with time dimension of 1, each holding zeros to start\n",
        "# the generation process.  The first element of every sequence will start with 0 (e.g., the newline character).\n",
        "# Ask for 100 new tokens.  the generate function will continue this.  This operates on batches,\n",
        "# so we need to index the 0'th element to get the sequence generated.  Convert these generated\n",
        "# indices into a Python list and feed into our decode function to convert back into text.\n",
        "print(decode(m.generate(idx = torch.zeros((1, 1), dtype=torch.long), max_new_tokens=100)[0].tolist()))"
      ]
    },
    {
      "cell_type": "markdown",
      "metadata": {
        "id": "WqUqWWayLlXB"
      },
      "source": [
        "This is total garbage, b/c we need to TRAIN the model.  So let's start doing that.  But note that while we are feeding it entire sequences, it is only using single characters to make the next prediction.  We are doing this so we can build this up to actually use the history to make the next prediction."
      ]
    },
    {
      "cell_type": "code",
      "execution_count": null,
      "metadata": {
        "id": "XjVKFNLCJSjl"
      },
      "outputs": [],
      "source": [
        "# create a PyTorch optimizer\n",
        "#\n",
        "# Typical good setting for lr is 3e-4, but for small networks we can use larger\n",
        "# learning rates.  We can probably even go higher to 1e-2.  Let's use 1e-3.\n",
        "optimizer = torch.optim.AdamW(m.parameters(), lr=1e-3)"
      ]
    },
    {
      "cell_type": "code",
      "execution_count": null,
      "metadata": {
        "colab": {
          "base_uri": "https://localhost:8080/"
        },
        "id": "26rckZttL2Uj",
        "outputId": "7cbd8667-f8a8-4fe2-c13b-4b0837f090c5"
      },
      "outputs": [
        {
          "name": "stdout",
          "output_type": "stream",
          "text": [
            "2.5727508068084717\n"
          ]
        }
      ],
      "source": [
        "# a very typical training loop\n",
        "batch_size = 32\n",
        "for steps in range(10000): # increase number of steps for good results...\n",
        "\n",
        "    # sample a batch of data\n",
        "    xb, yb = get_batch('train')\n",
        "\n",
        "    # evaluate the loss\n",
        "    logits, loss = m(xb, yb)\n",
        "    optimizer.zero_grad(set_to_none=True)\n",
        "    loss.backward()\n",
        "    optimizer.step()\n",
        "\n",
        "print(loss.item())\n"
      ]
    },
    {
      "cell_type": "markdown",
      "metadata": {
        "id": "tg9S8iSBMOzD"
      },
      "source": [
        "We can increase the number of iterations to keep pushing down the loss, though it'll plateau b/c it is a very simple model."
      ]
    },
    {
      "cell_type": "code",
      "execution_count": null,
      "metadata": {
        "colab": {
          "base_uri": "https://localhost:8080/"
        },
        "id": "grfDBu9DMD8Q",
        "outputId": "971948a6-21e5-4c1b-bebc-32921912045e"
      },
      "outputs": [
        {
          "name": "stdout",
          "output_type": "stream",
          "text": [
            "\n",
            "Iyoteng h hasbe pave pirance\n",
            "Rie hicomyonthar's\n",
            "Plinseard ith henoure wounonthioneir thondy, y heltieiengerofo'dsssit ey\n",
            "KIN d pe wither vouprrouthercc.\n",
            "hathe; d!\n",
            "My hind tt hinig t ouchos tes; st yo hind wotte grotonear 'so it t jod weancotha:\n",
            "h hay.JUCle n prids, r loncave w hollular s O:\n",
            "HIs; ht anjx?\n",
            "\n",
            "DUThinqunt.\n",
            "\n",
            "LaZAnde.\n",
            "athave l.\n",
            "KEONH:\n",
            "ARThanco be y,-hedarwnoddy scace, tridesar, wnl'shenou\n"
          ]
        }
      ],
      "source": [
        "print(decode(m.generate(idx = torch.zeros((1, 1), dtype=torch.long), max_new_tokens=400)[0].tolist()))"
      ]
    },
    {
      "cell_type": "markdown",
      "metadata": {
        "id": "IAYBAXwbMX7w"
      },
      "source": [
        "The loss has improved, and while it's not what we're looking for it seems it a bit more reasonable.  It's certainly not Shakespeare but it is making progress.  Ok this is the simplest possible model.  The tokens are not talking to each other.  We look only at the last character to make the next prediction.  Let's start to have the tokens talking to each other."
      ]
    },
    {
      "cell_type": "markdown",
      "metadata": {
        "id": "CrzsJjWHMyEh"
      },
      "source": [
        "## The Mathematical Trick for Self-Attention"
      ]
    },
    {
      "cell_type": "markdown",
      "metadata": {
        "id": "NZAka7lOOXk-"
      },
      "source": [
        "This is at the heart of an efficient implementation of self-attention.  Let's look first at a toy example"
      ]
    },
    {
      "cell_type": "code",
      "execution_count": null,
      "metadata": {
        "colab": {
          "base_uri": "https://localhost:8080/"
        },
        "id": "1L7JxMWpMWPX",
        "outputId": "71839f13-ea1c-466e-9118-37a148de648b"
      },
      "outputs": [
        {
          "data": {
            "text/plain": [
              "torch.Size([4, 8, 2])"
            ]
          },
          "execution_count": 18,
          "metadata": {},
          "output_type": "execute_result"
        }
      ],
      "source": [
        "# consider the following toy example\n",
        "\n",
        "torch.manual_seed(1337)\n",
        "B,T,C = 4,8,2  # batch, time, channels\n",
        "x = torch.randn(B,T,C)\n",
        "x.shape"
      ]
    },
    {
      "cell_type": "markdown",
      "metadata": {
        "id": "AT9nLEczOeYX"
      },
      "source": [
        "We would like these tokens (up to 8 tokens in a batch) to talk to each other.  In particular, we want to couple them in a very specific way.  For example, the token at the 5th location should not interact with the 6th, 7th, or 8th location.  It can only talk to tokens at the 1st, 2nd, 3rd, and 4th.  Information can only flow from the past to the present, and not the future b/c we are trying to predict the future.\n",
        "\n",
        "What is the easiest way for tokens to communicate?  If we are at the 5th token and we want to communicate with our past, the simplest thing we can do is to do an average of all the preceding tokens.  Take the channels that make up the information from the 1st, 2nd, 3rd, 4th, and 5th (e.g., \"now\") steps and average them up.  This becomes a feature vector that summarizes \"me\" in the context of the past.\n",
        "\n",
        "This is an extremely weak and lossy form of interaction.  But we will see how to bring this information back later on."
      ]
    },
    {
      "cell_type": "code",
      "execution_count": null,
      "metadata": {
        "id": "cVpXeEnXOUGu"
      },
      "outputs": [],
      "source": [
        "# For every element in the batch, and for each token in the sequence, we will compute\n",
        "# the average of all tokens up to the current token, and do this for all tokens in the batch.\n",
        "# Each sequence in the batch is treated independent from one another.\n",
        "\n",
        "# We want x[b,t] = mean_{i<=t} x[b,i]\n",
        "xbow = torch.zeros((B,T,C))  # \"bag of words\"\n",
        "for b in range(B):\n",
        "    for t in range(T):\n",
        "        xprev = x[b,:t+1] # (t,C): everything up to and including the t_th token\n",
        "        xbow[b,t] = torch.mean(xprev, 0)"
      ]
    },
    {
      "cell_type": "code",
      "execution_count": null,
      "metadata": {
        "colab": {
          "base_uri": "https://localhost:8080/"
        },
        "id": "JuvLb5yeQEch",
        "outputId": "c7fe7710-7d36-444a-c7d2-f89547e422d8"
      },
      "outputs": [
        {
          "data": {
            "text/plain": [
              "tensor([[ 0.1808, -0.0700],\n",
              "        [-0.3596, -0.9152],\n",
              "        [ 0.6258,  0.0255],\n",
              "        [ 0.9545,  0.0643],\n",
              "        [ 0.3612,  1.1679],\n",
              "        [-1.3499, -0.5102],\n",
              "        [ 0.2360, -0.2398],\n",
              "        [-0.9211,  1.5433]])"
            ]
          },
          "execution_count": 20,
          "metadata": {},
          "output_type": "execute_result"
        }
      ],
      "source": [
        "x[0]  # 0th batch element"
      ]
    },
    {
      "cell_type": "code",
      "execution_count": null,
      "metadata": {
        "colab": {
          "base_uri": "https://localhost:8080/"
        },
        "id": "4mMVDmstQZSq",
        "outputId": "cfbe582c-acd6-4836-def6-9acfdb558fe3"
      },
      "outputs": [
        {
          "data": {
            "text/plain": [
              "tensor([[ 0.1808, -0.0700],\n",
              "        [-0.0894, -0.4926],\n",
              "        [ 0.1490, -0.3199],\n",
              "        [ 0.3504, -0.2238],\n",
              "        [ 0.3525,  0.0545],\n",
              "        [ 0.0688, -0.0396],\n",
              "        [ 0.0927, -0.0682],\n",
              "        [-0.0341,  0.1332]])"
            ]
          },
          "execution_count": 21,
          "metadata": {},
          "output_type": "execute_result"
        }
      ],
      "source": [
        "# If we now look at the 0th element at xbow, we see the following\n",
        "#\n",
        "# the first element is identical to the first element in x.  this is b/c there's nothing prior to average with.\n",
        "# the second element is the mean of the first and second elements in x\n",
        "# the third element is the mean of the first, second, and third elements in x\n",
        "# ... and so on...\n",
        "#\n",
        "xbow[0]"
      ]
    },
    {
      "cell_type": "markdown",
      "metadata": {
        "id": "Vze0jdwMQ15n"
      },
      "source": [
        "This is all well and good, but it is very inefficient.  We can, however, be very efficient in doing this by using matrix multiplication"
      ]
    },
    {
      "cell_type": "code",
      "execution_count": null,
      "metadata": {
        "colab": {
          "base_uri": "https://localhost:8080/"
        },
        "id": "rUFP8YCfQb5B",
        "outputId": "31ae3842-2826-4766-e26d-8cbcbe7db623"
      },
      "outputs": [
        {
          "name": "stdout",
          "output_type": "stream",
          "text": [
            "a=\n",
            "tensor([[1., 1., 1.],\n",
            "        [1., 1., 1.],\n",
            "        [1., 1., 1.]])\n",
            "--\n",
            "b=\n",
            "tensor([[2., 7.],\n",
            "        [6., 4.],\n",
            "        [6., 5.]])\n",
            "--\n",
            "c=\n",
            "tensor([[14., 16.],\n",
            "        [14., 16.],\n",
            "        [14., 16.]])\n"
          ]
        }
      ],
      "source": [
        "torch.manual_seed(42)\n",
        "a = torch.ones(3, 3)\n",
        "b = torch.randint(0, 10, (3,2)).float()\n",
        "c = a @ b\n",
        "print('a=')\n",
        "print(a)\n",
        "print('--')\n",
        "print('b=')\n",
        "print(b)\n",
        "print('--')\n",
        "print('c=')\n",
        "print(c)\n"
      ]
    },
    {
      "cell_type": "markdown",
      "metadata": {
        "id": "8QrNbEfRRbRv"
      },
      "source": [
        "We have a single matrix `a` of all ones, which is 3x3 dims.  We also have a matrix `b` which is a matrix of size 3x2 dims, which contains random integers in the range [0, 10).  \n",
        "\n",
        "We then multiply these together to get `c` which will be a matrix of size 3x2.\n",
        "\n",
        "How are these numbers in `c` achieved?  The number in the top left is the first row of `a` dot-producted with the first row of `b`.  And so on.\n",
        "\n",
        "The repeated elements in `c` are repeated b/c all of the rows in `a` are all 1's.  The trick is the following: `a` is a boring matrix of all 1's.  But torch has a function called `tril` which you can wrap with a matrix of all 1's, and get the following:"
      ]
    },
    {
      "cell_type": "code",
      "execution_count": null,
      "metadata": {
        "colab": {
          "base_uri": "https://localhost:8080/"
        },
        "id": "PD6619CjRXjH",
        "outputId": "7bee8d17-001b-48dc-89c0-fb812a2debd3"
      },
      "outputs": [
        {
          "data": {
            "text/plain": [
              "tensor([[1., 0., 0.],\n",
              "        [1., 1., 0.],\n",
              "        [1., 1., 1.]])"
            ]
          },
          "execution_count": 23,
          "metadata": {},
          "output_type": "execute_result"
        }
      ],
      "source": [
        "# The lower triangular portion of the input.\n",
        "torch.tril(torch.ones(3, 3))"
      ]
    },
    {
      "cell_type": "markdown",
      "metadata": {
        "id": "f_H5cRNqSQJm"
      },
      "source": [
        "OK let's substitute this instead for `a`"
      ]
    },
    {
      "cell_type": "code",
      "execution_count": null,
      "metadata": {
        "colab": {
          "base_uri": "https://localhost:8080/"
        },
        "id": "zd5gLIaYSKsR",
        "outputId": "aa7d8063-23d2-4d20-85c4-41a2aa443a66"
      },
      "outputs": [
        {
          "name": "stdout",
          "output_type": "stream",
          "text": [
            "a=\n",
            "tensor([[1., 0., 0.],\n",
            "        [1., 1., 0.],\n",
            "        [1., 1., 1.]])\n",
            "--\n",
            "b=\n",
            "tensor([[2., 7.],\n",
            "        [6., 4.],\n",
            "        [6., 5.]])\n",
            "--\n",
            "c=\n",
            "tensor([[ 2.,  7.],\n",
            "        [ 8., 11.],\n",
            "        [14., 16.]])\n"
          ]
        }
      ],
      "source": [
        "torch.manual_seed(42)\n",
        "a = torch.tril(torch.ones(3, 3))\n",
        "b = torch.randint(0, 10, (3,2)).float()\n",
        "c = a @ b\n",
        "print('a=')\n",
        "print(a)\n",
        "print('--')\n",
        "print('b=')\n",
        "print(b)\n",
        "print('--')\n",
        "print('c=')\n",
        "print(c)\n"
      ]
    },
    {
      "cell_type": "markdown",
      "metadata": {
        "id": "pE1X_rHxSZhT"
      },
      "source": [
        "Again, its the dot product of rows in `a` with columns in `b`.  But now, we have 0's ignoring certain elements in `b`. Now, in each row of `c`, we are basically doing a sum of a variable number of rows in `b`.  This is currently sums b/c `a` is 1's, but you see how we can do averages by normalizing the rows of `a` to sum to 1:"
      ]
    },
    {
      "cell_type": "code",
      "execution_count": null,
      "metadata": {
        "colab": {
          "base_uri": "https://localhost:8080/"
        },
        "id": "L9e3ODiESWCk",
        "outputId": "5af342cc-05b1-413d-f9fe-956805b48c5d"
      },
      "outputs": [
        {
          "name": "stdout",
          "output_type": "stream",
          "text": [
            "a=\n",
            "tensor([[1.0000, 0.0000, 0.0000],\n",
            "        [0.5000, 0.5000, 0.0000],\n",
            "        [0.3333, 0.3333, 0.3333]])\n",
            "--\n",
            "b=\n",
            "tensor([[2., 7.],\n",
            "        [6., 4.],\n",
            "        [6., 5.]])\n",
            "--\n",
            "c=\n",
            "tensor([[2.0000, 7.0000],\n",
            "        [4.0000, 5.5000],\n",
            "        [4.6667, 5.3333]])\n"
          ]
        }
      ],
      "source": [
        "torch.manual_seed(42)\n",
        "a = torch.tril(torch.ones(3, 3))\n",
        "a = a / torch.sum(a, 1, keepdim=True)\n",
        "b = torch.randint(0, 10, (3,2)).float()\n",
        "c = a @ b\n",
        "print('a=')\n",
        "print(a)\n",
        "print('--')\n",
        "print('b=')\n",
        "print(b)\n",
        "print('--')\n",
        "print('c=')\n",
        "print(c)\n"
      ]
    },
    {
      "cell_type": "markdown",
      "metadata": {
        "id": "uzZwpPtAS6kn"
      },
      "source": [
        "We see now that the rows in `a` all sum to 1, and when we multiply this with `b`, we get averages of all preceding tokens, and all future tokens are ignored with 0's still.  The first row in `c` is still the first row in `b`, but the second row in `c` is now the average of the first two rows in `b`, and so on.  By manipulating the elements of the multiply matrix, we can do these averages in this incremental fashion.  "
      ]
    },
    {
      "cell_type": "code",
      "execution_count": null,
      "metadata": {
        "colab": {
          "base_uri": "https://localhost:8080/"
        },
        "id": "wdwlfoNNS2-x",
        "outputId": "f57d2935-0c33-4678-dce8-ab25696c4898"
      },
      "outputs": [
        {
          "data": {
            "text/plain": [
              "tensor([[1.0000, 0.0000, 0.0000, 0.0000, 0.0000, 0.0000, 0.0000, 0.0000],\n",
              "        [0.5000, 0.5000, 0.0000, 0.0000, 0.0000, 0.0000, 0.0000, 0.0000],\n",
              "        [0.3333, 0.3333, 0.3333, 0.0000, 0.0000, 0.0000, 0.0000, 0.0000],\n",
              "        [0.2500, 0.2500, 0.2500, 0.2500, 0.0000, 0.0000, 0.0000, 0.0000],\n",
              "        [0.2000, 0.2000, 0.2000, 0.2000, 0.2000, 0.0000, 0.0000, 0.0000],\n",
              "        [0.1667, 0.1667, 0.1667, 0.1667, 0.1667, 0.1667, 0.0000, 0.0000],\n",
              "        [0.1429, 0.1429, 0.1429, 0.1429, 0.1429, 0.1429, 0.1429, 0.0000],\n",
              "        [0.1250, 0.1250, 0.1250, 0.1250, 0.1250, 0.1250, 0.1250, 0.1250]])"
            ]
          },
          "execution_count": 26,
          "metadata": {},
          "output_type": "execute_result"
        }
      ],
      "source": [
        "# version 2: using matrix multiply for a weighted aggregation\n",
        "\n",
        "# Let's go back to what we were doing before and try to do it more efficiently.\n",
        "wei = torch.tril(torch.ones(T, T))  # short for \"weights\"\n",
        "wei = wei / wei.sum(1, keepdim=True)\n",
        "wei"
      ]
    },
    {
      "cell_type": "markdown",
      "metadata": {
        "id": "amcyBrq8TjGo"
      },
      "source": [
        "This represents how much of every row we want to average up together, b/c each row sums to 1."
      ]
    },
    {
      "cell_type": "code",
      "execution_count": null,
      "metadata": {
        "id": "ZIVIUkToTdyp"
      },
      "outputs": [],
      "source": [
        "xbow2 = wei @ x  # (T, T) @ (B, T, C) --->\n",
        "\n",
        "# Well PyTorch will see this and see the dimensions don't match.  So it will first\n",
        "# add a batch dimension to `wei` so that it is (B, T, T), and then it will apply\n",
        "# this matrix multiplication in batched form, in parallel, and individually.\n",
        "# For each batch element, it is multiplying a (T, T) @ (T, C) ---> (T, C), and\n",
        "# you will end up with a (B, T, C) after the batched multiplication."
      ]
    },
    {
      "cell_type": "markdown",
      "metadata": {
        "id": "zOsg-YtGU-Tv"
      },
      "source": [
        "Now, `xbow` and `xbow2` are equivalent.\n",
        "\n",
        "Again, the trick was we were able to do batched matrix multiplcation with some weights, and do weighted sums that take on this triangular form to combine samples in the past together."
      ]
    },
    {
      "cell_type": "code",
      "execution_count": null,
      "metadata": {
        "colab": {
          "base_uri": "https://localhost:8080/"
        },
        "id": "IeE-acbJUToA",
        "outputId": "012f511e-180e-488e-de4d-fb161c4105e6"
      },
      "outputs": [
        {
          "data": {
            "text/plain": [
              "(tensor([[ 0.1808, -0.0700],\n",
              "         [-0.0894, -0.4926],\n",
              "         [ 0.1490, -0.3199],\n",
              "         [ 0.3504, -0.2238],\n",
              "         [ 0.3525,  0.0545],\n",
              "         [ 0.0688, -0.0396],\n",
              "         [ 0.0927, -0.0682],\n",
              "         [-0.0341,  0.1332]]),\n",
              " tensor([[ 0.1808, -0.0700],\n",
              "         [-0.0894, -0.4926],\n",
              "         [ 0.1490, -0.3199],\n",
              "         [ 0.3504, -0.2238],\n",
              "         [ 0.3525,  0.0545],\n",
              "         [ 0.0688, -0.0396],\n",
              "         [ 0.0927, -0.0682],\n",
              "         [-0.0341,  0.1332]]))"
            ]
          },
          "execution_count": 28,
          "metadata": {},
          "output_type": "execute_result"
        }
      ],
      "source": [
        "xbow[0], xbow2[0]"
      ]
    },
    {
      "cell_type": "markdown",
      "metadata": {
        "id": "QHW_cakaVRtB"
      },
      "source": [
        "Let's do this in one more way.\n",
        "\n",
        "`wei` begins with all zeros.  Then we use `masked_fill`, which says for all elements where `tril == 0`, make them negative infinity in `wei`.  And the final line then takes the Softmax along every single row in `wei`, this will normalize each row to sum to 1, and we get the same exact matrix.  In Softmax, we exponentiate every element and then we divide by the sum.  "
      ]
    },
    {
      "cell_type": "code",
      "execution_count": null,
      "metadata": {
        "id": "d5Z4onSGUv_w"
      },
      "outputs": [],
      "source": [
        "# version 3: use Softmax\n",
        "tril = torch.tril(torch.ones(T, T))\n",
        "wei = torch.zeros((T,T))\n",
        "wei = wei.masked_fill(tril == 0, float('-inf'))\n",
        "wei = F.softmax(wei, dim=-1)\n",
        "xbow3 = wei @ x"
      ]
    },
    {
      "cell_type": "code",
      "execution_count": null,
      "metadata": {
        "colab": {
          "base_uri": "https://localhost:8080/"
        },
        "id": "Vv7cHnsc0R_Z",
        "outputId": "df15fda4-3d58-45b3-d869-c8baa1be8183"
      },
      "outputs": [
        {
          "data": {
            "text/plain": [
              "tensor([[1.0000, 0.0000, 0.0000, 0.0000, 0.0000, 0.0000, 0.0000, 0.0000],\n",
              "        [0.5000, 0.5000, 0.0000, 0.0000, 0.0000, 0.0000, 0.0000, 0.0000],\n",
              "        [0.3333, 0.3333, 0.3333, 0.0000, 0.0000, 0.0000, 0.0000, 0.0000],\n",
              "        [0.2500, 0.2500, 0.2500, 0.2500, 0.0000, 0.0000, 0.0000, 0.0000],\n",
              "        [0.2000, 0.2000, 0.2000, 0.2000, 0.2000, 0.0000, 0.0000, 0.0000],\n",
              "        [0.1667, 0.1667, 0.1667, 0.1667, 0.1667, 0.1667, 0.0000, 0.0000],\n",
              "        [0.1429, 0.1429, 0.1429, 0.1429, 0.1429, 0.1429, 0.1429, 0.0000],\n",
              "        [0.1250, 0.1250, 0.1250, 0.1250, 0.1250, 0.1250, 0.1250, 0.1250]])"
            ]
          },
          "execution_count": 30,
          "metadata": {},
          "output_type": "execute_result"
        }
      ],
      "source": [
        "wei"
      ]
    },
    {
      "cell_type": "code",
      "execution_count": null,
      "metadata": {
        "colab": {
          "base_uri": "https://localhost:8080/"
        },
        "id": "Vs2wddodVmJV",
        "outputId": "d9b5b34d-c248-48f3-e7a5-7570222f9546"
      },
      "outputs": [
        {
          "data": {
            "text/plain": [
              "(tensor([[ 0.1808, -0.0700],\n",
              "         [-0.0894, -0.4926],\n",
              "         [ 0.1490, -0.3199],\n",
              "         [ 0.3504, -0.2238],\n",
              "         [ 0.3525,  0.0545],\n",
              "         [ 0.0688, -0.0396],\n",
              "         [ 0.0927, -0.0682],\n",
              "         [-0.0341,  0.1332]]),\n",
              " tensor([[ 0.1808, -0.0700],\n",
              "         [-0.0894, -0.4926],\n",
              "         [ 0.1490, -0.3199],\n",
              "         [ 0.3504, -0.2238],\n",
              "         [ 0.3525,  0.0545],\n",
              "         [ 0.0688, -0.0396],\n",
              "         [ 0.0927, -0.0682],\n",
              "         [-0.0341,  0.1332]]))"
            ]
          },
          "execution_count": 31,
          "metadata": {},
          "output_type": "execute_result"
        }
      ],
      "source": [
        "xbow[0], xbow3[0]"
      ]
    },
    {
      "cell_type": "markdown",
      "metadata": {
        "id": "fhAJ3pu5WFET"
      },
      "source": [
        "Why is this more interesting?  The weights begin with zero, which you can think of an *interaction strengt*h, or **affinity**.  How much of each token from the past do we want to aggreate.  The tokens that have negative infinity cannot communicate.  \n",
        "\n",
        "But these affinities will not be constant at zero, but rather data dependent.  And some tokens will find other tokens more or less interesting, and by different amounts, which we will call affinities.  When we normalize and sum, we will aggregate their values based on how interesting they find each other.  And that is how self-attention works.\n",
        "\n",
        "We can use matrix multiplication with lower-triangular matrices to do this aggregation very efficiently.  First, let's fix some things about our model to setup the use of self-attention more cleanly.\n",
        "\n",
        "**(back to the slides)**\n",
        "\n",
        "The code before was aggregating the past into the present token with a simple average of all tokens with \"myself\".  By initializing the affinities, or `wei`, to all zeros, along with the `tril` matrix and Softmax normalization, all previous tokens get equally weighted in the aggregation."
      ]
    },
    {
      "cell_type": "code",
      "execution_count": null,
      "metadata": {
        "colab": {
          "base_uri": "https://localhost:8080/"
        },
        "id": "T3dNa9JzVq8J",
        "outputId": "e306b025-6d82-46f4-dfac-962210516c8f"
      },
      "outputs": [
        {
          "data": {
            "text/plain": [
              "torch.Size([4, 8, 16])"
            ]
          },
          "execution_count": 32,
          "metadata": {},
          "output_type": "execute_result"
        }
      ],
      "source": [
        "# version 4: self-attention!\n",
        "torch.manual_seed(1337)\n",
        "B,T,C = 4,8,32  # batch, time, channels\n",
        "x = torch.randn(B,T,C)\n",
        "\n",
        "# let's create a single \"Head\" of self-attention\n",
        "# All tokens, independently and in parallel, product a key and a query.  No\n",
        "# communication happens yet.\n",
        "head_size = 16\n",
        "key = nn.Linear(C, head_size, bias=False)  # bias is turned off so we get only dot products\n",
        "query = nn.Linear(C, head_size, bias=False)\n",
        "k = key(x)    # (B, T, head_size)\n",
        "q = query(x)  # (B, T, head_size)\n",
        "\n",
        "# Now let's have the keys and queries communicate, and product a new set of affinities\n",
        "wei = q @ k.transpose(-2, -1)  # swap last 2 dims of k so we end up with (B, T, 16) @ (B, 16, T) ---> (B, T, T)\n",
        "\n",
        "tril = torch.tril(torch.ones(T, T))\n",
        "#wei = torch.zeros((T,T))  # <-- no longer have equal weights for all tokens in the past\n",
        "wei = wei.masked_fill(tril == 0, float('-inf'))  # <-- but we still mask the future\n",
        "wei = F.softmax(wei, dim=-1)\n",
        "\n",
        "# There's one more part to this aggregation.  Before, we were applying the\n",
        "# weights directly to the raw inputs, like this:\n",
        "# out = wei @ x\n",
        "#\n",
        "# We want to actually produce a derived value:\n",
        "value = nn.Linear(C, head_size, bias=False)\n",
        "v = value(x)\n",
        "\n",
        "# And then we calculate the weighte aggregation on the derived value instead\n",
        "# of on the raw input\n",
        "out = wei @ v  # Output is 16-dimensional b/c this is the head size\n",
        "\n",
        "# Now, the output is a weighted aggregation in a data-dependent manner between\n",
        "# the keys and queries of the tokens.\n",
        "out.shape"
      ]
    },
    {
      "cell_type": "markdown",
      "metadata": {
        "id": "ZiAfvOZzpal3"
      },
      "source": [
        "We don't want all tokens to be weighted equally.  Different tokens will find different other tokens more or less interesting, and we want this to be data dependent.  For example, if I am a vowel, perhaps I am looking for other consonants in the past, and I want information from those tokens to flow to me.\n",
        "\n",
        "This is the problem that **Self-Attention** solves.  The data tells us which tokens to up and down weight in the aggregation when I look in the past.  The way Self-Attention solves this is the following:\n",
        "\n",
        "*   Every single node, or token, will emit **two vectors**: a *query* and a *key*\n",
        "*   The **query** vector is \"what am I looking for?\"\n",
        "*   The **key** vector is \"what do I contain?\"\n",
        "*   Then, the way we get affinities between tokens is we do a dot product between the keys and the queries.  So, my query is dot-producted with all the keys of all the other tokens, and that dot product now becomes `wei`.\n",
        "*   In this way, if my query and your key are aligned, they will dot-product to a very high amount, and that token will have a higher contribution when I aggregate my past.\n",
        "\n",
        "Finally, rather than aggregating on the raw inputs, we aggregate on a derived\n",
        "value of the raw input `x`, called the **values**.  You can think of the raw data `x` as the \"private\" information of the token.  And we want to keep this secret.\n",
        "\n",
        "So in the end, the query is \"here is what I am interested in\", the key is allowing other tokens to say \"here is what I have\", and if you find me interesting, \"here is what I will communicate to you\", and that last thing is stored in the value `v`.  This is Self-Attention.\n"
      ]
    },
    {
      "cell_type": "code",
      "execution_count": null,
      "metadata": {
        "colab": {
          "base_uri": "https://localhost:8080/"
        },
        "id": "E94u8a_5oke3",
        "outputId": "a2ba8486-3c0b-417c-b346-6d5a701d9f7a"
      },
      "outputs": [
        {
          "data": {
            "text/plain": [
              "tensor([[[1.0000, 0.0000, 0.0000, 0.0000, 0.0000, 0.0000, 0.0000, 0.0000],\n",
              "         [0.1574, 0.8426, 0.0000, 0.0000, 0.0000, 0.0000, 0.0000, 0.0000],\n",
              "         [0.2088, 0.1646, 0.6266, 0.0000, 0.0000, 0.0000, 0.0000, 0.0000],\n",
              "         [0.5792, 0.1187, 0.1889, 0.1131, 0.0000, 0.0000, 0.0000, 0.0000],\n",
              "         [0.0294, 0.1052, 0.0469, 0.0276, 0.7909, 0.0000, 0.0000, 0.0000],\n",
              "         [0.0176, 0.2689, 0.0215, 0.0089, 0.6812, 0.0019, 0.0000, 0.0000],\n",
              "         [0.1691, 0.4066, 0.0438, 0.0416, 0.1048, 0.2012, 0.0329, 0.0000],\n",
              "         [0.0210, 0.0843, 0.0555, 0.2297, 0.0573, 0.0709, 0.2423, 0.2391]],\n",
              "\n",
              "        [[1.0000, 0.0000, 0.0000, 0.0000, 0.0000, 0.0000, 0.0000, 0.0000],\n",
              "         [0.1687, 0.8313, 0.0000, 0.0000, 0.0000, 0.0000, 0.0000, 0.0000],\n",
              "         [0.2477, 0.0514, 0.7008, 0.0000, 0.0000, 0.0000, 0.0000, 0.0000],\n",
              "         [0.4410, 0.0957, 0.3747, 0.0887, 0.0000, 0.0000, 0.0000, 0.0000],\n",
              "         [0.0069, 0.0456, 0.0300, 0.7748, 0.1427, 0.0000, 0.0000, 0.0000],\n",
              "         [0.0660, 0.0892, 0.0413, 0.6316, 0.1649, 0.0069, 0.0000, 0.0000],\n",
              "         [0.0396, 0.2288, 0.0090, 0.2000, 0.2061, 0.1949, 0.1217, 0.0000],\n",
              "         [0.3650, 0.0474, 0.0767, 0.0293, 0.3084, 0.0784, 0.0455, 0.0493]],\n",
              "\n",
              "        [[1.0000, 0.0000, 0.0000, 0.0000, 0.0000, 0.0000, 0.0000, 0.0000],\n",
              "         [0.4820, 0.5180, 0.0000, 0.0000, 0.0000, 0.0000, 0.0000, 0.0000],\n",
              "         [0.1705, 0.4550, 0.3745, 0.0000, 0.0000, 0.0000, 0.0000, 0.0000],\n",
              "         [0.0074, 0.7444, 0.0477, 0.2005, 0.0000, 0.0000, 0.0000, 0.0000],\n",
              "         [0.8359, 0.0416, 0.0525, 0.0580, 0.0119, 0.0000, 0.0000, 0.0000],\n",
              "         [0.1195, 0.2061, 0.1019, 0.1153, 0.1814, 0.2758, 0.0000, 0.0000],\n",
              "         [0.0065, 0.0589, 0.0372, 0.3063, 0.1325, 0.3209, 0.1378, 0.0000],\n",
              "         [0.1416, 0.1519, 0.0384, 0.1643, 0.1207, 0.1254, 0.0169, 0.2408]],\n",
              "\n",
              "        [[1.0000, 0.0000, 0.0000, 0.0000, 0.0000, 0.0000, 0.0000, 0.0000],\n",
              "         [0.6369, 0.3631, 0.0000, 0.0000, 0.0000, 0.0000, 0.0000, 0.0000],\n",
              "         [0.2586, 0.7376, 0.0038, 0.0000, 0.0000, 0.0000, 0.0000, 0.0000],\n",
              "         [0.4692, 0.3440, 0.1237, 0.0631, 0.0000, 0.0000, 0.0000, 0.0000],\n",
              "         [0.1865, 0.4680, 0.0353, 0.1854, 0.1248, 0.0000, 0.0000, 0.0000],\n",
              "         [0.0828, 0.7479, 0.0017, 0.0735, 0.0712, 0.0228, 0.0000, 0.0000],\n",
              "         [0.0522, 0.0517, 0.0961, 0.0375, 0.1024, 0.5730, 0.0872, 0.0000],\n",
              "         [0.0306, 0.2728, 0.0333, 0.1409, 0.1414, 0.0582, 0.0825, 0.2402]]],\n",
              "       grad_fn=<SoftmaxBackward0>)"
            ]
          },
          "execution_count": 33,
          "metadata": {},
          "output_type": "execute_result"
        }
      ],
      "source": [
        "# Let's see now what wei looks like.  Before it was a constant applied in the\n",
        "# same way to all elements in a batch.  But now, each batch element has a different\n",
        "# set of weights, depending on their data interactions.\n",
        "wei"
      ]
    },
    {
      "cell_type": "markdown",
      "metadata": {
        "id": "k9PuP_FPuYME"
      },
      "source": [
        "Attention is a communication mechanism.  You can think of it like nodes in a directed graph, and what happens is, every node has some vector of information, and it aggregates information as a weighted average in a data dependent manner.\n",
        "\n",
        "We have one node for each token.  The first node only points to itself.  The second node only points to itself and the first node.  All the way down to the last node, which points to itself and all other nodes.\n",
        "\n",
        "There's no notion of space.  It just operates on a set of vectors.  The nodes have no idea where they are in the sequence.  **This is why we need positional encodings.**\n",
        "\n",
        "In a causal model like an auto-regressive GPT, we don't want tokens in the future to communicate at a given node.  This is called a *decoder model*.  However, sometimes we just want an *encoder model* which allows all tokens to talk at all times.  The ONLY difference here is we get rid of the `masked_fill` part and that's it.\n",
        "\n",
        "Finally, this is called \"self attention\" b/c the keys, queries, and values all come from the same source.  However, this is not always necessary.  There is an alternative called cross-attention, for example in encoder-decoder transformer, where the queries are produced from some input x, but the keys and values derive from a separate source.  Think of language-to-language translation.\n",
        "\n",
        "(back to the slides)"
      ]
    },
    {
      "cell_type": "code",
      "execution_count": null,
      "metadata": {
        "id": "DYNGpBposVQD"
      },
      "outputs": [],
      "source": [
        "# Demonstrate the need for the scaled dot product\n",
        "k = torch.randn(B, T, head_size)\n",
        "q = torch.randn(B, T, head_size)\n",
        "wei = q @ k.transpose(-2, -1) * head_size**-0.5"
      ]
    },
    {
      "cell_type": "code",
      "execution_count": null,
      "metadata": {
        "colab": {
          "base_uri": "https://localhost:8080/"
        },
        "id": "G3JEn8PZxG_V",
        "outputId": "af267c3a-07eb-489e-f5e0-a8fdf78cd74b"
      },
      "outputs": [
        {
          "data": {
            "text/plain": [
              "tensor(1.0449)"
            ]
          },
          "execution_count": 35,
          "metadata": {},
          "output_type": "execute_result"
        }
      ],
      "source": [
        "k.var()"
      ]
    },
    {
      "cell_type": "code",
      "execution_count": null,
      "metadata": {
        "colab": {
          "base_uri": "https://localhost:8080/"
        },
        "id": "8_tArKShxKix",
        "outputId": "c54f0f88-1078-4bed-f132-866aa0770fdc"
      },
      "outputs": [
        {
          "data": {
            "text/plain": [
              "tensor(1.0700)"
            ]
          },
          "execution_count": 36,
          "metadata": {},
          "output_type": "execute_result"
        }
      ],
      "source": [
        "q.var()"
      ]
    },
    {
      "cell_type": "code",
      "execution_count": null,
      "metadata": {
        "colab": {
          "base_uri": "https://localhost:8080/"
        },
        "id": "doVS3sy5xL0O",
        "outputId": "2ca03d99-be4f-438b-9b5c-9380ee5741e7"
      },
      "outputs": [
        {
          "data": {
            "text/plain": [
              "tensor(1.0918)"
            ]
          },
          "execution_count": 37,
          "metadata": {},
          "output_type": "execute_result"
        }
      ],
      "source": [
        "wei.var()"
      ]
    },
    {
      "cell_type": "code",
      "execution_count": null,
      "metadata": {
        "colab": {
          "base_uri": "https://localhost:8080/"
        },
        "id": "ITuYpcrAxMxe",
        "outputId": "9fd8254f-ffc0-48d1-9c1d-694686091fe4"
      },
      "outputs": [
        {
          "data": {
            "text/plain": [
              "tensor([0.1925, 0.1426, 0.2351, 0.1426, 0.2872])"
            ]
          },
          "execution_count": 38,
          "metadata": {},
          "output_type": "execute_result"
        }
      ],
      "source": [
        "torch.softmax(torch.tensor([0.1, -0.2, 0.3, -0.2, 0.5]), dim=-1)"
      ]
    },
    {
      "cell_type": "code",
      "execution_count": null,
      "metadata": {
        "colab": {
          "base_uri": "https://localhost:8080/"
        },
        "id": "o1Oewh3uyqom",
        "outputId": "48104cae-1e16-4864-f9b8-9f06fc90a9da"
      },
      "outputs": [
        {
          "data": {
            "text/plain": [
              "tensor([0.0326, 0.0030, 0.1615, 0.0030, 0.8000])"
            ]
          },
          "execution_count": 39,
          "metadata": {},
          "output_type": "execute_result"
        }
      ],
      "source": [
        "torch.softmax(torch.tensor([0.1, -0.2, 0.3, -0.2, 0.5])*8, dim=-1)"
      ]
    },
    {
      "cell_type": "markdown",
      "metadata": {
        "id": "zFjGsl9vzZaK"
      },
      "source": [
        "# Alright let's build the Self-attention into our language model!"
      ]
    },
    {
      "cell_type": "code",
      "execution_count": null,
      "metadata": {
        "id": "vtHKX7Ary0CB"
      },
      "outputs": [],
      "source": [
        "torch.manual_seed(1337)\n",
        "\n",
        "# Let's create a class to represent a single self-attention head\n",
        "class Head(nn.Module):\n",
        "  \"\"\" one head of self-attention \"\"\"\n",
        "\n",
        "  def __init__(self, n_embd, head_size, block_size):\n",
        "    super().__init__()\n",
        "    self.key = nn.Linear(n_embd, head_size, bias=False)\n",
        "    self.query = nn.Linear(n_embd, head_size, bias=False)\n",
        "    self.value = nn.Linear(n_embd, head_size, bias=False)\n",
        "\n",
        "    # this is not a parameter of the module.  and so we represent it as a \"buffer\"\n",
        "    self.register_buffer('tril', torch.tril(torch.ones(block_size, block_size)))\n",
        "\n",
        "  def forward(self, x):\n",
        "    B,T,C = x.shape\n",
        "\n",
        "    k = self.key(x)    # (B, T, C)\n",
        "    q = self.query(x)  # (B, T, C)\n",
        "\n",
        "    # compute self attention scores (\"affinities\")\n",
        "    wei = q @ k.transpose(-2,-1) * C**-0.5  # (B, T, C) @ (B, C, T) --> (B, T, T)\n",
        "    wei = wei.masked_fill(self.tril[:T, :T] == 0, float('-inf')) # (B, T, T)\n",
        "    wei = F.softmax(wei, dim=-1)  # (B, T, T)\n",
        "\n",
        "    # perform weighted aggregation of the values\n",
        "    v = self.value(x)  # (B, T, C)\n",
        "    out = wei @ v  # (B, T, T) @ (B, T, C) --> (B, T, C)\n",
        "    return out\n"
      ]
    },
    {
      "cell_type": "code",
      "execution_count": null,
      "metadata": {
        "id": "t11HPPB008Th"
      },
      "outputs": [],
      "source": [
        "class BigramLanguageModel(nn.Module):\n",
        "\n",
        "    def __init__(self, vocab_size, n_embd, block_size, head_size):\n",
        "        super().__init__()\n",
        "        # each token directly reads off the logits for the next token from a lookup table\n",
        "        self.token_embedding_table = nn.Embedding(vocab_size, n_embd)\n",
        "        self.position_embedding_table = nn.Embedding(block_size, n_embd)\n",
        "        self.sa_head = Head(n_embd, head_size, block_size)\n",
        "        self.lm_head = nn.Linear(n_embd, vocab_size)\n",
        "\n",
        "    def forward(self, idx, targets=None):\n",
        "        B,T = idx.shape\n",
        "\n",
        "        # idx and targets are both (B,T) tensor of integers\n",
        "        tok_emb = self.token_embedding_table(idx) # (B,T,C)\n",
        "        pos_emb = self.position_embedding_table(torch.arange(T, device=idx.device))  # (T,C)\n",
        "        x = tok_emb + pos_emb  # (B, T, C)\n",
        "        x = self.sa_head(x)  # apply one head of self-attention.  (B, T, C)\n",
        "        logits = self.lm_head(x)\n",
        "\n",
        "        if targets is None:\n",
        "            loss = None\n",
        "        else:\n",
        "            B, T, C = logits.shape\n",
        "            logits = logits.view(B*T, C)\n",
        "            targets = targets.view(B*T)\n",
        "            loss = F.cross_entropy(logits, targets)\n",
        "\n",
        "        return logits, loss\n",
        "\n",
        "    def generate(self, idx, max_new_tokens):\n",
        "        # idx is (B, T) array of indices in the current context.\n",
        "        #\n",
        "        # the job of this function is to take the (B, T) sequence, and extend\n",
        "        # it to be (B, T+1), and then (B, T+2), and so on, until we have extended\n",
        "        # it to `max_new_tokens` additional length.\n",
        "        for _ in range(max_new_tokens):\n",
        "            # crop idx to the last block_size tokens. we can never have more than\n",
        "            # block_size tokens, or our position embedding table will over-run.\n",
        "            idx_cond = idx[:, -block_size:]\n",
        "            # get the predictions with current indices.  ignore the loss.\n",
        "            logits, loss = self(idx_cond)\n",
        "            # focus only on the last time step, so pluck out the last element in the time dimension\n",
        "            logits = logits[:, -1, :] # becomes (B, C)\n",
        "            # apply softmax to get probabilities\n",
        "            probs = F.softmax(logits, dim=-1) # (B, C)\n",
        "            # sample from the distribution to get a single prediction for what comes next according to the given PDF\n",
        "            idx_next = torch.multinomial(probs, num_samples=1) # (B, 1)\n",
        "            # append sampled index to the running sequence\n",
        "            idx = torch.cat((idx, idx_next), dim=1) # (B, T+1)\n",
        "        return idx"
      ]
    },
    {
      "cell_type": "code",
      "execution_count": null,
      "metadata": {
        "id": "fdFiBwfMnrv7"
      },
      "outputs": [],
      "source": [
        "# This function allows us to measure the train/val loss in a less noisy manner\n",
        "@torch.no_grad()\n",
        "def estimate_loss():\n",
        "    out = {}\n",
        "    model.eval()\n",
        "    for split in ['train', 'val']:\n",
        "        losses = torch.zeros(eval_iters)\n",
        "        for k in range(eval_iters):\n",
        "            X, Y = get_batch(split)\n",
        "            logits, loss = model(X.to(device), Y.to(device))\n",
        "            losses[k] = loss.item()\n",
        "        out[split] = losses.mean()\n",
        "    model.train()\n",
        "    return out"
      ]
    },
    {
      "cell_type": "code",
      "execution_count": null,
      "metadata": {
        "id": "hjGRHGsx2SAq"
      },
      "outputs": [],
      "source": [
        "# Let's try to train the network and see what happens\n",
        "n_embd = 32\n",
        "block_size = 8\n",
        "batch_size = 32\n",
        "max_iters = 5000\n",
        "learning_rate = 1e-3\n",
        "head_size = n_embd  # make the head size the same as the embedding size, for now, and we'll get back to this\n",
        "eval_iters = 200\n",
        "eval_interval = 100\n",
        "\n",
        "device = 'cuda' if torch.cuda.is_available() else 'cpu'\n",
        "\n",
        "model = BigramLanguageModel(vocab_size, n_embd, block_size, head_size).to(device)\n",
        "optimizer = torch.optim.AdamW(model.parameters(), lr=learning_rate)"
      ]
    },
    {
      "cell_type": "code",
      "execution_count": null,
      "metadata": {
        "colab": {
          "base_uri": "https://localhost:8080/"
        },
        "id": "Mi-vKtpt23gj",
        "outputId": "615c80a1-759f-4aa2-a104-d7cbbce32433"
      },
      "outputs": [
        {
          "name": "stdout",
          "output_type": "stream",
          "text": [
            "step 0: train loss 4.2000, val loss 4.2047\n",
            "step 100: train loss 3.2338, val loss 3.2548\n",
            "step 200: train loss 3.0793, val loss 3.1032\n",
            "step 300: train loss 2.9432, val loss 2.9652\n",
            "step 400: train loss 2.7881, val loss 2.8020\n",
            "step 500: train loss 2.6945, val loss 2.7148\n",
            "step 600: train loss 2.6428, val loss 2.6436\n",
            "step 700: train loss 2.5974, val loss 2.6025\n",
            "step 800: train loss 2.5524, val loss 2.5807\n",
            "step 900: train loss 2.5432, val loss 2.5592\n",
            "step 1000: train loss 2.5242, val loss 2.5353\n",
            "step 1100: train loss 2.5107, val loss 2.5218\n",
            "step 1200: train loss 2.4874, val loss 2.5039\n",
            "step 1300: train loss 2.4858, val loss 2.5070\n",
            "step 1400: train loss 2.4870, val loss 2.4802\n",
            "step 1500: train loss 2.4865, val loss 2.4710\n",
            "step 1600: train loss 2.4707, val loss 2.4730\n",
            "step 1700: train loss 2.4656, val loss 2.4661\n",
            "step 1800: train loss 2.4612, val loss 2.4715\n",
            "step 1900: train loss 2.4560, val loss 2.4570\n",
            "step 2000: train loss 2.4413, val loss 2.4676\n",
            "step 2100: train loss 2.4362, val loss 2.4411\n",
            "step 2200: train loss 2.4447, val loss 2.4506\n",
            "step 2300: train loss 2.4311, val loss 2.4503\n",
            "step 2400: train loss 2.4167, val loss 2.4296\n",
            "step 2500: train loss 2.4272, val loss 2.4425\n",
            "step 2600: train loss 2.4251, val loss 2.4379\n",
            "step 2700: train loss 2.4135, val loss 2.4455\n",
            "step 2800: train loss 2.4244, val loss 2.4230\n",
            "step 2900: train loss 2.4153, val loss 2.4355\n",
            "step 3000: train loss 2.4176, val loss 2.4192\n",
            "step 3100: train loss 2.4142, val loss 2.4220\n",
            "step 3200: train loss 2.3980, val loss 2.4293\n",
            "step 3300: train loss 2.3984, val loss 2.4236\n",
            "step 3400: train loss 2.4062, val loss 2.4260\n",
            "step 3500: train loss 2.3992, val loss 2.4289\n",
            "step 3600: train loss 2.4054, val loss 2.4131\n",
            "step 3700: train loss 2.3963, val loss 2.4210\n",
            "step 3800: train loss 2.4029, val loss 2.4083\n",
            "step 3900: train loss 2.3950, val loss 2.4158\n",
            "step 4000: train loss 2.3954, val loss 2.4181\n",
            "step 4100: train loss 2.3943, val loss 2.4141\n",
            "step 4200: train loss 2.3837, val loss 2.4180\n",
            "step 4300: train loss 2.3907, val loss 2.4197\n",
            "step 4400: train loss 2.4006, val loss 2.4188\n",
            "step 4500: train loss 2.3866, val loss 2.4041\n",
            "step 4600: train loss 2.3867, val loss 2.4098\n",
            "step 4700: train loss 2.3952, val loss 2.4065\n",
            "step 4800: train loss 2.3909, val loss 2.4132\n",
            "step 4900: train loss 2.3861, val loss 2.4127\n",
            "step 4999: train loss 2.3882, val loss 2.4076\n"
          ]
        }
      ],
      "source": [
        "for steps in range(max_iters):\n",
        "\n",
        "    # every once in a while evaluate the loss on train and val sets\n",
        "    if steps % eval_interval == 0 or steps == max_iters - 1:\n",
        "        losses = estimate_loss()\n",
        "        print(f\"step {steps}: train loss {losses['train']:.4f}, val loss {losses['val']:.4f}\")\n",
        "\n",
        "    # sample a batch of data\n",
        "    xb, yb = get_batch('train')\n",
        "\n",
        "    # evaluate the loss\n",
        "    logits, loss = model(xb.to(device), yb.to(device))\n",
        "    optimizer.zero_grad(set_to_none=True)\n",
        "    loss.backward()\n",
        "    optimizer.step()"
      ]
    },
    {
      "cell_type": "code",
      "execution_count": null,
      "metadata": {
        "colab": {
          "base_uri": "https://localhost:8080/"
        },
        "id": "9x8ohG2T34Qv",
        "outputId": "45f107a5-cd8d-49c4-97d8-47d1ad5cf9a7"
      },
      "outputs": [
        {
          "name": "stdout",
          "output_type": "stream",
          "text": [
            "\n",
            "And thik bry cowf,\n",
            "This by bth\n",
            "\n",
            "Hisen bobe dienavigr-' my dalilanss:\n",
            "Wantharu wquithe.\n",
            "War dilthoate awice my.\n",
            "\n",
            "Hastaru zorou tables, tof isth bot mil ndill, bes iree sen cie lat Herid ov ts, and th pner onderanses lilind me llllishe cechiry ptugr aiss hiwhy.\n",
            "\n",
            "SThave norfopeeelaves\n",
            "Momy ys, dl tthake ont-wou whth piiby, the m dourive cen, ime st so mowrixs bure kad nterthinf son; igrh wh:\n",
            "EN CI maleront ffaf Pri?\n",
            "\n",
            "WISo myoungoure!\n",
            "A,\n",
            "Sby ake adsal this ghest huin cour ayraney Iry ts I fr th ve yonge tor, bemary.\n",
            "\n",
            "He cont ble?\n",
            " sorn anghy to pnomes the men.\n",
            "\n",
            "Thy thot bul hes th llegisom, wimerco frsomy ssthecas lbrou En sshe lal ingk.\n",
            "\n",
            "LAed Ped hee oveve imous?\n",
            "\n",
            "\n",
            "Wh os cok hed; boime:\n",
            "He\n",
            "d histe fe flates:\n",
            "Whit Clo ghasun hes,\n",
            "A: dud the, moxme acheanthamakes aghercobun ws m kes with sel ngo, do scollo no'ld id, mcks hIis,\n",
            "Alld.\n",
            "\n",
            "KINGLIZCUCELINond Ce?\n",
            "Fyrou thisoou tiusorthe nof the sut ng iporth ou whandeng itth ousl peiverellke, on sou On ther bedr wat do ive wout ig foru;\n",
            "yo knegineere rtane ithof hafl ithe, wonck whe when thanve, do pr thisand, ang:\n",
            "Kay ho shigralt n, mess thinds sk te wortingin ind to higre Whin wow ndiche ld bre aned hy menI hamy a theint de mas, the an benke imyol menat mlinorf Reire biwimn isel hawree wo I ber;\n",
            "Sa dst hay'silll wheramperalllalsp! try colirconod juea dse thantcrou th?\n",
            "\n",
            "STAHe, mas, he it ihis;\n",
            "The.\n",
            "\n",
            "Ptir dond hlll my ay meras be:\n",
            "Hang ocuvonbust RIUCESMI laver bere hobunga thithe nu to me winerte yom thel!\n",
            "H:\n",
            "SHAxiee ot,\n",
            "Bu arnd olars eserins; sis kng shuk ble-dcrars, es spanth but olkaviresce m:\n",
            "OToth thee fisher sed we hris ilrovoe, wacy preirak derd ht bpatry ht hrilt worrd ses a rwoun. I M'ld Gark asgist athe coufr hir, byoras houng, hathese hawcarl brnd ble,\n",
            "My wifloutr st ma than:\n",
            "Hr:\n",
            "Wivof t, ofrronge,\n",
            "Youl? Aald wuat hith wincof fool s'd ourrt burs blitheronevelifl he pusilf ourrou tersceak walk:\n",
            "Anow.\n",
            "\n",
            "Gs yere yongour,\n",
            "The,\n",
            "I LIse th JHan dthanen oflan,\n",
            "JUres wpat ing:\n",
            "Irifo shown'vefithathee ss me ote hthen be a antir\n"
          ]
        }
      ],
      "source": [
        "# Let's see some output\n",
        "print(decode(model.generate(idx = torch.zeros((1, 1), dtype=torch.long, device=device), max_new_tokens=2000)[0].tolist()))"
      ]
    },
    {
      "cell_type": "markdown",
      "metadata": {
        "id": "s2nVhNCP5Ssb"
      },
      "source": [
        "Now let's add the multi-head part from the paper.\n",
        "\n",
        "![Screenshot 2023-03-27 5.07.28 PM.png](data:image/png;base64,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)"
      ]
    },
    {
      "cell_type": "code",
      "execution_count": null,
      "metadata": {
        "id": "kRz40QAJ5MRy"
      },
      "outputs": [],
      "source": [
        "# Multi-head attention simply applies multiple heads of attention, in parallel, and then\n",
        "# concatenates their outputs.\n",
        "\n",
        "class MultiHeadAttention(nn.Module):\n",
        "  \"\"\" multiple heads of self-attention running in parallel. \"\"\"\n",
        "  def __init__(self, num_heads, n_embd, head_size, block_size):\n",
        "    super().__init__()\n",
        "    self.heads = nn.ModuleList([Head(n_embd, head_size, block_size) for _ in range(num_heads)])\n",
        "\n",
        "  def forward(self, x):\n",
        "    return torch.cat([h(x) for h in self.heads], dim=-1)"
      ]
    },
    {
      "cell_type": "code",
      "execution_count": null,
      "metadata": {
        "id": "TeoV6FHqQrHN"
      },
      "outputs": [],
      "source": [
        "torch.manual_seed(1337)\n",
        "\n",
        "class BigramLanguageModel(nn.Module):\n",
        "\n",
        "    def __init__(self, vocab_size, n_embd, block_size, num_heads=4):\n",
        "        super().__init__()\n",
        "        # each token directly reads off the logits for the next token from a lookup table\n",
        "        self.token_embedding_table = nn.Embedding(vocab_size, n_embd)\n",
        "        self.position_embedding_table = nn.Embedding(block_size, n_embd)\n",
        "\n",
        "        # The head size is automatically determined by having each attention head\n",
        "        # computing n_embd/num_heads dimensional output, in parallel, so when we\n",
        "        # concatenate, the total is equal to n_embd\n",
        "        self.sa_heads = MultiHeadAttention(num_heads, n_embd, n_embd // num_heads, block_size)  # i.e., 4 heads of n_embd/num_heads dimensional self-attention\n",
        "\n",
        "        self.lm_head = nn.Linear(n_embd, vocab_size)\n",
        "\n",
        "    def forward(self, idx, targets=None):\n",
        "        B,T = idx.shape\n",
        "\n",
        "        # idx and targets are both (B,T) tensor of integers\n",
        "        tok_emb = self.token_embedding_table(idx) # (B,T,C)\n",
        "        pos_emb = self.position_embedding_table(torch.arange(T, device=idx.device))  # (T,C)\n",
        "        x = tok_emb + pos_emb  # (B, T, C)\n",
        "        x = self.sa_heads(x)  # apply one head of self-attention.  (B, T, C)\n",
        "        logits = self.lm_head(x)\n",
        "\n",
        "        if targets is None:\n",
        "            loss = None\n",
        "        else:\n",
        "            B, T, C = logits.shape\n",
        "            logits = logits.view(B*T, C)\n",
        "            targets = targets.view(B*T)\n",
        "            loss = F.cross_entropy(logits, targets)\n",
        "\n",
        "        return logits, loss\n",
        "\n",
        "    def generate(self, idx, max_new_tokens):\n",
        "        # idx is (B, T) array of indices in the current context.\n",
        "        #\n",
        "        # the job of this function is to take the (B, T) sequence, and extend\n",
        "        # it to be (B, T+1), and then (B, T+2), and so on, until we have extended\n",
        "        # it to `max_new_tokens` additional length.\n",
        "        for _ in range(max_new_tokens):\n",
        "            # crop idx to the last block_size tokens. we can never have more than\n",
        "            # block_size tokens, or our position embedding table will over-run.\n",
        "            idx_cond = idx[:, -block_size:]\n",
        "            # get the predictions with current indices.  ignore the loss.\n",
        "            logits, loss = self(idx_cond)\n",
        "            # focus only on the last time step, so pluck out the last element in the time dimension\n",
        "            logits = logits[:, -1, :] # becomes (B, C)\n",
        "            # apply softmax to get probabilities\n",
        "            probs = F.softmax(logits, dim=-1) # (B, C)\n",
        "            # sample from the distribution to get a single prediction for what comes next according to the given PDF\n",
        "            idx_next = torch.multinomial(probs, num_samples=1) # (B, 1)\n",
        "            # append sampled index to the running sequence\n",
        "            idx = torch.cat((idx, idx_next), dim=1) # (B, T+1)\n",
        "        return idx"
      ]
    },
    {
      "cell_type": "code",
      "execution_count": null,
      "metadata": {
        "id": "NqyzQ1ZoR4l1"
      },
      "outputs": [],
      "source": [
        "# Let's try again and see if the loss improves at all\n",
        "\n",
        "model = BigramLanguageModel(vocab_size, n_embd, block_size).to(device)\n",
        "optimizer = torch.optim.AdamW(model.parameters(), lr=learning_rate)"
      ]
    },
    {
      "cell_type": "code",
      "execution_count": null,
      "metadata": {
        "colab": {
          "background_save": true,
          "base_uri": "https://localhost:8080/"
        },
        "id": "B8ppIfhnR_q_",
        "outputId": "cd945054-14f7-498e-ebad-132484eeb611"
      },
      "outputs": [
        {
          "name": "stdout",
          "output_type": "stream",
          "text": [
            "step 0: train loss 4.2227, val loss 4.2226\n",
            "step 100: train loss 3.2269, val loss 3.2416\n",
            "step 200: train loss 3.0102, val loss 3.0308\n",
            "step 300: train loss 2.8442, val loss 2.8624\n",
            "step 400: train loss 2.7256, val loss 2.7350\n",
            "step 500: train loss 2.6608, val loss 2.6759\n",
            "step 600: train loss 2.6175, val loss 2.6163\n",
            "step 700: train loss 2.5739, val loss 2.5780\n",
            "step 800: train loss 2.5319, val loss 2.5575\n",
            "step 900: train loss 2.5186, val loss 2.5342\n",
            "step 1000: train loss 2.4998, val loss 2.5084\n",
            "step 1100: train loss 2.4796, val loss 2.4892\n",
            "step 1200: train loss 2.4475, val loss 2.4635\n",
            "step 1300: train loss 2.4472, val loss 2.4634\n",
            "step 1400: train loss 2.4410, val loss 2.4372\n",
            "step 1500: train loss 2.4375, val loss 2.4218\n",
            "step 1600: train loss 2.4157, val loss 2.4175\n",
            "step 1700: train loss 2.4074, val loss 2.4064\n",
            "step 1800: train loss 2.4001, val loss 2.4104\n",
            "step 1900: train loss 2.3910, val loss 2.3967\n",
            "step 2000: train loss 2.3669, val loss 2.3975\n",
            "step 2100: train loss 2.3653, val loss 2.3698\n",
            "step 2200: train loss 2.3700, val loss 2.3728\n",
            "step 2300: train loss 2.3470, val loss 2.3700\n",
            "step 2400: train loss 2.3329, val loss 2.3471\n",
            "step 2500: train loss 2.3455, val loss 2.3585\n",
            "step 2600: train loss 2.3357, val loss 2.3450\n",
            "step 2700: train loss 2.3254, val loss 2.3571\n",
            "step 2800: train loss 2.3328, val loss 2.3298\n",
            "step 2900: train loss 2.3204, val loss 2.3413\n",
            "step 3000: train loss 2.3145, val loss 2.3208\n",
            "step 3100: train loss 2.3145, val loss 2.3191\n",
            "step 3200: train loss 2.2993, val loss 2.3238\n",
            "step 3300: train loss 2.2870, val loss 2.3207\n",
            "step 3400: train loss 2.2999, val loss 2.3206\n",
            "step 3500: train loss 2.2898, val loss 2.3192\n",
            "step 3600: train loss 2.2962, val loss 2.3050\n",
            "step 3700: train loss 2.2845, val loss 2.3071\n",
            "step 3800: train loss 2.2913, val loss 2.2932\n",
            "step 3900: train loss 2.2771, val loss 2.3024\n",
            "step 4000: train loss 2.2786, val loss 2.3018\n",
            "step 4100: train loss 2.2755, val loss 2.2991\n",
            "step 4200: train loss 2.2655, val loss 2.3051\n",
            "step 4300: train loss 2.2720, val loss 2.2983\n",
            "step 4400: train loss 2.2765, val loss 2.2910\n",
            "step 4500: train loss 2.2625, val loss 2.2838\n",
            "step 4600: train loss 2.2640, val loss 2.2833\n",
            "step 4700: train loss 2.2718, val loss 2.2797\n",
            "step 4800: train loss 2.2696, val loss 2.2875\n",
            "step 4900: train loss 2.2578, val loss 2.2782\n",
            "step 4999: train loss 2.2597, val loss 2.2738\n"
          ]
        }
      ],
      "source": [
        "for steps in range(max_iters):\n",
        "\n",
        "    # every once in a while evaluate the loss on train and val sets\n",
        "    if steps % eval_interval == 0 or steps == max_iters - 1:\n",
        "        losses = estimate_loss()\n",
        "        print(f\"step {steps}: train loss {losses['train']:.4f}, val loss {losses['val']:.4f}\")\n",
        "\n",
        "    # sample a batch of data\n",
        "    xb, yb = get_batch('train')\n",
        "\n",
        "    # evaluate the loss\n",
        "    logits, loss = model(xb.to(device), yb.to(device))\n",
        "    optimizer.zero_grad(set_to_none=True)\n",
        "    loss.backward()\n",
        "    optimizer.step()"
      ]
    },
    {
      "cell_type": "code",
      "execution_count": null,
      "metadata": {
        "colab": {
          "background_save": true
        },
        "id": "ZxAV7ytXSBhB",
        "outputId": "69cdb3d6-44ce-4743-ab81-76446f37a8bd"
      },
      "outputs": [
        {
          "name": "stdout",
          "output_type": "stream",
          "text": [
            "\n",
            "And thik bridcowd,\n",
            "This byer Kradiset bobe doe.\n",
            "Sagr-d my dalleauss:\n",
            "Want he us hathe.\n",
            "War dilth anes wich my.\n",
            "\n",
            "HDER:\n",
            "Ay orou knowns, tof is he me mil;\n",
            "I lincaes isee sen cin lat Helid ov the and Wing.\n",
            "\n",
            "DWARYWIOROUCAING Fime litlis my de my sotur haiss hiwhy.\n",
            "\n",
            "KEBEUSI VEfopetelave whom.\n",
            "\n",
            "IET:\n",
            "Whe akleoul---And do eviby, the my,\n",
            "CHive winghired thoou gor-x's und kand thrupt for are;\n",
            "De! mef thre maled, the af Pre?\n",
            "\n",
            "WISo myay his bors,\n",
            "Sheis:\n",
            "Sadsal ther ghe thidin cour ay andy Iry thechan thove youn pand, bemary.\n",
            "\n",
            "HIO:\n",
            "Whastenm sorn an hing-w'n many weand mreand thot buld me thy wely or, wild.\n",
            "\n",
            "My somy shintchs lom my iss dethapeings.\n",
            "\n",
            "LAWIOPEARINY:\n",
            "vet aredparst to os cok heit bose so ume his VO'g, hates:\n",
            "Whit Clongscest?\n",
            "Whoun iduche nee, oughe.\n",
            "\n",
            "NENEHNIORIO gavelvince wal k she for mannd mand sofll bovelaivy, mors hons,\n",
            "As demid hingt vingen,\n",
            "Thie?\n",
            "By\n",
            "Ke thisto deiusorthe nof the sut nowip yourst what thavitt boust pe me welke, of sol O, theribed that do ive wout ighe an;\n",
            "youke;\n",
            "Go.\n",
            "\n",
            "TIONEL:\n",
            "A boyou,\n",
            "For I Qull no;\n",
            "Ced.\n",
            "MR VORUD VLICHTE Laisand allon bay hour, and\n",
            "Ase, mess things sof enweryingin ind to highe War, wow nd chit bor brand:\n",
            "Sy menIn amy a theint do day, the an be ketim blamenat my borne sing biwilngise.\n",
            "\n",
            "DUKE:\n",
            "Co I beant ded thoud's her whertmpermlelall ther,\n",
            "Todirctest jus' def thavenr u therfarlies mas, he if is capere.\n",
            "\n",
            "PDOr Wond hot queve corn's beer def of vonbust the that laver bell hobum;\n",
            "Ange and unt no Thime te your.\n",
            "\n",
            "LOENIUSTRove your's arrallolers ther, she bookng.\n",
            "\n",
            "My barther, sates sornth but of aver scace:\n",
            "On!\n",
            "Yes\n",
            "AALORKE:\n",
            "My, wor hour is\n",
            "MENCELONUS:\n",
            "Be by hame, hry.\n",
            "\n",
            "\n",
            "NG hipprilt'.\n",
            "\n",
            "WHAseson rould. Cantis Gark a gave afef courm hir, byouas o'd;\n",
            "\n",
            "Thathese have blay nooul:\n",
            "Big wiflouth shimany,\n",
            "I Thraces cilt, ofarknge,\n",
            "Youl? tald wuat rere wincef ingarge I or,\n",
            "What the therower lifl he puns foour ou trof wald; wrow moof ans yooury por bad mey an noe thonta. Cand be of do,\n",
            "Jir PRHOat not:\n",
            "Is fo shown'vof thathe to his ofe he beide!\n",
            "\n",
            "\n",
            "Mard\n"
          ]
        }
      ],
      "source": [
        "# Let's see some output\n",
        "print(decode(model.generate(idx = torch.zeros((1, 1), dtype=torch.long, device=device), max_new_tokens=2000)[0].tolist()))"
      ]
    },
    {
      "cell_type": "markdown",
      "metadata": {
        "id": "PAtSFVbDTA9u"
      },
      "source": [
        "OK let's go back to the paper one more time.  Look at the following figure:\n",
        "![Screenshot 2023-03-27 6.59.41 PM.png](data:image/png;base64,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)\n",
        "\n",
        "We are missing a few things here.  There's a feedforward part that is a simple MLP.  Let's add that.  This adds computation at a per-node level."
      ]
    },
    {
      "cell_type": "code",
      "execution_count": null,
      "metadata": {
        "colab": {
          "background_save": true
        },
        "id": "9_rmzTg7S19v"
      },
      "outputs": [],
      "source": [
        "class FeedForward(nn.Module):\n",
        "  \"\"\" a simple linear  layer followed by a non-linearity. \"\"\"\n",
        "  def __init__(self, n_embd):\n",
        "    super().__init__()\n",
        "    self.net = nn.Sequential(\n",
        "        nn.Linear(n_embd, n_embd),\n",
        "        nn.ReLU(),\n",
        "    )\n",
        "\n",
        "  def forward(self, x):\n",
        "    # per-token level.  all tokens do this individually\n",
        "    return self.net(x)"
      ]
    },
    {
      "cell_type": "markdown",
      "metadata": {
        "id": "pfAzDepNT4Z6"
      },
      "source": [
        "One way to think about what this is doing is that, before, the tokens had a chance to talk to each other, but they didn't have a chance to \"think\" about what they found.  This feedforward module is allowing the possibility to process the information more.  We also want to intersperse the communication with the computation."
      ]
    },
    {
      "cell_type": "code",
      "execution_count": null,
      "metadata": {
        "colab": {
          "background_save": true
        },
        "id": "fMxWc5mOW4aF"
      },
      "outputs": [],
      "source": [
        "class Block(nn.Module):\n",
        "  \"\"\" Transformer block: communication followed by computation. \"\"\"\n",
        "\n",
        "  def __init__(self, n_embd, n_head, block_size):\n",
        "    super().__init__()\n",
        "\n",
        "    # The head size is automatically determined by having each attention head\n",
        "    # computing n_embd/n_head dimensional output, in parallel, so when we\n",
        "    # concatenate, the total is equal to n_embd\n",
        "    head_size = n_embd // n_head\n",
        "    self.sa = MultiHeadAttention(n_head, n_embd, head_size, block_size)\n",
        "    self.ffwd = FeedForward(n_embd)\n",
        "\n",
        "  def forward(self, x):\n",
        "    x = self.sa(x)\n",
        "    x = self.ffwd(x)\n",
        "    return x"
      ]
    },
    {
      "cell_type": "code",
      "execution_count": null,
      "metadata": {
        "colab": {
          "background_save": true
        },
        "id": "j7CcvVDRToRp"
      },
      "outputs": [],
      "source": [
        "torch.manual_seed(1337)\n",
        "\n",
        "class BigramLanguageModel(nn.Module):\n",
        "\n",
        "    def __init__(self, vocab_size, n_embd, block_size, n_head=4):\n",
        "        super().__init__()\n",
        "        # each token directly reads off the logits for the next token from a lookup table\n",
        "        self.token_embedding_table = nn.Embedding(vocab_size, n_embd)\n",
        "        self.position_embedding_table = nn.Embedding(block_size, n_embd)\n",
        "        self.blocks = nn.Sequential(\n",
        "            Block(n_embd, n_head, block_size),\n",
        "            Block(n_embd, n_head, block_size),\n",
        "            Block(n_embd, n_head, block_size),\n",
        "        )\n",
        "        self.lm_head = nn.Linear(n_embd, vocab_size)\n",
        "\n",
        "    def forward(self, idx, targets=None):\n",
        "        B,T = idx.shape\n",
        "\n",
        "        # idx and targets are both (B,T) tensor of integers\n",
        "        tok_emb = self.token_embedding_table(idx) # (B,T,C)\n",
        "        pos_emb = self.position_embedding_table(torch.arange(T, device=idx.device))  # (T,C)\n",
        "        x = tok_emb + pos_emb  # (B, T, C)\n",
        "        x = self.blocks(x)  # (B, T, C)\n",
        "        logits = self.lm_head(x)\n",
        "\n",
        "        if targets is None:\n",
        "            loss = None\n",
        "        else:\n",
        "            B, T, C = logits.shape\n",
        "            logits = logits.view(B*T, C)\n",
        "            targets = targets.view(B*T)\n",
        "            loss = F.cross_entropy(logits, targets)\n",
        "\n",
        "        return logits, loss\n",
        "\n",
        "    def generate(self, idx, max_new_tokens):\n",
        "        # idx is (B, T) array of indices in the current context.\n",
        "        #\n",
        "        # the job of this function is to take the (B, T) sequence, and extend\n",
        "        # it to be (B, T+1), and then (B, T+2), and so on, until we have extended\n",
        "        # it to `max_new_tokens` additional length.\n",
        "        for _ in range(max_new_tokens):\n",
        "            # crop idx to the last block_size tokens. we can never have more than\n",
        "            # block_size tokens, or our position embedding table will over-run.\n",
        "            idx_cond = idx[:, -block_size:]\n",
        "            # get the predictions with current indices.  ignore the loss.\n",
        "            logits, loss = self(idx_cond)\n",
        "            # focus only on the last time step, so pluck out the last element in the time dimension\n",
        "            logits = logits[:, -1, :] # becomes (B, C)\n",
        "            # apply softmax to get probabilities\n",
        "            probs = F.softmax(logits, dim=-1) # (B, C)\n",
        "            # sample from the distribution to get a single prediction for what comes next according to the given PDF\n",
        "            idx_next = torch.multinomial(probs, num_samples=1) # (B, 1)\n",
        "            # append sampled index to the running sequence\n",
        "            idx = torch.cat((idx, idx_next), dim=1) # (B, T+1)\n",
        "        return idx"
      ]
    },
    {
      "cell_type": "code",
      "execution_count": null,
      "metadata": {
        "colab": {
          "background_save": true
        },
        "id": "zIk7wrO9UPvt"
      },
      "outputs": [],
      "source": [
        "# Let's see how this helps out\n",
        "\n",
        "model = BigramLanguageModel(vocab_size, n_embd, block_size).to(device)\n",
        "optimizer = torch.optim.AdamW(model.parameters(), lr=learning_rate)"
      ]
    },
    {
      "cell_type": "code",
      "execution_count": null,
      "metadata": {
        "colab": {
          "background_save": true
        },
        "id": "ZMQUD4z_V63P",
        "outputId": "1b306eff-9ab6-4c0d-ee0a-f77f7db1d446"
      },
      "outputs": [
        {
          "name": "stdout",
          "output_type": "stream",
          "text": [
            "step 0: train loss 4.2116, val loss 4.2078\n",
            "step 100: train loss 3.3035, val loss 3.3394\n",
            "step 200: train loss 3.2819, val loss 3.3038\n",
            "step 300: train loss 3.2432, val loss 3.2654\n",
            "step 400: train loss 3.1726, val loss 3.1622\n",
            "step 500: train loss 3.1058, val loss 3.0965\n",
            "step 600: train loss 3.0373, val loss 3.0246\n",
            "step 700: train loss 2.9329, val loss 2.9386\n",
            "step 800: train loss 2.8700, val loss 2.8509\n",
            "step 900: train loss 2.7632, val loss 2.7549\n",
            "step 1000: train loss 2.6949, val loss 2.6965\n",
            "step 1100: train loss 2.6570, val loss 2.6618\n",
            "step 1200: train loss 2.6352, val loss 2.6317\n",
            "step 1300: train loss 2.6153, val loss 2.6152\n",
            "step 1400: train loss 2.5820, val loss 2.5836\n",
            "step 1500: train loss 2.5826, val loss 2.5672\n",
            "step 1600: train loss 2.5427, val loss 2.5529\n",
            "step 1700: train loss 2.5206, val loss 2.5282\n",
            "step 1800: train loss 2.5196, val loss 2.5218\n",
            "step 1900: train loss 2.4968, val loss 2.5103\n",
            "step 2000: train loss 2.4871, val loss 2.4779\n",
            "step 2100: train loss 2.5000, val loss 2.4836\n",
            "step 2200: train loss 2.4522, val loss 2.4429\n",
            "step 2300: train loss 2.4516, val loss 2.4517\n",
            "step 2400: train loss 2.4445, val loss 2.4374\n",
            "step 2500: train loss 2.4329, val loss 2.4395\n",
            "step 2600: train loss 2.4395, val loss 2.4275\n",
            "step 2700: train loss 2.4108, val loss 2.4104\n",
            "step 2800: train loss 2.4144, val loss 2.4031\n",
            "step 2900: train loss 2.4133, val loss 2.4026\n",
            "step 3000: train loss 2.4059, val loss 2.4041\n",
            "step 3100: train loss 2.4026, val loss 2.4024\n",
            "step 3200: train loss 2.3791, val loss 2.3809\n",
            "step 3300: train loss 2.3698, val loss 2.3833\n",
            "step 3400: train loss 2.3719, val loss 2.3786\n",
            "step 3500: train loss 2.3674, val loss 2.3612\n",
            "step 3600: train loss 2.3656, val loss 2.3556\n",
            "step 3700: train loss 2.3610, val loss 2.3664\n",
            "step 3800: train loss 2.3553, val loss 2.3657\n",
            "step 3900: train loss 2.3595, val loss 2.3672\n",
            "step 4000: train loss 2.3496, val loss 2.3657\n",
            "step 4100: train loss 2.3471, val loss 2.3451\n",
            "step 4200: train loss 2.3312, val loss 2.3505\n",
            "step 4300: train loss 2.3367, val loss 2.3336\n",
            "step 4400: train loss 2.3388, val loss 2.3417\n",
            "step 4500: train loss 2.3263, val loss 2.3320\n",
            "step 4600: train loss 2.3235, val loss 2.3403\n",
            "step 4700: train loss 2.3024, val loss 2.3259\n",
            "step 4800: train loss 2.3122, val loss 2.3192\n",
            "step 4900: train loss 2.3042, val loss 2.3229\n",
            "step 4999: train loss 2.3175, val loss 2.3023\n"
          ]
        }
      ],
      "source": [
        "for steps in range(max_iters):\n",
        "\n",
        "    # every once in a while evaluate the loss on train and val sets\n",
        "    if steps % eval_interval == 0 or steps == max_iters - 1:\n",
        "        losses = estimate_loss()\n",
        "        print(f\"step {steps}: train loss {losses['train']:.4f}, val loss {losses['val']:.4f}\")\n",
        "\n",
        "    # sample a batch of data\n",
        "    xb, yb = get_batch('train')\n",
        "\n",
        "    # evaluate the loss\n",
        "    logits, loss = model(xb.to(device), yb.to(device))\n",
        "    optimizer.zero_grad(set_to_none=True)\n",
        "    loss.backward()\n",
        "    optimizer.step()"
      ]
    },
    {
      "cell_type": "markdown",
      "metadata": {
        "id": "_NrruHNVYRG-"
      },
      "source": [
        "The model we created now is starting to suffer from optimization issues.  It is finally getting quite \"deep\".  There are a few things we can do about it.  If we go back to the figure in the paper, you notice this \"arrow\".  The arrow is a residual, which we first saw with ResNet.  \n",
        "\n",
        "These are called skip connections, or residual connections.  The computation has a residual pathway, and we are free to fork off from the residual pathway, perform some computation, and project back to the pathway via addition.  \n",
        "\n",
        "We go from the inputs to the targets via addition.  What this does, is addition distributes gradients equally to its two parts.  And so the loss back props across the computations all the way to the input, unimpeded.  This dramatically helps with the optimization.  Let's go back to the model code.\n",
        "\n",
        "![Screenshot 2023-03-28 7.57.14 AM.png](data:image/png;base64,iVBORw0KGgoAAAANSUhEUgAAAwcAAAGmCAYAAAAph/gtAAABKGlDQ1BTa2lhAAAokX2QMUvDYBCGH0sXRV0UcXAIuLiobaq1gg6t1uLaKqSKQ5q2QWxjSCOKo7O7q7j4A3TSP+AoCE7+CHFw9k2LpCDxPu7u+V6O7747SM0iS2eg64VBtVIyrPqBwZDZTs8n2Ubg+z2K8Lb4T12SjTZbPUf5Ux4Gaq4nm+Jpd8AXETcGfB3xeeiH4tuIg73qlvhRvOAOcWOIHT+I6j/EG93OmRP/m/GWt19TtuRzVDjVcenQYpkaJxxji7Z1ipTJsUYWkwI7orKiybqUVTLKJWkFqWbf87oXWZGWi/d5qRk379S6EWvWEzy8wMxRrM1rj5M38HwVa/GOfTuw+1Janmq34eseJuow9Qpjh7+LTZjV+DOrwS4eDksiU7Nkyf8AZK9KDy8zuEcAACAASURBVHic7L1pdBzneaj51NY7gAYaW2NfCICLKIoUdy2kKcmiJVOKJC+RxomtjPMjic/M+Mx4zrlJ5tjHmZz5cW9yndi5TsaenHiTZZnUFkqmLZlaSEqkRIorCJIgdoAAQexrb1U1P6qrUGiCO2WSwPfotNiN3qq733q/d/veVzJN00QgEAgEAoFAIBAseORbfQACgUAgEAgEAoHg9kA4BwKBQCAQCAQCgQAQzoFAIBAIBAKBQCBII5wDgUAgEAgEAoFAAAjnQCAQCAQCgUAgEKQRzoFAIBAIBAKBQCAAhHMgEAgEAoFAIBAI0gjnQCAQCAQCgUAgEADCORAIBAKBQCAQCARphHMgEAgEAoFAIBAIAOEcCAQCgUAgEAgEgjTCORAIBAKBQCAQCASAcA4EAoFAIBAIBAJBGuEcCAQCgUAgEAgEAkA4BwKBQCAQCAQCgSCNcA4EAoFAIBAIBAIBIJwDgUAgEAgEAoFAkEY4BwKBQCAQCAQCgQAQzoFAIBAIBAKBQCBII5wDgUAgEAgEAoFAAAjnQCAQCAQCgUAgEKQRzoFAIBAIBAKBQCAAhHMgEAgEAoFAIBAI0gjnQCAQCAQCgUAgEADCORAIBAKBQCAQCARphHMgEAgEAoFAIBAIAOEcCAQCgUAgEAgEgjTCORAIBAKBQCAQCASAcA4EAoFAIBAIBAJBGuEcCAQCgUAgEAgEAkA4BwKBQCAQCAQCgSCNcA4EAoFAIBAIBAIBIJwDgUAgEAgEAoFAkEa91QdwrZim6VyXJOkWHolgPiLkS3CzsWXqWuTJNE1M00RCQpKFHN5uOL+PJN1SPXE9siW4ddgyIxDc7twxzoHbaLNvX82J9mmciEIh39lkytLlHid+Y8H1YBgGEhJIOEa+ydXJHVjPMXQDRVE+xaMUXC+GYWCa5jX/Pva6BSDLsqNjMnXN1eooXdeRZRlJkjAMA1kWxQC3M7quoyoqXOeycrVycT2ItU7g5s5xDgwTWbEUn2EYM3+/wslyNSfTXMr5co+1HyechDsP0zTB5KoNtUv9xuI3n19ca8bIliPrCTiOgI2u60hIKKpyzQabrYtU7Y5RzwsOWZad39+9Hl0JwzAsxzG9jthrz/UafbIsW46nac56XcHti4kVLICrNPbnWK9suXHfFghuJnfM6mOfCMlkkqmpqatecE3TvORj7RMqlUyl/3D1x6OqKpqmoaqqODFvY+LxOKmU9fvai/ClFnPTNPF4PLNu25E5RVYwTOOaDIFMQqGQkJXbFHuxTaVSJJNJR2Yuha2PVEV1ghZudF2/KOBwtU6H/Tyfz4eq3jEqekEhSZYzqOs6sVjsivJiY+sYCWnO55imSTKZvKbjME0TTdXw+X1Cv9zmmKbJ5OSkFTzIMPBnP9By/OwAga0XbHtGkiR0Xb/u9UiWZYLB4PV+DMEC4I5ZeSR5ZvEeHBy84uPdj52cnERVVSKRCNnZ2YyNjXHhwgVycnLIz88nmUwiSZaytk+8y72uYRgEAgFyc3NF2v82JxaLMTw87CjhK0XpRkZGGB8fR5IkIpEIwWCQ0dFRBgcHycrKIi8vz1HMAIqiOCn9KxEIBIS83OYkk0kGBgaIxWJXDECkUinGxsYcecnLyyMcDjM4OMjw8DDZ2dmEw2HndWRZRlVVEonEZQMWhmGgaRqFhYWOvAij7/bEloHJyclLPsatcy5cuEAymUTXdfLz84lEIpw/f56BgQHy8/PJy8tzdIutUy4nh7a8BAIBCj2FoqzoNieRSDAwMEA8Hr/iWmAYBhMTE4yOjqKqKllZWfj9fsbGxhgbGyM7O5vs7GzHZpFlmWQyeUUbBsDj8eDz+cR6JLgkd4xzYNdnKopy2cUVZhRmIpGgq6uLnTt3Mjg4yJe+9CU2bNjAxx9/zIcffsjWrVudE8Q+SWyP/nKvbUd33M8T3J7YhvwVIzVp2traeO211xgfH+epp55i48aNHDt2jN27d/Pwww+zatUqVFV1Mgr2Qm5HigV3LpIkOfolmUyiadplH5tMJmlubuatt95idHSUJ598ko0bN7J//37OnDnDhg0bWLx4MV6v11m8JUkiFotdpDdsnWPLqzvLJQy+2w87u6Pr+qzs5FwYhuFkmM+dO8eOHTsYGBjg61//Og899BAfffQR+/bt4+mnn8bj8eD1epFlmVQqdVVOYSqVIpVKCf1zByBJEolEAsOw9hNdLqgUi8Voampi9+7dTExM8NnPfpZ169bxwQcf0NLSwoMPPkh9fT2KojgZRnutu9J+GHvtEvaL4FLM21VHVVX8fj9VVVVkZWVx6NAhjh07xvT0ND09PRQWFlJZWYmiKLMie+JkWdjU1tYSiUTYs2cP+/fvZ2pqioGBAfLy8qisrHSUsCzLjrFnG5Wqql72Ipg/mKaJz+ejtraWcDjM0aNHOXnyJENDQwwNDVFUVERVVRWapjnZJdM0SSQSaJrmyE+mHAluf67VCLfXF1VVqampITc3l3feeYcjR46g6zoDAwNEIhGqq6tnBTAkSRJ6YwHj8XioqKggFAqxf/9+Tpw4wfT0NOPj4+Tn5xONRh35SKVS1mZnVb2qzIFAcCWU73znO9+51QdxLRiGwfDw8FWV/kiSRHZ2NmVlZXR2dnLs2DF0XScrK4uHHnqIgoIC53FNTU0cO3aMoqKiK0YMba88Kyvrso8V3Hri8ThTU1NXveHc5/NRV1dHc3MzH3/8MR6Ph2AwyKZNm4hGo4CVGm5paaG5uZlQKITf73fk6HKGQ15enogC3+bous7Y2NgVo2r2752bm0t+fj7t7e0cP36cZDJJUVER69evp6ioyJG506dPc+bMGcrKypwFPNMxcDsIqqqSk5Mj9jTdxtjZo8nJyctmDhRFccpcA4EAdXV1nDlzhoMHDyJJEqFQiK1bt5KXlwdYMtje3k5LSwtZWVl4vd7LHodhGHg8HrKyskRw6zYnmUwyNjbm2BBXcjRDoRBFRUWcPXuWU6dOkUwmKSkpYePGjeTn56MoCslkkqamJjo6OsjPz3eCUZd7bUVRyM7OniUvQs8I3MxbS0XXdZLJJIlEgpqaGr7whS8wNjbGzp07qaqqoqCggFgshmma+P1+Ghsb2bt371VvLBPMT+LxONFolK9//esAvPbaaxQXF1NbW+ukbAGam5s5fPgw09PTwExrw8tdBPMHu3QxmUxSU1PDtm3biMfj7N27l+LiYsrLy52MktfrpbGxkY8++sjZ5H45uch0FAR3PnZQQNd1ysrK+Mu//Et6e3v58Y9/THV1NTU1NU5pkKqqtLe3c/DgQSewcTUXwfxC13XHfnnmmWdIpVLs2bOH/Px8SktLnd9cURTOnDnD4cOHHWPfLkm7ki4RukZwKealcyDLspPOt6msrGT58uWcP3+ew4cPOzV/iqIQCATo6ekhHA6Tn59/C49ccKuxIzFFRUUsXryYrq4u9u/fz/T0tCMvuq4zMTFBMBgkJyfHiQIJBbtwsI1826ArLy9n8eLF9PT0cOLECeLxuNPkAHCiepqmOQ5m5usJQ29+ktllRlVVKisrWblyJT09Pbz77rskEolZ+qOvrw+/308wGBSOwQLFlhdbv1RUVNDT08PRo0eZnp5G0zRHn4yMjJCTk2N1wkoHLq7kHIj1SnA55qVzYC/ckiQRCAQYHBzk1KlTPP7442zcuJEdO3Zw+PBhvF4vmqYxMDBAT08PS5cuJScn51YfvuAWoigKk5OT7N+/n0cffZTHHnuMN954g3fffRePx4PH42F0dJTR0VFKSkrIzs52FPGNtDkV3FnYRp6mafT399Pd3c1nPvMZli1bxo4dO9i/f78jF5OTk5w7d47ly5dfFLQQLDyGhoZ47733eP7553nsscfYvn077777LpFIBK/Xy/DwMN3d3VRWVhIOh2/14QpuEbIs4/V6GRwcpKOjg82bN7N8+XJee+019u3bh2EY+Hw+hoaGGBkZYfHixc4eBKFjBDfKvHQOnN70isLY2BhvvfUW4+PjrF+/nq9+9asAfO973+P06dN4PB4aGxtJJBJO6Yhg4SLLMjt27GBqaopHHnmEP/mTPyEYDPLiiy9y5swZAAYGBpicnHSyTHa/aRHBW1hIksTQ0BAffPABo6Oj3HfffXzlK18B4IUXXqC5uRmPx0NbWxu6rlNcXEwikXBqjUXkd2Fh/84vvfSSo1+ef/55/H4/P/jBD2hqasLj8dDb20s8HqesrOyK+w0E8xfbfnn//fcZGxtjy5YtfPGLX0TTNLZv305zczO6rnP+/HmnXM3ONIiN7IIbZV46B+4Wo01NTRw5coRAIICmaVRUVLBhwwbOnz/Pvn37GBsb4+TJkwSDQcrKypye5Ze7COYvZ86c4f3338fn8+H1eolEIqxfv56+vj7efvtt+vr66O7udjph2eVp7laVQk7mP3ZLwuPHj/PJJ58A1ibi6upq1q1bx7lz59izZw8TExN89NFH1NXVUVBQgCzLxGKxW3z0gj8kdicZ0zQ5fvw4e/bsoaKiAlmWKS4uZtOmTfT09PD73/+eoaEhWltbCYfDlJeXz3odoVcWFrFYjFOnTtHY2IjP5yMUClFTU8OKFSvo6+vjk08+4dy5c7S2tlJQUEAoFCKVSjkZS4HgRpi37qWtkHNzc9m2bRuFhYUkk0lM0+SJJ57g/vvvJycnh1gsRkdHB+Xl5eTn5zMyMiI6yixgAoEAzz33HCUlJc4+g23btnHfffcRCASYmpriwoULhMNh8vLynD70c3UqEhHh+Yu92biyspLHH3+cSCSCaZp4vV62bdvGQw89RDAYJB6P09TUxP333+/0rldVdVYJmjD65jeqqpJKpZwOMc8//zylpaVMTU2hKAqf+9znePDBBwmFQsRiMTo7OykuLiYUCpFIJG714QtuEaZpkp+fz6OPPkokEiEWixEIBHj66af5zGc+Q0FBARMTE7S2trJ8+XJ8Pp+jV8TaI7hR5qVzYLcyNU2TkpISKisrnUExqqqybNkyJEkiGAzS3NxMU1MTW7ZsmXPhFiwsioqKKCsrA6yWpcFgkPr6eseAa2tro6Ojg8rKSkfGbGfyaoasCeYPiqJQVlZGVVWVM/U2GAxy1113YZomHo+Hvr4+ent7UWSFWCyG3+93DEWbq22zK7gzsZsYmKZJRUUFVVVVKIrC9PQ0wWCQ5cuXO6Ug/f39tLW1EYlEZg1vtC9CvywcNE2jurqauro6Z3Ci1+tl2bJlzsbjgwcP0t3dzYoVK2YNTLR1ipAXwfUyL50DsGrHVVUlHo87J43dM3xkZIT+/n5WrFiBJEls3ryZFStWiHT/Asc29u0J3HY/+tHRUc6fP09FRQU+r491a9cRyY84e1sECws7+GCXlNkdi7xeL6qq0tXVRTwep7S0FMMweOyxx1hUt4hAICBS/gsQO4BgT0o2DMMx9nRdZ3h4mOHhYWpqalBVlU2bNlFbW4ssy2JPygInmUySTCadmSiGYdDT00M8Hqe4uJi8vDwefPBBqqurZwU2hcwIbpR56xzYSlXTNGcxtqMv/ef7aTrVxLJly8jLy3M2+YiMwcLGVr4wO/tkd7uqqKggkh9h0+ZNjvOQiTtaYzsOQq7mJ27jzb4uyzJ9fX1MTExQWFhIbm4ujz/+OB6Px3mOcA4WFm6H0NYrHo+HVCpFMBikra2N06dPU1tbS1ZWFo888ohj6ImSs4WLe0K2JElOMOr8+fOMj48TDoeJRCI89thjs4aeCXkR3AzmrXMAM6k1t3MAOP3JwUr5iinHgsthGIYzVMZuLydYuLgNPfff7NuGYThdz2RZxufzzVqwRbp/YZI5jdadUUgmk85a5fP5buFRCm4n5jL07XIzW37c8uIucxUIbgQhRQKBQCAQCAR3OMIxENwshCQJBJdATCIVXC2Xmlxr700QCAQCgeBOYV6WFV2qTtNJ+5vGRQu4G+F9L1wyf3vhEAjmIlPHXKlUSMiRQCAQCO4UhBUsEFwGd/RXGHiCy5EpKyLjJJgLsWFUIBDc7szLzIFA8IdAdIcQCATXyuUy05mZbNGtaGHjDiyIIIPgD8mCyByIk0pwvVxKdoRMCdy4HUWRLRBcDnenIvdtMQxPcLW4ZUXIjODTYEFkDuz+wJIkoSjKrF7jIvorcJNp1GX2KLdbD2Yag/Z1wcLEloHMyceZ7ZSv9Hwb91RcwfzDMAy8Xi+maTqD9HRdd+Zh2AhHc2HinnGRqUdSqRSpVMqxY+wZCJnOZWaGyn1bzFsRXIkFkTlwj6+3B4uoqoqiKLMWc4HAxjRN4vG4IyO2UynqyAVzYc9OsY09RZ7RK6LBgSATTdNIJBKOgaZpGrIsO/N3BILMNcZtr2ia5lx3OwkCwc1iQaxadsYgHo87Y8hBLNqCi/F6vaRSKVRVneVI2s6kWwELB0FgYzsHkiRZC7dqOQi2UykQ2NgTkpPJpJOJ9Hq9eDwe0T5ZMAt3cwPDMNA0jVAohKIojmwIGRF8GiyIsiKwTqCTJ08yMTHB+Pg4ra2t/OY3vwFgw4YNzpRkcaItbAzDcBbsEydOMDQ0hKqqNDc3o+s6eXl5LF68mJycnFkK2iYzeiPkaWGg6zqnTp1iYmKC3t5eTNNkZGSE3NxcVq1addFUbRHlW7jIskwikeDo0aMMDw+j67qzHnk8HtauXYuqqmLa7QImUz/ouk5zczP9/f0MDQ0xNTXF2NgYhYWFNDQ0EAwGRUc9wU1lQTgH9rjxnp4efvaznzE1NUU8Hufll1/miSeeYP369RftQRAsTOwojaZpjIyM8P3vfx9FURgfH0dVVTZv3sw999yDpmlO5O9SiOFXCwdFUWhvb+eVV17h/PnzqKrK1NQUzz33HCtWrACEbhHMpru7m3/6p38iFAphGAa7du3ikUceYe3atYBwIBcy7s3GtjN5+vRpfvnLXzI8POw4js888ww1NTUkk0lRWiS4qSyYsEQoFGLjxo0UFxfT3d1NV1cXAFu2bMHr9ZJMJkmlUk4GQbAwsfvUx+Nx7r33XkpKSjh58iTd3d2oqsratWspKCgQ+1UEs8jKymL16tUUFBTQ399PW1sbqqqyfv16wuHwrT48wW2EaZp4PB4eeOABFi9eTHt7O52dnQCsWbOG3NxcAKe0UbBwMU0TXdcJBAKsXLmSaDRKb28vPT09ZGVlsWLFCnJzc/F4PCLLJLipLAhpkmWZZDJJcXExTz75JPn5+SiKwtatW50ojW3s6bouFPICxi4rSqVSFBQU8Md//MdEIhH8fj+rVq1i48aNxONxksmkiAQLHOLxOBUVFTz00EOUlpaiaRqf//znaWhocDJIogORAKxMdjwep7Kykueee46cnBx8Ph/r1q1j3bp1TE1NIUmSyDwucEzTJJVKkUgkME2T2tpaNm/eTEFBAaqqsmnTJu666y7RBlfwqbAgnAO3ol2/fj333HMPFRUVPPXUU44hqCiKU+d5pdcSzF/sbjOSJJFIJFizZg2PPPIINTU1PProo2RnZzsdRdxdIoTRt7DRdR2AdevWcffdd7NkyRI2bdpEIBBwFneBAKyMAFgO5caNG3nggQcoKyvjySefJBwOO12MbJkS3WgWJu7SIrvb4tq1a1m3bh3Lly/n/vvvJysry+mSJtYiwc1kQew5sLuISJJEIBCgqqqKqakpotEogLMBVZZlZ5OpOLkWLm4HQdM0amtrGR4eJhqNztpnIKJ7AhtbJvLy8igtLcXj8ZCfn+90GLENPRuxcX1hYnfOMwyDZDJJKBSirq6O8fFxysrKkCSJYDBIPB53Hu/+F4SsLCTcZc6GYZCdnU1FRQV+v5+ioiJHluy9CcJuEdwsFkzmQFEUEokEO3fuZN++fZw9e5Zf/OIX9Pb24vV6HWUtENhMTk6ya9cudu3aRWtrK2+++SZ9fX14PB6hhAWzkGWZ8fFxXn31Vfbu3cvhw4d5/fXX6e3tdfSKiOoJAJLJpDP47KWXXuLtt9+mpaWFn/70p3R1dTnzVISsCNwMDQ2xa9cu9u7dy8cff8wbb7zBwMAAfr9fyIngprMgnAO7T31PTw/bt2/n2LFjdHR08MILL3Dy5Emnv7RI/wvcjI6O8otf/IJPPvmE1tZWdu3axdGjR52ygEsNLLJ7UgsWDh6Ph7a2Nl599VVOnDjB2bNnefXVV2lra5s1W0WwsHHPLxgcHOTf/u3fOHr0KJ2dnezcuZNDhw4JQ08wJ2fOnOHVV1/lyJEjNDc3s3PnTpqbm52sgUBwM1kQEmWn9Kenp52+0gCDg4M0NTVx7tw5JEnC6/U6itkwjIuGXgnmP+7ormEYTE5OOh0jhoaGaGpqorOzk6mpKcfoMwxj1j4EEG1MFxqSJBGPx4nH445z2NfXx9GjR+nv73caHdhylUql0HVd9CZfgNjTkBVFYWpqyvn9p6enaWxspLOz0ylHcw/szJyrIjILCwt7I7u9x+DChQscPXqUrq4uEomEM6jTbsCSuQ/B7ZgKvSO4Esp3vvOd79zqg7gWDMNgeHj4mpSifRJ4vV6Gh4fp7u7GNE02btzIunXr6O3tdRSyz+dz0nR27XnmSWQ7DllZWaL16W1OPB53FuCrkZlMZToyMkJXVxeqqrJy5UpWrlzJ0NAQPT09pFIpvF4vfr9/VttBt+J1v2ckEhERntscXdcZGxtD1/VrblWrqirDw8O0t7djGAYPPvgg9957LwMDA5w/f554PI7X63WMvksZd6Zpoqoq2dnZol3ubYwkSSSTSSYnJy+ZRbQf58Y9S2VycpLGxkZkWWbdunVs2LCB4eFhent7nUYZHo/H6aRnG3a28wCWzHo8HrKysoS83OYkk0nGxsYuaVtk4pYdVVUZGxtzSs/WrVvH4sWLGRgYoLe315EDu7mK3WAlmUxe1IVRURShXwSXZUE4B7bhpigKDQ0N5Obmkp+fzze+8Q3uuusuQqEQiUSCrq4uOjo6mJycdDzwubIHwjm4c7hW58CNpmlUVVVRXFxMcXExX/nKV1izZg15eXnEYjE6Ozvp7u5menoaj8fjKGNb1jIRzsHtz/U6B3ZgYfHixWRnZ9PQ0MDXvvY1Vq1ahd/vxzAMOjo6aG5uxjAMPB4Pmqbh9/sdw89GOAd3BtfrHOi6TiqVwufzcdddd5GVlUVlZSXPf+15Vq9Zjc/nc6Ymt7a2MjU1hcfjAay1zM5WuoMRwjm4M7gR5yAYDFJVVUU4HKahoYFnnnmG1atXk5+fTzwep62tjZaWFqanpwmFQvh8vkvucxLOgeBKLBjnwJ6SnJeX5yjXBx54AEmSyM3NpaCggKKiIkKhEN3d3c6oclmWCQQCTp25fQzCObgzuBHnQJIkfD4fkUiEeDzOunXr8Pv9BAIBCgoKKC4uxufz0dfXR2trK6OjoxiGQSAQwOfzORFCG+Ec3P7cSOZAkiQikQjJZJLc3Fzuuece/H4/wWCQSCRCNBrF4/Fw4cIFmpqamJycRNd1ZFmepV+Ec3BncL3OgZ01isfjRCIRJ4tw3333OfolEolQXFyM3++np6eHlpYWRkZGnPLXUCjkdMG6VOZgruyl4NZyI86BYRiEQiEURSEvL4+6ujpyc3PJyspy5MVej1paWhgYGCCZTBIIBC7SI8I5EFyJBdPK1E6r2UaivRjbcw5UVSU3N5fs7GyKiooYGxvj7Nmz7N+/34nsFBcXk5ubi8/nc6LE9uJ+qVZzQjHf2dg9pjNrfn0+n+MkVFZWMjAwQHt7OwcOHCAnJ4eKigqi0SihUIhgMOiUBLidFNEyd/5g6xZ7r4mqqiQSCScDaeuXUChESUkJk5OTtLe3s3fvXkKhEFVVVRQWFpKbm0swGHReN7M2WCzmdz7udtl21N9ej+zOVh6PB5/PRzgcpry8nKGhIVpaWjh06BDhcJiSkhIKCgoIh8MEAgEkSSKVSjnBKtNIOway0C/zBTsDYK8lsiw7do1d3pqTk0NxcTGxWIzW1lYOHDhAJBKhtLSU4uJisrOzCQQCaJo2yx4SCDJZEM6BbZRlRm3tlnH2gm4/xu/34/V6yc/PZ3Jyku7ubidlV1xcTFFREZWVlc7rOJt9DBMk4RDMF9zKGJjVdcau5ZQkCY/HQ3FxMZFIhPr6erq6ujh58iSnTp2ivLyckpISKioqnNe0ny/kZP5i6xY3dnQ5JyeHcDhMNBplyZIldHZ20t7ezunTpykrKyMajVJWVuY4AhISJmLz4HzCzg7ZMmLvI3Dfbxt+wWDQyWBOTk7S1dVFU1MTTU1NRKNRioqKWLRo0SxjUUICaea1hK6587GDkHbAwL2W2HaMLMuEw2EAotEoS5cupa2tjRMnTnDy5EmKioqorq6mrKyMwoLCWa8lAg8CNwvCObgSbsVpl5Ikk0lSqRThcJi8vDwaGho433eeU6dP0dnZSUdHB0uXLqWhoYG8vDzLQcAEE0cpC+Y39l4We8MXWEOwcnNzWbFiBR0dHZw+fZqzZ89SVlbGPffcQ0lJCUVFRWKxXqDYgQRd10kmk+Tl5RGJRFi6dCn9/f00NTXR0tJCSUkJExMTRKNRcnNznU3MwtC7s3EPTrQHWNldq+y/ZwaxbMNP0zTC4TA5OTksWbKEnp4eTp8+TWdnJ319fdx9993U1tZamQRZcoxFwcJE13WKiorIzc3l7rvvprOzk1OnTvHee+9RVVXF9PQ0FeUVZOdki+56gosQzkEGdkTYHmFvK3BVVa2oXkmUoaEh50Tr6OigqKiImpoaosVRNI/YgzCfcUeD7aiL/TdN0xx5MQyD6upqqqqq6Ovro62tjSNHjjjRvkWLFlFeXn6rPobgFmMYBl6vF9M0na40paWlFBUVMTQ0xLlz5zh69CiNjY1UVFRQXV1NQUHBrHaFgjsPt3Pn3ix6OYfPfo6mac76pKoqtbW1VFVVMT4+TltbG5988gnNzc2UlZVRXV1NXm6eiAYvUGync2pqytkjssCyewAAIABJREFUWVdXR01NDf39/XR0dPDxxx9z5MgRysrKWLp0KcXFxbf6sAW3EcI5mAP3ZkTbo3Yr9EgkQlVVlbP55+TJkzQ3N5Ofn09DQwO1tbWzZiYkEgkAp87P0EFWwNBNZOXiNnduRJTw9sVdD25Hde16UJiJ+BUXFxONRikuLqalpYXGxkY6OjrIy8ujpqaGu+66a1ZZWiqVQpLkORd2q2QAkZ26w3GXBLj3LGma5qT+fT4fXV1dtLS00N7eTl5enmMQejweJ2ghSTJuNZGIJ/F4NQwdJAkk4UfcVth7mBKJhNOF6FK4Sz7cGQcbSZLIyclh/fr1BINBurq6OXu2hdOnm4lEIlRXV7N0yVJrvTFAkiznwt4Hk1nWZG9yznwfwZ1D5r5KO4AVj8dRVZWSkhLKysoIhUJ0dnbS0tLCW2+95XRZW7Ro0Sz7xx6yZr+uLb+27ppTjq9UBXkj69en+doCB+EcXCPuoVd+v5+6ujpqa2q5MHCBM2fOsH//fj766CPq6+tZtWoVXq8XRVaQZMmawGxI+PweDB2SyRRexco0GIZBKqmjecRPcrtyNZOPMzej27Li9XoJBAIsX76cJUuWMDw8zPHjxzlw4AD79++nrq6OlStXkp2dbU3sNkwMA2R5dr25rhvIsoQsnMY7mksZXvZCnkqlyM7OZtmyZSxatIiBgQFHvxw6dIiqqioWL15Mbm4usiQjyZBIJNE8KpI9OEvYdrcl7uDB9QR/Mptf2AZcMBBkyZIlLFmyhPPn+zl27BgffPABB/YfoLqmmnXr1hEM+i39kg5k2G10dV13nIXMBhuCOxv3b2mXS9vznGpra1ncsJix8TEaGxs5ePCgo1+WLFlCXl6e81zTMEGe0V3uwWqC+YewRK8R+0RLJpNO5M5UTCcyvHr1apqbm2lubuaTTz6hoqKCDRs2kJOTg6qoKN70iSWnpxUalsGnGzoej8aV3WLBnYR7oBpYUUNN08jLy2PLli1MTExw6pS1j+UnP/kJ0WiUDRs2EI2WgGRatcO6iWFYmQUTE1lSxd6WeYxpmiQSCaanp/H5fASDQQKBANFolOHhYTo6Omhra+PkyZNpebmP/Pw8PF4N0wBVUTANGB+fIDsndKs/juBTRFEUEokEqVQKWZFRFcvwtxtnKLLE8aPHOd3czH/8x39QXFzIypUrqa6uvmjTfDwen9Wae64ZP4I7G/dsDHtQmqZpeH1eHnxgEyOjI5w5c9opgy0vL2f16tVEIhGn8gFwJsHLsnzF7JfgzmRBzDmA2am2/v5+Lly4wLJly+b0eq/02qZp4vV6CQaCqIpKSk85nSI8modoNEp9fT3l5eUMDAywe/duWlpaCAQC5ORYkb54IsGOl19mYHCQmppqZEVhrjJioZxvjBuZcwCWvI2OjnL+/Hnq6+uv6TXckRVVVQmHwzOtBtN/DwQClJSU0NDQ4GxC3b9/P8eOHsPr8RGJ5CMBExOT7N69m+nYNNFo0bxvUXirNt7eyJwDsDap9/T0kEwmiUajs37vy5HZz1yWZSKRyMz8AxMUWSEYChKNRqmpqSESiTA+Ps47u9/l2PHjZGflkJ2dg24YqKrMf//v3yMYChGNilriT4MbmZBsZ6C9Xi99fX0MDQ1RV1c35/6Dy50HdgtTu2+9qqjIioSEZfirskq0NMrSZUsoLChicGiAAwcOcOzYMXw+HwUFBZimyYULF3jvvfcYHR2lpKRk1sR3wc3jRuYc2Ld7e3tJJBJEo1G8Xu8V33Ou91AUhXA4jKqq1v6ElI6iqASCfsrKyli8eDHRaJQLFy6wd+9eWltbycrKIisri2QySSwW48UXXyQ7O5twODxrD5RpmkhXilx92qIlRPeGEZmDG0XCMQDsdK19vaysLJ05uI9Tp07x9lu72bHjFdatW8fKe1by29/+jgP7P+KXL/6SlfcsxzQkHKmWriKDYD/kek+EG3n+FZ7rjpQv1AiUu17YPQHX3lxoGxS2Yi0tLaO8vII1a9bS1HSKDz74gN/v/j1r166lorySl19+lZ6eLr773e+yevVqFHV2rfl8wL2wLNTOPLbMzGqdiznrvmAwSH19PfX19dx772qam8+yd99eXn7lZe69dw1rVq9h165d/OSnP+Gtt96irKwkfU5amagrHAEXZzAN132X+03s+9zPN5lJdV3rc93v7XqkPJORc/+70OTFNEBCQZFnorqmYe010VTV2W8iI1NdXUllZQVj4xMcO3GMPfs+4J133uHuu1dQVFTIjh0vMzIyzN/93d+xYsWKi7/LS4lN+mE3s9/NlSTlujAB00xvxLFl0s382Jzj3s8EF3e/sh9jZw9sXWP/3PYeA2tvQgkjIyOcPn2a3/7uN0xOTPLQww9RW1vLS79+kZ///Kf89Kc/oaykwpoZlUyiqCqXXZjc6uVqfuQrqauL7jddf3P/zhIgX/69L/qqLifVn4qU3jYI5+Am4d6w7MbQTcI5YTasX89dy+7ifP95Dn58kH/5H//Chx9+QE9PH9/59rf5x3/8ByqrKtA0+ye5CqG7Ubm8kedfzeGllYxdz7rQyBx6likbdo2voRuAhCzJyLJEbm6YjRvXs2LF3XR0dNJytoU33/gNH+7/kNOnT5IXyeVv/vpvqK+vB8l02lxe/mDS/34KjuDNfL61YT/dgnH+6t3rYmbRtwxAm7zcCBvWR1i6dAndXT20tLTxgx/8gL379mIYKf7sz/6MF37xAvkFeVaU8LL7ZuwFL9N4sm9fyYCy7898D4MrL6b2cy/13q6jNKVZZQ4LzSmwMbn8Zzd01w0JZEUiKyeL+zduZOXKVfR0d3PqZBO/efO3fPDBh5zrPUcoO4e/+Zu/paGhAUWRsQPP8hxGmuEy9EzXYVxNbOtGmet4LkJK+wK26C1QObk2TFRVwTYP8/MLyM+3ytHa2tpobWvl5Zdf5vDhwwwODPHXf/O3fO8f/oH8giJUr4qpW68xG2nWP2BevZBc009mzn5rtxNoC6jk1nFzPF8ACOfgpmF76dPT07OixIZB2ji2jJ2iokIe3foIF352gbNnW1AUjbfeeotvfvOb/Lf/9l+JllxtCUDmGXM9Qn2pSN2Nvbe9Cdfj8SDL8lWlPucrl1q4bcchFoulMwgSmNYmZMM0kCUJwzQoKCggEolw/PgJRkZGkGWVHdt3oCoa3/o//w+qqiqJx+OzV+ZrOkBbmV7H86U5rIIbRJYlAoFA+utYmJmDS6HrOrFYjGQiLS9glSJK6YXOlCgtLaWsrISjR48gSZZh9847v+cv/uIv+OG//ovTPvXSuL/v20enzMXU1BSapuHz+pCV+RH1vVmYjp/lMpYk0A1IpDNHHr+P2rpF5OXlcfxkExcGhkgkUrz0q5dQVA/f/r/+ltraGuwKxrlOc+lS12/gtM10C903DNff9Uu8x0V/tu1QybpPka5Y9LLAMJi9ic0yqE0MS3xMAwkJv99LfcMiamqr+fijAySTOh6vwi9/+QKSqfMvP/g+2eEIkqynhcXtLdr/Gq73u0mGeOaPeZEqkV1/1y/xBCPjthvZ9e/8zha4Ec7BTUTXdXbt2kVPzzk0TcU0JSRJJh6LISsKYKLICsMjw2z/9XZKS6Jomg/DTNHZ2cU///P3WbxkMe40vLXAzxV6zfR+TVda0O5gcXHNtP1akiQ7z5/5G7jLB9w2hCRJrnM58wQx0jdN5/XsbhiFhYU8+uij5OfnX8tXOe+RJKt71a5dv6WtrQ2/L0AylUJVFAzDRNdTTsr33LlzvPPOuyiKTHlZOZJkcqLxOD/+8f9Hfd0ikJhVVnAxmYaTa4m1V83LGvhyunTDsBYKR9DSr2PKZKay0w/gYkU6d9Tart+O5Ofxuc9tJScnx8k4CQfB+n7Gx8d5//33aW/vSJ+/FrKsYKY71iiKytDQCC+++CsKC4rSc1cMTjQ28t3vfpclS5agX7as6FKZA7tt7+WM8Bl9JTn6wJYJw6VzmEOnzaFTHNxlSa5HGCmKi4v5whe+IAZ+ZWBaviKjE1OYaePIlNLtl8HpdmbqBkcbT/HBgY/ICudSVFqGoml09Z7no8PHyIkUono0TMAwrQYJpmT7HOl1w8SZyCzhihlkTPGVJcl6Rrq8zd2FzZ4C7uzTspcbc+ZRTpcnw7QyFpfAfQyk30mRJRRVRpVlfB4NjywvEBNvNna3vYsCBJId0LScAt3QHV0vS7Krva3KgQMfplufBimvKMA0Dc40N7Jn7zts3fq5dFkRM2uKc/rq6bKu2e6fI0dzHK8lQzMZxczbVzbU7bTRZe6fpe/cj5VdtxUu1lHzG+Ec3ERGR0cZHh6lurqG8vJya1iNouEWKJ/HS3d3F8uXLicUDOEPhAgGA/h8XnQ9RdJIAi5F6D6JXd747IU6PVlTAVVRUTWV6anp2RsqJcCUneFudp90Z6qzYyhaF0VWSaV0dMMy0GQzY+F1vHHrvQ3bUMRwan97e3tpaWlhcHBQOAdzEIsl6O+/QFVVNStWrGBsdGJmamoqhaaoyLLMwMAA61avx+cPEAwGCAT8SMql0qI2c/1eM7+xmTb2rP0gpB0SHVmSQZKttnVpbAPdnuprZ8FsWZEkBSXdN1M3dEwjs/Z7jnKR9HEYhgEmaB6Nrq4umpoaicfjzr4MwQyxWIyRkREWLVpERXkFum475XK6NA0UVaHv3HmWLl2G3+8hEokQCPrTr2BYhpWZaRxc2qg2TXeUL23Upa/quo4kzd5PpKgKekrH4/Gk7zcxTB0wkWUFTMsItIY0mbN1lKNTrqKsSJKYmBjj7bffZnx8nHA4fNXf43xESutxu2LC1g7T8RQmEkZGqbVkWnZaIh7Hn5XNV//8z/H7AxQWFJATDuPxelEkmbhuEoslrEh9Konm9SIpMrqhk0rpaTVgvbEqKzNJrPSwNnudMXQdr8/ntOmdacFq6RJZktB1A0WRrTkMqmLpQt1AVuRZ2Xi4tpizIkkosoyRiOP3aHg1levPcN05zNXy1kLGCvjMnPeW22ZgRdZ1lHTNlpmOqqvp9cYwYhREwvz93/81gUCAwqIi8nJzUVUNzeOxsgaOjnfePf2P4QimKUlgyphmCtO0BrJkdvaTJIlEMoGmWhUIJgax+DR+XxAwMXUDSVZnglTOe83OAmRojjmuz8iC5NyW0t+TwkLLGNgI5+Am4/f7qKqsoqKywlJoGUa1R9UoLy+3etXLEqYpp4dpWSeOwewhWsxayC0BnTnprdt2wMwwU+lOSNOoRUVo6mzjyjAglY5Ij42OMTw8THFxMYFAAMPQXYu4ZC3kSM6kRSnT4LsK58Dv9zM6OioiepdAQiIYDFJUVERVVSXT0wlURU3PvEhZKXBFoba2Fkm2lLlpGBimgSnNHYGf4dLOgWmaGGYKTNILr1WmoihKul2qdXQ2Hs3DwMAAIyMjVFVXodh1BuljkGXVciqwSqLMi8J67mMxZ10MK2+NpnmQJZnW1hbrpe/AbMGn1e/bzsTJsozP56O42BqSZqSH5knIlqOA5ciVl1Xi9XrxeKzStEQ8mf45jbSRkKFT5sgazWSH3FkAK2gwMTmJx+OxMhWyllE9YHXPmZ6e5lzvOWpqqvD5vBiGbkWHTUs3GKZhHX9mpM7kMs7BzGMlCcbHRwmHw3ekrPyhMGTJMvlclRVWslDC1E1MWaGipob6pUuRkNOG/Ezm1zBmIsqq5gVkkskUsiyhyqqzJ0E3dExZdioUJQM0j2JdV2RkSSGeLoezBq0ZKDJWq2bD2o+ialYQQpWtLj66YaJqHmRZwjAlzOvZMCyZGOmsuomcNv9mDMaFJjmmOZPdz7gHyzFIpv+FWUEdSSWVSiDLEg2LG2hYXIdpG+Gmmc76yFjSlmGs255o2oE1JRlQSaaSxOOTgISmqqiahpTOKqRSqXTwwMpYGwbWGohMPDaN1+tLf45UWj+5nT2Xg4L7PvszzVVWlJk9kF33zV8H8nII5+AmI8uK0wPYjq65iaV0JCk920DXURUNRZGt1pSufKiZPuFwpW+dhVyyUqumfc45yk8nlUzx05/+lJUrV7J27dpZ751KWZkCRZY5eOggv3/793z961+nurqaWGw63dnCeq3pqRiKouLxetBTBooku4x8CWdHpB0Bdhb0mYnSuq47mQrBxWia6hqqp5OIJzBUw4m0yZKV6bEMOquLj6xYA9BM2cS8rNK6TKbHtKK5qqpyvv88H37wIQWFhaxZszodybedw/RTgN/+9rccP36cb3zjr8jLy02/d9oRRGFwZBBZlp1yoNkO7VwlIulb9qZt2YpE3ukDdeYur7ox3IOGrN701gBFw7g4c2AYBtPTlv6Jx9NTUTWrpNHOHJimxNVkDiRJQpKtfSD2on1haJDXX3+dJUuXsGHD+ln6zT5OTVM59Mkhtv/61/z13/wXIpE8kknL8VUUq0vX1PQUHo8Xj8e1H8nOjF7k+Lojnulr8sywLqFfuKjEG2bONF0GQ5IxJZAN17eoyGiKRkrXGZ+YQtO8GKalH2bEww4qgEdVmZiYYM+ePYyPj6KqKh6Ph/r6BpYtXUIsmUgnoWWQJRRFJpWypunqRorTzWcZGRlh+fLlBINBJAniiSRHjxwhELQGuKmKgkfx0N7exvHjx9m4cSPZ2dlIsoqEO9J9ld8LJqakY2B9cLtc6WoKUuYvmQa8jSMxzP52THQjhixb9oZhxtNlZFL6X9sp0Od4Tfv9bAfCet14PMbZs600Np4gkUgQCoYoLSulprqG7OxspiZjvPvee0QieaxdswFFNdFkjcbGT5gcG+fBzVswDB1FVZjVnUEynfe7mMxMgU1axmc9zzaNF+4kyQXtHMxZusPVRS3dxvvM3yyj3V6w4ok4iqzi3v5kt7BUVcVqfapbiteq53YbAGY61Qa2MEtIVhQEyTopkNLGtxUxTKUMZEXi6LGjRKPRtIFnR4GM9LRdK0I8ODDIsWPHmJqeSmceTCQsB2BiYoL33nufaLSEtWvXkDRT6fvsz5HZDsxIH6FhlaRgt/C007d3rhrOND5upiEiSdZvraZT6KRTv6aRlgXJdPpQy1JasaajuLZM2S0dwXJMnX7rpoSsyOnnymkFDolkyiknUhWVeCxO89lmEskkq+9dnXZAFDRNQ1GttL7P56Wnp4fm5jOoqpKOGCvpxUJCVTV2vvEGhYWFPLHtCUwj7kxtlSTZcmwyU8xpjPQ+BkWWUdL92e/k1TtTl9yMTdW2PpiJ5s6x8EmAKWEY1gwWy8kzkGUFTfVgmpbjZUgpJBTnu01vB0jLm62/5PQGXxPTNKzGAul6kenpac6cPk0kP4JH00ilrOF8yWQSr8+LLFnp/4ELFzh27KizYRhMSx+YEiMjI+zZ8z7RaClr1651tfqVLioCmPlwMMupNKyyvGRanu9EMjstZZZVuO+7NBnO9lxBUSybyb5kPldWrXPOwHAe5MR60lFfCfB5VBrbW/mn7/0jOeEc6hbVcfr0aXJzwnz3//47iqPFpAwDRZUwdVzntUxsOs7ePXtobGykqqqCrKwgum4Qi02zY/t2cvPyKCsrJS831xrcduwYP/zXf2X58uX4/X5Ldq7rNDKRTNPt48z9Bd0B3OwGDabbqJ61Ts9E0a1rJnZ/XMsGMFzLv12Ln2mQZ5yzEuk1yyonGh0eZvtLv+Y3u3axbNldGLrB6NgEX/+f/4wtD23h5MnTfOfbf08w6Of7//x9VtyzAkyDF37+K/rP93P/fZtBkjH0pKsZgR08lbl0C1K34WJf11332cdtMF9a214vC9I5cEfiDMOYc0G/muebToTFXmmtdLndQxhAZrZxadXh2ouAke4EIWFIMuNj1rCt8opyPD4PoyOjTExMkp+fT1ZWFgMDAwwPDxMtiaLICr29vXR3d5NKpaitraW8vBx/wMsXv/hF6uvq0TSNCxcG6O7uZnx8HJ/fKt2oqKzA41Hxer0MDgxw6NAhDMNg0aJF5OXl8vHBg/zsZz9jccMSAgE/pSVlhIJZzsY2MJGNdBmJbLcotP51x7OtTOKdo3znInPhvpnK2bLfrKyAvafbTEdinQ2DpmG14pPBvTlPkRX6+/uZmJqgtLSUUCiLgcFB+vr6qKqswu/3Mjo2TntbO8uWLUPXk/Se66W9ox1VUamqqqKoqNDqnvXoVrKzcggGQwwPD9PZ1cLU1GR6YrdEXV0diqqgagrdPV2caT6DoqgsXbKEnHAOZ0438//+24+45557WFRbS0FeEX6/P+0gpssXwIk+W98n1oJhWkYshg5G+pyyPuod13Vw9v4gO7t3cwxXS6eY2JvD038FJJfRIDuPtW/LWIGDZNJgbGyU3t5eKisryc7JYmBgkJHhYYoKivAH/AwNDjI8PEppaSmKrNHT0013dzeBQJDS0lKiJcUU5Ofz1B89RUlpCZIkMzJ8gdaWFiYnp8jNDWMYUFJSgs/rQVNUBs7309PZRSqVoq6+jlAwRFPjSba/tJ3a2hrC2dlUV1en25KS0fgA1+eEWQt+xndwJ+HWI3Ppl5na8LmfOxvb4jcz3AS3VrYeMnfrTwO3iDolZFK6/tqceX2PaiLLJqlEjGe//Oc8+cQ2frPrt/xvf/VXfPzE43zhC18kMTlOb083/f0DJBJxqqqqKC0tRZYMUskYk5NjSGYKVTYxUjqKZJJKxjBSCRQJFCvpAIbO9OQEpp7E8l0M5jjQq0LGtBKmhpU5sSVGQrrtgxDXoj+u5rGz5W7GUE7npQEFKW0suwtMLzUQ0i4turTT5XIS0vsMrE3OlpyvWnUv3/zm/45hmHzrW/+Fffv2s3LlSsZGx/D5PAwODvHCL35OXd1SsrN8TE5MMToyjYlKKjWNrBrIUtpBMe1gpL1PwH0E7rNDyrg913HPcf+lKpXmKQvSObgdmMlakBY0iY6OTn7+85/z7LN/zD2rVrB371727t3Hl770RVavXs3vfvc7Wltb+epXv0Jrazu7d78DwOjYKDnZOXzjG98gQoTt27fz5BNP0tBQx3/+53/y8ccfU1hUSFNTI16vh7/4i79EkmT6zvfx6muvIkkwMjLKww89xJYtWzhy5AinTp1iZHiEcE4OTzzxBMGq0C37rgQX4/N7aWxs5Hdv/Y4/+dM/YdWqVbz6yivs3buPb3/72yxZWs/rr+/k1Vdf5Yc//CEHDx7kjTffQFEU4rE4wWCQ5557lmDQzzvvvENtzSIKCgvYuXMnBw9+jMej0dbeRlZWFv/r//JNvF4vra2t7NjxMrpucPJkI0899RRf++rX2LdvH+3t7ZimyY4dr/D45z5PfX29tZ9At82TuZDmuMwPLl/y9Sm/d4aRkEwlAYmzZ8/yHz/5D77yla+wZs1q3n77bT7+6COe++Nnuffee9m3bx/NzS18+Utfpruni927d5NMJpiamiKSn8/zz38NXTd4/fXX2LRpM7W1Nfz85z/nyOHDlJaWcvLkSWRZ5Vvf+hY+n4+hoSF+9atfMTo6yuDgEJs3b+axxz5HS8tZ2tpaGRkZJj8/n23btlFdXc2Vf//5Ix+fBpnmj4UVAZVmRc0vtnJM57Fuw8k2Dq3rKUwSqSSa14OqyMimTm11JeH8PMbHR/FoEo0nTvDKy6+geT2kUikCAT9PP/UM5eVlWBlmI22KmjPXJfuSvt/OXqT3u7j3vMxwdVFd2zFyttC4Lgu0lDxNxvdpWpuUnajNTf9yZv9eVll1CsPQGRsdwR8IkZ+fQzDkQ1E8eL1+CgsKePzxx9j15m84fuwY6zeuQVGsTKiiaiCpyKrOjNy6Z6lk6oqbOaJvYbCw8yafOpdfzGYqLay0XSqVoqWlhY8+/ojJyUkOHjrIzp07OXPmDEPDQxw4cMDa7BeL8/LLrzAyOsLDDz/M1ke3snPn67z//vvous57775H/4V+pqZjvPLKKwSDQbZ9/nHC4TAjwyMUFRbh8/mYmpwiGAzy0EMPkZ2dza5du+jq7qKhoYGqyiruXr6CVatWUVBQcFEN+tV9QsHNxg6+S7JEVlYWjY2NnGg8wdTUNO+++x47d+7k9JnT6CmTnTt3WrXemsyvf/1rOjs72bZtG+vWrePQoUO8/fbbjI6OcvTIEVpaWuho7+Cdd94hJyeHz33uc2RnZxOLxQiGAmiaRjwWo7i4mEceeZiC/AJeeOEFRkdHuffeeyktLaWhoYFNmx4kkpfnlCLMlKJd9Ekucbnzsfcb3S6kkim8Xi+hUIjm5mY+/PBDxsfHOXDgAG+9/TbHj5+gr6+PAwcOMDo2yvDICL/61UsMDg7wyCOPcO/q1byzezf79n3A9NQU+/Z9wMDAAEODw/z7v/87q+69l89//vMEAkG6u7upqLAaLkxOTRAKhdi6dSvRkii///3bnD9/ntq6RVRUVLB8+XLWrF1LTjjM1f32809WPm0k5//u7+xSUdOreC3TIDE5wb59e/jliy/yX/+fv2f9+rXct3E9ZirJj/7tX+m/cJ6tj36W++/byPFjx3j9tVfRVBlZYtbFMvxnHADZ+decVS5pOs7EzEVwM7GzjnNt1v10UBQZPWVw6NBhXn3tVX74w//BmdOnqayoJCs7TCKRIJlM8sgjn6Wuro4f/ehfmJ6edoaqmunN8oZuOwf2noebKRvXd57MF4Rz8KmQrn2bw/hxrmXUf0omlJZEWblyJadOnaa1rZ3YdIySkhIuXBig6eQppqanWLlqJSPDo5w8eRJFVhgcHCQej6PrOu3t7ciyTDAYwuv1YegG8XicnJwccnPDFOQXUFpaRnG0GN1IUVZWyh/90ZM88/TTPPjAA6RSKSYnJ6hbtIiysjLuuusuHnjgAasjCCbODmjXRXJ2RZvOfzN1Rbc2gnpn4F603XKSKSszt2Usg2/58uWUlJTS1dlNc/NZdEOnvqGeI4ePMDo6xrFjx3j22WcZGhrik08+we/zMzQ4xMTEBLIsc+HCBRRFIysa44IXAAAgAElEQVQrm0AgYLUn1FPk5uVSUJBPKBiipqaGcDibiYlxiqNRnn76abZufZTPf/7zjI2MMjw0xMqVKyguKqKhvp5NDz5AYWEhQMYEW/fn+8MtQn9Ibtfad1mS0FM6tbU13LtyFc1nztB77hyJWJziwiKGh4doPHmS4eFh7l6+nOnpKVpazmIYJqOjo+gpHVlR6OvtRVVVcnJyrHa6MiQSCaqrqiguLqawsJD6+nqKigqJx+IUFRfzR089xbYntrFlyxYM02RwaJDysjIqKipZvnw5Dz74AMXFRbNKPWcQzsC1MduYsXWHsxbdaImnCbIkk0ommJ6aorOrgyOHP2HZXUtZsnQxQ6Nj7NnzPsFAkNHRUaampvBoGt3d3eiGtTfFLreTJdnqjpb+zRVFseZ1mGZ6A7zV9UpRZzqhCT5t/lDnmASSggn4vF5CwRCV5eXkhnP55NAnnO/tRFWs/ZQ5OTn86Z/+KSeOn+DgRwcIBoNWdz1JQTdml8Td/ONf2M6BKCu66WQsZhltJC6KerjywHm5eSxbtpRfb9/OB/s+JBgM8fDDD9PX18e+D/bh9XjJj0QYGxslpaewByOlUimeffZ/YuPGjWllK+HRvE43icOHD5OfH2FoeIj1G9ajaRrJZBJ/wEdWVha6YfWSlhVrY1o8Hicej5NMJDAlg0QigYIyqyWps5CbdifkdJmU/YFMVwR14Z5fV4Fr0c5YvC+OkEmOKMWmYoSygtQuqqWn5xxvvvkmhQWFbN68mTffeJMNGzYwNTXFffdtpK+vn1gshiTLjI+PE4vF2Lp1KytXrcQ0DZKpFGDi9/lQZIVjx44xPj5GSk+xZs0awjlhDF0nGAwiy7Jl9KfLFOKxGIoiEZuaJh6LY+jp9qSShCTL6Ck93U97RtCtjdVCMP5Q6CmdmD6Fz+9jxd0r+PWvX2L327vJy83lM5/5DP39Fziwfz+aplFXt4ix8XGn69Dg4CAmsG3bNu6//z4kWUJP6x6vz0thYSFvvfU25871MjQ0xNatn8VMt8sN+AJkZ2dZ3bcMIz3gz2rTOz09zcTEBPFYAp/vEhPUM41ZScjLpXGXArkKiGaV5NyY8ZRKd9jTAkG2PPwQ92/YyODgIHv27OHZZ58jHAylG1/ITExMMjk5webNn6G6usrKFiiy1UhDtjYWSOkOePZASENPOfsK4rFY+gOYSLLs7MW6Pj6NMpmFxc00u03TIJVMIEsSq1bew7Nf/jJFRcWEc3L4yU9+RutjrdaMG8MqS9248T7uv/9+fvyjH+Hx+K3ZPKoGCZiRa7v+TAQRbhbCJb/pzK7XnNUmQkpPfpRcqsolzz6/j4aGeiRJ4s033yQrK8TmzZsYGR3h/ffeJzc3l2g0SjgcJhgMUlxczKOPfpZnn/0yzzzzNPfcs4JYfNqZWTA1Nc30tLVRcGxsjNWrV7Nlyxb8fh/J/5+9Nw+S47rvPD/v5VFV3V19d6MbZ+NqXMR9EgdBULwpgLIoUqQuy1JoZ2fljVFoZ2J3xuM1Z2Mc9qxHE7I1uw7J0ljHbFimx7Is0xIpUiIpSzbFA+IlEwBPXMSNBhro6qrKzPf2j5eZlXV0dzXQIEh0fclEdVXl8Srz937vd/88z5TJVKVGRIEf4HnGWgOC0fwo+bAsohalrex3QemzBi4BCRfSeLSS1DeBqFPkxk2bOH36NN/73vdYuHAht916G8eOHeNPvmIqPMyc2U9LSwudnZ20t7eze/duPvzhD/PBD97F8uXL0Cg8r4jWivPnzxEo35TWRbB582bWrl1LKp1GWhLbtsOqMuXPWyBIZzJcCIVKKU24gO97cZWbeIvppjbNRB6TBi4BFfQTbbHwrWHlypVYls3DDz9Md3c327dv5/jxYzz55JOm38b8+bS3tdHW1srcuXO5/Y47uOeee7j9tttYsmSJEfS1RloWx44eww6b6J07N8T27dvYtn07UhqrXsErlA1PY6zGQkqUCrhw4QIXL16kWCya4VcmmVb+lgYmBeM00JjSsJd//7QGL+xV0Jpto3/mLB544GO8+utXeeqJp2jLZunr6yebbeWuu+7iwx++hzvvuot1a9dhS9PrID9aYOjsOc6ePceZM2dw3TQz+2fx+utv8Oqr+ygWfQ6+fYin/+lp5s+fT0tLU1hVJ2KGlyIANminPly5+xSvAKEHOdCaQAd4vk/B8xjN58nl88aoZJkGrNIylQ/dlMsDH/sYx0+c4B//6Ze0d3QA2iiaQpRJXJe7NVBCw3NwRZAUgHTFN4nMKJ2IAhVGUe7r62dg3jz+/pEf0ds7g8ElS2jKNHH8+HEWLFhAb+8M2ts72Hr9Vl566SW+9rWv0dnZwYkTp/j0b/0mvT09uCknTjMregVOnznNgmA++/ft59SpU3z0ox/FdV0ymQy2Y0PUYCmTxnEdWltb6e/v48knn8KybO64/XbmzJljejGEYy+Ne6J6+w2MjySN6LJPqUErEYMVUuIXfVavWk1TUxMHDx1k/vz5zJ03m/nz5/Pjxx7ha1/9Op4X0NPTw1133cUTTzzBn/7pn4IAzyuw68ZdNLc0h302wHZsPK+I75umWS+99BLHjh3jEx//hPEY2E5FD4MIglUrV/L4T37CH//xn3DnnXcwb94AvudN3vzQ0AwuA7Xnoeu6eJ6H7/vMmTuHeQPzePTRR+if2c/iwUU0NTdz8tRJBgYGaGtrY8GCBWzZsoVXXnmFb33rmziOS350lA/fcw8p1yWTTqOVorm5meHhYYaGztHV1cW+ffs4dPgwn/nMZ3BsB7dGh+sgUGRbWujp6eWXv/wlLS1Zbr/9dgYG5pliJmU/ocFXJoPaYrOmVGLaKAn1TrHIJlviRQI3nSadTpuQDiHYvGkT8+cv5Mmf/QMfufc+7n/gAX74o0f48h//Cc1NTWgNa1avYuOG9YDg0KHD/Pmff5OWbJZsNsvuPbvZtmMHr+7bx1e/9nUWLXqC88PDvP7mm3zik5+kvaMDPzAFvC+FN2hAiVIl+ySnLSvYM+1Qi1reJRFZSlw3RTqd4he/+Ee+/o0/o7mphZdffpkbbtzBgoUL2L/vVaQtTd8NAWvWreXuD93N//5//B633d4KeAirMiR3qjG9FyPrwQcffPBqD2IyUEoxNDQ06ZKSUbk/27Y5efIkp06dYsWKFTXLxk10bq1N/fmmpiYc244bmI2O5njtwGvM6OszjVsSCVXRf0m7aJJRRdZgJ5Wiq6uLmbNmsWXzFmb0zaC5uZmFCxeydetWZsyYQSqVYvbs2TQ3N5PLjeL5Pn0zelk8uJiuri5Ac/31Wzhy5DA/fvRRPvWbn2Lr1uuxHZvvf/9vyWazbNy4kc7OThYvWkRzcwtCCGbMmMGK5cvp7++jp7sHaVmkUi4LFi6go7MD2zZNu6Q0TduENLX0RcS4BXE5PktaXLh4gWPHjjFr9ky6ujon9bymCoVCgVwud8k1orU2cdcnTpxgcHDwsro9d3Z2lh3v+z6vvPIKnV2dzJgxw1SVSdxHKZJNnuIMPlPuMAzdaclmcRyHZcuXcePOG+ns7KClJcvcuXPYvXsPbW2mg+zAwADNLc2MjuYIAp/e3h4WLVpIR0cH6XSKwcFBTp06wZtvvsmtt97M9u3bKeTzPPLoo8yeOYvBxYvp7+tj+bJlpNwUFy9coL+/n02bNtHa1kZ7WzvpVIqU63LdddfR3NwUd+MM72TNTSmFxtRDP3/+PAcPHmTZ8qW0tLRclVKmQRAwPDxMEARjlu8bC0qZngBHjx7FK3r09/eX5V2Mh+Q+UR+Ktra2MnoZHh7mrbfeorOzk66uTnRVBY4wv0Mnln6tww7Y5n67tkNrtpWBgQF27riB/r5+si0tzBuYx8aNG+nu6iaVSjFr1ixs2+b8ufNorenv72dwcJDuri4sy2LLli0cOHCA5557jk9/+rfYvGUTrdlWvvGNbzB37lxWr15De3s7a9esRYZ9DNrb2li+fDlz5syho6MTy7Jo72hn/vz5tLa2xr99bCGl9J0ACsUCr/7zq6xdt450KvWur+VCCDzPY2RkpNRfZIz9koi6XSulSKVSHD9+nLNnz7J48eKafQ4m6rOilMJxjFGn1FvG3KmL+RxKaJRQaBmtP2MIVYISr8Hc5aSRouB7BErR1tHByjWr6embgRAWLe0d9PTOYOHiJQwuXYLtOpw5e5ZUOk1XVycLFi6gq6eXTKaJzq5O2js6SKVSdHR1MDB/PosHB5k1ezZaCoq+T3tnBx+49Wa2bdtGKp1Go01dozLnQWnNmWjTApQELRSWLUk5DrY06kL57bzyBOR5HsPDw/Ecn2yekhCCY8eOUSwW6e/vJ5UaIySvBpLXsiyH1mwnlh2b+UIPU5TgW5qBl3JXqv2/yTktsKSguTlDV1cH7R1ttHe0sn7DWu644zbmzp2FFoqO9lauu24F2dZmLAvmzJ3J7NmzWL9+NYsXDyBCj5gJWxU1rjWRT6CSWJJnEZiSqHa4yXKamwZoeA4uF3FMp/lbyLChTNwEqtziYY3TcU8DloDVa9awbPlybMckY11//fVs2rypjJnMnTuXefPmMJIbJQg8WlqaQRuB/b777qW7u5vvf//7nDp9CiFMdYBcLofv+zi2w8C8AXp7e7Ftm2KxyNx5c5k5ayaO46CVZsXK65g3fwDf82lubsaSVtyNuXLQWmsUpX4RprOqabZ2KQxwusDzPNOkLOwmKmSSNUV1p+MPyhCSGUopdu7cyQ07b8B1XUZHC2zbto1NmzaRyWQoFAuoQNHV1cWe3XsoFPNorchkMkSL44037sR1Xb73ve9x7Ng7prGUMg2vpJC4rsuG9etZed11Ib14LFu+nGXLlpFKpcldHGHZ0iUsmD9AEASkm5pj+jf0UVuIBdCosAGgMg3RQvrSetrw4Lphmh1aWFbSDhrZd6F6gTNhPJ7ysS0zfy3LYsvmzaxbuxbbtkHDli3Xs379hrAZmY9Sktlz5nD33R/i4sULCCFJpVO4joNt29x99910dXXz8MMP88477+AHPpZlMXzhAkprWltbWbhwAb29PaTSaQLPZ2DePGb295NOp7Esm9WrV7NkySAgSKVSpnpJEFTQSqUiXt60KTL2WJehsF9bKAXlxSJROJGUVIjYQJKgEK2pPdOMWV2LUuaT0oremX3cdfduUuk0uUIBrTQ7btpl8tOkoL2ri3vv/yjnh87RlEkDEjflIi2LJcuXsmDxotAgYBQkN+Vi2zYbr9/MslXXMZofJZVKkXJTJhdBBWYkgrJx1qu2mw7JOlR8SmGxpV+dXJumEcfR0mxQsaRXS79jUcgkL1j2mkrbbNi4nlWrVsaGmFQqhe04SCGZPzCXGb2dNDW3EAQFNDBjRjef+9wnzbqpC8ZAWTXeemWNWr8oqUhECsf05S0N5WCKobWxhDY1ZfA8DyFkmRZdXXmhYiKGrk7btuOGOEkLZixAaiMopNNNIDRaB+RyOTyvSFdXFxrF1q1b+exnP8uLL77I/v37AcEDD3yUm266ESEgnUrHJeMc6cTXBIGUkpbmlpK3IzRc15xUEqSWphpFuItp7mVcgpdjbb+WYdkW6YxZBC1bltGGUSwTO5clZwojEIWKWSqVMglchE32MGVOc7kcKlBkMilyuTyZTIZsttl4e4TG942VKJ1JI4Vk27ZtDA0NceDAAd5++y2EkHzs4w+wecsm3FQKKS2UVrEHyYwLdBDgOA5NmQxCSop+edfaMktoRXhA1BnccV1SrotlhbQmp2ZJulYQWZuje+m6bqJXSrlyEDY8B0AFoWcmVg4khF2U8/m8eZZhPomUJolcK40KAlLpFE3NTaANrURFELLZLEEQ8IEP3MzQ0BDPPvMML/zqV9iOw+f/l8+zc+dObNuhra2NIAgoBgrHdUlnMmHpQY1lSdrb21FKUygWQAgcx6VKWCt7m3gjBFZh1HhPppE1byxU2KjKBDoZyjw6CjGqOnAM/lyW56EIVIBjOWRbDW8xjdIESLAcCz8o4uWKOI5Nz4weAs/019BaG77h2OF6A6ZzukILjR94BFqTSru0tDZj2RaF0ULs1Y/FeT22sWTs+5IQ+KLqevFZp6vRquJ5RwQTvzFCsai4R5czxUr0aC4mBLiuEzbaNJ9rNIHy8RVIW9Da1oZG4ys/9qSnUinclFMKPxTj9VSP1L9LURiMcnAl1KT3CxrKwRRjaOgse/c+z8mTJwAIgnLCrHIL6/KJKmTITMOqD5H7OdmV2eyYJF2FkIJiMU9TUxOeV2Q0n6O5KcuaNWs4fPiwqU6UydDb28vbB9/mwGuvEfiqrJ50ND4hBL7nm7AhKfE8Lx5LLUSdYJOeA9uxGRoa4tSpU5cUzjMdIKVgePg8e/c+T6FQ4MLwxbLvy+9buQSktSadTqO1xvM8oKRQRs+hUCgY65xrGhIhwlripgUpQRAgJShlhD/HcVi4cCHZbBaApqYm+vr62LdvH0IbOtAY66MKAuPpkjKWISyTiVwV7JK0BldaLiPlwHVdDh06xPDw8GXc0WsfQ0NDvPDCC5w6dSr2zpR1aYeyhldBYO6vZRsPnm1ZSAQqUBS9IrZto9Bx2J1l2XFoT1RlSofeH6VLz96yLIQQrF27jpMnTzAykqO7p5ue7h5eeeXX5EZzNGVMedwgCECbTuCG5syYTUgi4WcyvE59C7kQgoKfZ2jo7Di9NKYRat42jaVDj7QKxaWwp04tiJKJPjw6KVZpXCnxCx5uk21EJxXSidKIIEBIC8eyEBpU0cMSxnucz+fJjY7iplJk0imU0nihQhh5mW0g8H0CrRGBhRWXyE7+HDPuWmJbPTdGa5UQfaeTmFcDgjCMqHJNlxixMOodkAwsu7wLGtG6UgC3MLUOffO9MOvMaH6U5qYW0/RMlkIG/SAwcokY33dUfq3JKIHJYCqZ2EpnnS5oKAdTgEiIa21tZc2aNZw/fz5ebAViggWv3FUexdMaKx7GOiPDb1TlubRhsISJOxiB0HEtfv4PP2fDhk3MnDmTJUuWlCkZUSiLcMoffzK+1Q6/E0LEoUZjzbFkTkV0jCUt2tvb4yTqBqph2zarVq3ixIkTFPL5cuVL1FAkk0K10gTKQ0orTORUcYlJIYzAL4SxFAaBFx5k/EAojdIBQeCjEZw/d57Dh4/S19dHX18fbW1tsaVaSmkURSRSCoqeH4dxCHNKwzKlICBa0I0VKIxrqKBZUfG7jPDpeZ7JgVmyuCxfp4ESstksq1at4vTp02UGg6qSn4mpKqTAEhIhpBHUlUKFQri0LJPcHopMQpjQEa21qTIlQAWRd8I8W9t2yHsee/fuZdmyZXR1ddLe3maiV0JPZ7FYBK3DzszEx2utQkFexAJ9MheoFCZQH1paWrjllltIp9OXekuvGcRFfEL5xYQQQUdLlgDzzNEgtPE6mrUJAqVCA5WOZfE4tC/xd4RAaSxhkcm0hM8r3E8pLCGxopLYyvQrkEJwtlDgzTffpqurk9lLBvEDBemMoVNRGr/SJotGCIGwx15vAKw66EQn7kvUaM2RMsw3mO6IhP/kvUiG0ViUhOFStELdEJVvddkXpX9lOA7X7COgMHqOXz79EhvWr6enpyfeW2uNJUOKrNGzo3rJKMlT9UFTyrmIlCSL8ntUKa9du+tUQzmYQriuy8aNG8uS07QqN4BMJPMIWdq/yslQ7iGN9xcCAt8Ii0op0ukUr7/+Ohs2bGDWrFnhuURCMRiPOVZr2xMZ84znoGT1k2EN68ginEq7459gmsK2bdasWWMs8jW83OP1/lEqWvAEKlTckvSiNQQqQAqZEMTCY6TJVQgCHykFJ06cpLk5y9y5c1m4cCFa69iaK4Qw/FIYZdUrenGsOiQUmMqxxqEMVBCQGHcOOGlnUkl20wVCCDKZDNddd12NZOnyG1pzjYQy+gr1tprPQtf4POpZIi1JfrRAoVBk06aNdHR1lK6hDS9AGgU0mUNTooPq56+jvhhj//yaENIYLiLDRyN8MUSoqEmtSdmOKV4QSuIyVMziXLhYmaeK0Vfy/ciOLCAWuJP7ChUZmDD5m9rwGhfwczl0thnXkljahMSKKCREaCLbk07S6rjKQR23QZROoUNeKcJjG12WIXF3wi2aPxUKQ6zBTeLUNYWXyu8qGFO4TxDYnDs7gu9JBKlSREKtc5VfdBIDrHV4pBQElLwa167wPxEaysEUIRKSTKJnCZNSDiKGG1lj61AOZOgfDQJTX973fWzbhJK0tLTQ0tISjy8p9NXSekXimpFF2LwpXWcsJH+nDq1WyfyIBqrheR7pdJpUKkWxWMR1EkKxGJ9WotLfxkvApJUDrcM+BFIwPHwhrr4VhRSpQMUuf8JrISAoBkg7kUdTyefLBkntZz/W75q+fLguSClpaWmpUU62fC7LMn4Thm4IGXuWtC7Zg6VIeHlCL4JSChEqhloronh1rQwBeUU/7GgraW5qAa3Dhnd+fKzpn2JcnsZrkOALCdopfS7Kv5sAJj45MGFRSmHJyVWWumaRkLcEpiqMVQrQjgX70v4JS+4ElqvxsuV0yIvKPA06uqZGmHpDhlZQCKzYmh8pjGXsQozPDupVA5Pn1FAKuZvWvCb0GlT2DtGR6kTi/icexBTcs9oeYRErqWYc0cUma5mvkGfERFEbFdBWSJDRlgwpmn5oKAdThGS8ffIzrSsJdDyJr8bXkbJQoRSUJSPGC6xJag2CAN/zq/IA4rwFNcaESYxdJfbRWk/o8o9Cn8wBorTwV1gQGyjBcZxQSDdCW6BUecL6OHxN61KiODoKCaikPVNFSmgr/gyMsK/DcB+NUSjz+Tx+mEgcWxWnYlEQ4/+OBiaHyDpezlNk2T0WUPLsSOLnaWGZeZnwjEfkplVpXRRCmCIDQoahjOE+wnQ6Jkww1Tqa92bymxC30GsoVKxEGp5TUgLia0cCoQqVg0muw1qY4y6l7Ow1j6TuPkUhehPYtWrM9eSCVrL+isgCVuOMU71SJNmYHs9dNu2gKYXI1GDQtayT70NMXkFIWkEn0FCvcTSUg0tAZI0rr0Nfez9keczbJc23yCqTsHrIihNFcZQm8VDg+9XNqqLSf2XjC1Fekx6klXT/T3LQ0cIkCBuVNFALEeNKPpPkMxgv7r6sAlaNe6yVQMrqnJLIWiQQYYUjk4RqWVZZz4/K/IcIllNDCKu8fCUvnr7Gl7pRWd1prAUtygWZ3MnNSzQXq4RwrSnL7wtrn2t0WC+hRDO2sFEjiqJfJNAmyT1KUhc2yFABMVY44uOEFRoyKohDcOk8wrFMpZNGfso4qNMuNVUoW1NiB7UAmehTgEahkYnkmCjk5/JRq2xySPdlLoPJWqWvNUSWcSi1iKu1zxRdbYJTJb8XwkKIKNZf1jh2fGG/kh802MOloaEcXCLiJLqrwGAmvmLJ2lf3OSs07MaEen9jbCusqPo7WYlqQkGr4Qm44nhv9QWpNjBEn9csETiOtykycEw1GsrBOIg8zOG8vSr3SlRQ0RUbw3tp3jTQwPsbDeWggQYaaKCBBq5B1CjqclUwnoe9gQYaeO+h4fBvoIEGGmjAoCG/NXAFIQjDcRuE1kAD72k0PAdXG6VCEhNCTBAmWSyapkZaaUZHR+PSpVFFj+oGbOXXnlLLTqWHt7EW1ETd93wSdDIZKKXwPb+s/O5lo/Gs31uYMCekIkZ3jNP4vo9A4BUKSA2B58Uduf3Ar6sEbZlQ2KCTK46raa2PEtCVUhQKhbiJouYS8mbqwnTPI3h/I6KXqEBGspdLJMcUCoVGqet3CQ3l4BqC1ppcLkcQBPT399Pa2kqhUMD361u4G5g+iDorFwoFNDoueTs8PEwmkwmTlRuY7kgKl0EQUCgUyGZbyWazNDc1M3x+mHQm3WhE1kAZlFLk8/m4Glt7ezupVIqLFy/ium6julQDMaIcq2KxiO/7tLS00NvbSxAEDJ8fxrItmpubUUo15Jh3EQ3l4BrCuXPn+NKXvkR7eztvv/02Bw8eJJ/Pc/PNN7Nr166rPbwG3iNQSuH7PocOHeL73/8+Z86cictBuq7LHXfcwZYtW672MBuIEVUSe/etopHHUQjBoUOH+MvvfpdivsDwhQs89/zznDx1ks989rOsW7uuqlRpA9MbJ0+e5Nvf/nZcJlkIQUtLCzfccAM7d+682sNrIIGoAZ0gLGj3Lk7jyFuwf/9+fvzjH3PhwgVOnDjBs88+y9DQEJ/73OdYtmzZVVYooypY0ycSv6EcXEPo7e1FCMGDDz6I7/ukUynWrVvP5z//eQI/wLIb1pr3LWpWCaos2zcRShWJpJQ0NTVx9uxZvvzlL1MoFLBtm3vv/Qjt7fdf3livjhx7DaLygb/LdSkxlaxUoEDCjN4ZnD55iu/89+9QLHrk8qPceeedLFq0iEAFKKWugMdpLBqfPov0+xFSStra2lBK86UvfQnf93HdFHfccQf33XdfzS7cVxINxXVsRIpBXMzctDl511h4VJ557ty5vPnmm3z3u9/l/PnzaK35yEc+Qk9PT1xqu9EF/d1D405fYQitEVrFW9ydMO5SGG6Vn8fN6utHEAR88YtfpLe3F601TZkmfvOTn2RmX39sEUhuBlEzlEluESeJOcoYv0vU6MQ47VF582ptY9DKpTyrik0IjZSCvr4+9uzZzcaN6xEC+vv7uOWWmxkcXDz+OUTFVjn2KRrn5JWfaxEVfEBc4nwd9/mNNccVKBXzjtZslo994uPMmj2HfLFAW7aVL3zhC6TTaSzLChWDCei6jAE1aONKIm56OU7fjCuJtrY2du/ew9KlywGLWbNmc+edd7Fo0WKjcL5L0FqjAlXWx6WBctRedXQVDU3FVonIM9nW1sbdd9/N/PnzAWhvb+ezn/0snZ2dJv9A6Sv/DKvkGijnNdOH9zSUgyuOS02SmvxxQgh6e3r5/Od/GyEka1av4SMf+QhCSix7LCeRuG8IZZIAACAASURBVIR6dw2ymRqMJyCNtZgnj5nsecx7k29QpFDIM7hkCbfedhutra3svHEnN9yw8wpYZy7ldzZQjbHuo57g+3q3WlUEzBYt6ps3b+HuPXtoy7aye/duNm/eHHb6Jly4J8NLxts32cF1rN/WoJ3xEAldlWVEy4U1rtgmpWThwvl8/OMfp6WlmbVr13LTTTeZ79/F+1DZYLCB2ijJw8JUlUJU0dBUbLWglFHedt24ix3bd5DNZrnv3vtYvXo1tmWHXd2FURACoyhcESKqbgM0wU7XLhphRVcEFZa+JEOql6DF5OOMhTCT7L777uU73/k29953H+0dnehw0RZVhJ9Qj+NqOMnrjnXtSiFAAwHlPy75faWTslFVoiTc1LJCyMQ+te5VqRFVfWWMyp+nEOC6LkGgSKVctm/bzosvvsj2bdsZGBioPtdENFsV8pQcX/R2ovFFeDcd2u91RM+slhU+gqZ0z6ZoXumK51dhQLj99jv4h5/9A3v23E0mkwE0QaCQYqxOq+OhVimlJE2P9T7iN9Fvl+OcY/rS07lz56ottjoSkie6NxOVuRof0jJL36pVq1i/fj1btmyhs7ODCxeGQYNSumYFvlry4+XI9Kb5nrE6ZzIZMplMIzylBgTCeAsIlUalazj9p2guVYgPkUJpSZtbb72dX7/yKnfv+RAdHV1hZ3UzvnhsOqTey3iME5KUNucXZR2kpw8vaSgHU4po0UoKymry9FTWUVIk/qoWEpUuCZe+8hAIBub38Qd/+Hts2bQZLXLV8n9Vd2eduIxZWHXNQYfH6fJxlYTcWsqBwJCZTcPjUImAsvumywUa807Hn0R/mE/qcW0mutlqbVrSawiUwrZshFD4gc+y5Qv4N//mX9HX14cQHiDR4fkjwUIKKx5RmbAfmQFr6oXhF3Uv7AKEA1jln01rVCqCSat59GqEY41G6EnOsQrFrWT9F1VXlkKCkKxavZQH/8PvsGjxIFIqgqCIEBKiLutCoOP44PqU1xKJVNL1WO9FOEILcOIxVxPj9MZPfvIT0uk0ruvieR5CyFhR0DU9xiVFsLZOX9/91SHPSaVS5EZy3PyBm2lra+PFF14iN5oDwPdMkrLG5AMITEasVrrqupU5A5UegLH7JhgFRFqSXC7HjBkzWLVqFa2trRP+hmsdyVknAKU1XuATKIVWCh2oMuVA17l+C4zXyA+CUPBXIEx/C41GJjwISmm0VgRBgJQWrmuzcv06/uUXvsCSVaspKMVoPh8nI0eFM8z+EiGE+duy4vVTRKWZL8EmG+0cUZNjQcp1EDqi08mc6P2NhnIwpVBAAShSsprWsvRNjBJ7TjDEin20hkAFhmA12LYEDX7gsXvPTQgsguAilrTwAz9moDJkwkJYVWfV44yvJKCKyk/GQchQtF3afxpNsNqIhBhFSUEgZG4llUBXKFzmKB0+o1CJG+NeijK6MUqkQCC0xA+KSJlBSAk6T0dXht7e61BaoRhBYoeLu0kyNTECNlLWWILLFIHos1qejXpgYeglSZfTnlgqUDJAaHzM042EeT2WRFcnBEoF4fEqFvijqyohIdBkmmDnrs1IaaP1KOADNp6fx3Uco4BqH6HtcsFv3Csnf185v9RU8s9ob4lRDCzKFcrkWac3/ezdu5fNmzeTyWRMQqdILvljeSVLgroQSb5ftQKNeV2tNYEKsG2bjo52tm3fitbgBz6WtECA6zimD4LWIW8RZk0LAnNtItqLDBQSKY1yo7SKFQTD18Z5zkLhpl2OHTvG0NAQAwMD01450Gi0qFhbVEBuNMdosWgU/Er60JX0Mvbztx2bYqGI1goN2LaDFNXH+oFZYwSh0dKTWK7Dmus3I6XkdG4Ez/NwXRcpBPl8gZaWFvL5PFJKpCUpForYjjm/UpGikPilsaesAvEylZBntECGbFRqhWsJurvaEgbWCqX0GtYWGsrBlKLSsgeVFnVdYQmrdOBT9a0Y832An3C3mihBTxdDV5gAikgL0AG2bQjfTFYVrrGRl0BTssRFwmmlZaZcTC0x7ujfWr9AIOKFW4EuCRsNGKXJWFUMjYjKGGsRviZezOdJK3JtVD49W9r4gU+gfDSKop/HsV0QxsKrUWgVoAgQ0giGCh+lFba00No3TDT24+oxXs31qkczntoZ0asIaXN6WWjqR1KhDDBCuSJSqiLeMj5PqYZIWATtMDdJaWPR8zzTHM+SFkJLPL+I47hofArFPCk3jW1LPN/DsgyXMPvYaBWAUNVCRsg/9Jh8o/zzyv0iN78Ow+5EzXM0FAOAdDrNpk2byGazAKigco+kNbh0z0ox4kl9s9KiPw6FhYYry5KMjIxg2zaum0IFxlsphcSyLIQAx3U4deoU+dE8XV3dpFJuaFEurUXGaxXxCV32PTCux0zpADflkMlkOHTo0DUt0F0OykV3gaJyva6cU2NHRRSDAOHYiLASUdQMz3EchJAUiwVzRttGhAao2OSlMcqJACktnLBSEULgpFNoS4IlEZZNoAOkY6Mij7qUqMSP0ZFJbdxnHq09IV8SYGmN1qLMu6a1QEyj4ioN5WBKIai9KFVOsMmer/b7fa8e4MCBA4jQmjKrv5+Vq1biOinyhSJPPPE4TZkmtm3bimU7FIsFDh48yIWLF7hu+QqsdJqSwDHeuMdafEl8P9akmT6T6dKRDBGp/HwsCKCeGG/zXINA8Pbbh3ju+WexbQfXTTNjxgyWDA6SbW3l9OkzvPjSS7gphzWr1tCabSMIfP75n/chhWDRgkU0NWUS7v0K71EivK08EDSijYnovpKeGgt4CdH9ThofIgWhcp9LPXcEBdhI4fLyr19g3779gEBKQX9fP8uWL8d1M+RGcjz+k8fo7u5h29btOHYGzx/hwIHXeOfYUW7ceaMJYSFSKsfiLbXGXKn0JukhovukEabBY8aC53mMjIwYK6u0jDcohqDc9ViuHERJorHXR0wU8lV+KoHg7Nmz/PznP2fGjBns2LGDIAjwAx+ttPEQAK2tWR577HGOHD7Cb3z4N+jr66uqZpQPQ0sc18GSFp7vlb7UJnl2LCg0SB2HpDQasFVDVL0zxsYy+qjyzoy9/lhSYkmLkZGLPP/8Xo4dP4bjODQ3tzA4uJhZM2dh2ZZZT7Q04dGhshc95xd+9StyuRwb1m8IvY+SlOvyi1/8Aolg85YtjI56CCE4f36Il19+hbVr1tDW3k6JZ4SvEyWthL9NidBMFYVHJjyn0w0N5WDKMRkhaDLQlKz1ZvJ+73/8DU/97OesXLkKr1jkyJGjfP5//Zfc+oFbOHfxNP/hwf9IS0s7v/8f/y82b9nGaG6Exx9/kjfffJN/+28Xkk43hda3aMGILHrE/5ptosogYwkmFZ835L0SYmZVChEque3L/TTxR8nX8I2otW8ZLECQz/s89tgTfPPPv832HdvwfZ+hs2f54Ad3s2fPHvbve43/+pU/RSvNF7/4BW7YcSPFUc3f/s3fY1kWn/mtT5POpACTeJp0+Zexz6S3o2rw9Sg/CkQQj7sRXgRlNILx/EV2rvLcoMkmBFcK1iXjRhAo/u4HP+TnP/8Fy5Yt49y585w7N8Rv/dZvcdMHPsBbbx3kP//Rl3HcFF/76v/L4sXL8T3JI488zt69z7Fz542UlJdqL2TJpjfWuJL7J30DyeTrKAStkcs0FizLRiBIpzN4YYw/JLxFZflnJsQHSh4k3/PjRnjSknHDqiAISKddpBTk80WEEKRS5T0uPM8nl8tx+PARCD0Rlm1hOzZCQOAHBEph2Tavv/Yar73+Ort3f5BMJm0qqhV9HMemUCzyox/9iKVLl7Ju/Vpjh9AJX6Qm5ke1ILUyce4Rv5yOkl4ZKueXjiNaRdncqlAOqo4v8fXKvZTSOFJw9vQZ/vwb32BkZITBwSUcPXqE/r4+PvGpT7JixQp83zxjyxJoBQXPQ6OxLJvHHv0xRw8fYdXyFaTSabRlwpUe+suH6Gxr58Yd2ynmDV29c/gI//2b32LOv5tFd1cXvudRetS1MyhrIfJnqtBdFkjjz49sG9NpFWooB1OBsrmSXMhroTZ51QrEKH2ePGckmEmOHD7O7Jlz+dCee3Ecm3//O/+e73zz/+OmnR+gMFrk/LkLDJ8v8M1v/ncWLVoBCE6dHOLYOyfxvMjdH1nhoqsl2WxJIq2Mfy/fIzpPLTHAMBktzEyd1h7dJFmErtMywVkkk0ErlTKR+KuWFTapyEUIGTyCIChy5tQ5Otp7+dj9n2RoaIhvffOb/PDvH2XHtp2MXMxz4VyOgwcP8eNHfsLiRdfR3tbBiWNDSCEIfExYWiygRqPWJt63bEjJMZQ8HEkRr3ZISTJspkRTpfNMX5hEXxUqY9G9sxIKQrX2OBZPKb0rI0ZAhPG5AUGgOHbsJH19s9iz+zfwPI8v/Zf/wg9/+GM2bNjC6VND5EeLHDx4lG996zv8zu88iFY2p0+d59DBY0jhAgqli/H4BVS55ccTPZJ7mf2SlaxKVYo0Dd4yFoJAmXAILCyp8QMfSIZHREankH8rHYfxnDx1kgsXLtDX10dTUxPHTxxj5OJF5sydQ1Mqw+kzpzl75gwLFi4ik0lxYP8B3j54EMe2Wbx4kBkz+ujq6mHDho20tmZBwNkzZ3nrrbfIj45iWRa27bB48WLSmQyZdIbDRw5z8tRJUqkUCxcsoqOzneeff56vfu2rbNu2DcuW9PfNpLO9K8yPqQ+WsLCEhQ6uTs+H9xTKGx0lvwiVgUjGiDx+lV7dinNh4vSTUErh+z7FYpGTJ05w486d3PPhD/Gzp/6Bv/3BD3j6H/+RlSuWowOfg4cP8c7RowghmDswQO+sWSg0Q0PnOH3yFFKb0qUCDVJy7OhRiiM5Mq7NsMYoqLlRDr/9NoV8Htuy8YrFhKmzDsS2LR3fBiU0gTArkpzIBncNoqEcvC9hJqtJ9upm6dLltGazzJo10zBhBLncKO3tHWzZsoVXX93Pw3/3A+764G4c2yWVSuPYDuUCRaUFsfp69Yyp+rPk1kA5IuEdagtrtSy7Y6HWPU4od1pjWzZdne0sXbKMM2fOMKOvH69YxLZdbCvFrFkz6e/vY9++13jhVy9y+213km1uI18YJSmoV+bNTO2z1RVbg24MSp6D2srXFF1Fh8KkkFiWTXdXDwsXLsK2bWbOnEVra1tYslTQ29vDzTfv4pFHfsRNu25j08Yt2HYKKS2U0igdIKd0VRUVf9fiLw16qYKI/qm32oy5h3v37uXpp5/m/vvvY9my5Tz8d3/Hc889x+/+7u+yaNFCHv67h9m//wC///u/z97n9/JnX/8G6VQa3/dpbW3lt3/7txECnnnmGfr7+1i4aAGPPvoozz7zLLZjc+TwEdrb2/kX//O/wHEc3nr7Lf72b3+AEILjx45zzz33cOddd/LMM8/w9ltvo5Siq6uL2267jc72rit2u6Y3IgWhlmIwibMkprzruswfGGD92tUMDZ3j73/4Q3IjF9Eq4IVf7eUnP/kpFy9eJJfLMWfuPO77+MeYOzCA61ikUyYROVmtSuj6pAoRGiSTO42pGIrIxBKaXsIS9FHn6PDoS7oX71c0/LHvawie/qd/4s//2zf4oz/6v/nV3l+xaeMmU/lBCC5evMhNN93EDTfs5C/+4q8YGRnBsiyKxeJlWdkay+9UQICWVFeAuDIwSWGSvXtf5qtf/Sp/9vWv8/xze1m8eJCOzm78wCR87dq1i5kz+3nqqac4duyd2C0bM8bpbnW76riy918IE5uO1gS+zzPPPMO3vv1t/uAP/5Bf7d3L4OAgqVQKKSUnT57kvo9+lGXLlvHlL38ZKSWObYclTE2C+yWNYbJ7V4U+NIwREaJ+BjoqDF8TouafqVSKF154gQMHDnDu3Dl++tOf8vDDD7N//37y+QI//vFjFAoFHMfij/7oS6TcFPfffx+33347L7/yMo899mPy+VGef/553nzzTY4cOcLPnvoZM2b0cvfde+ju6SZfyJPJpAl8n6GhIWbOnMmePbtpybbwV//jr8jlRli/bh3dPd1sWL+Bm266ie6u7ku4D4zZobeBSn9jpEhOzRwaHh7mR488ylf+n6/ylw89xJx5c9i5cwenT5/kx489SqEwyt277+LWmz/Aiy/+iqef/icCr4AQGtc1Fa0m9dyiKlaVDu3xD6Kct+oa30wv2mkoB+8y6rWl17O8KRXgh/V+W1pamD1nNo899hgjI7m4rnVrazt33XU3Z86e5sknnkxUDqiO66133MD4kVMN1IFSQJYYY92eSp+LUmF5QKERUtDe3kZPTze//vWveeON1wCFCgK6uru5+eZbeP3113niySdN0qAmTh7U8T+TQINOpgBjU0EVT7mMuRlVqdGUhCkpBF2dnXR1dfHLp58ml8uRzmTI5wu0tmb54he/yLPPPsdTP/sZzc3NSMsyMeqyojNqPYScSF2pj/YnCHtoIG6OCRhFKqrCkvjbtCsJhUJhck4GB5fQ09PDm2++zf59B/B9xYIFC9m37wCvHXidoaEhbr75Zs6eHeInP/0JftFj3759vPXmmwyfO8crL7+MkALHsnFsG9/3yY3m6O7uZnDxIC3NLXR1ddHe3o7v+8ybN49bb7mV22+/jV27dnH8+HHy+TyDg0toampiwcIFbN16PS3Zlqq+B0KLcIuiZkrvMUZgVENBqI34doShhfUH49R3eq0ZzY3yxptv8fLLLzNv7lxWrVrN4cNHeOlXezl1/AQHD5lwsuNHj3Jg/z5GR0ZMN2Sl0BpsK/RGKoXruqYng68peh5KKQKlkLYds4K4yV0FA5m4g3PlPgleVGe352sFjbCi9x2S4RaCdWvX8aEP3U1bezsbN67j4x//FAcOHGD27FmgYXQ0x8qVM7lp1w388IcP09bWSnNzcxivGYUpNMI3rnUoZYT/gflzeeD++5GWTX//TP7bN77OM798OmyAZiw0N9ywneeee44nnniC4fMXmDNnFlAjTWIyaJDYZeDdDM0r9RUQQnDddSvYvXsPPT29zBsY4Ev/+Y85ePAQra1ZmpoyjI6Osnr1Ru6++27+61e+wvIVK0i5Lr7vY9thCeN6hffLlkgaQl8lIiHa5HwkaEhH81lEb0MjhdlHKc2MGTNYsWIFb7zxBkIIBgYGWL16Na+99hpNmSZaWlrYuHEjx4+fwPN80qkUKPCKHrfecivr1q0DFXotgXQqhRSSp372M06ePMXFixfZvmM77W3tBIGitbWVbDaLlBbNzc2xEStKhAYTX65jw1YpZK28MIMo+45IKVA6TrhuoBZC2UKYHghiiph2JtPEpi2b2PPBO1HKZ9++/Rw6dJiLF0fIjRawHIeR0RwguGv3bpauXonluuQLBYrFAkppAqVwnDRCCqRlUSgUEBIcx8FxXLxiAXwP27JROizPHT/q+p65xlQnEuHfQpQnMl3jukAVGp6DdxmVEdXj7TfRGbTyaWpKk21tpqenk0xTmgsX8wSBF/Yz0ORGR2hudvno/fcRqICf/vTnWJbATbnxGUXV4l1rq0DDcz8lMPGNtZ93PXRSHwRSuviBaSbT0dFBT3cn3d0dFIr5MEmxdLXOrm7uuuuDnDlzmmeffQalNbZjm6SwS+GQDVp5d3FJ9ztBbQkZq6Wlhc6uLmb0zaKttQ3PK+C6buxdKBQKQMAXvvCveOfYMf7mb/42rGWeLGJQ2fulxjXRDTq5QpBh+dLyuVuLxyvjWQzN7em0zfr1azl+7Dg/+tGPWLJkkBtu2M6RI4f5wd99n/nz59Pd00E6k8J1HBYsXMiHP/IhPvGpj/G5z/1PbN26FTRhPwNJbnQUz/Po6Oigq6uLu+66i1tuvoXmlpaSZyOE7/lxF1zXdXFdl2KxiApqc0MdCrTGGaLL32N6dkzP4JDJorzJZuluTbQaVfgvpTG5a0BIQUs2y3WrVvGBm29haOgcT//jP9LV3kZXby/zFy7kzjvv5CP33ssnPv1ptu3YieWmQFqkMk04jkRIYfpjWJKZs2dz4MBrvPX2YVrbsgTK48WXX6Gtq5vOri6CiJYEaCnQQpZvsXekehvXEDNeo71rEA3PwZRirEl16Wcr2XUqXzXSEvz0yccpFEfRGl588SVuuWUbS5au5Pz54whputymUmmWLl3KrbfdwmOPPUE+P4rjyMQVai3atUZzqb9iolKo0xGl5mfjC03Jz2Bs6Wk8xq2RUiOQvPTSr/mdf//v0FrzxhtvsHjRIjZu3MCxd47Fx2vts3LlMtavX8MLL+zFssCyJEoHWEJOcK1a46pVt36846cXE64fUSxwVGGsJNRdOippTBi6FKZz95NPPkE+X0RaFr/au5ctWzbS3z+LgwffIAgCCoU8WvssWryA+++/l//z936fteuWYVkypO+J5n6N64+Jyt+Z7HfQ0CzGRw0eU2Fgr/TwFIsBCxYsQkjBgQMH6O/vY+nSpXh+kRdfeJF7PnIPKdelt3cGH/3oR3nooYcYvjBMd1cnp06eZtdNJn8JQFqmu3HRK3LgwAG01rz44ou8+dab3PPhe0phICH8wCgHAoHjOMyZM4eHHnqI5qZmdu3axYKBhRW/Zuw1rLHyVCMKZ638UIdfxJ6DiazvOmpIWKIdHV0g8V6jkbbNwkWLmDlzJs8++xzbbtjB+g0beeKJJyl4Pp0dnZw4fZrb7ryDtevXk8pkePnFl/j9P/hPnL14gY6ebv63f/2veeBjH+dnT/2M3/5XX2Dz5o0cP3aCV156iU/85m/S299vaumVGdwSY9Nj8xgj+4vwVYMWSCWmLWexHnzwwQev9iAmA6UUQ0NDk7ZgRu5V27Y5efIkp06dYsWKFVUWC6i0sNSG4zg0NTUZK5mM4mkVUAw3s2jpePGubZEX8dSptuJU7xslCRmyb25uoqOjHde16ehsZ+OmDXzmM59i1syZSFsgpWTr1uvp6enFdiz6+noYmDeLbdu2MrhkMGTIocXI/PKx71/FeMYed7lga6aWHW7yXY/TKxQK5HK5qhjVeqG15vz585w4cYLBwcGqRWwy6OzsNMcL0CJACA+ER7lQFL3WstgIxr7XlUwvWQ/edJpszmbo6uigrS1LR0c727Zt5UMf2sOiRYuxbEl7RzvLly+np7sLx3WYNzCHeQOz2bxlPQsWziWVCpNNdUJILYUuJ3Kr66Xx5D7ROR3QLkJEfQ6SFZ2uPIIgYHh4OG6YNBlE8bBHjx7FK3r09/fHVvTJQGuNbdu0tbWF9zv8QkQvJf5gisteytws0Uz18qcQQtHU3ERnVxfNzS10dXWybftW7rvvXmbPmYPjSLLZZm64YQfpjItAs3DRAHPm9LN16yaWL1+aGGf8yyq28s/qG7eiSiEQptdBreokVxJCiLjJmO/74+6XhA67xiqlSKVSHD9+nLNnz7J48eKq5MvK2OZatBR1nm1tba2i2SeffII1a9aQbW1BBQFBFE5aZm8K30TW9vA/S0paWpppbm5icHAxN+66kd7eXhzbYenSpdx5+x00Z5oQQrJyxQpSqRRDZ88yOppn9uzZrF61muamZlKuy4IFC8iNjPDqP7/KB+/6IPfeey+FQoHHH3+c9rZ2Fi9ezKKFixiYP0AqlQagq6uLVStX0dbaRv/Mfi5cuADA2nVraW42PXqisVbLriWa0WjctMOpM6e5cOEic+bMjjtGv9vwPI/h4WG01liWNen8ByEEx44do1gs0t/fTyqVqvvY0rUEtmXRnm01cfqh1TzQmpzv4wUqCrIvaRBlwffRexm/lrw2hIK56XIvLYvu7m6WLV9Ob18/bipFa3sbbZ2dDC5bzuCSpbRkWxkaOkcuX2T23LksW7Gc1tZW0imX7u4e2js6sFMuvTNmsHjxIpYvXsjc+QtQWjM0dJ72zi4+uGcPN99yK5bjhE88zKWpZAYmqSCxmd8QeQ2iTstCKyxlikVnM26i+quuON21qzY0PAdTDl3xOhFqWWJL78uJO6kgCK6/fgdr1qzH94tIaeGmTAfCQBVoaW7hNz/1SbLZVrT2CZRPf/8MHvjYfdi2k1hEjACmYyGhFi7HMnftTp7LR2W+h6z4LqkM1Hu+UkM7A3OsbUvWrF7J4kVLUcpDSkkqlSadTiGEZO7cOcyY0U0qlTb8EsG8efO47777ESIglXbCOM4K6UuXd0M2FqdaHZKTqEVL0WcysTVoJ4aOhOBoM5b9ksX0cu5V0oQcpqVKwZYtG1m9ejW+p5DSIpPJkEqlsG2L7u52PnzPHtrasxgvmKZ3Rhef/NRHwwUzTPwUtWg6/lEVY5/IA1JJR8mwpYrdGqQDRIqmhW1b5HK5RIfkSkVKV902P+xCfPPNH+Dmm2/CdV0Cpbj99tspFAu0NreYnAAhmT1rNh/72AOMjo6itSblpmhqbsaSkjvuvINCIc/3vvfXDJ09y8z+Pvr6+pCWDCvnCTZt2oSUEtu28YoeA/MG6O/rj8OJVq9azcC8AQBa21qrhOraobElqLABr/FgNIgjFnZ1aNjR5VKHQRSeI0s7VhmxakNjGok1tbTwgVtvwbZtcvk80rLYsHkLxaJHOu3S3tnBng/9RkibgnSmCduW2JbFxo2bWLt6LYVCnlTKwdfQ3NJMPlBcv307q9eupVgs4jgOHR1tCGxyoyNxA79J3I2yXy4AaVgalgpXolr2t2scDeVgiqHjrp3jU1FJgArjQSssbBGrrm5JZoQmrRW2I2hLZZHCIoqrVEGAZbloAlqzbSarP/CxLRspJG2tHZfwq6oFtfrtHeUW7AZKMPwm2dU2KdBbFWy4XiUh2rs8nENpjeNIWrI2tt2EViYOWAhpaMl2cBwnrOZhrJpB4NHUlMZYks25K5tY1VZqK/1QJaFz/HFLBFa4GDXopRyRWU6G98eidF9re1bqv4ORUpb0+GlSqRSu60LYXdZULjLeUcsWdHV1kXz+Qgja2tpAC5RWCUEUIpou1gYJBwAAIABJREFUR7kXof4+pskx1+AtDdKJYVlWHLefzbbgeeXlZcstnwKZeB91RoaoFLJFkM/T3d1pui3rhFdDa7LZLM3NLVhWia+gIZVOk81mueGGnRw4cIBvfOO/8dBf/RVe4LNn9x527dpFa2srnufh+z6WbZFKpbAsC9d1jVECHdIbxlMPdVvdtVYIqSkU8nheoWa0wLRF9PgIrf0oJAqNJK5ZpBM7ln2WPE/5PbWEAK2QEjJpNy6hjmWbQgVaY0sLNKRdl5TroAJTmcixbfxCHoFZs6RlEpFTlg2BpugXEVqTSZvjAAJfIYWHYyebutb549FEPQ2s0NglI+Wpli1jmqChHEwpBGYBtJmYkpI+OqjtPYCxVjohLCwrhVY+Rd/Htiw8X4VhDK2MjBzDdVxcJwNYCBFVJ5pszHjleCZzSOh2rENZmp6IBBwY/5nU40EYT2g3+WFKe6F3WCKkg1Yaz/PD6g4lwUATGFFO2onwnvGGNxYznqzno0EnEyOaT0kP5VQp3+XnkEKDsNAEBIEX7mIDikKhgCUtnHBxLp3BRuEjcNA6qFAQKnEpfCh5LFSFnInkdw1aGh0dZf/+/Rw+fDgU2Mu/LwtZoro8o5Aivp1Kg+/7uI4bVv9RicpBmny+QEtLC47j4HsegQpiBcM011Pcf/8DXLhwAaUV6aaM6bx8/DinTp9Ca43neSbkRloEKkAIgSWrw/ukVX+oYRCYyllHjhymUGgoB0DJ1hC9jZuAJdJz4x1UwkM8hpevjK7Kv9PaNETMuCkCpfA8I9z7no6rSLmuS8p1CQIfv1hgePg8mUwTqVQKocGxHbQQqMBH+wFagyUtLEuYhHsVgBBYIvRu16U4RvxHEkUMKVTJ964VQpvuz0Y/qvR8XttoKAeXjcoFzgLc0mch1dWOTatHORhr//CddHCkgwBcJxUy4jx/+d2/5vbbb2PWrDnhni7gM+bkjs841rVqhYaMhyj4MLQIx/GLUynMvF8R3XsbdEBlZlipmNpkBKfy5ykqn68AS0RdsSVamVfblhw9+g779+9jYP5c5s9fAIAlk4uBSWwfEzpZDeVyBD4TOz69aaMGkgKvDpUDAZR5nS77AmO+F1jYlqluppRi+PwFnnzyKdatW8us2bNrWJ/NMxzLozH2dSeDiL7DMKtEeEzpuwYtrVu3jrfeeouRkZHwOZWeSZUiMEb8dNJCrwJjgNJodGCUg1gVE4ZvSGmFspkR/nzf54033iCbbWHWrNkobYQsjY4fT1xSNdGHQAhDS1E+R5SvpQLzfEWd4UFReHmxWGTZsmVXLd/gvQSFQCUUd4XxMrVkMkgh8H2VyK8TFdvEZ48gEIT/I4TpeZG2IyNQ0gNkehPbliR3YYSnf/ELtm7dSltzE8oyni8ApSSkIBnOGtNa+KbstR7UaEQqNFhakXaj3gnGlRB50KcDX2koB1OOCutnIgmoNsbIOagK30juX3LlJs8soiL0OiA/6qMCCdqmVKDXTuw9kXIQvS+/Vvk4JkA0ga/9eXSJCC1iNfWuyQp941nDKq08oRCujQVaa/CKAYEnEDG9JDwaWiGQdbjxxThehDqgRYJWG6hG8rlEihhcXrWi6FzJv5P8q/x7gUarPMUCaOUgcIlDH2ta1sahmcvpDh5WUyrPUYkwvSx84+Gee+4JG0lphJBVpUCrFQTzmpzqyV4JSilsxxQl0EFUIjQ61hiBROjYCnUALo5cYN8/76OtrZ3Fg4tjhcLkJ5UaT0XXja4X5YtGoVCRByEIO2/Lcb1SyR+l44Z8UsrLKipxrSCpQie5R8pykCkBrsaxnRpH1jOvdNW7MglHV9NX8oiC4+IKaHYdmlPGS+U6DgiB0hpdg90ZmV0kZKE6hjkOTM8PjfKDcN2rLKxw7fOXhnJw2aiw/mtCykxa+qCKmCKrRyxAlxNffVbjWlJldG0LrSRah3kLVd2r6rE6Vno2oj/rZa7J/a79yTQpRPewys8f75CIjqjn3lUw8okEeZ2ofBUqCxoJwk5YR8JxTGYYMf3XiwSNxddNzoXGQh5KUgmDQaVBoTLs4lKVhUoeEfGo5FgESlmmwy4WCCcxrhrPfUw6rKEYTEpZkKGCkNw/WsSnx+JdD4IgiPtSKKWgIhynwulTrhzo0t9CmFelFJYddtH2y70KQgiTDhOSp/IV0pGInGBkZIRMJhM2xiNubgYiLnoTXUsrYsUAQAojpkSJxErZ8fXqgtAoFYR5E9d+Z9uJEE8zUT61o7vihgm9YxcomQgTHFdxXV3RP8CxLBxL4kiBa1koHWBH9CFEFbur5D5jSFyTG3m0Frn2+F7zaxgN5WBKkZxxE5BqZUONiqovY3sOyg6qmN3R9XV4PlkSApMKS/L4cXGZnoMG6kDFfUzSzqQF7eR5JnpeJZYqRJTkXutEobW6bkeGvPQxN1AHIoUuqVRV3u+pnJuVluVQatNRUnTyetFrpZWt4nxjNhOahHKgoZQx2KC3sRA3pNOaYrFIOp2u67ikLSm5ggkpY3ITNom4dKofQ7hjoALy+bxJSA33k1IgrernJgTG85CAZZfvZ0262pAwydRBmMMwyRLF0wmlZy0os+dPtgHYBPJLkm5E+RdYwqRDmw1MoYqJVZWI60TrmKp7zSpBlslTqkYBjqoRX7NoKAeXCZPhnyD0ClenDqmtZASuVAqiL5If1rngjbWbtEBaKExHwKjayORDVRInb+gCUwgZWuL0+HL05ZTcm+h5lfF9gSKs9SxqCPcN+evqQkD0wISo9TCu4MOpuJwpT6pNPXARWf2S/K8G7VR+MCXKownfNAKBDIcZKrLxoJMDrx7GdEAUQiOEqFsxGA9Vj24cPS8S/gUC23Fw0o6xM2hdV0JxVbnSRF5C8n194xaXUOLy2kSc+kds+ikVK0/E/iQrV01+vkzsPRjzC6XRQRAmvCtsy6rr8jFFXY7roOqMtRovTg80ZksDY2CarJ4NAKWFdrq73BsYHxM15DIYq5zg1GqZquZC3dBkG2igLiR0r3LF4N0cQK2LvhsDia7d4BdjoaEcXMOIyoSZSI/GJGigNiotcg00MB6SFWXGxvSxsDXQwPsNkccg+vtdkcffk6hUUCr51vTlYw3l4BpFVMu5kYDVwHiIhLz6BL4Gpitq0UYlX4mqzDTQQCUavKWBiRCVNC393fBkX000lIMrjAmJewppPzmhCoUCjuNMqllMA+8urjbji0oTRq8NvHdxNWlFa00QBHFCp23bhrck4tnBNMhqlIm8hlCvPD9efjmgtEIRhB9NLk8AxlBMJ6oQ3sD7AKVoBqUUQRD1VhAEQVi+Nkwen3ploRFJMREaysEVwdWxkhQKBc6ePUu2NYvrOhSKBU6fPoXjOLS2tlY1K2rgauPqWdOEEBSLRS5evMjo6GhczeTs2bOk02mamjKXeuYpHWcDVx9KmUXb8zxyuVy8cPu+z8kTJ2luaSabzeI4teqiv0dwKfUYGrgsFAoFzp07h+d5ZDIZlFKcO3cOaUmam5sbCcINAKCVjg2ao6OjeJ6HbdsUCgVOnjxJNpslnU7HfOhqG9WmCxqzc8phYtgu1+hyKfD8Ag899F1c1+X111/j4Yd/gOd57Nixgw3rN1SUcJtsLfDGhJx61C+t1LPnZJ/Q8ePHeezxRzlz5iwjFy/y639+mdbWVrZv387KlasmebZoDJrpHKd5RXAVK+0krbYnT57kkUceIZ/P884773D06FFyuRx79uxh2bJlaK3f22UiGyzsXYPWmjNnzvDXf/3XFAoFRkZGsG2b3t5e1qxZw9q1a6/2EBt4ryCcl0eOHOHxxx/H8zyOHz/OiRMnKBQK3HvvvQwMDGBZViM87V1EQzmYQuiK13qPmao1K9vSyrHjx/jyl/8YwvNu3LSR3Xv2oLRGaB329oiumKh1X9dIL22PS2+mMr0w3h2+XJZY+cQB3JTLa6+/zp985SsUCgWEFOzevZttO3Zc1vVEZf+N8QZU/xfTD2MV85jomCRE9ceTMgmENfKFEGRbW/n1r3/Nd77zHQqFAoVCgTvvuINPf/rTBIHpJBp1sa11/Ut9suO1UYu+v2Rym5aok6gm7W0pr2SVSqU4ceIEX/rSl0KhTnPHnXeybdvWMNz1Uqly8rs3MAlchR6CSik6Ojp4+eWX+Yu/+AtyuRz/P3tvHidXed75ft/3PedUVXerW1K3dqm1I7QgsRgtCASYRYIYjB3Axjbek8zYWWZykztZ5saZm5nr5H5u7r2JnVmSO/aMM87g2GA72LHBIBaDQWAwoAWQQBJC+9Z7V9dZ3vf+8Z5z6lR1VS+ohW11/fR5VV2nzvKe9zzneZ/tfR6A2267jU984hNxEb+xEePYFYjR95vMazYbJr4Jgqlo4h03xtFqHfvJT32KuXPnE0Ua18tx94fvYfGSJQRRmNYPTVq5rxPjcTd1W0Pbr42Rn+f5oiMDGKOZPXs2W2+5lYsvXgkGZsyYyfXXv5flyy86t2s3HvfEo8aY6uzm+i9fxc81zztii70BQjB12lQ+8IEPMG/ePIIgoHVKK5/59GeYPXs2jlS4UtkKRNk28i3U78sYulkdNTzarTQA5dEYPhPUbGIMreYIG6a0TmHr1q0sX76cMAqZM3cO27bdzEUXLQczynWzs6kwFcWoRM1rN578uSJJSmEwaaXq6td54ptd76a1ZsaMGWzbto2FCxeitWbq1Kncc889tLZORWtbVVtrm4GxspE2HZl0v5GbHlMz2kzaZB0N5WACkRTiEWMU7gUirf03Ef8ALl6+invv/Tium+OSS9bx/tvvQAkHR3lgbGVTYYStUGjK/RizUmJqt9EVmwaqMRaBfizPZlQ6yjwnYQQSiRS2iNTKi1eybest5L0CG6/cxHuvv5F8rjDqNev1I+1vHTpJK/vW295AfWTmp0S00mRk8BHmr5pv4nB5rkYTVg7DymIbNmzgxhtuJJ/Lc/1117Pl2i0IBGEQIpJK2qlMVlYUR326tfpS1fdah2SVhNGuMbnExfEIy+N/12uPeFbpMDhKsmrVSu644w4cpbj00nXceMONVaFnY3nvq/cZL69oKAujISsAJ9byVEE4b81eU0qZrj+55ppr2LhxI83NzWzbto3NmzfTVCigpEybkKKqkTapRMW+dZuSKKVGbenY6MmnIDTCiiYIgkq2MxbWNWwfU57sRkN6rczO2oA2hg9/6B6+973v86G772HO7LkYI3CUY401VR0V8X+jXbPW9Wr+PsJvDdGvjPFOU+Mau2o6qiLM1KgrYEb7DLZsuZYXXnyJLddex/KlS8/5OSVyYV2I4d3KHtKgkxoQACaxpVbQjxGxETUzcBVjG/9mav6YuUQVbzDpcyqfuNDUxG2338ELL77EnXd/iNa2NrSG6srapt5DHA/RZxjHSO9LLdGxev96IvGFi2qNcYTROyehJ2vBF2SL3wkJbW3N3Hjjtex4/mm2bLmGhQsXEgSlWPCq9dRqXyLdBcr9rRnuMRbOKmjYRSuRKARBEBAEQRzC8268Iboi21khX+DGG29k9+7d3HrrrTQ1NTFYHKgg0crHXtlHu987pefhx3meh5QyzcI2mVKsNpSDc0WGLxqg6PsEaVrIsRHQMJtIygytHTbJDpLuIwTIJDzEpDRtACkVM+fP53O/86/YsGED/aUSfhDiOAohJMZohAClnHIthPhoGcf1GQxKVk32sauxVp9rDonW8XkUTbkcjrzwX6axImvxLfk+YRTZZ1Nr5zqCdDW01ghs6rcwDJFCIozBdV2Ghkq4rpOeL7U2x+dedNFF/MZv/hYLF3ZSMjBUHKrsgpSEYQiAlBKDIQojPM+zsaDV9DnGMai1xZWKguciJwHzHReEVf79ICCIIiJMRmYSw0SdrEAfOwDKVvasAhBbDJWyIUEm0unCv1BHsdBfFvZdqVi2ZjWf+fznuXT9lfT7ARBh0CgdYjQ4jhOHMRq00UipQFohVAlJEIaAsdvLt1furKikD5P5P7u/BBwpyXs5ZGLgiAlbYNnXSArFhYXagrLBjnWlrym7S30r/PCttaxIyflMvDbFXiUIfRzHQSmHNWuX80d/9LvMmDETTZHIhDgihyHKnLlGHzIuMftUY0suUbx3LQG/WjlIzispU81Y/EyTD729vezcuZPjx4/jeTmEkCNPPOc8fPZZOY6L1pogCMjn80RRxBVXXEEQBOzYsYMgiCqs9lpbmcf1XHSkhxlCRGaLqaIHM2KnLe/TWuO5Ht093cydO4eNGzdWeBGSdVhwYSsJDeXgnFFJHAOBTzEIMdmKxKkZzVTsXl2uXJiqs8Vyv81Fr9E6Dj6RAiHlMKOPEOA4LlEUcfWNN9Dc3Ez3UAnf91PXndZWU5cyqHjhjNaQWXyoVKVygDGYjDlwGFvOauzGEEYRxkR4rovn5RqElkEy6toYBksBQ76PlKo8bVdZgLNW2HoW2aDkW4VACKIoxFUuOorwch7FwSL5fD49t2WXZbaZa5vKug3rkVJyesAuBJNSpt3QcZ57IGWeQgg8BGEQDGeQxk72IxuPTeZebE+kgSblknccUBcu0x0zquQXYwyl0GdgaIiIWNyL+YyoIgyDTI/VgJGmmv0gjOUtOopQjmN/0yZNFxhEIdqYsrAuBI5SiLzHphuuw1WKM8WiNSoYY3mCAdd1ibQm1BFaa5TrlHlLzBuACgWwTAoi+xHfCxnrtIUEPAE55eJ6XuVQZRTfSUNFNRiDIcIQYgioXGNQxmjJIkT1txrCohFxnDoaiSDS2l7buES6REury6bNl9tQRlNCKYEUAVGssCR9KIdQVvjF4v9NlXJg960tu2bVZmHfBWR8fNIaqEZ3dzevv/46Sik6O9utbFFXedQT9nI5Me8JQ7suct68+dxxxx14nofv+3hurkIW8f0QgaBQyBEEYaZ/JnVkpbKNIF6vkphAqeNxsr8qpQjCgKZCgTNnzvL888+zadOmisQMkwUNme2cUUV4JmZGJis+xxq40MOZ6wjfdUzgrpvDUQIprEAXRoYw1GhTyeiNAT+wFt5croCUDp7nIKUi0hHKcXEQlpFrg0mON1boE7FVuFZ/rH5evqdhJbMEiIwVyc4jAqTCCJGdryc9stOfQWKQ6Ky6Zarm+kTnGsHzbp+NwnEccrk8QoPI2fO3NDuEYZRe2BhjQ9DiKV1IgeN65b4ZS3sieW4CXOWQxK8IYWLLEkRBhqYzVl+DrPu8DQZTrRlj6k71DSQ2X2OfWexFMELEyoEcbhEzZU+U9Rro1JiQPGMhQCoHx/VwlMRRVikIgwg/DFGOC0bHwh4xPQgQEjeXs0/YxEWuwgghhVUspEJKidKiHCySKioC6cTF0zLdTUUQk9xT5rek/xX7aoyOYjpKuEvmxTGZnScDhr1PYLl0CFjvTnmcRrBQZTHq62hpIfEYIGTMNySuo+LQFPvcpJQoJEZApEO0iVJjRqWPK1EEqjwAIv0vM4+O9nCzykZ2+X4jpKgaxhiCIKClpYUVK1awYsXFds6opxyIiSuaaUOaiNc4GLSJLG+KPdZKuhVCuevmOHXqFH19Pcyf34lSMuVnxlSRtNEVGwzD+UslNGEQUmjK09Exgwe/990Ju89fNjSUg3NFNa9FII2MrRUxUkmvMn2bYGTerKRkoL+fXbt2c+zoEaQ0TJ06jSVLl9PZuQBtBFFUfkmNMYRhgHIUhUKBgwcOcvCtt9iwYT2e69n3RETs3vUaArj44ovTY08cO8GxY8dZuGghs2fPJozCNOyo7BSoZuO1BiNWCkQyUdcXEicrKkmm7OpOY8dr7A/xkNY5nysdK7xFhmee+QknT5zEGM2UKW2sXrWS2bNmIxBxSltrc5PxI7I2NcH+Awfo7+tj8eIlNBWaYqZr2LlzJ1JKLrlkFZGGnJfn5MkTvPrqa1y67lIKBeuVMBmFopZVr6zw1NZyTCq8NJCFqWraauKxBUxYQ8Qwy3GGwgx2H2HKv8R00D/Qx55dezh27CiOo5jaNpU1q9cwY+ZMtLGZQJI+gMBVLn6pRKFQ4KWXX0ZHEZesXgNIVByG8Morr1AslVh/5ZWUwgCE4PSp0xw6dIhFCxcyc+YswjBMJ/Pk/AJR1zU2PHAKjNCpOFnhKpiUOmatm06E4kRJAGs1Tyz153pJEXuEQAjFnt17eOXlV5COgxCwdOlS1lxyCY7j0NPVzc6dO8nlcqy5ZDX5fJ4wjNi3bx8Ay5YsLXs3J/wBJovtBDXMWg1AHE1Qjq2PwoggCKDeO1nlyTsXRFGE0SZNffvo9kdYtWolK1euxPM8BosDFWlMZ3QUeOaZZ3j22Wf57d/+bVpaWsrdojyHlnlDRkYiSf5RG45jw3KjSBOEwYTc3y8rGsrBRCJ2w4mstp2mXKtzSLX7vHwkjlIcO3aMf/yHv+fMmbPMnb+Qk6dOMn/+fD7z2U+zaPFitDYoZVfwSyGJBn1cxyGXc3n+p8/x7Qce4NJL19pwozAkCIo8+siPCMOQJUusEAiw97XX+eFDD3Hnnb/K7Fmz4lg+k9xS3M+MYlPHvZwZiHinBjOui5SJ2bGq9rDUXdRZ6zzGriPp6enm//rz/5P2GTOYMXMmp06epK2tjc//y3/J8uXL6R/sp9BUwPFcgjCy4R9hgI4Mz/74Sfbte4NPf/bXaF3QgjAwODjID773fZqbW7h4+WKQLm6hiVd37+Gvv/Ql/vIv/5JpUxczVCql1uXYHz2sm7VfA1HjrwYsho9jmtUqDb+JY6hFWXhOxllkwgZFVmqOFQOlJCeOHuX/+9u/pa+vjyWLl9Dd1c2SJYv52MfupXNhZ7xIMIfruoRhaEPgjCHnOPzgwQfp7u5m9f/+ZzQVCgyVSmiteWz7Yxw+coSrNm4i8AOcnMuBN9/ku9/9Jz5wx/uZO3sWfhSlgkjFvdVaHJtuqvQ1aKlAJKEmJvVyUWv3CwRjz5iSGGYM1msgMtvHphyMFkFhjLZKm9EIHO6775t8//sPcf0N1zHQ38+3v/0gH/7wPdx+22289dYRvvSl/4Ln5vid3/lNux5usId//v5DhGHIpz75CebMacqcvNLLnnqtiBVFkfydFfzK/ydbEqW2TP8TJ9ReWBBpLQGtE9pRyU8197ew4xmGIYVCwVY29kvoyFYztmvehnBdN13bFAQBYRhaL3c+h9Ya3/dxXRff99m37w1mz55tZSkkuVwex3Ey66MEb711kKeeepLf/M3Pk895aXikMYbBwUFeePEFpkyZwnuueA9RGFkZxuiy53TYfWS/i6r6Blm6STyT4oLkL1k0lIMJRO0YvbExomTBYOr4NTYtV6lUpKurh8svu4z3f/ADPP7Ek3zrW/ez7tJ1LF7UST6fo7unm717X0cAS5ctZdq0NqIo4OzZM7y5/03AYEyENpogCDl16iRDQyW7cFVJhIGB/n6Ovn2Y4sAAaG3XIMjEE8AYLQWZl0hoMPGCxoZFeBhE2myIjY3bFRUZY7IjPtLoCWxohxCCMAx5dfdu/uyLX+TSy9bxxr43+cIXvsBFy5axevVKnMBhcHCQg6/tJwgjFi1ZRGvLFHRk6Oru5sSJ4xgdIWN3f+D7nDh2nLa2NqIwtLHpwtATx6cGQYDrupR8PxYWqKSVMbv/aczZNZGlgHjiShdVYj0C2e81jy0jq68rIfGHhujv7efqzVdxx/tv46kfP83933qAZYsWs2Du3TTnC3R1neXAwf0AdC5cREtLC66S9Pf28taBg2Bs3LAuFtPKuIfffhslJVIIHCnp7+3jyKG3Gejrj9cmmOGLzjPSfa27EZlQzWSthU7vPSMINlgNwxWAsody+F7vFOUwIBC8fegIHdNn8PF7P0l3Vzd/+3d/xz/8wze49Zb3MTAwxInjpzh58hQPPfQIixYuobk5z9kz3fh+yYawpGJbLWu1rPN39l4Mw8JiSRTjpL8V1UEagHQ4rGIAGDGOBFZ2x3whz8mTJ/F9n/aOdnJejuJQkRMnT9A+vR2pJN3d3fT29tI+vR0v53HmzBmOHT1GU3MT8+fPJ5/L09HRwU033cTixYvJ5fMYbdi7dy9DpSFaW1sJgoA1a1bjeS4ICKOAN9/Yh+/7rFixAuU47Nz1Jvfddx8LFsyno72daVOnM6W1lVAbq8iKjFwDVL8FiW2rUhGvUg4mARrKwc8dVfaOJG5OgDYRYRji5nIsXrKYyy9fy9muLr75zW9y6tRJ/CBg36uvcd999zEw0E9fXy+z58zid3/3XzNvzpy0eIxtlnkK6wmOIxKGBywk28QwNjtWbmFVcxv1INLIhwYqIQBpiKtWm1QBS579MK1g1OHPPD9hWLt2DZddtpbZs2Zj0Jw5cxqI2Pv6Xu5/4FscP3kMz3OZOWc2d991N8uXLkMqgXCsQIeJQMoy3QwLFqpBO6n7vsLk15iLJxRZV2Oc3HscL1j6dEw5x/jUtjYuWr6cyy67jJ7uXr7zwHc423UWqQQ7X3mZ+x+4n66uswSBz/zOTu655yNMn9pKLEmQPv/YMpdeK+M8nQgaqDS5iDhBQtIaRDYctYTo88CMYwOAUor58+ex7pJL6erqYc7sObz62qs2PM3A3HlzmTd/Hm+88SbPPPsMW2++GaUUUsg4c1X8HOt4Hhv4xUU+n2f3nt18/etf54/+8I9YsnQxD/3wIR559BF+//d+nwWd83nsscd4/bXX+cQnP8GBVw7wne98h+JgkTAMWXPJGu68806iMOKxxx7D8zzap7dz/wP38/TTT9PS0sLu3bvp6Ojgi1/8Ivl8nrfeOsR//Jv/iD80xPHjx7n11lvZtm0bTz/1FE899RTt7e3kcnlu2XoLq1evRkoBqDRceiwwMe0mn5PJ8NBQDiYY42dpNY5IPaACpRyKA/388Ac/4NiJE+zcvZvOhZ1s3LSRUBu++c1vEumQez9+L6D5N//r7/Pdf1rEv/iNf2njCIVIhXQh4xwPqVc2y4QfS2S8AAAgAElEQVRNxoCbscC8U+Fe1LD+TC7Fe1QkngNRPd7vaF5Mnp99pl/96ld54skn2LNnD4sXLeR9v3IrgwN9fO/7D3L48CF+7dc/S19vD9/89gM88fhjLFywgMgvEZWGiOI0lDJ99jUm68x2TVIgpjGhv3uobQkeK5JcVVJKzp49y7e//V0OHz7Cvn37WLR4MVdddRX9fX18+9sPIKXg3ns/ysBAP//pv/wt8+fPZ/mSRYRRwDAe8i6+4Il9I83ylrpF3vm4NDB+JLzLGHh0+9P86b/7Uw4fOcIrr+zmM5/+BK5js0nlczk2X301e/fu47Htj7Fxw0Y8L08YBuU88pxvKkremwYmEgLBrFmz2L59O7fddhtz583l8ccf58knn2Tbtm1MndbGjh076OnpoVgs8ugjj+K6Lnd94i5ef+11tj+2naVLl7Jw4UJe+OkLbNy4kSNHjnDffffxwQ9+kFUrV3Fg/wEOHjxIR3sHURTR19eLlIJbb72VH/zgh3zjG//Ipk1XsXr1GpYuXcqihZ3ccN31zJ0zFwy2UGNs8Ep6XTusiKrtpupzcqDxlkwgJr6CnrX0R2FIf98Ar+zcxUsvvcSll17KmlUrOPz2IZ556secOH6cPXt2c/DgAU6cOMGPHv4RjpT4vp/G9rmug9FRmiEyikKiKLKLgdAImaRMtew5LaUeVwds4Hzh/DCekydPsm/vPn74ne+wefNmLr/8cg4fOcEzz/yEo0ePsv/AAXa/+ioH3tjHyy/8lDNnz2CkRLmuzT6jNa6jyHluWofBEQKtI1TMNQpNTRSLxTTNaXUMeQPnExMkPglBFEV0dXXxwgsvsuPZHaxatZq1a9dy4sQJdu/exckTJ9i3bx+HDr3Nwf0HeP755ymVSkRhiO/76UJ0z8sBdp0KGJQknoxtGkCtNdJxkI6bxiBPFGqORrVzK9saOC9wlCZfyDN37hwcR/L88z+lt7cXpXIEQcCMjhlc+Z4rOXToEE88/jhB4CMQ6RwjjPWoVkNUtXqo3q+hIp4rhPVQVrcq9Pf3c/HFF7N48WJefPFFjNEcP36cefPm8dJLL9HT3cOpk6dYsWIFZ86c4bnnn+PokaO8se8Njhw9wuuvv8auXTttdiKlCIOQru4uenp6uGrTVVx9zWYWLuykUCgwbXob/f39dC7o5M677mLLddeyZcsWent7GOjvZ8G8eSyYN4+lS5dy5cb1TJs6lcD3EXEoo12zIhE1GiiEsF6s8roDkfl98qDhOZhITPACXCEEQRji5HJcf9213HzLNv76r7/ESy+/zPGTJymVSgz2diNYQF9fH11dXXzowx9m0aJFCESa/aFQKAC2NoLGxhMGQUQhn8dzFTqK7IsjJXlX2XpFcR+SwIGxM9nKjEwVRzY49ZiQhOmPdUGyrhG5c/sdt7N502aUEDzxxJN89jOfRbkepVKJKVOmMDAwyFCpxDXXXs+qlSvJ55I6CFaYswvAIIwiIh3hh7YuhlSKggATRRitaWpuJgyCiuIw9dLhjnrfiQs3/jtbbCbBZMozDfVkWpE4FifkAtOmTWPz5s3ceNON/N3f/h179uzh+PHjDAwM0N/Tx5xZszl75ixhFHHrr/wKl6xdi5fLgVBIpVBKWgFQuriuYwvlGUOkwcQ1MZSUaaG+ZPHgpPLRTwIEgc+qVSv51Kc+hTGGjRs38id/8if86Ec/Yu7cuQwMDhKGmiuv3MiOHT/hoYd/iNaaRQs701C3c6vW3MCEY4yPY7A4SHt7O9ddex0vvPgCP/7xjxFScNv7buOpp57i2Wd3UCqVuOaaa+jv66evr4+2tjZOnzmNUoqtW7exYcNGXMcljD3XM2fOJAh8/uIv/pz29g5efPFFPvShDyOlJIoiCoUCHR0d5HI5mlua4wXVlt8Evm8XIocG3/cRUuIohY7XNVU66LMrc6xnyRaAs1ngEgVhsqGhHEwwjAAtauVxr4cqbTRzmJLSVhYWCi/fxNJly3jvje/l//2rv2bXq6+x9pK1NE1r54orN/CRj3wIN5fHlQKhpC19E2qEctAmLgPuh7h5w/T2DvbseY2Db73F+isvp7+/yP6Db6Mcj7ZpMzAohIioTPlVLfCNpEVn4kZNw8U/Gmqrk5XaQT1qKntIk1z3lqlNnTqNufPn8eGPfZRP3PtxvvPgd/mVW7bS3jGDNatX89lPfBw/DPGNxlFOvMhV2hAAoZDKBaVontLKrDmz2bt3L8XBAeYtmkkgFa/s3kNzcwvTprfjhxEGiZSJBbAxwZ8PJM83eS8TBWHMrKYGgiDAD0Lapk5nzerVvPe6a/m7//rfeHnnTlauXEnTlClcceV6fvVX78DLedh1owLHy+O6LjkvT0tLKzlH0DdQIogi5s6dxwvPPs+hQ4fpXNBJd08Pb76xH2EEM2fNJgwiwlDjui7nlVYmPdt552M7liONtFmAEoU9ny/Q2iaYOWMmkY6YN28evu/T29PDgvnzcR0XrSMWds7nhhtu4D/9zd+wc9duPvzhu9MKtGPtz2iPto55qoHzBJtGPeSWW2/hBz/8AV/5r19lzZo1XH3N1Tz00EN897vfZf78+ay8eCW7du9kRscMNm++ik9/+tOAwfcDmpub09S2TYUmDh44SGtrG+suXUdraxu3/sqtXHXVVSP2Q0hQnoNyXVASJ+fihnEaXynjAmkwOoXHC/onsTe8oRxMMARxEOwE5IHwtaHoh5R8n4FikTCKuGTtOqZPn85j2x/jissvZ+1ll/GNf/xHWttamTFjJrt2v8L69evZsmULvu9z9u3D/NVffTktTX7zzTdz7bXXsn37dv7kC/+ObVu3cerkSR5/7DFuvPEm5nV2UgpCdHX/jUSM2SuSLF5oKAb1oIFIQjRR0SHpCgZAxEXrlGT5iou44sr38L0HH+RjH7qTdesu5Z+//32mtLUye84surq7uWj5RbznivcgkLz0s5f5yle+SktLC9Pb27nj/e/npptu5ic/eYbf/+M/YfM113D48BG+cd83+I3Pf44ZMzoYGChaK7+OL/6OJdYaeesnPSqtVkm112F7jU2ai5eMJysO7Bsd6ohSaYhSGLJq7Vrap7by9JNPsHLVKpYsW84/3n8/gQ5pb+9g7969XH31FjZv3kQUGV548Wf82Z/9Ga1TWhkcHOQTn/o0N9xwI/d/635+7/d+n5tuupm33jrIY489xk1bt7J82XLCUCOVQsQFtMYKLbIhJxqRcqlGuuTayI5tdowmUuAph0VGUcQLP/0pX/ryl/BLPk//5GkWzF/AzVu3cvjwUaIoJIxCpBJs2rSRnz7/HM/u+CmO4+K5DpaBnItxoZ6Ft3pbw3gx0SjkCwR+wLp1Vj557vln+cAHP0DnggXMnDWTp59+ig0bN9Da2sqC+QtYvHgxj/zoUaZMaSWXs0XNNm/ejNGGYrGIH/h0dHTQ29vLIz96lI6ODp5++mn2v7mff/Wvf3uEnggKhQLSUTzy6CMsXbyEy9ZdTueihYRxPYU0Y0pdlCNAJpunOgv1p3/6p3/68+7EeKC1pqura9wPLQlTcByHkydPcurUKVavXl1z5fpYzu26Lk1NTThOXL1P2KqyQ0FImC7OHIOQkwrQcWwbIhX0MIYg8NFGs+Lii5k3fz5Tp00FbKnxdevWcdVVV9Hd3c327dt59dVXGRwo8p4rrmTe3PkgJMdPd3H8+AlOnDjF0NAQa9Zcwrp1l7Jw4WIOHDjACy++QG9fH7fceit33n0X06e3M1Qq2XGQCoGtn2DrPovqHtZtxtiqhY5SNOVdnNHex/OEUqnE4ODgOy59boyhp6eHEydOcNFFF51TXP306dPT4zW2bmkxCgiiOL2aELESVm+hVCWtpDRjbPiNHwWEYcSho0fYuGkDs2bNQihF+/TpdPf2smHzZtZdupZSEPCTZ57hpZdeQUeGtWvXsaBzIT29/XR1d3P27FkOHX6bIAhYtXo177nyPcyeM4d9b7zBjuefo6e3n8/++q9x7733EkUaoyv7Y7MwiXLL3kIyrpDWz0hSuQrAk1DIeelC+mqcb2YdRRG9vb1EUTSqNbMaWms8z+PIkSMEfsCcOXNwXfcd8SrHcWhta0PIch+0AT+M7CQHGBG/i7E9opo6jKh8LiZNVSbTz+JQieJQkYtWrKCzcyHNLS3WMyEUa9euZv2GDfR09/L0T37Crl17cByXdZdewezZc4m0Xatw5swZjh49Sk9PD5esWcvFK1awYuXFHDh4kB3PPcfZri7ed9tt3HXXXUyZMiUOT8vSue25MMJm5q/b73h8BEg0yoR4IqEXGYcLJOc9/xBCEAQBAwMDhIl1ss5+WSRZorTW5HI5jh8/ztmzZ1m+fPmwUDpR5z3IQmvrhWltbc3QrAYiBCG2AFpSIblcBI3MX+9cHBdEwiCFQ1/fIN3dvRw7doyjR45w2aWX8Zuf+zxLly5mcKAXjGbd2kuYNWsmriuZOXMmLS15Vq9ewcpVF+N6juUF0pSNbNlWEWCX8GE5ahMVc7GKW20l+3wjCAJ6e3vTnP/jXXcjhODYsWP4vs+cOXPI5XJjPjZ7LaVUFb1AV1cXR44cpaO9g/b29lg2qqNwVdQ0sovSwyBk6tQ2hoolcrk8H/3YR5kxs4OhoRKFQhMf/MAHmTlzJvlCnkULF9Hd3c0zzzzDyy+/jOd5XHHFFbROaaWru4v169fT09PDrp27+OjHPsqG9RsYKg3x5S99mUsuWUvngk6KxSKbN28ml8tTLBYZKA5y+eWXx14qhwP7D3Dm7FmWr1hBe3s7QRAglapRIblMV5GOiCIfpRRnzpzm4MEDrF+/3taSSpO7iHLGxwsYwkz8KtrzhqTE9/79+8ctpEVx0Z1cLsfOnTvZvXs3d911F2EYDntBRzu3McbGu7V3kM8XbIosAYHWdA0MMJSpWlzOQ17vZPV/MxikJM46JPGDEmEYYIBcLoeM1yQUCnkCPwAkLU0O/YN+vKA0R1Ne4AIliCsqS4zROBIwEf3FEBWvME0mIa21LWMOJHUK5DinD61t/F/OU7S3NZETP5/V7729vZw6dYooimrGsI8GrTVvvfUWr7zyCu973/vGLTBmsXTp0vT4CCgaQ09xgNKQH6fyG4lWRl6EoHVIc3Oztbr4Pvm8l8b+O7GFNqFrKQVKCvxShOvZWMwoiheNGo3j2vI3g0MlNJIwCFCuQ1POpegHeDkXKR3C0FAcLMY9SPqtay4orI6Rt3U9Kq2EyhialWD6lBZUZiFrxSicZ45cKpV4++23KZVKcdjL2BGG9hns2LGDgf4BLr/8cgpNhXHTXRRF5HI5FnR2ohzr3DVAoGGg6DPo+0TGWtJTobrG6XW18y/zXRurjDmuxJEKHdlieEophAHXcZDK0qOSmqHiEI7jIKUia08R0iTlUDAGSqUQ13XRGIIwBAFuziGKbOiAdetnFfWy8JFkHarst65J9spoHB2SdwVtLa0oKWNl6fwbIZJnKYRgcHCQkydPMjQ0VHf/6vlEa50Wg2ptbeVnP/sZ+/bt49Zbb02VhgRjUQ6SAlTz5s3D87xkK4YSAh9DCasgGMAly2PORTmIK7OgMQgcTOQQhpFNw60jHKcFKSMgwBhBFAUo5WBMhJSKMArQUYjrenFG3nINgmp6tgLdWL0fIvN74h/LKga5zDi8uxLe4OAghw8fJooi+56MI60mWFp64YUX6O/v57LLLmPKlCnpb6PxmOy1PM9j/vz5ll7idV779+9nx7PPsWzZRSxdujSj8NZ6qxLebc/puI4twqojW+OgWERrjeM4OK7lYUoqm8hAR7S0tCCEwPd9AHJeDt/3kcrSfyGf59/8wR/w3I7n+Op/+yqzZs3i8cef4Ld+6zf593/27/nIR+7hzNmzeK6HNlY5DoMQz3Xt4mNhMz1GkU77HoYh0SieA9d1CMOAlpYW3nzzTR7d/iM+//nP4bqTL8hm8t3xeYRl5AZhshUp66+xsnHe9ZmDFAIdRQRRiBQC5SiU5yIEBEEJ6bqYKKA4EOH7IY6j6AkdPM+L4zs1ff02W9HQ0FBZMI0iyyiEzU3tl3wwJi5wFU9GwnoKyvnrK1EteFTASIzQGKHRk2yF/3ggAGk0Eh2PNXVm6dGncCklQ4P9RGGIo6xAnzy3QEcoIXEcBxAMBREYQ87z6O8topQi59lKlZHR+L6xVZN1ZAVCIfBLRUpDg0jp4joeQ3GWIicRZpKuCY2u88irAwZMdfVwk1g2J7c7NxFusnVdLa0kRlQTe/JIc/3Xex+rBet0P2EL5xVLJcIgiKuq54iMFe6GilbYlULgKIcwCMhLSalYREqJ53k4jsPAYDEVSpKiZqXikH2U0prXhBMnKRCayBiEzAY2JV6DRGGs6rewNFzBgYRGxhuMkRhsooXsrY4WnPJuKBHvKiqMTMloJcYGt2p7MveQ+V51ulqXGDaqIrbhK8DghwM4jiKKNK6nCKMzCFykUBhCpGOItI/reGjto42PdADpDzPD1rbu6rTfhlqemuxTjTJHZgsFygvruU8ErKsfIUQcEZFnypTmUZQDqKCnWNB3PZdCvoBUknwuTxiFlIZK5PI5PM8ll8vhBz5SSsIwxHM9pJQIaROoiNjS4DiKe+65h9dee43f+19+j2nTp7Fz505uv/127vnIPTiuoq2tzZ7bzaGNprW1Fd/38Qq2orJAIKWt+myMwY+VB8epL/aGYYgfSAoFj0JTznokJykaysEEIBtFJI1AUpmxZfhrVbay1rUIC5DCoBwFRqO1XXkvhCDUEU5s4XOkshO1lBhtXZVhyccPfDzXQzmS0A9Aa1RcylwgyHluypATK40wpAKiEMLGBVdNE8kkXstSmY4HNiWqxOAYY4WaBkceBglp2I1IF3FnxaCk0FMiSNVj0pbebLIsg+OA47gUi4MANBeakEJQKtmq2EpKm/Gh5KMQmDBi0O+3Vh5HxSRpmSqRRnlenOZW4yjBYH8vjvKQCMIgiD1baVdQqaIQbyD7Pd0NY3SF5ixp0EkFTGZaNjE/EBqFse8YgmSFXW2qIB3+xHMjs9+NxpgIVwqUwNqAI1t4MefZUB2/VLLhUq5DGJQQOkJJQeSXCIpF0Dp+9sK63uNFf4EOkUiQgqA4iE4sjMKGKqbPXVT2XVT1m9hDkk7RQqc0FqsVDZqBOpqOxE7xiXqZfJ7LgNVi/LHnR9piZkoViKIijuMShRHCcdDaoKTlL9pECCSukwckSriYOAxqZJStwPWNaonXIOGl1WFGWQ9tg3Cy0FrT09vD/gP7CaOQKKpSwEzZG1M9dJ5nM+FljTqe5xEGISW/hOd5CKwxUkgbVZAoH47j4DpWNgkCW/MiX7DVkr/whS+wb98+Tpw4wd13301nZye7d+0miDPkKUfZ+UdKXNfSW+Ih0Uan6dhtxjQV36epbbAVBiUlYRTS3NTMgQMHJmJYf2nRUA7OGfZFSSLvCp6H5zqpy782M85oo6Yes85YVfOe/T6C27DguXEqL/A8l//xP77O9ddfx6LOeUSAjrCLcVqaY8EgVl+yn8beixCiXFgoM/mOeY2pSaxMMcII4b3zcJwLDcm05giY3tJCSecolQK7scICWE0bw+lEVJRTBkE+jc/Ne9blnAiEOadgvyOQ0kEphZJw4uRJ3nzzTWbPns28eXPQWpPPuUCh3Oe4XL29Rg6s6Afk0lRvKiYUUfFZexK3wqpBxylRE7hSgZDptD45kQg2pkIWUwhySiELeYSS4JSVPHTGvxTziWE1CGX1hlhBiK9jAOXmYg9AbIn38hV8J5dzOXrkGPv372fpsmW0t7UN9/J45bAxXb7UMP7lKFUZpmcZU6X4Kaq9BnFIjzGEfkBTIYeQDVGvdsiNAeOAEQiZVQzqGKSyqG2vGvHaOTeJfzco2UypVMTzmujrHWLnzpeZNq2DVStXYXSAkCoV1mqd2yY3MKklOb2fmDrq9yXLM+3+5SOyCkID1Zg6tY2Ojuns3/8Gx44dqbFHfcXSUU4qhIdROVRbRxqpJEqqlM8g4nTGMd9PqmQLIYh0xMDAAG+//TadnZ24rsvUtqnMmzuP3p5edu3cRXdPN45y0no8QGrhD8PQhkMmtod4rVI5lLGOYhAjrbcR011HR8ek9WI3lIMJQCpoY1KLfJW9fZQT1NleKfdZ+3DFvoZsnKGnFKG2YUMDvT0oo+00YWwCROlWCpoV54p1j+qUviMpBiN6D6pC+0xs9Jmk71lNJCJYQXoUCt6o+9dDLFOVZUlhKgRuiJlj5spKyiTqg7A0xGBvD3JWBy1N+QpBzsSMNUssGgMmXqAFJHmjU1qpoJnhIn4ilxgDOC5pcQMAovT4rJ2wATuujhMvsJQSpFXQPM+z72LqFTDDVDIjaodqmdi6ls3lnVENIPFIxeeWUtCUczn29iGWLVrElOZ8+bzxPklYrybxaaVXi70c8RVSJTLpy/B7ri/DaiIp0/CBBmogNTSIMkMei3JQNe+MCpFQW2IMsAYlW2fHEIVFBvoCWpoM4NhUyULVj00VKSGPaBCr23lTpt30XOkmQbzAYZznvbBhjGH69Oncfvvt6TrMkYXiSkHBCv827CvSNitQarWX1quYfZTGmLR4plLKrtvEpsI+duwYjzzyCDfffBOz58zG94MKOcdRDsqx6+h0FAvzsRJgPePlhd7D7iHLzGqNQ5xxLznO9VyUSjLxMalkmIZyMEGQiUUrJZxxUNBo72AMg6hc1FnjYFfaGFBhIpJUf8JYcUGYSouJqP5Sg/ATFpCNB05/G2V+yfYzEyVwzo7tX37o8rgOG9Xx28srnFTxFqOGnyc75hU5XbRGRwHCaJxkY/xwDaCr44HjpzjaM7S0WpsRm7hD2TzpdpOTjkCESel9JEV0UiB+cRwlkcbEclX8HISJM/gkqI4oH8H+IASJ2ijSzyytVAazGWMITQgOaBnZLFOpNmg/MiIpyXLQ7LnqYXyTrsR1xRiocLIiDq1JBeyqcar2IlWh1q/1FryKYZb4hGLi9QFGoLVECBch3PI+FZNEZoYwGZ6WMoCqHumRLGrVk2R2BmrMPrVQXvhu4sW3IzHcGnOLECQeGWmc1AKvtUFKG/tfYYs0JvUcSSUrkhq0TW1jevt0pFI4jhq2GNjoWL/DRkSU5RZ7znICgDJvMpiMEaK88H3YfZlkX7uzrd0DCEMUaRt2O0nQUA4mCElhjSRcoh6GTdv1LDiZyT+zM1mirj7SxnVKlMTmjc6I5AKDGHNckBj2V4Olnh8MH9OsFe6dj3h9oSlRTDJWHyVxXbuoMFmojhhOA9XnHkmNKVv9TZX1uPLq1Ta8jM2vQW8pYgtobNGV8d/JuCaenlQIH+a5TH+oee6ySmAqnk5WWUjghyWUq1COQEjitQTZq5X3TlTIbM30WmrmSKhnxLb9fOeBZ5OHtpLRz1rT3+m5xnJg5o2OPYJCKBzl2qqzyW/VD7bi+1ivM7a+WgV4slsXRkPZ0h/pkMT7UxsR1VkWlXRSKot0lMpDWtucVsbY+SXZx4YEleUTIxJFUlMsDjJULNpzRQalKvuSXSMss7K6EXbf8gKl8jEV9DBapquqLRLC0EwqxQAaysEEIplWRezJzGaMyOxVyzRfEybTxoZshge/VLKx5fE1jZFjzNNgKIt272QWGS4oNBSLSshhE9vPq4iTpS8pRermHV+K4PqLArNW7OEqbbWIOPzvZLFpxWGTDbVenNikmlXaoZwpKMHYOUdthcH+n1UcLFzl4Mb1T4Sx6yDqKaKjKXjjN1XURi2KbfCcjFCcURaHCUa1tbY65xvf9bXRqSU20CGhDiuNXhXnEyltjwnj1AsbHqbREL/pQuAoL/17/GewSVKqvUxpmE/8XSGpyAqeCQNynDjNrYnS0NexdmBs+yaa6NjjGBxn8q2AaygH5w3nwoxGmtp/mZhcbYtiA9V4N8cma8c9X6g8f6X4OPK9Nux79SDqfqs1oudNODZ2ojfaoJMkBlVW2pH6VdnHcxPZGnWRG2jgFxPVisV4FA0ZZ9OTUsa1Vs4XGiaEkdBQDs4bzgfRjUbMDdHqlxPvNoMa5/XGYV2sfa2xH9hg1bVQe1R+PmOVSQtpBPUDwxpooIEGflHR4FOjoaEc/EJiIgi3KhvRuE450Rp140X8RYRJVgUj43AikS4gGxsaz3XSQVQuTDXGVGQGeTfT/jWob4JwvgbSlGkl+6m1toWvJkvalwZGRTV9ZLc36OTng4Zy8AuLd/JC2GOiSCOlSpUDYxhHLPm5voiNF/mXBnE8sF3k6iCETBeJjU1BaDzrCxm10gHaWio6jg12yosYowjP897VybxBfaNj1GdxPgcxXZc8XJlsCH0XGM5xAVFaFyEujpb9fs6KZCO7xTvC5FtlcQEj8EO6u3vQ2pDP5XEcxcDAID09PT/vrjXwCwg/8Ont7SWMK2EKYGCgn2Kx+PPtWAO/EKiekIeGhujt7QXAdV2klAwMDOD7fpyrvGENbsDCGIPv+/T19aG1ThXJIAjwfX+ciQ8auNBhjGFgYIDBwUGEELiuLera39+f1kNo4N1Fw3NwAcH3S9x33zdoKhTYuXMnQgr8ks/69Vdy5ZXvaWjPDQBl692pU6d44oknOHXyFN09vbz00ku0TW3j6qs3s2bN6p93Nxv4BUJCL9u3b2dwcJCjR49y+PBhfN/n9ttvZ9myZT/vLjZQC+e0XugcLmsMXV1dPPzww5w5c4a+vj5c1+W1115j7dq1XHLJJe9uhxoYHUla9TGnPJ9YHDt2jGeeeYaBgQEOHjzI6dOnMcZw1113MXPmzIbh4V1GQzl4lzH2go9j2bHyZZFK8dbBt/ja338NYwz//IMf0LmgkxtuuHG83WzgFw0TyK+NiUPPhOS1117ja1/7+9Sdu2XLFjZt2lj7evUSzo94sXF2rsH/f3EQr0lJCmTn8wV+9rOX+N73vofWmsAPWAFJG88AACAASURBVHfpOu6++0NxaJHGUVW5wM9n/oQGrUwYxj/bjLKvECil2LtvH//5P/9nmgoFjDFs3ryZSy+99Jz7J+psr9mXMZ2x/p6TF+N4QZPsoKPtU+sqxiClpLW1leeee46HHnqIYrFIFEVs2bKF2267bez9OOcJpzFhJWj49iYYSZq/ei2K9BhbNIZWeUw+l+OjH/0ojuNw/PhxTp86w9at27hoxXLCSGM0o7dMTGhlG8Ox8fE60rZpXXGOBipRa5zTsatu2ozSqGoj7BvZ1tExg02bNjF1ahtHjhxGKck111zNsqXLxnA9u3Csbn8zNDC2c9l+m8wixgZqo/47GrexvKdjaNpgU5ZG9hlNmzadbdtuwXFc3n77MAMDg3zoQx9m9uw5hKGmbkHHBn5+SHJLmKo2AkbdrfpcNXYUQjBt2jRuvOEGZs6YwZEjR5BCsOHK9SxZvBiTWXQ6UajVrZFvdxyDMhkgTJXXIKl5lBmf8Q9y5elq7K9juWjWrFm89703kMvlOXbsOFGkef/772DGjBnj8xrUus6Y+5rcc7a90xv+5UZDOZhACBEXQRP1W1JKfORWleu3bqPiOCEEK1dezEfu+QgA69at45577raFRJIiM6O1kTThMR1vPw1xLvTzMAlcCEhzxWudNmAE2hnpt+T3bBuBBpXAcRWO63DZZZdx22230dLSwoYNG7j++utpai6Mcq3z0CRpZcuG+3hkjGmR6QQ0EV9LZPjMxo0b2LZ1K7mcx9XXbObmm2+yVdmVbYmXYUyNcexbfRwNJXIsSEeo+vlWyTmJXFiTFBKZcbRWBaUcVq9awwfe/wE81+PSdZdxy7ZbyOfyxJPEmGUsYSrbSP2uNQaTR6R7JxjpgWYn9QliLEmLzycQqXFoy5YtbNywiZaWVq677r1cddXVFApN47iX8fYjMwSAVQYiaisH1de4sNEIKzpHGGMsecfZXYIwGFEgNmORlQWMjY2Jit2iKKK5uYm7P3Q3X/va19i6dSvz5y9gYLCIkgrCsbLG6v3G8yKYshAqZFyduZGZohbCKByWCnJkgWeEMay22o4QN5p4gsAwbdo0Nm7cyJNPPsnGjRtZuHAhvu+PMfztHfZ1BHieO0p5+waCIBhhkd5o4149sY0uMplEIgdap0zhpptv5tHtj3LTTTfT2trK0FAJbSIc5aTZrtKrjUSy5yKpCXBduwhaVYcyNQCUbaC1HsGIz2XYzpk/Te0TGlHWOdJrG2htm8rNW2/m2ed+ylWbr2HJ0mWIOoWtRpp1xuKUMlWf9c4taFhFK5HRtDIjVaEeJDVNxvrOjjkdtjUKCW3QOqJ9+nS2bdvK3r2v8/73386MGR2jcLQaHUqV31H4WsUBABpBiH1ratVvGUkFvfDQUA4mEAMDA7zyyk76+vpxHYcgDFBKVQrGoygHZSY4RuUgAx0ZCoU8A4NFtmy5ltmzZ/Pkkz/G94M4O4Qpn9lYZuA4DgJBGIUZpWY4mxZVisjwfpdZs403dRACWlvbWLHiIqZMaRnD/UweJIrAyy+/wsmTp5gypaUihVuNIyq/Dpstq79XnadKWRAIoihESElXVzdXXPEemptb+OlPX8D3A7K1ayMdobXG8zx8308zSRB7h7J9FsLSiRAq/j78TrI9kUri+wGOUkRRyPT2aaxZs5pCoVBnHCYvisUie/bs4ezZs0gpCcMQKRNrfXYqH4uCkEU1zWWnzcp9Xc+lv7+fzZuvxnEcfvKTZ9LwQaUUSin8UpyNJp6kI20Vh2qFxhgzsno5wo9CGKQjKRQKbNy4EWBSKwmpPSkW3hPFoH+oWFb/BIhYLBbDjyY5Rc1zZ3YQFWpAvFnEPC1zHqMNSkqWrF7Dr//2bzF/7lxCKRjoH0x5SBiGCCkQUlbQgzHgKEUYBOTzOfwgrNO7yn4bKllj2asgwGg8R+E6ziQS8Woha7lPNmUt5pZ6KsZHCDByZK1yjMjyqkQikUpaPoLgmi3r0XyWTRvX09QsiMwgSngEYSmVV0AQhCWEAEclYmyGPsbAAkX2CwKIMOkYJMUek7Gyf08mI2dDOThHJOxMIPB9n1dffY2mpiZmzpiJ63rx5B2/AsYgpGWaydGV58pi/EQopCSKDJ7r8bGP3Usul0NrqwAAlfnKpUApgZSSKIyQZuQ0hNKMbGvRolLrMcbQ19fPgQMHmdHR0VAOasAYw86du1BSMX3adMIgGiaM1YUYbXqr/k1X/CQQKMdBSsns2XO46aabbZ56jfX4yGpaUWke+2zKSsNw5UDE7mJZg55MlY4phURJW5fjbFcXb7zxBp2dnbium9JtA9Yr2N3dza5du3Bdl9mzZwPEz6N6nM7VLlqmlSRUMov26e3cdtttdqKOF56mMJDL5WLLvgtYowkClFMpvJtqSa4KIyZNEYbi0CAvv/wyl19+ub3mZIYZ/tUAXX19RMLY905IXOUiK8ZcYBCVh4tUx8iYjw0SQRgEeJ5nvZ6RLisjwvIJhLBW49h14DgOoatYt+E95L0cp/r78IMQ13VQQqKNxgAqVhaCKCSMIiuaSQejNW4Ypgoo5e7Y+6yODKniL4lyoBCgNQXPobWpCakkonzUJEMt72EEBGQVhKzqLigrBqMqkCMgUQaS525Iahk4sSwumN7RxM1br6WluQVtimijkWgMQ/iBnStsM4Q6wMGruELaPzH8LmsjqxwnvM8qCAIV/z35DA+N2fdcUeVmbW5uYtWq1SxYsAApZBo6kghTMku5NZSDc1nTF4WGfN4ljAyeqxgqBvYFia8thEgFQz8oUSwO0tLcglKKSEcj8kkxinJgRKVAoRzJ4cNH6O/rp+SX3vlNXcAw2q4tWbZsGatXr8b3/XEcPV4BsFJ5k1KgHGWte7HQZrQVQg2VYWBKSYrFIYIgoKW5OfbYVoWKJe+BARm7n+vZhbM9SYqtCSHYv38/J04cR2s9qa3A9ZAUGlu0aBErVqxI88Ur5VYp9ueiHFSGFmSVg2pFsBYEAqUkQ0MlikNFpk2bhu/7tZ+pESN6/mXSnZoXEvT0dXPgwH6iKJpUFr1aMNXyHvEr6UiEMESxMUEbgTGZucfUmHdMLOyb6pOBdFzcXI688KxXKDKUwoAgCAkjgxAmNn4JHCmIjMEg8HIFPC9nr6oChLHZ9WTa91hBkQoBONKGqAkpQSh0GgppIcrdr+hibcHVxPdnKmzjdSKkJgFqjVTiOQjjzwTViuREXN1eX8bPXEkXhIgVEBDKMKW1Ga0jBBJHKiJdwlEKY1xEHP5khMZVHsPDMSpDo4ZLWllUB8NF8WciGk/eALSGcnAeYIxJi75kLe4VE+t5WUxnGBryeeCBb7Nk6WLWr99gt8aeitTaawx7X9/L008/xR133MGcuXPSEIV6SMJFav+Y/hfvawVNpRTWYNNYlFwPSdiZ53noMS1IiVFLGhgJWc+Osc8kiiJOnz7Dyy+/THv7dC65ZG1NGlBK8eSTT3LgwAE+fu+9eLmctfakK4gTt318+syahmphsloQUcJal6UUeLkcjqPSBdU60sg68cmTDdnn4rouruvGXgNlhbnzZQAVlUre6dOneeKJJ1i9ajWr16yO16eU+YsQAm00u3bv4pFHHuE3fv03mDp1KmEUDvNAGDGKn2wE6U0IOyYJHTcwHAIbtqelRGGtv1JLRFYpi439NcknsbymEpYhKA2xZ9duerq7kFIyvb2D+fPnMaOjg4GhIQB0sq8fAKEV6rTh7bcO0dXdzZIlS5jSYj3JQRDw5v79eDmP6R3tOLkcruty+uRpjhw+wsUrVyKlQghZEdGSrH2oHxCX2SZ07NE05XC3SY1YORjRNXf+VCchbDTFwbcOsu+NNygNBbS0TGHlxRcza+ZspHQZ6O9l5+5XaG/vYMG8+eTyeQAOHNzPYLHI2tVrKYUD5JzEsv9OA8WyY5AoSIbhaw4mHxoz7zlDkF3Fr7VJFwyGYYiJTNqoSPlpLTgmst+1BoxAolDCQUkHgbJuLSORQuE6HjrSaVpUKRRKuhhtz6W1YbBY5OGHH+bggbfIeTnCwAr9nueBMGgTIqXg0KG3eOKJJzh95rQN7Yi9B8pRDBYHefSRR9mzaw+OdHCVG9+rSZs0InZPW8lEGBtOYjBxarLICo8Guxi6gWEQwo5NInxFocm06nS2uuK3IAgJQ1vZWEqJcmy8dxAEVjHVGh1FlIaGQGuEFpjQoENNFEToyOBIj8H+QZ5/9nle37MXicJTHkoocrkcSeYt1/HYt3cfDz/8ML1xMSNHOSgn9jhF8MC3HuC5Z5/HdTzCMIotxQ4CidDCSgwxjYj4b4wgisMFREwrURRhDGn6zOo0nZMVNtOZ5QMCSRhq+85HhkhXp4zVFS2x2EslYgFLE+mQMPRJcpYKA0paK50ONYEfokONRCKNJCgFKOFw9lQXTz7+Y/a/uR/XddCRrX7rOi45L2fT8WrNoUOH2L59OyW/lCp6WhukUhSLRR5//ElefumlinuUQpL8EzF9VKZJ1plmE0GY0OApb+zheBcsbJw4Qsfeu1ieD8EEBhEYCAwmYvh7pY1dPVyzaYTRCK0peB6HDr7FX3zxz/nyX3+Zf/j61/m3f/yH/Pl/+A+cPXOalkIehUGGEc1ejpZ8jpxS5F0PE4Zsf/RH/MPff42uM6fAGKIgpL+3j2/8z//J9//pe+gwwnWs4rv75Z381V/+P3SdOVt+9zP9qtdvUd2MQWqQ2n6iszJxEkuetAsNMU0kTWRa6j8BOw4uAg+BG4fSVAvH9hhR1ZLtZtSWXM2es7u7m/u/9QD/x7//It/8xj/yN1/+Mn/wB3/Ijh078P0Su3ft5gv/21/wb//oC3R396KEh9bwtf/+9/z1//03gIP1O4Xl+xvRP2Bq9ru6WT+pRBBNkJ/klxcX4hvxc4Co+sz+UvWvKoWjktJOirFlMApDpBAV6xVE7BIeKg0hpLUy5wt5CoUCAwMDlEol8jn7va21jc997nNcffXVaKPJ5/OEYciJEycYGOgnCiPCMMB1XZSjyHk5hoaGKA4VyefzNDc30dvby/e//32e2/FcHBJgfc9jTUuZhDJVhDM1MByZkK9RF3pVBQUn9DIwOGAVuyiiOFRMBcJ8Lo8AojCyoUPKoam5wEDfAIMDg+S8HEoqFi9awr33fpzrr7+eQr5ALpcj0hFnzpyhWCwyVBwiCAMMhpbmFnI5j/7+foIgoKnQRFOhiSiM+O53/4mnn36anOdhjI77FFqLsZBx5iqZ/p1+R6SCLyQWcKsuNbIWVSM28ybvVVaoSb13w+koDMN48WdAEPgoR9mYb6VSr56JLb0DAwMYQ0oLpaESQ0MlHOUghWD58uV85lOf5vLLrkDh4HkeSipOnT5FEAaph9F1XfK5PK7rMlSyIWmFQoGcl+Po0WM89PBDvPLKTqIoIp/Pp0YFUUUXI6bkjfmiGEdmlEmDONbeaIHUEhklXgOyNp4RmzBWuE5yyBYcydDgIMePHuW6667jT/7tH3PnBz/I9x58kKd//BQF16Gl0ERTLkfP2bMU+wdwhMRTEkdCb3cPp0+dIgrC9Lw6jDhz6jTdZ88ijUDFKbmLg4McP3LU0i7iHRftFcaG8kqd/G1PJBnFcH5BYIQbFInikHgIFBjHfqIQNUXDcRBPRauGJPAjus52sWjhYn791/4Fn/sXn+fk8S7++Z8fpqurj/7+Im8fOsxPnnqG737nnygWiyg5hTOnujh29BQ26CV570dXDob3KfESZNsFTxDjQiOs6BcASdTb7t17uP/++7n34/dy8cqLefhHD/Pcjue4884Psmr1ah56aDt7977OnXf9Kv19/XzlK/+dQ4cOEQQBN998M5/61KdwHIcHH3yQ6667js7OTn70yCP8w9e/Tn9/H6XSEC0tLXzyk5+k5Jc4ceIEX/nqVzh+/DhDxSE+/vGPs+mqTXz1K1/loYce4sknfszLr7zy/7N35nFSlHf+fz9PVfU1PfcJCAyHDCKnch+6HgRRNEQhBmPiEXfjJpvfxri7yS/Z3WSTrHHzi8m6SUyiMesREmNQQbzwiEY8QC4RVJCb4ZgbmKuvqnp+f1RXTXfPwQwDJjr94VX0dHf1U09VPfU83/Pz5YYbPs+ECRO8BMNenZPILtpnEsFgkNWrV7Pl7S0sXbKUCRPHsXr1al55+RX+/d//nWHDh/DSSy+yfPnvuOeen3P06BF+/vN72LZtG36/j9lz5vC5668nkUjw0ksvUllZydChw3jmmWf4w6N/4HjzcSKRCMXFxfz93/89mtSoravlpz/9GVu2bKGttY1vfuubXLnoCu74/g945ZWX2bJ5M3v27OYLX/gC06dPJxo1nTGTjfo4w+g5qlbTHMrPTZs38Pjjj3P99Z9l3LhxrHl+DRs3bGTZtddxzjnnsGbNc+zcuZMlS5bQ3h7h4Ycf5r333kNKwdw5c7nxCzcQjyV4/oUXnGJ5Z4/g2Wef5aGHH0IIQXtbO4VFhVx33XUEAgH2H9jHz3/2c7Zt24ama9x4w03MmjWbVaueZPWTq3n11Vd5f8f7XP/Z6xk/frwjkGTX59OKDtuw9OTAU73EQoBSFkIqJk+eyJjRIwkE/Nzxn9+nvr4WDcXBg/v56U9/yvZ3txMMhDjvvPO45W+/QNDvB2EjRKoQ51qxu+jRaRwHQmWETmXHmAPRMTo6lIRTDc/p46GFRNMdYoXRZ59NUWExjz66gubm48TjJprUqKwczIgRs7j33ntZuPByhg8vIpEwP5T+ZZH1HJxh9Hx5ZeokpRTRaIQtW7bw5ptv0trayqaNm3j88cfZsWMnLc0tvPHGG9TX1yOQ/OZ//5eWlma+9a1v8cVbb+WBBx7gtddfQynF6tWrOXToEFKz+eUvfkE4HOaHP/whhYWFNLc0M3ToUFBw6NAhWltbuf766ykuKWbFY3+kqamJCy+8kHPHncv8+fO5/vrPMnx4ZZoVNzWP4qQsRsruWyz9gIQbmnayz1K+lU4I12uvvc4HH3yAmbB4+umn+eOKRzh48CBCwYsvvkRdXS2apnH//fezZ89u/uM73+HGG29i3Ztv8sorL9PS2syGDRvYsWMnu3btYtWqVVRVVfHP//TPFBUVEY/HKSsrJRzOobr6AKZp8q1vfYuioiL+5+7/oaGhkcWf/CSjR41m9uzZfPGLtzJ8eCWWZTsx4YmURPXsonzm0MNYcbwBilAwxFvr32Ljxk1EIu1s2LCB5557jh07dtDS0sy6N9dx5PAR2trauP/++2lqauTrX/86n/rU1bzwwgu88/Z24tE4a199lcOHDtPeFuGuH9/Fueeey//74f8jGApSW1vL1KlTMU2TluYWIpEIN910E6Ulpfzu97+jvr6OGTNmUFVVxYwZM/jkVZ9k6NChXqhLFqcJrsUcQElUcusP2uNmMsEYtm3fxvb33+fuu++muLiYSZMnYVkW99xzD3v27OFb3/oWf/t3t7B58yYe/cOjGSmjmRblHu676s763D9kR1rvcbpFcaVsdF1i6Drbt29n9ZNPcud/3cnBgwe45JKLqagoIxJpx+fT+fznPk8olMPPf/4zopFmOu6cG1GhUkKX0hmW+g83fX1gIqscnHYk4xjdxVrJtE26k3ZyDNuWTTyecEI8hjssJNu2bae2to66ujovafTw4SPUNzQwYcIkampq2b17L1VVYyksLOTcceNQSrF+/Xosy/Jc+A31x2hoaGDmzJkMHTaEadOmkZebR15eHpZtMWbMGG655RYWLlzIRRddRDQSo+boUUaOGkFpWSljxpzNeVOnUF5ehi51pJIdyoAtnY3OCkJqSNFAjxU/OVK4lL0wkQx+ZdU5OUrTBLOmzyA3FOJwdTXHmo4TaWlDWJJNGzbS3hbjlVdeYfHixTSfaObVV9cyfHglo88ezdChQzEMg61b30EKjWAwhN/v51hTE5FIhFGjRzF7zmzGjBlDfl4+umbQdOwY48+dyC1fuIULL5zHNUuu4WD1QWpqapk0ZQKFRUWMHj2aOXNnMbh8MGbMxIpbToiIkkm2q45X73yUG/frIsNypXpWkrIgJedJdrmFAgF0IRkxfARVZ1exdfNWIm0RDlcf4fix49TX1XLkyGGajjVx7vjxtDS3sHfvHoYPH05BQQHDhw/HVoq33nqrg1VGCOrqGjh+/DiLFy+mauzZTJ8+nUAgQHlZOZZlcfbZY7j11ltZtOgKFixYQDwWY/+BA5SWllBRUcG548YzZ+5sikuKSRvrSiKEM99oaGhCOJv3z8nGckKQuguByOJMwOfzYcXi3H/ffVxz9TU8dN99fPOb3+SCmTOpa2xi1apVTJg4gSFDhlBcVExBQQGbNm3ywmeFkPj9fjRN4vf7CAUD6HoyPE13w9wUQgqv7othGCcPu+wRH441/OOGtKt2GnU0ASQScdra2tizZw9rnl/Da6+tZefOnbyz9R2OHz+Gpmk0NjYRzs3l5ptv4o+PrqCxsYbi4mIikajXqWg82tOheuxDV1uPGGDrUDas6IyhZ1e/t5dwqP9s26agsJDzpkxhzQvPs27dOgzD4NJLL+Vg9UFefvllbMumrKyM9vYItbVHWbnyCV599VXHKhgKMXLESOLxOKFQCNM0yS8oIBwO88gfHsEwDJ559hmmnj+VkpISx7IknYnaMAxCwZAT+6sgHkvQ3h5BSic52ktcQ/R+jhakJL3160J+/HEK16etpZ3BQwcxbtw4Dh6s5rlnn6WwqIhbb72VP/3pTyxY8Amqq6v5m7/5G+rq6jh48ADHjx/n0KFDtLW1EY/F+MQnPgEolHLYPCoGVaCUYtXKVezatYu1a9fyiU98guLiYqfIle7UOtA0zWPLsW2beMzCMk3iiQRSSCcZPVkLoUeWqyw+FCQSJtFojNz8HKZNm8aaNWt4a91GysvKmX/pfHbt3g1CEIvFqawczonmEzQ2NrJmzfOsX7+elpYWlFJUVg4nHo+hlCPADRsxBIC7fnQXV33yKp544gkuvvhir8CfrWz8fr+TsGwYyXwTMJNV5C3Tor01hj/g76BM7dNYEWkvWaTDTl5OW9pOMm4/PQdKQMI0ySsq5Jtf/gcWXLaAKy6/jKefeYbLL7+cSCxKfU0NTz/9NJs3b6atrY1gIMj8Sy9BpLJKKYVtmUSicWLxBLZtEU/EAZtYPIYSEEvECQaDCF0jkohnuWM+ZkgkEihls2DBZXz1q7czdOgw7rv3Vzz88EPMnjMHEF6+5Wc+s4yVK1fx/f/8PkMGDyUnJwRIr+ZOh7fAdkgvsjmOpwVZ5eBDhp0ybqVyuJ51aWAmuborKys5cfwETz39NBMnTGDChAmsXLmSHe/vYOTIkQwePIijR48yqGIIN998MwsXLkRKSSDgx7JsYrEYsVgMwzA41nQMXdeprKxk2/ZtLLlmCUuXLnUSDU9Se0Ap5SQjY2HFnRoIIukQkUo6GV7eOXV2vaV6D7LoCS59hpsk1TtE2tsJhvxMnTqVxx57jHfe2cqll87nykWLuPYz1/Kb3/yGkSNHMH78OLZu3UZ5WTnXffY6brvtq0hDYJkWsUiCrVu3Eo1GQdjUN9YRCAQQUnDs2DFu/eKtXHHFQgqLinvsixCCWCxGKBTEVjaReMRJeBeaw9SVcl6do6dUMu7YZbTKMFFlY5H6APc6pwuBOTkhWppbkOhMmjSJlStXsvx3y5k1cxZz5szmj39cQXX1IaqqxlBVNYY9e/ZSVlbG0qVLWXbdtSTiFrZlY/gM9uzZQyQSwefz886W7ZSXl1NWXsb777/Pl7/8ZW74/A1YtpVkVkrvh1IKy7LRdcNRHiUEQwaGoROJxEGQVjiv07ySVksleb5dzD1ZpEB0PSZOBX5DJxAIEk9YaIaPYMDP33/pH/j6v/wL6zdsZM6c2YQLi/jK//kqX7j5RlAQS5hI4MTxY9hIpO4YFUKBENIIIqSOP5jD0bo6mppPMKZqDBJoqKsjGAoSDAbQNA1lnnriksrOIb1ED8/S6VzKhcTvDxIMhkBF8fn8aJrOoMGDMXwO210qpJR88e/+jv/47nfZtHEL54ydDEgsW6HrGv1JauubLcLNyxgYyPpj/4Kwk2w1UnPq/9lKMXTYUEpKS3hr/Xry8sNMnXY+mi7Z8vYmhg4dyogRlYyfMJ7CokKWL1/OU089xebNm/ntb5ezc+dOJxZdKWKxGD6fjxMnTtDQ0EBFRTlt7W28teEtIpEIfr8/rdJtwkw4nOXYBEMBwuEc3nprPWv//BpNTU2Ou1e4/e5ZMchEVkfoHo5nxU4ToHsDnz+AUJLzzz+ftrY2Nm/ezIQJ46kaW0VJSSm/+MUvuXLRlSglGDJkCDNmzmDlypU8/fQzvPDcSzz0wHK2b9/uUNwqsGxHAGxsbKS1rZX8gnyqD1Xz5rr1HD923BP2LNuhGk1lGAqEDIpLSnjxxZdYv24DsVjM2V8THcXxstFBZwC98/W3tLTg8/uIRqMMHjyYIYOHsPXtd/AH/EyePBnDZ7Bx80aKi0soKy9j5OiRFBQUsGLFCh5/bBWvvrqWx594nD179iKlRjicSywaJScnh5qaGtrb2ikqKqKluYWnn34asDETCWLxSKe+mJZFOJxLIBBg0+ZNvPLnVzl8+AhCKLQsgcHpQ9JroIQzR5vSxtRsrA4W4ZNudsYWTVgcb27GRhG3TGJKMf+yBQTDYZb//vcITfKpa67hV/fdxx8ff4Ln//QnHl/5BH969VUsKdEMnYOHDvHCy6+w4skneeGlF4nGY5w/fRp79u3lf//3QZ5Z8zw//cWvWP7II8ycM5vcvDzvlHrb767OwZLJV/c7Bvp85IZz/mUugm1btLW1sm37Vl555XmeeWYly5c/RHFxIYMqyhDSxmFgtgkG/Sy68iqmTJnIO9s+IDfPDyS8WifpobjdoYucvk4hmJkY2BTsWc/BaYZI0pJK6XB1Z4p8mUYMYUyRwwAAIABJREFUW4BtWWiaRGqSsooKLpl/KaZlMWniZPLz8pky+Twi7VGmTJmClDqlJWV85R++wgMPPMDvf/97wBEyJ0ycgCY1LrzwQs466yyisSjBUIiSkhJ8hp+3397MqlWr+NKXvkRFRQWTJk0iJxTCtiwGDRrExEkTCYVyGDxoCFcsuoLly5ez4vEVfLH0ixQVJ+OCvX6nMh3gCYEuBaGmaVim5YUvZdEZDnd7kq9bqWTlx1R0XDcB6XKggJaWVkpLS5kzZw4+zaCsuBTdp3H1JxcTDAS48qoriccTFBTkc9ONN3HPL+7h7rvvJj+/gPz8fIZXDuOsoUOoGjuWwYOcEBHDMAjnhAkEAmzevJnHVjzGHT+4gzFjxtDW1oahGyhlM2Swk8Pi8/tImBY33XIjP/zhD7njv/6Tf/yHf2TmjJnEY3GniJmWcg4inRdDSoGQIKRCallFsmc43iUpQEo6uP69ceGMl8xhpPlDzudCUVRUzLw5F9DeGmHKpMmUlpcwd84cUDBlyhQEGsWFxdxyyy08/PDD3H///YCirKyMESNGOPPExImUlJZgmhalpaUUFxdjJkz27dvHvffei5CC8ooKZs+ai8/vIx5PEAqFmDhpIhUVZQwaVM4FF87l0T/8kccfe5zw58MUFBR0LlAlIT0mUZBq3XQNKrayGVg2va6QFHaUcw07UiltR0jW4thINFs/abX7zu06kIZGUUkx4ydOpKCoiEg0Tjicz00338LuPbtpbo1w65e+TEtbOz+95xdomkY4N5fPf+5z+AN+ho8ahS8QZPkjj6Jsi1GjR1NQVMSiq66iPRbn6aef4bU33sSybeZfdhmfu/lGfAE/sVi83xXTVbLcdmo6oOMOTx1fA2idUhoof/Lv5EvaA5QubLt/9d8Ho1DKJBA0OGfcObyz7R3+94H7kVJSNaaKz9/wecaecw6RaBuzZk8nLy+EreIING677f9QfWg/lSMHAxE0zRnzwuth1wXulPd9b8aQmXyVKa8Dc2YR6iOULaqUU2Bs7969fRY43Thov9/Ptm3bePfdd1m6dKmX9JSKk7WtlCIYDFJSXILP53cUAk1w7Nhxnnn6Wc4+ewyjR4/Gtu1kqfoOiC6Ye4QQXtycPxAgYSaIRh3aUSkl0UjUK2bk8pLrho4Ukrq6OuLxOBUVFYRCIaKxKPV19VRWVrJ8+XK+9/3v8/yaNRQVFfDe++9xxx13cMkll3DrF28lEol4cX22bWOaJsFQkIDfqUbYdKwJZSsKCgqIR+NYVvfWbZXm8hfous7hw4dZt24d8+bNZew5VT1e0zOF5uZm6uvrsZJhW30d7rZtc+DAAd555x0WLVrUr0Vq1KhRab9vb4uy4rEVDB8+nPPPczwAHUhPkcpUDty4/0DAT0tzC4lYnEAwgM/nQ9d0DtccobS0lHgsjmlZBPx+NF2jtraWSCTKkCFDCAT8RCIR2tra8Pn8PPzwQ7z++ut86ctf4rzzp7Bh40Z+9KMf8ZlrP8MVV1yBlBJd19ENHV3TqaurIzcvl1gsRmFhIY0NTm2EQeWDsC2baDyWFF5V2mmliXvCURAMn8H+ffv586t/ZunSaygrq3AUy4zLfaZD1WKxGNXV1V5oXl9gmiY5OTmsX7+ettY2zjvvPIKhYJ/HnWVZ+P1+hg0bhq532G+OHDnC2rVrGTVqFJWVlR1j2otV7Fo58D4XyimMGDeTpAUBdEMnEosQiUSSOUcK07TIz88lFovT2NiIEJKysjJ8Ph+RSIT29jbKykv5j+98lzUvruGRRx6hoCCPQ4eOsGTJEv7xH/+RL9x8M0draiguKkbTNEzLJB5zQoeCwSCWZXHi+AniCZPc3Fynmyrj/iqVIY2kzDFSEo1FWLHiMW699YsEgoEPTbFMrQjd3t5OXV2dE5rXDTLXE3cuTyQS5OXlsWXLFnbt2sXll1/uVX120ZvwTNM0CQaDDBkyBJ/hA+GIOBZwtKmehARTAxBolpaiHPRtDfX7dBLxOG1t7fh9BlLTCfj9tLS2IoBwOIyua+i6xtGaWppbWqgoL8fn82EmTK+GihAiWezQyVnSNR1dN2hrb+dESzPhcJjC/Fxi0QRSalg4+SmnLqgohFQIyyLo08kPBvFLDYnKEPvOvHLQ3t7OoUOHsCwLwzDS7nVvIKVk06ZNtLa2MmXKlI5nB7qYY9Lb7mANFPj0EGcNGY4vACgcz7VwKlpDgsy6AadPOUiq+Ep5BT41zSnCKhAgHGHfsi0ikTYCgRCxeAxNOvluZ3b+t3HOX+HYzXXA77wqHZBnfP35a0LWc3CaoRsGfr8fn8/Xa6YeV3hwk/hQkBvOdWJ0TWcSEdIR4A1pIBDe5FJRUeExOkjNKR5UXl6OpsE555zDqJEj+c5/fIezhgzhwMH9DKoYxLy587xiam4YEjjMSZquYStHUcjPz8cwDBKJBJqhoRm9FIwF6LqOP+DH5/ehG9lh1iW8SpU2UoLf7+9+X5VM2EwiFo3iMwwsyyYQDBIKBPH7fdhKEWmPUFFeQSQawef3YUeimKaJpmmUlZV5bdi2M27y8wvw+31MnDiRjRs28tBDD7Hm+TUcOXKEUaNGMX7CeHx+n1P123IsK0IIioqLSCQSXrGswsJCRyGJx7Gw0H2ak8gsu7//Iln0yOfzJUPd3HM8fbHSHze47C6eYKEyFMlOluEO5cCnG5hxk1AohFKKtrZ2kJCXl48QzhxgGCCQ+P0BBg0anFRolaeMhEI5KBQzps/g9Tdf53vf/R4FhQUcOXKE888/n/mXzsdWitKSUqSUyUJ4jgJo2zZmwgQBuXm53nl0JSQpu/u5UwiIxtudZ8jL2Rk4C3cmUi+BTUfQhEjSmWo2OHfVTmeg6QPMWByUoiAvDzORcIxFto1Pahg+AzOeIBaJEAwGKSoopLykjISZwDJNlGXR2tycXHMkynYqa6M5BAYJy8anSc4aVIFpWTQfbybgD2AmYk4uSt+728X1UUhFch7NVAwGEJRIyfWSKdwpnj8X513nwmC9vWY9hckqJELgREtI9144XhzLMpFSoEk9qQz4CAU1UBBPRPH7AiisNIay9GOlr5N9g8D22nWqRIs0I93AmmOyUlt/kTJWpBSYiQTHjh2jrq7OE/S72997m2R0UUlOZ6U6mH6EANO0MJICtmVZyQQeiWmayax/ha4bCAGxWJxAIMDRmgRDhgzm9ttvZ926NxFCMGPGDM6bch4VFRUcqj6Epmnouo6tnERmy7IcZhHdAAHxWJx4Iu7lJ/R2dhZCoOkajY2NXv+y6BpCCFpbW2lsaiTS3n2SuOgUtK9obWsFFJbpLPiaJp1YWssmbpne/Y3HYui64VWrdZkgfH4flmkipESTGiNHjuLaaz/Nezvfpz3SzuQpk5k+bTpFRUXU1tY6Fk+pIYRTrdvv83uKn2mayWPF0Q0d0zS9Ss093v/kKem6TlNTkxdGIhDZ+hgZcI0Ix48fz/CGpbtj0qg9lUjWKHHmFp9hEIvGnftvGJiWiUIhk15JZ8GW2LZyWIUsp06Jrhs4c5NCkxp1tTbjJ07ga1/7Gtvf3U5LSwtTp05l9uzZ5Bfkc/DgQVDgD/ixbWd+AUfg1w0dv89PIpHwDBFSSDRdS7PM9awciLSchoFk0esSIv1PV4zRhUQCpudVcgSxZDBoRgM9X8NYLOawTMUcJiGfphOPxlC2jRmLo+k6Pk0nEYtjWxYx1Y6u68l6J05VZKlAmQ7dtm1aTlghjuFL13US7REnp8myMaNRdMNAkxrKtk9ROVAokTxf6SpMygtGGbhQOL6lrgwJMmWfU0X3Rh2BM82bZjwZTiuwBY4HSdOxLItIIobPZ2CaEXxGDgkzit+XQ8c4TRXYM4/V33vrhhJpnL7r8dFDVjnoJ1wtVdkQCAQJ5+ZQfegAtbVHsZWNJjNCE7ph9lFKYVu2oxBIgRSOe9kLOUqOSyGFt2gKIZIJosqZWBMJcnJyME2TrW9vZeSoUVRWDmfuvDmede74ieOsW7/O8xK4SBXgnFAF5SUhi4yV52SauduWaZoUFRZRkF/Q6+s5kKBpGsXFxezfv5/WltZOIWip6JRzgDtunEWzsbGRhvp6wuEwgwYNQtcNTDORFOrc/R1vgTuu3HtpK0e58AcCBAJ+pk+bhsJJUj9x4gRHjx7FsjsYIdz7qyVjfty2ugvH60k5cF3LLsrKy/H7/EhNescc8IIfTihKIBAgNzeXvXv3UlNTk/KtzFAOUqBkMnzBwjQd5d8yTUiGq0jpKBYi+eowDTmf27btuP9NCz0puAshiEQiHDlyhPKKCgYNHsz5553vSaS1tbXU1tZ6fY7FYs5xhGOhdNuQwvEopN57j87UPecelEORfCDKysr6HY/+cYBn+CVddMoP5WAmZR1HIHOut0z9QcqvenrScgP+5J7OmqSUItStV1igSYlu6LS2NrNr7x7Kyko5q6yEeNzETi1upnBvKMJdX4LB5HvhGcnceaTXxiYhvBg7JZQj5qmM4qMDFpn5FqmZYBodHoTekR5koucZ26FE93lhm25QtfPa0tLKzp07qRpbRV5uLkJIfEYo5dfpfqTTuToILy9B4ojHWoZRLt1L8XH2JGSVg9MEpRS6pjNr1iyi0Wgax396eFGGm85xHaQpBw7Nn8C2bG/RTlYZcAS8ZCIiAi920zB0LMumsLCQlpYWtm/bTmVlJZXDh2HbTkiAwgkj8fsdhppYPO51KbWyYKow5vYv/X3voOsG4ZwcCosK+3QtBwp8Ph+zZs1izJgxgEDTegi/6WJ+FkLQfOIEO3fupLWlhaHDhjFlymQK8gsc4dq0UhTAjrFjmcnFORl/4FnvlO2MQYRXgVkphRQCITvHW3rKid1Ry0II5z/PI0bPi3nq8FIKiooKyS/IB+hzzP/HGVJKCgsLmTdvHk1NTZimmfJt+iKVKfxomoGtLCzTsc5aluXdH+G69ZO0o3YyJty7t8l5SWoaQkAgEKAuWaBxxAinWKKraAiBU+hK9rBoegOFTvtkzjWuF7UruLkq4XDYYdzKIg3uHQgGAp7YpwB6uFTd3TWV8cZ9n7QJePtkFjN289laTYv2lmYiwSAagnDA5ykrHW2qLqM23DlHS41+6SNs3DXTmUelADHArMDpUCkbHa9KgEi1mqd8dyqH6A5pz7lKGTwO4jH4YOd+hgwZSW6OHyX0LuQO1eWf/ZPVO3IyHAzcZGTIKgenFVJKystKO4+nkz1fyYnStpzy3zK5aCvbjThyZ+R05UC4ygGgJ6tLCiRFhUUMHTaUkSNGJKubOkKfw6IkvLhuR3FxOpiWMyrdSbkfMXaqY3FIcl+eWjsfYwghyM/Pp7Cw0PEG9XSNMsZQY2MD9bX11NfXU1JSwpQpUxg+crhXhVQIJyxDpNJDdrW6pnytbIWVsDBtRynVda3H5PzU5jwFoQvPUpfKgchYI9wPlZ3e5yzSkJubSzgczvg0Q8jO9DBJ4c0vUhMoS3lKnGdt9hS0Dq+kSiYEu79z7204nEt1dTWjR41m0FkV3Xt2VBdTnydZ9uGku0UHmUKWES0d7uXN9Kn0FKjX3S0Rqa8ZO3lzvPtdxvOsAGwbKx7DNhPomuN3SFtaROqwEB1zQ1foo6yqRDLnIqWPHW0PUAVBuF6DTIOlTBHSRf/W7JN5dzomnBQ9JTn34MfQcxDKQMpgz93IUCycKKNT7Xd6ErbT3sBdi7LKQZ/hDuqUv5N/im5ML73QDXDX6tRDdBLOU+ZgtyCH41lwHjBNk9iW8lz/HTkMrjvWRiU5GjoEu6TPIFWiUMkEaTonbfU2xEPhhK9IzU1uyqIrpCaid0cx6AlsCJpPNFNXX8+uXR8QjUYZNmwYI0eOIDc3D0069LFSOoPRtm00kcIjmroedDFWhRToPh07nsCyLSxL4FLTdqUmqmSb7ljpXrro+glIWQ86uiSzxfN6gheCaGe6tzPepdxnTWkebS62+2wLRKrSnqIceNdfJcPQlI2wNW+fSCRCNBYjEm3vpPil5Qwk/+tSOexqSIh0tTI1nLIrKBylIJvT1DW6ujc9+HROuf2exoBzPBuBQpOgCWdMKVuR6aH2DFKq+3WmL1NDhv7RVWu9b+wjiU6rd8efafJLV1dJ9E8wPtmN8oZMhvsJcFRaDSmN5Jp1krYyj3XK04HGyQuRftzHTAeyysGpQAk6XE7OYJGuR64L9GpCEzjWuZTBJzSR/Cpz8e94r3WRjOMeT9M1pCYQQkPJpPUvBTLNFNRVJ0/9QRAIZCYPZRad4MZLa5rWpZDj0P7ZtLa0UVNby6HqQxw/cZzysjKmjJycjLnWPfnbo74UHTkB7vu01+4gwOc3ACPz4273P7nIMXAm1A8Dbh2VXkM5lLCuoq5pPXmDOrjCBQJNCmTGHKMbBgiB1PVuBXM3zKgnT9LJlMCTs450PDtZdI1OoYBnsO2T7duRPyAQ2pk3ApxsdH38kSk0p75PDZnJUAq6+fmZglIqzVglNLCxUMI1UPbkSjq9ED0kUg80ZJWD0wC3kFMWWZxOuB6ggwcPcujQYZpPtJBfkMe0aVOpqKjA0PWkJ9SbQrPI4vSii3XZnetcgS/r6fnrxF/jfUnzTGWRRS+QXd3+MsgqB/2EyCoGWZwBmKZJXV0du3fvpqGhgdzcPCZPnsTgwYPRDcOJErIcC6xrER6oIbRZnEGc1hyBLLLIIou+I5NNMYszj6xycEbRj4Te1CZc9KIp27aScbg2ViLhNXJKD1R/WABOG4PAhw9N0zyKTSGEF7Zg2zaGYXgMUd2FAnUHtzJql0iJzW5qamLnzp3U1tYSCoUYN24cw4YNJycnlNwvua90c0eSfehIJEm3tHzErn8Wf0F0Ct9NjwF3c2QSZhyZpFW2lJVWydnd74ws4lll5SMHKZ0KuG4oXDaBPItUZFaQlynMeJmvmXkuWUXhzCGrHPQXHuOP86ZjsLrZnx/u4BXJsphOlUGBlyfaH+G+v/jwL8MpwyvGk6z86y5i7gJnGIZTudqyOuoF9BGu4JT5+9aWVnbs3EF1dTU+n4/KykpGjBhBQUFBGiOISFECOqG3uQVZDByc4lhIpWD26rm4lJBu1rNwqipbltVJ8e1OQTjlBV1l/J0d4x8JuAYWKZ2Ksyrr4syiC7jroZtT5dZZSp1HMhWJbJjamUNWOTgVCEUH7ZXCK0eehkyaMO/HZ6xbiUQC27bx+Xz4fD78gQDKtolEIoRycs7YcT9OsG2beDyObdu0t7fj9/vx+Xwe5357e7tXdK6vLCldJZYrpYhEIuzatYsDBw5gmiaDBw9m1KhRlJaWnrbzyiKLvsIthugO25aWFgL+AIbPIBgMetVv3erYmda9LAY2bNsmGo1iWRaG4VRoj8VjmKbZBR1vFn8pdEUI1G8ppS9TQJK0IB6Lo0mJFJKAz49E0N7WhlIQCoWQmkTZdmev+Ec4SuGvGVnloM9IKgSu5axbfPijtKWllUcffZS8vDx2fbCbF55/gXg8zsRJk5g2Y9qH3p+PInw+H/F4HMMwWLduHdXV1eTk5LBnzx4ikQiGYTB9+nTKy8v7LATVN9RTWlqKruuYpolpmuzfv5/9+/cTiUQoKSlh+PDhDBo0CE3TvDAk2+4ojpdFFn8JKKWor6/n9ddfx0xY1NTUUFfXgGWZXHLJpYwYMQLLdKiLs5a8LJRSNDY28txzz9HW1kZbWxuGYZCfn8+ECRM477zz/tJdzCIFXTILf0jHti0bIeBQdTUbN24kHo9x4MAB6mprSZgJFnxiAZUjRoAmO9fuyfQgZj2Kpw1Z5aDf6I7fXXhf97f53iIYCLL7gz08/ezTmHGLZ599jmFnDePiiy7t+qHpqe0BbPzTNA0hBLqu8+ijjxKLxYjFYuTl5XHxxRdzySWXeAJ7T4KQaZoI4VRxra2t5cEHH+RLX/oSQ4YM4fDhw7z//vs0NzdTUVHB2LFjKSsrI+APpNNRZ7hQs8iie/SwxJ9qrL5be0AJiotL2LhxE3966WVi8RhSaIwdO5alS5ciheiokNufxbkvQzybf/BXC3de3L9/P8uXLwec+Wvq1KlMmjTplNs9HXPgQFdelUgveeMiNfihy0vUR29Ar3dNxinmFxbw+huv88orrxCNRtF1nYkTJ3L5FVd0FDYTorOXoy9yTaeD93c8fXzHUtYU2V/0ebHN2Pqyf1fvUxAMBrhu2TKaGhrZu283Bw8cYNasmQweMhjTtPrfz770+68EqXSLvdkALz521KhRVFVVsWfPHurq6pBSMmPGDPLy8jBN00tY7m5z27Esi1WrVvHAAw/w3HPPsXHjRl599VV0XWf69OmcN+U8zjrrLAKBdMUgM74yiyy6h+ph45SfW+FWURaQn5/HpZdcSnt7O7t372bX7l0sWnQFRUWF3n49y1099dH1yPZi66n5LHqEm0fyYWzhcJh58+ahaRp79uyhvb2dCRMmMHLkyL/0ZchCdF1bzJsmurMz9HbrS1eSHvGSkhJmzJxJLB5n77591NbVsfDyyyktK/OKHYreVD/uUz/duKRT2T7eyCoHpwTb2UTyNW3AZFTY6zQYT2ExTFsYe/7txMkTWLr0anQNzh49kuuvvw7Dp6Hs3igH/Tt2t4t45m8/xAfLtm2PecgV6HvaUvfJz89n6dKlDBo0iGAwyIwZM5g8ebLHtuEUKOu+LSkleXl5rFu3jj/84Q/U1NRwzz33UF1dzdy5c5k+fTrDhg0jEAyc9DwGurUrCxddPUtdzUOp353q4qcQwkYI5xUUF1x4AfPnX0IwGODCC+dxxaLLiUQiJMxEsjJ3V/20ASuln/3chJWcY+ibNzSLDw1uXta4ceNYtGgRAGPGjGH+/PmEQqGMCt+ncgDR+y2LHuE9qZmXjg93QwguW7iQqdNn4PcHmHvBhcy78EICwRAK0cPW32PLbtvujH5oQR8xZMOK+gWV8eqiO0G8nxNi2pE7FwaxLQvd0Lj172/hd79/kMuv+ATDRwzFsmLoRgAwSR/QKuNv1e3imjrH9t4T5/4otRojfJgPld/vJxwOY1l985y4rAnTpk3j6quv5pVXXuHKK6+koqKCaDTqWPmhR8u+EIIDBw5wzz33sH//fmzbZtu2bWzfvp3Fixd7+7kUqVkvQRY9oyuBHzo/tJnPV9/nna7mF4UiLy+HRVct5MU/rWHp0k9RUlIAgKaJpALh9sf2fpPZh9R23e/7PiMInArJkqyN668Pruc0Pz+fhQsXsmHDBi699FLGjBnz4Ve0Vnzc5bhTRuYs4v4tUoTuMw1HT3Qs+HmFxSy8YhGbtrzNlYs/RXlFBUqKbmew03dbO7ckANlpFhw4yCoHpxNC0WEh6+qxsk+6jPcaCqykN0AIsG2VdL1JRp89lP/6r//gby66CCEjSGEjJChlY9smmmY4/UyT8nvWhkW3b06G5CKuDFCy46Me2nBj+ffv3897771HNBpNnmf6j3pjTW9paaG1tTXtM8uyPLahTIFcKUUikfDYidzQoPLycvbs2UNNTU2a1cs0zW7rF2iaxtq1a3n77be994lEgl/+8pdomkZVVRVAmieiJwQCASZOnMiQIUNOet5ZfFzhWOEVFs5ckzmjyH4uZk6NFFAgDJSyUMoNn5MgbGbPPJ9//dY/c8GFFyJ1MzlubWwcoUIAtrJSPKXpokaHANKfxd1Zup0lzJe1EHeDjRs38sEHH5CTk+PMd3Y/rpPou5Jp2zYNDQ2MHDkSIQRvvPEGra2t3XoO3DoyqSGVzqsgdaqW7nh0u9aDFCs1gdQliUSCoUOHMm7cOHIGPHtfhwIPHY9qzAuXldiZSpUSnGz4yMyKsC4Facp/jhqgvG6oDO1t5rwL+NrXv8G8Cy/ACAaJJCynL16Twgtf9NZM5azrCDrWYtVxnK7tbl2MQTfKCNCUTSKeID/kPDtSG1hzTFY5OK1QONZ5k+517swBeWoDzlEI4miaDyk1EmYUkGi6hs+vce2yJQQDAZCx5Jxuo4SNlKCwUMpMiQ92F9reW+Dcn57csiAAHwKji193j1gsxsaNG6mpqWH8+PHe565A35saA24ycOq+gUDASxR2w4JSFyH3b8MwvH3OPvtsFi5ciN/v7zJB2FVmMtmEbNtm0KBBLF68mEAg4BVXa21tJRwOpy1QJzuXSCTCvn37CAQCFBYWEgwGs6FGAw7Ogq6Sc4xKGiJEl4lBfYX7Oyd0RykbhYVlmtjKUX41qYEwKSjMZenSa/AHDIRI9cgprKTQp0ndmWeSKkPmkdyz6c3nXfU0fW8dx4uQRSZWrlzJ6NGjyc3NdQTy3sRsd4ve/9atBePz+SgpKWHBggUEAgHi8bjTUkpxSegggbBtG7/fj23bngLhzLOd1yYhXFX05MqB4TM4cuQIra2tnHXWWVnlIAM2kLAs2iIRTMuJMLCRGc9i5vvMd6nKHLgSveuFdOoXOEqebdvO/spVDYS3XzCcw/wFC5x7VteAlFoaTbKtbEc5TNKeKhSG4cM0TTRNpnYIWyWl/TQ7qErxaKbDZaUXgGbb+KTmKEQD0KmfVQ5OK1zPQV+Ug76gY+ArFJoukMlYYF0XTlVky6ncG84NJqPmJEjH/S4xk/O7DUJL9tPtd+dF/PTAdf/3/umKx+OOMKJpTJkyhSmTp4DoEKB7KxR3tZ+bC+ApB6aVZsWwle15DVyPQGo1xq48DZl/p/bTNE2klF4F2dSEvb4I94lEgvz8fEzTJJFIEAqFev3bLD4+UK7w7iznOM+tJF047muYTfrq5xgebOKxKLpuYBh60uuYcJ5DNAIBHSHd+S6lJaEwLRtd5gCxpCJDWvvK8y+cauCCpGO+kh1teAbIVN9EFgsWLKCgwAn/6n/kYu8bUMoRylKTSNMMO6nWYCnS5sNOFXBdz1DKUE09l56UA0tZ2MoiHA7T0NDQ6/4PBLhPkKUUZsIkkYiTsGyUkFidZILMi5zDD9bTAAAgAElEQVTx/Ca9Bu791pIkBZrMKB6qbG9f534qPFY0ACEw/AEsy0T3B5K/cY4jhUTTHK+/pWxMy0JqEitJP25adopXSiRDllTaYFGi63nHFh3KgaZA2ja6XybnPDHgwtOyysEZQXdhRZnLcG+QGRXo2s0ErW2tHD/ejGla5OaGyckJo+uapyAcrTlCbm6uZyWxLUVbezvKtinIL0B5C2t3scunA733Mbjw+XzYluPSa21tJRAMdC6fbveuPUV66JDrtn7wwQcpKCjgsgWXEQwG07r7wgsvsHv3bm668SaikSjvvf8e06ZNw+fzdWp///79nDhxgqFDh3ayRvl8Ps8K5uY8uEqJYRidXOs9KQtuuFO23sFAhqvEpyb4do7p7xu6HnMKm1g8Ql19LVIKwrm5hHPC6DIXISwsK0Ft7VHKyivSns1jx49hmiblJToJK46my7RWO1QDt1JuX+ec1PZSE7G7PZUBDaUU0WiUSCSSDIHsd4v0yl+cnONaW1vZs2cPoVCIqqoqYrEY4MzDqfPYM6ufoaGhgYULF1JRUUEsFkMlY9E9Y0uKkmFb6YaZ7pUDhY1NTjiElNIrcJlFOjQhMDQNXdOxhYUt9aR8kPlQZSoLKu2b1HtiC+d9W3sbNUePEg7lkJubSyAQ6DDAdZFzpBkGuq5z+PBhLMuiqKgILWlckwqOHDlCMBQiNz8Pf8BHc0szwUCAQ9WHKC0tRRo6XkZ1UsRRGWurEp1DvFM7ogCkxE7t2QBTDrJSRh/hCHeOJV4IHSE0BMktad1Q9DSFSkTKRp82t3UHP//ZL/nU4mu48YabuPzyRXz6059hz569WJZNXV0Tn7rq0yy79gaOHmlEEqKlxeSR363gv+78MQ0NxxCeO77zscRJtu72667vSsgO8oiTPGBCCDRd67Kgkhu+o+matw/gvXc/k5pESIGWdElKKT3XdSKR4IUXXmDnzp3YyqY90u7sq2tEIhG2bt3K448/TjQW5Y033+C2225j586dtLW1sW3bNnbs2AE4oU+rVq3irrvuYufOnWiahqEb+AxHiXAnSiklhmE43ycrhbqfu16MVEtZd5ubm+Cex8koWbP4uMFRDgR20iuoJZ9hSGXzUT1ujvM+lemjq6Noms69v/o1S5Ys5dprl3HhBRexbNl1bH1nA5FIhL1797P4k0tZfNXVtLdFkfgx47D8oUf4l9v/L0L4MfQAEg1Jxxwp0RHdzDm9m1M0OjOUJMMERJLJ6DQSP3zUoWkGUuhI6axV7vzTsfm73aTQ0aRBIBDC0P3oukFuOBchNKTU0XWD/PxClBIEgzmEQmF8RgBd9+H3BQn4Q9TXNfLfP/kfnnv2eXTNIBG3kr/1YVmKaCQOSvLOO9t5/fU3iUajaJpBMJADaOi6D5Csf2sDB/ZXk59XgK75MDQdQ9O8TddTN4mui+Qm0YRECoEUGhoa4mQL0MccIsN4KVBIBbp08jgsCywrGYpjC7BlyoYTLmSrpF6uvE3YTjtSOcpGwPDRVN/AF2/5Wz533fXc8LnP85lPf5p7f/kr2lpaMHSdRCxOIhbD0HWwFdH2CJH2dqKRCA8//DB33nknkZjDhqbrOn6/n5/c9SP++7/voiAvh+b2ExQW5bNhw1t8+9/+nd27dhPw+b25Tkgn/EhIidA6NqlpaJrs2KSGJnUMdHxCd+QHTXaZ1TVQkFUOThFdC2DuAnY6J5+upGnHGbh7917GjDmH++77Db+5/0H27t7Pj+/6KVIYtLdFOHq0jj+/spGf/fReUAaxSIyDB45QXX0Y03TDETJzDdwQhf7Gpmp0KB5nDq4iYds2pml6n3nCtnSKmbkCdTwe95iGotEoSilyc3M9HuVAIOBR7RmGwYUXXsh9993H2KqxfPDBB/z85z/n2Wef9ZLmli1bxh133MHkyZPRdd1TSlyPQTQaJR6PexZ/1/qfit4mJGcxkJFpbnCTcU/3M+aEJ0ajEQ4fOcyE8RO4//5fc/fd/82+fdXc/+vf0NTUxJ49u6mrq+WZZ9by+989iplIoFSIw4ePcujQYWzbtdC686Gg/3NjZl5Balup3pQsMtG1QNzzvfD5fPh8vmQoh2NVNk0Lv89PTiiHnFCYRDxBKBhyQh2DIUzTRNkKf8BPJBphxIgRfPs732bpp5eiaTrBYBBd1718BH/Ajz/gw+czCIVCKNsxgvj8Pvx+H+FwDidOHOd/7v4fXvnzK72s/dKzBWqgKwedoFLyeJTEofaU9CXJX2bcEttWjueopZVoe4Qbb/g8v12+nMsvv4LnnnuW519Yg6YJAv4A4VCYeNQJJS4oKMBv+BBCcqypiZqjR7FNC5JKhwD2H9hPQ30DthDomk5bWzvCVhw5fBjbNNP6ITrO7CQQCJWcoVTn8xmIyIYVfaQg0v42TYuS4lLy84opKx/MBRdcxM4PdhBpj5NI2AwZMpTZs4fz4gvPc+mllzBx4hRPSA4E/H+xszidcOMYNU1j3759rFixgk2bNhEIBFi6dCkXXXQRoVCIPXv28MADD3Dw4EHGjh1LY2Ojw1hkO273e++9lyeeeIJZs2Zx/PhxAoEAuq7T2NjISy+9RFFREWvWrGHVqlUMGzaMRDzBgssW0NraypEjR5gxYwbl5eW89dZbPPbYY+zevZsxY8Zwww03cO6559LY2MhDDz1EVVUVTz75JDU1NSxbtoylS5c6QRZZxSCLk8INKzqdK1e6IGXbyslHUpJYzKSouISAP8TcuRcwdep5tLS0IISGzxdkzNljmTgxwP33/5qLLrqIs84aSk4olGT40nFskonT2NcsPky88udX2PXBLq686gpGjhjFCy8+z65du1h0xSIqKytZuXIl773/Hrd+8VY0TeO73/sub7zxBsVFxXzq6k9x9aeupqa2hi1btlBcXMTIEZW89957PPKHR9i3bx+hUIiS4hKWLVtGMBAiFo2xctVKtm/fTm44n1tvvZWhQ4fy61/fz1sb3qK2tpaamhqWXL2EMWdX9fAYuNJu30NaBzIUjj6QzmF0auuSsiwSsTjKtkEpCvLyGFc1kssXXMrGtzZwcF81hjRoONHAU08/w+uvvwbAggWXcen8SykvKybo85EXzk0JP3NyIBKxOFgmhhAYukyGqikSkXZQtmPuTDo00gKnU4aBck/vJPDCnkQyNeKUrsZHE1nPwUcOHRY4n8/P4SNHee+9d3n5Ty/w5z+/ytIl15KTk4fPcOL0r7nmGiZMnMi9996HZcbw+X1Ylo1lfXwsbEIIWlpa2LRpE/X19SxdupSSkhLuvvtuNm7cSDQa5c477+T1119n7NixvPvuu2zZsgWfz4du6Nx7773827/9G1dddRXBYJAHH3yQ1tZWpJQcOnSIxx9/nGPHjlFSUkJRURFlZWWMqRpDSXEJGzdsZPXq1dTX17N69Wq+8Y1vEIlEWLx4Mdu3b+crX/kKR44cIRKJ8IMf/IBvfOMbjB07ltLSUr7+9a+zceNGhBSe1yOLLP6SsJWNbSv8/iDhnBDHmppoamri6aee4v33djBr5mzC4Rwsy6Q9EuH22/8J0zT5+c9+hmUmCIZCoBSm6SZLdw/Rzd9ZfBg4ueDX0NDIypUreffd94nF4jz88G/59re/ze49u7Esi9/+9rds2bKFcDiHr972VZ588km+cPMXmD17Nt/97ndZvXo1LS0trFq5ivXr32LnBx/wk5/8hIb6Bq668ioaGhrYsXMHuuGEg65du5aNGzYyadIk1q9fx5133ollmZx11lnoms7gwYMZd844DF1zhM4+nGkWvYEjW4jTEAHhsgppugYCjh8/RvX+g7z0p1eJRCKMGTOKxoY6fvXLe3lq9WrmzJnL8OGV/OxnP+VPL79Ma3uMaCzuedRdr4FQUFSQRygn5PhNk8nOKJtgINhvIucsOpD1HJwBfFjDUwh49dX1HDlcQyTSzokTJwgGQ8mFGWpraxk0aBDLPnMd//CVr7Fr1y6KCguREvpdiOaviBBEIMjLy+Oaa65h4cKFHh3e/v37aWhoYNOmTdTW1nL77bdzxRVXYNs28+fPJxgMIqXkj3/8IzfddBO33XYbiXiClpYWNm7ciKEbBINBbNsmNzeXWbNm8eabb1JVVcXixYudECEUwWAQv9/P2rVrGT16NP/0T/9EZWUl8+bNY8mSJWzfvp2ZM2cihOAb3/gGn/3sZzl27BiLFi1i7dq1TJ8+PVsALYvThv48krrmc1i7bBNl2bz0wovs2bWbpqYWWlpOIJRACh85gRwS0SgjKiv5/ve+z7LrPsfXvvY1h0zAVuh6AFvFOJlDLO3rv6I55eOLVHug6DF05Pzzz2flyifYt28fBw4coKG+Eb8/xIEDhzh27AQNDY0sWXINjY1NvPjii/zzP/0zCy6bT1NTEy+99BJr1qxhwoQJnhe2pbkFIQQXXXQR1yy5hpqaGqoPVVNcXEQ0GqFqbBXf/OY3mTptKoMHn8WP7/oxkWgrixcv5vE/Ps6iy6/kxhuu5/ixNoTtKLFKJEXazIGWMp1+fMxgHx1o0pEvLMumoa6OX//qPp5Y+STNzc3cdONNXL14MRs2vMX2bduYOXMmCxd+gta2drZv386OHTu4+OKLiMVjtCcJVEzLwjQtJ5FY4RCWKEUkGvEIPzrCimWyBkaKR76nvOrkB065luw67CKrHHyEIYTg2ms/yf/9v9+iqLCIFStWcOuttzF7zmxyw2ECgSCxWJxJk89n4sQqHnzwQcorysnNzSWRiHfL9ftRhGmabNu2jRUrVlBXV8fhw4c5evQoQghqa2vRNM3LLdA0jdLSUhKJBJZlcfToUaZMmeJwLytFZWUl69atIxqLetR7bk6DWyPBtm1isZiXe2BZFtFolGHDhhEOh9F1nZEjRxIIBGhoaMCyLHJzcxk9ejTgsHW49KZZZPHXBIdq13GoX3nVVdx+++0MGTKYn/z4v/nJT37CnLlzyc0NY5omx44fZ8Flixh3zhi+973vM2JEJfn5+YCFFBqq22rxWfy1Y/DgwYwcMZId7+8gJ5RDeXk5i4YN5b333iU/L4+EGeeCC+bR0trCieMneOzxx9j6zlaaTzRzovkE8+bNBaGwbItEIuHlGmzevBnd0Hln2ztMmDCBvLx8otEoxUXFhMMhpBAEA0GHHU4JIpF2LMuisaHeo6q1s0LcGUAqG5qgN94llFMYMRNCdngeikpKuPHGm5k7dw4/uusuqqurOdbcQmskSl3NUVY/8QRvb92KbdvUHD3KxZdcTNCnE/T7MU0TQyh8hk40Gk1+5qzHQikMXUeXOraliMXjxLvzwPeZacilSx64yEonZwCp5Fxn0ggWjUYoLy90GBoMjdmzZ6MbOg319RQXFyOlk4Cbl5fDTTfdxM9+9jO2b3+XqdOmYFr9XLT/Sqx7QghsbA4ePMhDDz3EgQMH+Nd//Veqq6t54IEHUEqRk5ODbdu0trZimiaRSIT2dmfBUbaisLCQAwcOeAV6jh496jEMpSoH7vHcBGM30dllIpJScvz4cS/RuaGhAaUUBQUFHqWgy1RkWVafKfWyTEQDGV3xn/XMi9ZVC10hc0R5rQoI5+ahGz4UkukzZ/KbBx6lpq6eQRVlICXxeAJlW/znf/6AL3/5y1RXVxPKCWDbJlL2xjspuvyzb7DpIFHICo2nDpXGCRoKBpk5cya//e1vaWxsZOKkCZxzzliWL19Obc1RRo4YyahRo9h/4AA54RyWfWYZ13/ueo4fP04kEqG0tJSmpibC4bDjqRZOvZb9+/djmiYTxk/g6k9dTWFhEfF4wssTsGwb27bS2N5MM+7QdJsWphlH60J0SXsSMhgos+glkvpAB++i+2HGDh5sR0HohGRh0OQ9NXwG48aNZf6l83nkkUd4+eWXKSstobi8nHnz5nH1kiWecS4nJ0QolINQEPQHsEybcNBPTDMozM+hpLiEmppajtbUUlCYj4pb1NbWE8oJU1JSBko6zJHudKBkclynJh10o/go6ZREOIVq4B83ZHMOTjtSmXp6puzr3ZbK9JEeBxgIBNm+fRsbN27gtbWvcu99v6K8vJSRI0cTjbQTi8UwTROfL8iM6dOYPm06H+zay4kTJ/D7MhOSUx+W0+FTOBUO84wWehFq4wrubh2AkpISAPbt20djYyMAVVVV+P1+XnzxRTZv3swjjzzC7t27HZclihkzZvDss8/yzjvv8Pbbb/Piiy8Sj8dJJBII4bAdCSHwGT5s22bnzp28u/1dotEoQghP0RhbNZadO3fy8ssvs2PHDu677z7C4TCTJk3y9olEIt656bruJFup7tivOl8P91yzGMhQOAUM4ziF0Pqi6J9MoUjWIkhWsN27dy9bt25l06ZNPPXU0wyqKGTEiOG0tbfRHmknHo8hpMHceXOZM3cWr722HtN0GLm69hqkzmV9nR8z2+mq3f4yrQ1gdHHZzj33XGzbYt26Nxk3bhxTz59KNBJlzfNrmDx5Mj6/QXl5OePHj+fNdW+ybds2amtq2bFjBzU1NZ5HFaC9zam1MGTIECZMmMCQs4Zw7Ngx2tvbCOfkoGs6CoWerCTvjsVwTg4lJSVs3ryZd7Zup6mpCSHwNpLFtjo+cymdU/ZRrkesTyQ8H2uIFNk/WT0I13Pg0JuK5EYPm+hSiNTcJGIh0DSJbZrk5YaZOvV8CgoLWb9+A+UVQxg6dBjvvfceO3fupOboUbZv20Z9XT3RWALLVhw+fJg31m3giZVP8ezTz9Da2splCy9n984P+NWv7mPDxi089fyLrH7mGSZOmULFoAqU6sKTkdJntwJy5oaSHcytAEikGrhZDFnPwelAcvQ4nit3IXMft4xCV30eat0zLkyYMJ4jh4/y298+DCik1PjBHd+mrHwIdXUHmDtvNkXFeSQSzeQX5LFkyWL27t1B1diz8ftTlYOUKqMpbCg9iaA980D0XzGADorPtONmCNFuwlJZWRkXX3wxTz75JL/5zW8QQnDuuedSVlbGiBEjWLZsGStWrOCee+6huLiYyy+/nKFDhyKl5IYbbqChoYE77riDYcOGMXXqVHJzcz1q00mTJhEIBCguLub/s/feUXZc953n596qeqkzOqG70QkZIAAiEQApkQBIiAmkGGSKkixakiWvLckrrVf2HntmPZrVObZlj+w5Z+dIO7Yl25Ilj0iKVGBQophFgaBAkMiJAAg0cmg0OrxQVffuHxVevdevEwCCBPp9cR76hapb6Xd/95d/N910E48//jgPP/IwH/3oR+no6CCdTpNIJLj77rsZGBjg+eef5ze/+Q2Dg4N8/vOfp76+nr6+PtauXUtdXZ13h7Tm2muvpa2tDVe5Xhv4IqG/VI+HYN8yJisCc5gLYSUg038V0svIVJLvIDpc6NZo7YKAObPn8Na+t3jk0UdwHZdkMslnP/tHNDTUk8tlWLt2NXV11WidxjBMvvCFz3P06GGWLluCNEBQqtGQiB6p4HMgrIxPeJPklaJxhkBMQkS9jUKI4etPIDkXWIl9BVFqWlqaWbzkWhLJON3dXbS0trBy1UrPqLJqJVoLYrEYX/rSl/jnf/pn/uf/9z8R0vvu4x//OO3T2uns7KS9vd1XGDXnz/dx5uwZXt34Kk89+RSf+/xn6ejowLQsYrE4OdumtWUq1y1bimVYpJIeb/32d77Dv/zLv/DQQw8xtbG54DK0LOGpDxcpr6eH47h+199JDt+yHpl5kcmnEdHu1L5XYOSGhV7eioha2gVI00C5imQyxbWLl9DW2UnWVbR3tLH2lrUcPXqMRCrB/b/zIR55+GH+/dvfxjRNYrEYH/3ox5je1c2C+dewZ9dufviDx0hn0tTV1XHNgmu49fbb2bNvH7/Z8Bv27nuLXM6mfVoHn/70p6msriaTyQan4ReuCq5t+OVGPQiBYgAgtAStwvKmkxFCX0GSRmAd3r9//4S7xLqui5SSeDzO1q1b2b59Ow888IBXl7noFow2dlBnOZlM0tDQQCIR6d6LC2TxLHpRYTuyf0knfv7X0lay4eOA4OTJ05w8cYJMNgMYNDTU0d7e5bsFHfbu3UNrayvJVBLDsHBsl9OnTyINg6amxsixdYn3oy+0oysHUUggDiRDRjOWlTwoTfrII4/Q1NTE6tWr88cdYV+tNUNDQ7z99tv09/fT2tpKPB4nlUqRSnn1tw8cOMCpU6fo7u6msrIS27aprKwkFotx8uRJ3njjDWbOnMm0adM4efIkU6dOJZfLcfLkSW/xMk36+/vZt28fAF1dXWHeQUNDA5Zl0d/fz6FDhzh16hTTp0+ntbUV5XpVGw4cOMD06dPDc+7p6aGiooKampow3KjgHkeuNZPJsGHDBoQQLF26lKqqqjHvfBkTRzab5fDhw2Sz2ZLPZDQ4jkNFRQWvvvoqgwODLF26lGQqOc7a7Hm4rks8Hg9pzoMCHDQ5BDl0AZ+xiCoH45+b4FUnCfYQaC1xlUIITd+5Po4dO4Ztuwhh0NraQnV1NYYhcRyHI0cO09raimlZWKaFUg6HDh8iHrNonhp0Ti7kb2Nxv/Gfd8CnTCAFOpYf/R3WEaINC4eGhjh58mRoHS+F4vVEKYVhGNi2TXV1NZs3b2bv3r3ceeedSCkLwg3HE0roOA7JZJK2trZhXdy//OX/h0///qepqa3Bztl+idlwdPI3K7q+ePdWaYVpGJw+c4ZMJk1d3RSqqqo4dvQY/QP9XhUh00QKr5njqdOnOLD/ALZt09raSkdnB47jcPr0aWKWxa9+9SxPPf0Un/nMZ1i0aCHPPPMMj/3gcR748AOsXbMWpRWpVIpYLEY2k+X8uXM0T52K6zi4rmbnrp0Y0mDOnNkYwii6jOizLxRkNZBMJnnzzTc5euwo73vfDbS2to56T98pDA0N0dPTg+u6WJY14dBSKSWbNm1iYGCAJUuWFKwDY/GY6LFiMYtp09qIxRL+3dI4jsu5oQGGcjYIC0TMF57HYewrCtvJZNJUVlaQyWQ4e+YMqYoKqqurUVrTe+YMA4ODtLRMJZlMcuzocY4eOYKdy9LY2MS0adOorKik91wvJ46fIJvLYhkGSEn3jBnEY0lyuSyHew5y+O1D1ExpYPr06dTV1WHb9gQq//n07ysIWoDyOycbSiO1JgZMra/0unVrEBdZx+VKQtlzcMmhfG9BMFEKXevDnXBR5hC4xEspB8MX2qamqTQ2NqO1jetKPEtiDtvOYRomM2dNR2uNEBqtHUxT0tTcgECilUKEhyme/GNb4sYv6kSX/PFlBTmOE3oEokm7oykGQVOd+fPnh98HITiO42AYBrNnz2b27NlhQnE0n6CpsYl169aF3ZQ7OjrC0J/29vZwvFQqxZIlS8LPUe+GEIKqqioWLFgQfu84DpZlIaRg9uzZ5HJec6hYLEZHewca79y95zSGQlbOOZikKJ6fQfiMST55UPvCcYE9cNgopUfP/+KoLFqDKU2qa6qpqa1BSAu078kTkHNzSEPQ2d3phR9I34ovNJ0dnWjtoLXr8TpRiq8UflOM8VK4HtY5vjw3iiGl8LrE+nxtuOEruGcFFeEB0EqjUUyd2oRpmmTSWVzHoaW1hWnGtJD/KT/huK21jenTuxHC43vZbBalFF1dXWitmDp1KhWpCn7605+yc+dO3n77bebPn8+8efNobGpE+vsJIUjGkzQ2NpDL5MhqTSJpcdOaG5Facv58H7q4FLcUYZ7McHjXIQ2BlGUaGRFCh0K+Jug2HqWLke6dzu/vfzZjFkgwYwZd0zuxXQfXcVGOQ11DHY0tTbiui4tLW3sL7Z1tCK2RQpDJZhkYOk9tXTU1tdUAGAK0kCAN+s/3E0skmDNnNtfMme0FVzoKRznknNwE10gdXqMWXnyVxO8fr3W+2toVY0K/dCgrB5ccwQIYUFM0ZCf4PQ+thZe8Z5h+MozwGbggk0mTzWZJJVNYsRjDKVSgtYvWBradwbIMpIxhGoRWOyE0hjRRygsVUEqFBG+EHUcvZokeab/o3+AeqMjnkY8RCO9CCI4dO8Zbb70Vfl8MrbUXT4oOhXkvtlSHXYldP/k6KsQH1tzA2qKVRhre78Gxg20dx8G2beJ+9YTiKkPBNkGcNniJd4ZhFFgZg2odAuHF1vrjBKXYSo0b7J9Opzl+/DhNTU1lBWFSIxCIA09BdE6NpNCPFSAY3cfwjRsSpRyE1EjtAgLHtTEMbz45rsKKWVimCdpbWLXWIBQIgSEMlHYpDF641KE/+byF0OgiIG9wmawBAXlIaXDs6DGGBgdxXLcwSbxAkg4EQ/99EFrq89CAZyrlVQqSQuaNSxq0hpMnT2LFPAOXUhrXcRAyDGinvaOd++67j31v7UMpxZzZc5g7dy4VFRUcPHAQBJim4TWv0gJheOEdWiukIbFtx6chjWmYkTP3gsj9pWAYNAopRZiDNtGog6sTw+ei9h+7FKCEH7oYDRcqmXgMxcm7GgXa8Q2WMDQ0iJBe53Xpz89cdgghJIYhyWbtsLO2YUiU0qQHh9DaK9phmia27XlarFiMWMxAuQ4DQ7Z/JR4tegnQwuuBMa41Mk/vGkBJP4xIIZRG+H0aXFd5x5hky25ZObjkKJUUN5pyAEpLJAZaGyglcBzFqZOnOHKkBytmMWP6TEwrUZI4PWavSaUsfzwX00ySXyD9TAh/UbAKBNCJCA3jhSh6ed8FDHz4cYcfQ0ov/r6trY3NmzfzxhtvjHy0SBx+IIA7jhNa7g3DYGhoCNu2w3GDBa+4CpFpmggEtp9QGaCvr49MJkNra2s4dnCegUUuUECCDtSBshB4DxKJREGeR1SRCDwb4d0pcg9rrcnlcgwODjJz5syifJEyJg8CJcDjLwJv7hdaf0thtNAFUeDNtAwrzAWwLKsgUMmIeQmjmXSW3Xv2MGf2XOJWItzXKKpOJN9RH3wQP+/fjwLeEs2pmGQrehEaGxvZsnULiUQCy7RwVcSTHZ9ox7YAACAASURBVMZb+1JhwT0sVA68954gptGhAUUrHfJe4Vvlg+1dxw1DgXt7e6murqalpYV5c+eRs72Kb73neunt7fVozidlgQj1FNM0Cgwttu1gmkbY7EqLPL9UeoRCGsITOnt7e2lpaZlwuODVi/zc8E1YmEaMhDTQUpZQBkaaT0X8RWiIx8I9NCpMHBd4AryKGOZcwyVheZX/pJCc6zvHkcNvM3PGDKbU1RX0LPBMIQKFCOWh6HKptcJ1JlKgwQ8p8olPaOEFWiqNRJKMx1CuxjT965pE/KSsHFwAQotzMSfSUYteqXh+CjVaDQKFZSQBcJXL2dPnePtQDyeOH8MwTGbNnk08nkQrTxAtoM2ozyuYyDpa0ci3Ko5IzyPlHIQHGGnHMSD9YSLMRQTxfcGwoy/chmFw7bXXetWHxtJhyCsHhl/pIlAOstksvb295HK58SkHQnjNzfzxlFKhYB6EGkX3CRSEqHIghcR2vEpHhjRwHId4Is6UKVMKPBLBghfkWJRC9HwtywpzG8qYjAjmjOHPc52fS1oQiRMswsgxw3kBO7ptqf3zsG3Yt/dtWls6qayo9RdvKEwQHmmsS4kgJKD4u8m1iI8ErTV3rb+LofQgWmvi8XhYrjm/kX+fCsK/dMEYeU+lCL2eSmlvldP5bYLNpJS+pdj7vvfsObZs2UJDQwMLFi5Aa1VgZBEiEPX9EKjA36TBMCWO7YTjua6LNIyCYDJfjUGPRG4ir+jU1tb6fTjKiEIApmGQSno5CL4pPvxtPGtwgWhSREPBP09HEOF3wt9Skjf02UMWZ44dZ96MmdQmKwpkJuXVGcUtGL/oVOJFn8e4co13CA1hArII3vssN38KOtzvakdZOZggolbdUEEooBMTdFTQU8HGeQE5AiHAdW2GhtLs3bObo0ePozW0trbR3d1Nbd0UpGEEXLhokkaoNghfwSgRfVSCkHWerRZ6GfTF0b0mco1yhO/HVgyEEKRSKWbNmjVq0pbwlZ9oTWytNVp5C9NQeshv+pb3HATbRXsNBF6GqHIQfJfNZsPcg+gYxWNFz72U56C1tbWwcoj/XrkqDGkqeUv9RTZ63HJo0WRDZE6FfCAynwKjwCiGgBGC+Io3o4CBFFWzUa5GuQbKlWhlgDbzSklgoAj5nGZkiS06/oXAD3soKu+c/608PwBa21oK4uwLHseodqBSvCYipLlePHahchB4Dgh5sm071NbUcvr0aVpaW+hob/eEQVlo+dWq8FiBriIMzwNhmN66plwVKhAAWnhzIfAZlKK2wusv886RIITAFEaBaj+uOzVMXh4hvitUNkRehfe9T+DF+GvA0gJsB9O34IflaCEMhDYQ+ai4yEmW+GrcCJSE6BeFSsGlMJxeOSgrBxPEaJVHgt8KanIIw48zD5LB8l4Fx3Fxlcuunbs4duworuMydWor7R3tTJkyBdOy8oyshGJROCsmSqxRFhAIpuriab7AaJgXeCdyeqXKlU5kHyEEwvAF70hr9cA6H+0XELqk/c/RXIRo/4Ro34NoHkHgNYiOE82ZCBSQbDZbcJ4F5ztGklzxtV1BBcbKuMQIwjo8i1d+sS32SEZ2KH4z1gG8BkLD9g0Gdf28KAvH0WgdifefaBjPRa+vwT2IWDhDT0gpg8ilPPZ7H1FrfukNxjEGpelKRPVA5Ruai/aN5oMp7fp5bxrt6rwGEfwvi+jOV1I1Pn8MFeIiwbNYMYiSangeeQWhzDtHhi6aIAXB0eOglVKxB9HPIpLjEnKucKdCL8VYxTcmyGnGhWFjDjvAJGAaEZSVg3cCERoKQleCkBXwrC4azd59ezl06BDnz5+nsbGR2bNnj15ibRyMftyWkZKzPohhvgQQxWO/O4hWJIoynKiAH922WPCPhhfFYrHQQxDdp9Q40c9BCFOpbUt9HgmlFIsyJhMidrEoDYxEDxdKJiX3C6zCBqZp+Rbo4Dz8OUUJ2nwHSVVjlHDyCyhVaKEsEwITMdIUK4iFTqUCazyiZESbEAIrZvoehkgFP1H0MESJ5SLyhTBEaMYu7rrtUZ8o3HeY5zz/tpyMPBwC36MUuY2CIiPnmNBR7lREaGOMM8zm6XXJ1lqP6FG//Cvg5Ftzy8rBBSCshkM+bm7EbZX24tD9cBSlvGTj7Tu2c+LECZqamli6dCnNzc2kUqmLPreLFxwn3yQoo4wrA+W5GcVIgVLl+zTJUX78FwWhmYASOZK/4GIeggiTkMt49zAplIN3wpUYtTKPBsM0Qgt0Op1m8+bN7N+/n4aGBpYtW0ZbWxvJZHJMN1oZVwfKz7iMi0OJuIn3AMrhGmWUceUj9ANOOOHgEp/F+Nqkl/EOYlIpB1p7VvwwmekSLGilxtBK+x53TynIZDLs2rWL7du3E4/HWbJkCS0tLdTW1oYehbLQ+N5ANEE52uQsyFcIwpOilY+iGDVOsvyMy7ggFDjsx6ajS0xmwTwIku1d1y2o1FWcoF+m86sTI0avjfj98B+iuV0TO/jENi9jYghj/S9sz4uGl5QswiJJWmsc2ynLRu8iJoVyEMCyLBzHIWd75dyEEMTjcTKZzCU7hhDCKyiiNLZjc/DgQbZs2YLruixdupS6ujqmTp06LL69jPcGgiZqpmmG5U+DpObg96AcYCAkBSg/xzLeObyLtKWH03Z0DgRKA5TnwFWPUo93pEeufcXSVQUV58px/+9NXNjMvQTz3c9fcpVCqCD3XPsGuDGS6st4x3BFKgcTZS5hIrBSxONevflUKkUqlQqryFxKKKU49PYh3tzyJv39/cyaNYuOjg6am5oxTK/ufelW9mUUYni64TuNoANyNpsNa4MbhoFlWaEiWZyUXEYZVzOC0pFDQ0Nel1LLora2lkQiEXoSogUX3g0UFyIaVpioLGBcdiitsB0bK2ZRU1NDPB4vV1srYzj8RGjXdTCkQWVlJTXVNZim6ZWuRY7cwqWMdwxXjHIQWNovZAEKylFu3LgR13UZHBzk4MGD/OQnPyGTybBu3boRm1BNFIcOHWL79u2cP3+e1tZWli9fTk1NDclkEqUVylYh0SMYs4zl5MblVw6CcCHHcdi4cSODg4O4rsuxY8f45S9/iZSSRYsWXTJ6KaOM9zoCntvX18emTZvIZDIcPnwYrTXnz59n+fLlzJs3b8x+HZf8vBhW1bLgb7BNGZcfSilOnDjBhg0bsG2bgYEBDh06xKG3D9HZ2cmcuXPKPLQMIN97o6enh507d6G1ZtfuXWRzWbKZLCtXrWTGjO4yvVxmXFHKQYCJWh+klMTjcQYHB/nXf/1Xjhw5Elq77rnnHm655ZaCbceKG08kEpw4cYJXXnmFhQsXMn/+fE6dOsXWrVs5cuQIzc3NrFixgubmZhKJxLDriNbTn1i5sMmE6PMduQna+MbRfvk8v2P0KAjCiExT4jg5/vpv/gqBxLZtpk5t5v4P3c/KVStQruvTSoljjed8RkS+NGQZZYwLF2uIHSe5pVIpfvzjH/PSSy+FoZgz58zmprVrsF0HgUBMIAcHuKhzF+Tj3aOzKppLqSOfJ/2sGuteh5moJTtYMZE7GHjGN2zYwCOPPIKUklwux6pVq/iLv/iLste8jDz8CZpMVvCjH/6YZ5/9FUPpQSzLYsGChaxatQo5AdeBvhhxoQgjHzaQJa5ernLFzFCtCmP0A+Yznhd4nWsDgf3s2bOcPHkSgFtvvRXLsjAMIyw5OtYrnU7z9NNP87WvfY3nn3+ejRs38vzzz9Pf389NN93E+973PqZNm0YqlQqrEEVf3kWUvQaj41K5njXjE9o9eGFmGsuyWLFiBQsWLODkyROcPn2aZDLJ2jVriMdjmKZ5AQvc+M+jjDLGjYurGjhuJJNJbrvtNgYGBujp6eHUmdP87sc+RlNjE6Y0kIaButwsbYTpVJ5lJSDGeI3KnwLjyvhRX1/P+vXrEUJw5MgRbNtm0aJFzJ49u5ybUkaIIAl5Sl0dq1Zdj5CSEydO0NPTw/33309rW8v4ZaXyxL9kuGKUA6Dgwdu2Pe6X4zgopairq+Puu++mvr4ewzC47bbbWLRoEa7rhtuNNZbruuzcuZNnn32W7du38/jjj7Nr1y4WL17MunXraG9vJ5VKYRhGObbykkNe+EuPb7tUqhLTjJHLOVRX1/I7H3qARCJJU1MT69ffRWdnN4MDaUBiGOYEz0OM8RvkF+GxXmXamiwYD0WMKfiVeGkxMUqLxWLcfued3LRmLfFkBYsWL+XW2+9EI1BC+GE+AlXwGmPsCzjv4ULtxO/h1Y8RKaUExstzJvYyTZM5c2Zzzz13k8vlmD69m1tv+wCpVBKtXQoNN2O9LuW5lXnnew1KQSwe4871d7BwwQLisQRr197CmjWrSaWS7/bpjYBiGr26cMWEFUVhGAYVFRXj3t62bUzTJJFIcMcdd/DLX/6SN954g09+8pNUVFQQi8WAfKLzaFaNgwcP8uijj/Lb3/4WpRQ7d+4km83S0dERNjG74HJtZYwAb1G7MGXLXxDE+NyAmcwQ4FUlGhoa4LrrlrF06WIGBgZ43/uuRwiNYQqUdlAOEwwLU0QvYTh9RBfv6KIYKBUTlIjKuOJRvOyMNAPeyRT5MExHCCoqKrj3Q7/DM8/8igcf/Cj19VOImRYaSDsulmkUlCiPUmopqp3ojB4P5Y9nm3GXcb+iEVUIosFVAj3szpfiPYUQyKLtxoKgbkoVa2++kccef5jVa25gyZKFCKH8Jld2wbaj41IJX1EDzdVPAVcKvMgQmNrcxL333sObb27mM5/+fVqmtr7bpzYBXF1c5bIqB2fOnGHv3r309fUVlDYbD+LxOOCFfZw4caLgt6AOt+u65HI5YrHYsJAPIQSO4xCLxWhtbaW3t5e33nqLnTt3FmwDhdWQgq7GUkqy2SzPPvssTz75ZFix5tSpU3zta1/jxPETXHfddVgxK9wnUBCi4zmOQyqVYmhoiHg8znXXXUd1dfWE7sVkgdbaF+p9WgkisiawTjj2EKahMI3xkbqImWjtlWhMJS0qUhaf/vTvcezoMTrap+LYaUwJASMQo5xMcR8XjQ3CiHwecU/ARRBY14LFzPBf5YVtMqDQJuXRm+0Gtb/zPOVCu4mGEY75SEfvWDryV4PS+aRBJFy36gb+83/9CuvWrUMbJjl/W+EnDNoKHMerSWiaeXq/OLXWDymNKtcSlOtimgZKu1jSCL0X0VIGk2OmlAoCCHing8bFM2V4z2P4PSmlhkY/lxp/9DurtMIyDZZdt4h/+O9/S0dHB0Lakd0mIvCPb9vS2RJRo4pPj1pOFsIYNxzH4ejRo/T09JDN5HDd0QxqE/W/jR2kIqVESIHSgve9fzWOq/ntpteRUvgMyFMgHNfxzsBVBeFGxca20sbZ0TmCVkEZ8ww5O8esWbOYOWMmQmqEKNXXqHjsqweXTTnQSvPGG2+wY8cOuru7kVJOqCRkNpvFNE1M06SqqgrLssLfguReL5HUDKsTAQV5CoGgvmbNGm6++WYSiQS5XC5UVEaq1a21DpWD++67jwd+54GC33O5HIZpoLQil8vhum5B4nF0vHg8Tm9vL9XV1WzatImhoSHWr19fboY2DBLPHuotbqBKWLtGhvaZSU1tkpra5Li9DsH9dxyPNg1D8vGPP+Are/mE8uLtS55D0U/ScNA4+X1HZCaBxyDYVlI4Va+saMAyLg55H5Ii4+TIZnMoHcwGgRASoYuEPj06jWit8i8K6VpKiSzihUIItBAIKaioquRDH34A5Sr6B9MF47quW2D4KeapXtLyhfC4QmFECIVpSAwpqbBSiFC1yc+qq8/RPwpGvFjHfwVrrQvIErx0LB+VGIFflX6WWmtyTpaYZdHa3MgH77nDN/bYvqJSZLx7Rz0HgUAYHLPMP4uhlOLQoUM899xzZLNZGuob0AUxf8P2mOARRr/n0ZzMKXVTuP/++1Gu4uiRoyBUwZobi8UwDJOhocECo9+lUA4c1yFmxUAozvWeY/fu3Xzus5/DMAVSaqScPBWTLptyIKTws88XcNNNN024LFXgGYgqBcW/Q2kBP5vNhj0O0N65RH8fj3IQ/TtS58diL8Fowr5t2wghQuWkXL1hJARCcl6oHo+CHt52X0kYrzgSWGQNfzGVUiOFQcATxAUuLN5ibE9giXPxrjli7Sp4X8bkgsBxHTK5LJlsFlfrMGBfCJNgfoSW9TGUg7zRwudRwlMytNbYrs8PEUXKgT+09ix4ChhMZwoqiaiiUiHDlHJ9gcqBGK4cWAbELRNI+ucQUdq52ux4Y0CUEtY8z4EnjNt4d8SidNy9LtqvFKcyGHdwmNBIQ+AoB1MaxIwYCgeFxlEOQggMISNKwaV6WqNx2OD8J5XaOG44jkMikWD58uuYN3cemUyWy6oc+HJZUHzGtj0vkxSFfEW5ilQqhWWZ9A8M5I8ghkeLlDgSo9GabdvEYjFSFQkOHjjIE08+AYBlmbiuPeJ+VyMua1hRtFFOsQV2LEjplZN0Ha8rbbSe9sDAANu2bUMpxdIlS70cggidbNq0icHBQZYvX04qleLYsWM0NTWRTHoW5YAYpSHJZDLkcjkqKysLFJioZ6IYQafcUqFMpZDJZMLFOaiQ5DhOuY5vAYI8gUA5CLwIE8PYjhjPKu+6DoODQ57yKDxhPh6PI6XANAzS2fPksjlSqSSWFQM0juPiOC6WZWKagXBSGAgy9rFHQqnFO1i0y4vb5EDgG/BEPEe7ZG0HV4OQJoE1tKTnYBwQQqCUJp1J4yo35EfxeNw3wgh0ZFEWgFKaeCyGEIIzZ84gDEkymQx5nYEMDR6JRMLjm1p7IZ9Zm5gZw7IMJsD6fRTyRimVF6EnZSRYpozhUOR5p4z8LfYSjJVzIIZ9r1EI8sa6TCZLLucJlN4aHcewwFYKQ7hkMjm0djEsA8swEYYgm/OakMZisYhwV4o4LobnBbHgUR5aRhRSSr/ZZ8yXR9wx5LPC34YZTqNxfQG9BbGKJRZlrTUSieM6HD9+nIqKCiorKzzeJrzfgu0am+p54fkX2bJlKw9+5MGw+IuK0rAfeln6fEa5Kp9XmaYkZ+e8JqhmIR+cLLisykFg/Q8s5aOGZERc3AECy3/gElVKgYaTJ0/y8MMPA9Dd1U1DYwPa9UKBBIKnnnqKQ4cO0d7ezm9/+1sefvhhvv71r9MytYW9+/bS3NxMPB4nkUjw7W9/m4cffphvfetbTJ8+vcCqH80lMAwj9DgE723bDoX90a4ruHbXdXH9evl5orwic8QvIVQYDypCj0Exk7oYL0t0gZM4tsCyUuzYvokvfvGLSCmpra2lsrKKj3zkQW655Rb6+vp4/PHH+elPf8rHPvYQ99xzH1rZbPjNb3nxhRe5+eY1rFy1Aik1iGAhjnorSp/v2F6IwNIVCZTQujDvaVKZRycjgkVJYEiDWCzmhaZpL8xHI9BahlZ9OR65J7AyC8Gx40f5H//v/2D7ju0kk0mmTKnjtttu5dZbb6OmpppMJo1hmF5cv9LYdg6lbKqqqvnef/w7p8+e4S//77/0QkSFwM45fP/73+dwTw9f/i9/6cUtK8XmLW/yk588yd3r1/P+999AOm1jWmaBAFIsjGg1WlaO59tzkREVqow8JF4XHa9mVGCu0EVVi0rftZGsq4XfC185zeYyxGMx/umfv8mjjzxKQ0MzlmXQ1dXNH3zmD5k5ax47d7zJ1/7+76msrOD/+OL/yfQZMxgc7Od7//EfoBX3338/DQ0N/sjDlZNSqor3vVu0VSmaCXJyAsVojEEnGzSA8ENmJK6jcRyFbbulQ3UKvvJoKZdzQEMikcBxHFA6DE8U0subs+0cWitSQUNY5eXUSWn4kRew9c3N/P0//AP3fPAe7rjjDioqKjAMwzMMK4Vj26DgtVc38t3vfpdb162ju7ubs729VKRS2I6D4zgcO3aMyooKGpuacWzXD/VWGIZZZIQtpGnLsrBtm2zGxXX8l+sipb4Ag8aVjfesJBoQZX9/f5g/UFFRgWl6D9dxHM6fPw947jDLsjwLvhThd4ODg143YqXCJOWlS5cipaS6uppDhw/xx3/8x3zkIx/hd3/3dxFCsG7dOqqqqrzkKT+XYWBgIEx0TiaTmKYZlj+FfNhSRUVFOTzokiGw8LyTGru3aGgt6D3bz949+/nCF7/IyhUr+e53v8v/9Wf/ie9+97s0NjXyxuYd/PznL2LIGNdeu4TOzi7Onulj65YdLFq0FCktPNd98Pwv1kIVZVpRq90k41BlAD6laoHQEqGlr3p6ibc6KKSgGVefgSiHOn3mNHv27Gb+vHmsW7eO5597jn/6x38kZsW46+67sCwLpRT9/f0FVd2SluTA/rc4cOgQ6cwQNTW1pNNpYpbJ9u3bOXbsKMlEjHN9A17TyOMn2L1zJzevXYuQBqblWRBVhJ51+J//uThnZ1iEUrSCVzA3JquEVwrF9+IS35tQ1vaUhN+8soF0OssnP/Epjh0/zr/9679x6mQv3/rWt+jt7WPnjt309fWzaOFi2qa1obXirX0HyOWypNNZCj0a7xSfK/PQ0XFhAXkBb8hmsximgVaKmJ/TGTcN0BI7B0q5uEphGF6z0UwmjeuHCZmmQff06Xz4wx9m3tx5YT+h/v7zZLNZKioq0FrjOF5RhkQi4RV3yQx5ngIpsUyTgwcO8PWvf4Pu7i7+8I8+i2lYoRdzYhErhbLcRHIerwa8Z5UDgKNHj/L0009z+PBhTNNk6dKlrFu3DiEEx44d4xe/+AXnzp2jurqaEydO0NLSQjwe59y5czz33HPs3LmT7u5uTp48iWVZSCkxTTNsTvbCCy+wY8cOfvGLX1BbW8vtt99OKpUKf8/lcmzbto2XX36ZM2fOUFdXx4033sg111zDyZMn2bJlC0opjhw5wqlTp7jxxhtZuXJlWNK0jPc+TNPEa6moqaur46677mL2rFnU1FTz8ssvcfr0aZqam6isTLJo4VxyuRw/fPyHfP6P//dwDKXwkrfE+HMbxkYhKyqy3wz7poyrH8OeuBbjiZsbHRoqqypYueo6Hvzw/TQ2TGHP7p0c6TmERHP6zGk2vb6Jt/a9hdaaBQsXsHjJEqbUVGGaBoYAU0qUYzPYP0B1dRUVqSSGgJgQWKaJwOuuXFNTQ8w0wPeSGoaB9FMnRlt2x+UNCS6mPC8i8EN431EDSz5rwLJiLFy4gLvuvpu+vgGO9Bxlw4bfghAkkkmam5uQUrBhwwbmzZ/HwoXXAF6Y2uX1mJdp5FLDMk02bXqdLVu28MEPfpCmhgZef30zW7a8yV13fZC62jr273+LAwcPsGbtajLZDC+/+DJvvbUXpTXLly3n+huuRwrP21BRWUE8HmfLli08//zzZLIZDOmFUH7qU5+isrISx3H59SuvcKSnh4GBAdbftZ7pM2aw8bXXePXVDRw+fIjWtmksW7qczs5ODMMIIzbyeIcV6CsY71nlwHVdXnrpJX7961/T1tbG0aNHefTRR5k+fTotLS185zvf4dFHH+XGG2/k1KlTbNiwgY9+9KMYhsHjjz/Od77zHTo6Ojh+/DivvPIKy5YtQwjBK6+8wje+8Q0WLlzI8ePHyeVynDt3jn379iGl5KWXXuKrX/1qOO6Xv/xlAObOnctrr73Gyy+/zJ/92Z8xNDTE3/3d36GUYvny5WzdupVXXnmFr3zlK1x33XXAyDkHZYyE6CJ2ee6dq1xMw8A0Tc73neelF15EK833v/8w09qmMWfOHC8cznGZN28es2bN5cUXX+aWW25BKUXOtlHKq6aUr5gCl846JYrel8uYTjYUU8BIn8Y7VrRLOyIoYXiMN7ZsY/uOHVRVV9HV3YXj2Dz51JO89OJLzJ07lzNnzvDCiy/wmT/4AxrWrydn26FnQQhBKpXAth2EP2ZQO8gwDFylyOZyqIK6qBM46XGHgATm7PIcGQsXe4e09orGBknwMcvicE8P27Zt5fjx4+zYuYtly5egtUF6aIiamhpWrFjJvn37+MXPf868eXOJx+KkM0MTKm1ePB8mRk1lw8pEoMMUgdHvWTKRYGhoiK9+9avMnTuXhsZafvKTn/DYY4/R3T2TpUsX88QTT7Fv3x6uXbSQJ596ilde+TXXLl7EwQMH2LJlCxWVFdTV1vLNb36TT2uvpOh/+29/RyqVoqOzg+98/38hkXz0ox/BsmLs2rWLH/zgB7S3T+OF519g+44d/NVf/RV9fX04jsPAwAAnjh8nnR5CCEpUxywR5aEnQh9XNx29Z5UDwzC48847WbduHYODg5w/f54HHniA7du3Y1kWP/vZz3jwwQf58z//c958802+8pWvAHD27Flee+01Vq5cyZ/+6Z8ihOBLX/pSmC+QSCTC0J9PfOITPP7443ziE5/goYcewnVd0ul02FPh5Zdf5uzZs3zve9+jra2NzZs38zd/8zc899xzrFy5kkQiwU033sQXvvAFtm3fxl//9V/z9ttvs3jx4jD3oKwgXChGvm+X8o6a0psCEkH/+fM8+cQT7Nm9h5/+/FfMntGBdl2kMJFCUF1Zzdq1a9j4m1d46idPsHDhIiqTKQQG2gWEi/TiP4DhYRETQ7R0YLnCxuREoAwWPv1gsdb4VT4iW48P2svpEV4ew0B/P8/88hm2bdvGvr17ueOO21m7ejWnTp3i+eeeZ/411/DhBx4gl8vxF//5P/HSSy9x67p1SCnDPDLv5TW3yuVyBJ0GtFYI4YUCOLaN1AoDjXKHV2gbFs8cbW9SsmCK9uaY1v6c0wQ9DsIlfqRpM0nZ8nDv00XsXLSvZZhs27KVf/zHf+Rc7zn27N7HyhXLyWb6MQwT27aZN28eDQ2NPPHEj9m8+Q0MP+w3rxyUDvsZ8byLSGZcl1OOQJsgiuQYDbLIGzXQP8iam26ipqqKjRteZfHiRezauZtEPMXGja8yfWYXR44coXt6N2fPneXFF19i8eJr+fhDH2f7H9g5UwAAIABJREFUtu18/evfYNNvf8vqNWtwHAcpJSdPnGTv3r1861+/xew5sxnoH2D79u10dnaitKKurpbPfOYzrFm7mh8+9kP+4R/+O5lMhg/eczf79u2ju6uLP/mTPyGdzkQqUgY9g4JrKVIGxqEIBfckssNVifescqCV5kjPEX72859x/vx5KioqGBwcDMN9MpkMCxcuxHVd6uvrmT17NrFYjN7e3vC3IJll5syZvP322+RyuXHFm8XjcQSCffv2MWPGDI8YlaK6upq6ujp6e3sBmDbNsyynUinq6uoKwokurJtvGZcbWrkIA2zHIZlM8qHf+RCLFi5i2fJlfOMbX+eb3/omf/i//REA6UyaOXPmcvMt6/j1r1/GME2v6R0OwvASjIe78K9e5lHG5UU062SsUJyJjJlKVdDV1cn8+fO9pmKGVwnpzJmznDvbS8+hwzz+wx9h2zaJRJLGhkZMIdF+9TbLimFZMWxb+cl7BlYsjh3p9WKZFghBznHBN5xopQuaGF0IQgUg4gwp4zJBeIJVvgKhYubMGXzkwY8gpeQXv3iGH/3oR9y0ejUaQTabJZdzWLJ0GS+++Bw//9lPsR2vMuBlNaKViWRc8HIuYTycJpvJUFtbzapV17N161be2rOfdDrNbbffyq6du3lrz0H6+/u57bZb6T8/yOnTp9i6dSvf+/fv0dfXRzwep66uDsMwMC2LVCpFZWUl8USCZ595loP7D7Jr9246OzuRhkFfXx+tra3Mnz8fob3O7bGYRSaTISmSZNLpUeS94tJFZVmtFN672bMC/vbv/pYXXniBadOm0dXVFfY4MPwwkNOnTyOEIJPJ0Nvbi+u6JBIJL0Tk/Hls2yaXy4W/jTdZ2La9ShoVFRUMDAwwMDCA1pp0Os3Q0BDJZBKlFIODg2RzWaThlVlNp9OhhlpWDi4WE4+T1RfwcpRXvSOTy5KsSHH9DTewZPlybr3tVjq7utj8xhsI00CaJqZlUVVVyc3rbmVKQwM/+8XP6R8cIB6PeVUNVF5o85Ilo92MJ/oaCeWVrYyLQ6EVUJNKVbJq5fV88Qtf4K7163n11dfY+NomDCOGaVjU1zcyf+48li1dyqc+8fusv/NurEQS04ghhIkQBkJ4An88Fqeupo5zvec5e6YXkAwN5Th16jRoQXVNjZdMPazqyUVfFSUHnOj0uqpQXJ404HsiTGhHFL0mwJOEr5kF9OS6Ll1d3dy0+iauv34Vd955BwODA+zYsR1Qfolol2uumc/Nt9zCrt27ePXV15BS+mv7BNbM8JQuhpeWMRxFJUmjq6WIvIrglUV2ue/eezlw4ACPPvoIXd2d3HLzWo4c6eGnP32KqupKVq5agWFKkokkbW2tLFm6hFXXr+IPPvMZPvCBW0nEE1iWhRCeMpmIx9m9ezevvvoqCxcs4POf/7zXD8E/bnooHXaMD/q2gJfTpKGE8aFIAhDF16ULts33gxke3Hm1R4W8Z5UD13Xp6emhsbGRRYsWkUgkAC8bPpVKMWPGDJ5++mk2bNjAiy++yJYtW3Ach7q6Otra2njjjTf41a9+xfPPP8/rr79OOp0OS1gFAnwikaCmpoZNmzbx2muveeWy/NAiKSXLli3j+PHjPPbYY7zyyiu88MILZLNZFi1aFLpCgzEDIipVgrWMsRDV5Isn3PiY/cXFnWpMw8B1XZ577jl+/etXeOZXv+LAwYMsW74cpTS5XM5r4y6go7ONVatW0tvby7Fjx0gkExim6f0OgMRrQjXWazyLWtQHHt2vjKsXI9F5qe/8xVyPX+3UGpTr0ZTrKrLZHOcHh8hkbRYsWERVVQ1vvLGVVKqSrhmzcBXU1tbR3NRMMlmBYVhYUhCPJzl29AS/euY5nnvuRZ579nnSQ4MsW74cx3b43nf/F5tef50nnniSl156iY6OdqZNa/fDj/DC5grWaVH4CkPrSr+i/0fnx9jddicDiq2j0RKm3n3SxfxoTJ5VeJ99agq0BKQhOfj2AZ5//lf88pe/4Oe/eJqpU5u49tqFvu6hkRJSqQRr166lq6uT3bv3kU7nIryTomNEzq34FbkW73qM4ftFzzOEKingTloUTJegQuBwJaBwZSoUpGOWyeDAENdfvwpDCn78kx+zePFi5s6fS3VNFb985pd0dXXQ2dVOU1MjXd2dGKZBTU0NU1umUlFZgdYK13XIZNI4rktf3zky2SxVVVVUVFTQ3NxMb+85tJuvcSYNiTQkSnul5LXWmKaFZVns2b2bja9u5Ny5Xs9TSXGlopFMhvl+QsJvDukZQGTkdfXzmPdsWJEQgk996lP8+Mc/5rHHHiMej3PddddRV1dHXV0dDz74IP/2b//G97//fSorK1m8eDGzZ88mkUiwevVqjh07xlNPPUVTUxOzZs2io6ODRCJBfX09ixYtIh6PU1NTw7333ssTTzzBD3/4Q+bNm0draysrV65ESsl1113HLbfcwrPPPsvrr79OJpPh9ttv58Ybb+TAgQPMnTuXpqYmwKvGcc0111BfXw9Qbmg2YYwUBDqyYnBh7L1wEfKUOM20aW0sXLSAl19+id17djPQP8Att9zMgx/+MJZlMH16N7ZjI4QmlUpy403v5639b3H69CkaGmpRKgfCRRZ02R6LgYz0ezSpOXgZkYVRjL57GVcBhtOPiPzvvQti7hm27WjQgOMqDNMiWVHJ7LnzaGxqJpNzae+czsqVqxgYHCSRTHHffffzox/+iO8/8nho4b3nnnuYN3cmc+fOZ9v2nfzoRz8mmUyhlEv39Jksv24F937oQ/xmwwY2+0abxqYm7rrrLhqam8k5nlXPW6hlRI4tvt5RrikQXAo2ESXeTVYE3ZEhX0NND6OhiTHREjxNg5CgUSxYdA1v9xziBz94BNfPKfnkJx9iyZJr2blzJ3PnzWbKlGq0tunqaueDH1zP2bNn6Z7egWUZo55Mcf6W8GPrhud1lVp3R+gILcqJB3lEBWNPeQqWMCGE168gurkI9glUBYWdy1JbW8Oa1Tfx5tZtLFq0iLq6WlavXk0ymWTFyhUo5dLc2Mxtt93KM888w/e++z2EENTU1nLPPfdQW1PDnDlzqK6uBsAyLZLJJM3NzWzZspWnn36a9vZpdHZ0MHfuXJKJJK5yqaur45prrsEyYzQ0NHDD+97Hj370I5586kk+/MADNDU14mRthCims0K60P490FoR1guMxnIGBo2C+3B14j2rHJimyb333ktrayuDg4PMmjULrTUNDQ1UVVVxyy230NTUxNmzZ2lvb6eqqop4PE5lZSUrVqygvr6eY8eO0dDQEMayNTY2EovFaGpqoq6uDtM0+djHPsa8efPCurnLli2jq6uLRCJBMpnkc5/9HHv37WVwcJC6ujrmzp1LTU0NlmXx0EMPMWXKFKSUNDc389BDD9HY2IghjTDWtoxLgbyVYuJ3tHhRKFIwhEJj09U9g//yX/6S3t5epDSorKpkxvTp1NZ59dvX33WHb53IYlkWrW3NfPJTH2NwcIhp09rRwkVE3JIaUUK4Gf1cRj/3iBu0nE03aRDI/iLy2bP++64ChL9ejV/K04AwJUpopnW08/FPPER1TTUuCjNucfvd6xkaHKSqtoob17yflrYWjvT0kMvlqK6pZebMmaRtlw/c9gFmzJyB69popTFiFk1Tm0imkjz0id9j2fIl9Pb2YsYTtE2bxrRpbQhD4rj57qtBcrXAW3vHRdUCQPn6QXkeeCj0hBZ6HI2i79zSu42JIq+l8MYS/t8P3rOeJUuXkc0OIYSgtaWVzs4upISOjjYeeuij1Nc3IISDRrPq+hW0t7eRSiWprEwxeihpCfoe57l7d2F0z3MZEfjuRa3ylvYg0b8Q+W+03yw2l83ye7/3e5zpPcfsWbOImTHuu+9eVq1awcyZMxkcHMKKWaxbt45Zs2Zx/PhxlFLU1tXR3dWNZVl8+vc/zbRp03j0Bz8gFotx+x13MGvmTCoqKvjJT37Mpk2buHndzbS3t1NRkSKXydHd1cXnPvc5prZM9fa57Ta6ujoxTYum5mZsx2vSplFexbQRoIQXkuSqoHGa9vuORnskDFOxr0q8Z5WDQFi/4YYbwupB0W7CyWSS5cuWIw3pNT/zw3qklFRWVrJo0aIw/AcIf7Msi+bm5rDKRl1dHevWrQuF+draWpqbm8M63E3NTTQ0NgyrPFRbW0tVVVVIMBUVFcybN8+LvXO90peGaZQVhEuIYmF7LNE7/93Iqr5SDlIKhGGyeMkihJT5sAchUdrFjBm0trfiul63ZoVCSkFrawsIgdd31MEQXtfafEnTUi7MKMYKPSsKLRIaryyS9Mx1Vz17mtwIFYHwswhDY6UAFSzcQvt0CKVnQWRMkReTlHZIVSWYWe11gtd4HefbO9rCEEshYcas6cyZO9NfVAVaKwaHhpja0kRDYz0xy0DiiZy2UqTTaZLJJCtXrUBIgaO9cFBv0bULHB2avBFFiFICyAg3ZuxLnVzQxcoBePzFIL/MB9ZQTzkoDrbxviv1beEWxW+9PTTt09rp7JiB46YBrxKWRuOqHBWVcWbNmonSClflUEqRTMaZNXsmWivf4zqycjCM003AeZrPsfDCjsqKwtiQhvSKbWjPzDXMc1C8fTwGysvXnDVzFjOlwLZtpBR0dXfQ2joVx/E86/FEDIFkwYKFLF682JfF8hWrFi5chGkZtLW2UlNTzQsvvMCunTvZs2cPa9as4ZqF19Dc3Ex1ZU1YorSmppapU71j5HJZGhsbmdrSAoDtl1A2YjJSmrU0lCDshxU0dgsuXE6ScKIAl1U5sG2bM2fOcOLECUzTHDNpN4jrD7oi27ZNLBYLBfcAQf1aIUQ4blQpAE/ZCErvBfkAUkqGhoYwDCMcL1ASpJSh5hiU1gqaaOStXgLHcYZ9r1zl1c83zWHEZBgGQ0NDVFZWcurUKSorK8OxJhPhjR/BAndh90YgcP0+BCDCGMLwdyFRWqN0GjAwNOhQAFcY0kQicV0HUxpIaaDBbzWvUdpTGAoZR6mFxy3x3ajslmLRsND6V8ZkgcSjXgOwpIGDjauUpyD42+hQ0RxOH1rjG1DweZXEMj0ji53NhKF1QSic7Tpe7wLAzmVxHRfbN454fFUjtCKTHkJpjWOLsAyprz6QzaaxHb8DOTo04OjghAoQKAXjNQUL0ALH1cQNozwdoCg+POA/Em+JD6ydLlEeMtz/KFB+gzopBNLwnp/wBWtXKbLZNIl4AtA+Dwz2FH7yp4v0y0MXR6wXxnwH66WK/P7OZIsIDPLFIYL35bW2GFprhoaGOH78ONXVNQgh8zmUiBLzNg+lFYYwyGaznuykFZUVFb6XUHn9TwDTMnGVwsk5CCkwfbkrqHJmGIanLBqSOXPmcM8997Br1y4OZbPU19dz4403UlNdw8EDB3EdN5S7lNKYpvdcs9lMuM5r7dGXJ99520YTmoddhwCtNIODA5w8eZKh9JCvIEmKb4EI/7s6cdmUg8C63tPTw5YtW0IPwEiQUvpJoNKz+JsWtuMlnAwMDIQCfWC5D5SBQDlwHAcg3M62ba8Zj+ty7tw5AJqbm+nr68MwjFBLDBQPwzDC4wfnHxCi67pYlhV6DqIKSHAuWutQaYjCsiwGBwepqamht7eXrq4uoKwclEawyAUL3MSlANtxGRhIo7TrWUBkscXdcxsGMz1gG0HCpBQGJ06eYGBwgBkzZuC6+WQlwrjEYLENRBwR/p+HVwq38BmP5jmIKge66LsyJhskYAhJ3DRBx3C19mVk4VfICuii0Poa8FjXlb7RQxAzLc6d72PLli1UVlSyYMECb2MRmQGBh0GDME1vQmif2rWGWN7wElKkECg0ruvRqWFIL4JXKzANb2TBiHx/fHk6wYUJbFsTs2KjWgInD0ooB1qGISJ5b2M0tpyCfQQCjderAhEI0BqlNadOnWH3rt3U1taEZcNH4kf53GIdnk7g1QptesOcuSHnvYBrHw2BkmQU/S0TTTGSySQ1NTWcOnWKdDpDXoEjUshnpDXYm+9KaayYxenTpzl86BCNTU00NjQgpNf5ONqhOPB8SilRflRI3ujrPZ/6+gZWrlwFgnD/3762yd9Ghw0YDcP0FAEhcB3H419CoP0QIk8WC4rRiBF5hjAk0pf/enp6mNY2DdMMjL+Flz/uMMgrFJfVczBr1izq6urC8KCxhGHHdrxs9IjVKpPJcPz48VD4Hq9yEFj/Xdfl0KFDuK7L9OnTQ2IMlAPHcTBNEyml7xaT4TGklF4zH8ehqqqKxsZGb1shCxa94FxKXaMUEsf1jtHQ0ECL7/oKFI+yglCMvDt4zJCJEt9l0/2c6x3yGFIQSxlum7fM5xW8/GAec1Hs3LWX06dPU11Vj6uCeN1oRYdAWdBo7XsmBGEFmQBVFQ2IgkT1sTwHvs1YuJHty4vbpEHRYmQIryqIYUq/LKRncS9cpPSwMaK+p2w2w45t23j70CEMw6B5Wge1qYrQClYongtEdL6MxpvC2GRwlKeIB8rBRFT68diOw8h5BZaUlAvDlYIvFGtAB8aV4O9I4TsCKSTS8IVCrRjo72f7ju0cPXKEWDxBR/tsDKMCgUkhDxrdsjzqUx0PgVwwu4t6UaLvyyhGfX09119/Pf39/X4n8/wj9ZZOPeKzMiwD7Xqeh127dnLixAmamppZdO1CaqprMKyIccAX2IMeCkJ6odhCSN9bVYh4LBbKdK7reufmL93afy+N0G0ZQbARYUnT4d6yYvj0r6C1tZWmpiZM00ArJp18dtmUAyEENTU1VFdXj7vMp2N7rqdACZBShqVMo30LipWDIJ8gUCBM0yzwHJw9e5ZcLseMGTPIZrM4jhP2UAg8B1HlIDhGNHQolUpRX19PPBZHGoVKgHI9i3Ip5SDwPATXFBB8oIRMJuIbG4EwbJEvXTfKpiWgtQXa9IR2P7wivM+RusjCk7YKXN/es5AMDmTJpG2UEijHP5CQ+WoO0WjvIKBa+2JONBZYx0BFlINRn3WwmAUBJT5b04FyUMakg8DLj9FGSXofHpjhL6JC4jg2u3fvZseO7VixGHNnTKe1tZXa2jpM6Q9OkXIQEHgkCW/4cYefiBVYgv0FWYXzyT+rEQSMifA+jcCVxcpMGXkEdyViSCg2fVL4UQuBEAbKdUmnB9m3dy/7D+zHNEy6u+fR3t5B3ZQpSN86a1hWIb294719LvBJDxMYyyiFeDxOS0tLaLCMkougNPkE0Ci2vLmF/fv3U1lZyfq71tM6tYW6KVMIAv0DduKVUSY01EkhvDBJKUoqB6GM7/pGWkPmbYWKAn1Pa432yzSLUF/VCCnz1zAKXKUwLYmdc5FG4OlQiOIu0ZMAl9VzEITORIXs0bY1TKPgMzBMiC7uK1D8OfA4RPcLBPTgfTR/ITpOINxHzzUf4+bnNBQ12RiPgB9NwAvyEiYb4RVClPgYxMv6Mz96f3Tp3UYaW/sxyvhhFdFnVHDbfe9PIM9LIbxEJmmCNpDCRIX7+WFEgeDkewq8YSJWikh+g8bwm6N52wwvw5c/kXwIcVDqMRDQBFro0ApTxtWKwDNFwYIsIayoVwyB57IXCJRWSOnRX8/hQ2zc+Cq2bdPR0UF393SampowjIDXFc2Fkha44LdRiC7QH0Ka905eFvG2i2d1+bTZglsxtllwUiEIhShcW/LEpLXG9cMyghAMx85xcP8Bdu/ejeM4tHd00d7eTn19PZYVC/eThkUQhx054jt4Me/c0GWURsGSG1RHE/mQnKCa0Vtv7WPnjp2c7+9n5owZdM+YTnNzM2FBtSIZKb8k5kPJpC+8Dz+JyN8gV6Dgu+LNReQ7gRB5RaHUdRUj4FWGKUJZUCnfAFiclH2V0+RlVw4mgpE8DGF5rRIKRqHVl2HbBcJ99BVVDqJKR3SMAs+AUsMSngsg8mQ/1nVF309uBaEYgdcgeH9hiD7ncORijaDEkYN3WqswMStKblqL8DshRBHDidBewdcRUWaMZ60jykbeTBJRKMqkchUjYq4L/kbD3Yq3juQ5CSGwHRvLsjh79jQbN27kzNkzdHV20dXVRX1DPalkRcH+w/hO8QEmSmtjzK9LhZLBdWUFYQwUrmmBddRxHI4fP86Obds4efIUnZ2dzJo1iykN9cSDqi2R/YIE9BGGLuNqQbhceW+CAizKcTl+/Dhbt27h1KnTzJ41iyXLltJQX08imfT3GT5OdKzCw4xNPCLi4Sw1bvB5tPV9LBErUA4KZbTJSdjv2VKmZUx2XAkTciQmND7P0YUfq4xJhxEev9ZePfKgwprWmr6+PrZu3UpPz2EaGhp53w3vZ+rUFmIxK6zacTXg6riKdx9nz55l+/btHD50iIb6Bt7//vfT1NxMRUUFruP4nvdyU8/JjNAYivCVSI9epk6dyk1rVtPc3EwikUC7KgwjKuPKRlk5YLgHomzBL6OMMq4ECCH8qDtBX18f+/fvZ9u2bZimybp1H6CyspKqqiqvGIPjohVeIZoy3tMYT+jtxWJwcJDt27ezf/9+EokEK1asZOpUTymIlvv2UHbJTHYMDg6yd89e3tzyJlNq61i9Zg0N9fVUVFWF23hlSMti5dWAd+0pXk4BPJojEI/HC3IfgsTg4u0vFOPNNyjjIvAO3sKgopVpmmFeStA8L0hsLziVSL7IeJ7thJIuy6RyxUAIUVAO2VXey3GcYaGLMHLIZClEq58ppdDKz4fy3d3pdJr9+/ezc+dOstksa9eupbKykpqamnCMIIfqqpbvrpBrK85/CwpTBO+DohqXCl7fAo9evGoviv379/Pmm2/iOA4LFy6ks7OTysrKYXQqDL/keHndelcQrYAYrEVR+SWoyjhS6fQLQUCLAY+ybZuDBw+yefNmHMdh1apVtLW2UVlV6W0TKXEqjNLFEsq48jApVLygOpDruqTTadLpNK7rhl07izGRhbuMqwtBD4tcLhcy5Ewmw+DgILlcLmTAxQy0jMmNQNiLVjrTWmNZFkFt7ws1OhTnJQkjX9Rhz5497Nixg3PnzjF//nxmzZpFbW3tiLlQZbz7MAyDdDqNlJLBwcFQEchkMtTV1ZHJZIBCw8OFwra9/BOvGaTLwYMH2bplK2fOnmHOnDksWLCAysrKsFpfKZQNWu8+iguXOI5DOp2msrIyLLF+sQhCFAMFxHEcj162bqWvr4958+bR1dVFXW0dsXgsTxeRLOEyrVw9mBTKQWBxS6VSJJNJamtrGRwcpL6+nkwmQ39//zvuwi3jyoBpmuRyOeLxOJZlIaWkuroax3GYMmUK/f39ZLPZIsUgqPFWzBjHqziUshKOUJKmjPckgkUxmUySSqVwHIfa2lri8TiZTOai+EugWAQCglKKIz1H2LptK4cOHaK9vZ3169dTUVERKiNlvHfhOA7xeJxYLEZVVRU9PT0kEglaWlpQSjE0NFRgCb6YECPDzxU4cvQIGzdu5PTp03R0dHDD+26g5v9n7z2j47rOe+/fKVMxg0IABCiSIkiCXSwSKVKSRUpWlyz3XJerm/ImWSnvevMhK+Ve3/iD1oqTtWLLiR07cRwnVhQVO3biIkqybEWNRRR7rwArSILowGDqqe+HM3vjzGAGGLBZJuevBXHKOWfOOfs5ez/1/9TVScY8uPl43D/oEGMvnv9QKERtba1svnrLLbcQCoWkoXklc4wkclG9+aW7u5uDBw9y6dIl5s2bx/r166mvr0fX9atiiFTxwcf1Nw5Kye81no9CoRC5XI7t27cTDAY5f/48qqry+uuvk8lkuOuuu8aFU6u4OWGapgy9b926VXr2+vr62LRpE4Zh0N7eTiQSKeiPca0hml0JVNugfbCQTqfp6OhAVVUuXbqE4zhs374d8Jo/xmKxCRUvQbdcCmI/27bp7e3lxIkTdHZ2Mm3aND760Y/S2NhIMBgsSDOo4oMLkbK4detWotEo2WyWoaEh3n//fRKJhIz+qKoqHVuXC8M02PrOVs6ePevJy5MfpaGhAT2gj/NnVA2DDx7EmGSzWQ4cOIDjOLJP044dO3Bdl/nz58v55XLHUOw7PDzMwYMH6ejooKmpiUceeYRp06ZJAxK4bmteFb9cXF3joBLD9XKNWyHzointFGCbFiE9wNlTp/mHf/gHVM0rzhsdHeUP/uAPuHvdOunjVRR10nNU8uegiPPxnduUUZ2PJ0Xx0jipP943DoIKuWzjpeLfyjfQs22bs2fP8rd/+7fScxcMBvnsZz/L6tV3YJoGjmvj+DR21VU97m9x7GLWNVdBcb0+Bf4rc0qwsyk+OXcUzzAodR+q4vPBQCAQ4PDhw7z44oukUqk8leggn//851m2bFlFnj1RGyX2PXDgAMuXL2f+/PkkEgkOHDhAR0cH8Xichx56iJkzZ8oIlr+LexUffIRCITo6OnjmmWdobW0lmUySzWb5+Mc/zooVKzy6SB9ddjnZMU2TYDBIX18f+/ft597199LY2AjAe++9x/79+4lEIjz00EPMnj27cOdxtI9VfJAgxlzTNAKBAB0dHXz3u98lmUxKD/5nPvMZFi5cKGvlJnNyGoZBTU0NmUyGV155hcWLF7N48WKSySSHDh2S88uDDz7I7Nmzqz2YbmJc35Wk3Np4jTN6HNsmHA7zoQ99iPqGes6fP8+lnku0tLbwyU9+ssAqngoq4ead5ABVTBFTMQwuB9FQWKYTPfzww8ydO5dLly7R09NDU1MTDz74IOFwBEVR0X2sDNJYnPDM83mZ0qDIM4JMcs7qBJ0pq/hgoKGhgfvvv5/Zs2fT29vLhQsXaG5u5qGHHvIo/ipo+ig8xaqqsm3bNr70pS/xzjvv0NHRwX/+53/S2dnJ2rVrefLJJ5kzZw66rktZrS7gvzoQ9Uu/9mu/xrJly+js7OTSpUtEIhEeeeQRGhsbcRxnUkXPdV3C4TDRaJQ33niDL/zfL7Bv3z46Ozv51re+xbFjx7jvvvv4rd/wagpHAAAgAElEQVT6LebMmTOh4VjcC6aKXz78BcjhcJh169Yxf/58ent7OX/+PI2Njaxfv554PD6OKKMUdF2nrq4Ox3F47dXX+Iu/+AsOHvRSE5977jmOHDnC2rVr+eQnPynlpTqv3LzQnn766aev2tEmS5NWSvxNEY7jkBhKoEzhP8d2yGZyNDc1o2sB9uzfRyaV4f/7f/+IDes34FgOiqugKlpFx8OBgB6gJhYjoAfGLsQ/t5ZqEFPu2qsscRNi3C2bbA3zfW9kDbKpDK4DKuq4sSz+zLQdwsEwqVSammiMmkiUt99+h6bGJj79qU/z0Sc/hmN5kQVN1WQTWy9CIY429l6Rx4eG+gZEZ2NFbqeA4uZf+86liKpo3HmX6EFUxZXDtm0SiURFXjg/HMehsbER0zQ5evQoiUSCp556iieeeEKmoPlRvOi6rks2myUcDnPixAn+8R//kb179zI0NER9fT3Lly9n/fr1zJ49G03T5PFKpZxUGdOuDxRFwTRNUqnUhOlcxfdbKH01NTU0NTXx6quvEg6HefLJJ/nUpz6F4ziSNMNxnLLOK6E07tixg69+9at0dXUxPDxMNBplxYoVbNiwgVmzZgFjzasmo+2uysa1hWmaJBIJWVMykUHmOA6GYWCaJo7jMG3aNNLpNEeOHCGXy/GZz3yGhx56qMBBMNn4hcNhjhw5wjPPPMOZM2fo6+ujtraW22+/nfXr1zNz5kxpaFSjkDc3rm/NwWTzzkRKn0//dlCn5kjVdHBc0ALce9/9/NuL/07jtGYeefRxsoaF7cVXC1JCyp2uC9i43jkoY3ngJVOLfAfwL+G+ZqeUavp3s6NUYZz//qkKFXvSXUXBUTQc3DKRnsLPVE3DsB2C4QihSJTb16xlxcrbMcwcH37gIbI5g2wum5/YFVzfaLoKqK7fjCmUKTf/c75ezbiKi6v45M5VUN0ypTmu/8jjTr0KroyGGMa6n/vpj4tRqvt6Op2mvr6e++67j1dffRXXdVm3bh3hcBgr30iqHERRaCAQIJlM8oMf/IBt27ahqioXLlzANE1WrVolc9WBAmWg+FyrXdenhsvxmosUrlKy4k8DEgXk/nEQbGiqqnLPPffw8MMPs3fvXp544gkaGxulwiaolItlRxw7FApx8eJFXnrpJS5evIhhGLz33nv81m/9FosXLyYej5PL5QiFQpIetRRtd8mOtVW5KcDViqqIMfB3NS93fFVVieS7DYtU13vuuYf333+f06dPc/fddxOLxQrkpNx5CqrlkZERGSVQFIWOjg6y2Sy33XYboWBIGi2TGS7inKsGxI2La2McCOXNpwU7ePq5i/dgKHLDCuF4SqHhKhAKYhpGZaeiAGgoukrKNKlrns7nf/3/wTJNGlqmYwGm4BGXin55Wi7XdbFdhRwuWdtGzV+L4hbltZcgsPEMG1d+rKGgK8Umyc0HN/+fSLNxhUrtutj5++v4buR48tnygSjTBQIBbNfFse2CUKnkkPYPnDMmtKOZLLH6Bj7z1P+it7eHtvYFGK6NGgx6kzvgokoDQQUcZexMxuTH+9dwXFTFLexfIN5PUEujAFo+UuCXyerynX8e8+OaTqcZHR2VXtypKjiappFIJOjr62N0dJRwODxuG5HuIaiRhbKuKAq9vb2Ew2HuuOMO5syZQzwe59KlS5imOWHkQFCgWpbFm2++yU9+8hNisRgAPT09/PjHP+bWW29l6dKlsr7AX8BcrDzquo6u67iuS21tLTU1NVO6DzcLBK11Op2eMtWspmnous7IyAj9/f3kcjn5ncj/LufNFTLkui7RaJS1a9cSCoVobm6mo6MD27YZHBwEGDdXiddi7Ddu3MjOnTsJBAIEg0FSqRRf+9rXqK+vZ/78+ePol8X5ieOIni5CruLxOJFIRDJjVZU/7z4ZhkEul2NoaOiK7kk6naanp0dGhQKBgHRICPjlRYxLLpdD0zSCwSDLly/n1ltvJRKJ0N3dLc9xMhkOBAK88cYbvP7665LxaHh4mBdffJG2tjaWLl1a8hxKQUTNWltbCYfDVWPyBoTiXqtEwyLjwFUga9ukjCyGaeC6CoqrUajilM81UhQFTfcm1GwmhVWiP0GlcExvkoxGox47jTQOCpW6kh4VVcHBs+RDoZA38aKiiILDgshBkcdHcXAVT6VUXIUACg2xGONjFjcXio0DgVzOZDSVxFY13HF3aPwdG69cu5hmDlMsimKxU7wYQimvjeMWKu8BTce2LHKGQUQqi+J88x5H4SXEpwi4XjQK6UVUCYcjY2emCtlwxjaXUYexh8czPBV0RUNTFMKhAAFd89KKqvOx5Oa2HZtdu3bx+uuvM336dJnKU0kuroCYD3K53DgmKlELkM1mUVVVNsSzbZtgMFjgmbUsC1VVZa2BoiiS/lag2DgIBAK4rsuFCxdIp9PjFPpoNEpDQ8O4QlV5D3zHNk2TUCjEmTNneOihh7jvvvsKjlVdyD389Kc/5dixY8Tj8SmlkIkxFfJgmmbB/qJpojDiiu+3pmkYhiGPYVkWhmFIT3+pyE+5dKCeSz2k0impoKmqimEYTJ8+XfZMEIaI35D1X4uIgBiGwR133MG6devkeV5uPd6NBMdxSCaT7Nixg507d9LU1HTZx9I0jdHRUWAs1ctfWwCFYy0cEaZpYpomkUhEGhbFJAeTqXKqqtLb28vg4CDxeJxQKCTnyOnTpxfMOZPNEYZhMDg4yP3338+6tesIhUNTvhdVfLBx3Z58F7Bsi3Q2g+lYuOi4rlPUBra8QGqqhuLY4LpooRDBCrmfXTyFXfwLoIdcVEX1lHzHRst3NvUbBV7aRpnzcV1QLXKOg2s7nlKY7xToFlgHRSFcxcFRLFQcVEfBRsUMhwnqVWowKFT33byn37RssoqD7Uu9UUR+Tgko+IwExUsT0gN6fsEd6yzpD/0LZctb9H2TrOt6hoWuE41EsC3LowD09so3hvQMBcXNpy35U4QU7zeF8pZ1bFzHxVFcsPPGBUWRBFfUJORjJa6XqqS6NrqiogU0dFUrSE276aEgvaJr1qzhsccek8r8lJF/hkvVBNi27dUYKeM/FzUKQkksXuiL0zfKRSWFQulXNv1KprimiRZvy7LQdZ133nmnwKNdRSEymQwPP/wwS5YskekbU0GxYuZfP4Snt5TR4boumUyGmpoaHMfBsizZXbuiXgO+iLRjOyjq+F4IwmhWVGVchEmeJ2OFS4ZhcODAAZLJJDDWdKsKD6IZ5l133cX9999/RccSBploUGfbNpZp4bjOODn01kEH27Gls8IvI5PVkJT6znEcz6BVvW7GBfLgvaho7F977TVSqZTn/K32yLjhcF3dAp4gK2h6CFfVcZzykYLCHcFxbDTVoyB1bRDrfjabZXh4WFrh0WiUWE0Nmu7xOHut35ECrygKru1iWCaDQ0M0Nk4DVcGyLYKBIMlkkpHhYZqbmwkEgqiqgm3ZDA8PoygKtXV12I6DqnmWvuuAUDpxJ64sVhTVcybjoCgurquQM8yqcSBV3bH75yoKiqahBYNoCDe5IjebWO0r5DK1cXBw0TSV5Ogow0ND4Cq4rkM8HideW5v3yNqgCG9M3qjMr5+GZTA0NEQ0EiUWq8HxBp5UMkk2l6E2HicUDOPmvcf9gwNEamLEYjEs28rLnoaretc2FiEokhhl7IWrOCjeDl5KmjKe9rQKD47tSI+9UGwui4HFBcctzN01DIMzZ85g5AxWrFwhF0GRPtLZ0UkylWTBggUYhkE6nZbRC+HhE3NPX18fAwMDLF68WC6ofuMUl7KGAYBt2XLuKQfhKS6OVlQxBtd1ZVSpUu+4kCdvrveUrFLKt2ma7Nu3j/r6eo9VSss7JxRPAes82Ul3dzf33Xcfg4OD9Pf3M3fuXFlYKsbMtr11J5VK0dLSQigUkuchFDn/a0HDLNLU/Ofkl7NCJ5gyzsAFCjzZNzOEnKiqSjAQLBkJKrVP2ZRkX82QGOdsNsvhw4dxHEdGbcRzL7oUj46OsmLFCpLJJKOjozQ1NRGLxeRvid+7ePEilmVxyy23FMi1fy4URolwQjiOg6qoKGphrcxE8Dsw/M62qszcOLhu2SwKoCoaqhrExTMMXNc34ToT/LkuugKKY6OrCorrguWCaXPkwCH+8evf4Nvf/CYvPPssP3jhRQ7t24edzaJYFk4uB6aJ5ri4loXmutTUhLnQfZ5v/dM/cOz4UcLhAKZlEI2GOXmqk29+4+/p6+1BVUFTFVKjo7zy8kbe+PkvCOoBj5TS9SgmVbwCUlEsqroT/DkKmqOjOlr+1o/dfi/Z6GaDV4VR+N6DA5hAzvYUNcV1CuQBp9yfA66D6zq4OKC42I6D7ToEgkF27drFV//my/zLt7/FP33zH3j+2WfpOHyYoKqAZaO7LjouQUVFsW0cywTHor+3h//43ksc3L8XXVXBdtBQOHTgID/98U/o7enx0t4UlVQmx0svfZ99e/cCnifXP+kKDiPV95+Giu6O/Wm+70HFdl1snLxxmU9lyj87VQWwPPyRIv+fX2H3U4iqmip5xTVNQ1VVRkZG+Pa3v81L33tJpl+ISIVhGLy88WX+9V//lQsXLvDmm2/y3e9+l/Pnz2OaJp0dnTKNAOC///u/+dKXvlSQI1ygMDBW3CqUgwKPMJOPt7gu27YnZUm6WSHGfSrPjuM4mIaXSqaoHhmBaZqeh94XIezt7eWf//mfeeWVV8aYjPLOKVVT+d73vsfTTz+N4zhs27aNv/zLv6S3t5dMJsOpU6fo7++XjEWbNm3iu9/9Lj09PQWGoixEd8cKXMXnIsVNvBayruu6lOniNBZ/hKs6n1w+xBj5C9WLjS+htPs7U//TP/0Tzz77rDQ8xT6ZTIaNGzfyne98h/7+frZs2cLzzz/P+fPnyWQynDhxguHhYTmX/OhHP+LZZ58lmUzK3wcK5iwx7kJOxPzjOi62ZVfUdM//7ExUCF3Fry6uc6q75zEVxI0V7+UW/7moildAfPzoUbZv20ZNJErztGm8+cYb/Nuzz9J76RLhUJBQMIhpGiRHR8mk0piGQUDVGOzv5+evvkrXuXOEAwECmoptWSQTCd74xS8YHhwiHAhgGSYjwyPs3buHgwcOENA0aRj4m6EJg0FcWdk/V8l7g2/mKoPxkNLgm2NcX9jbu29j97xSyAykfI7O8WPH2L9nDy2NTdw6aya/eP11vvLlL5MaTRIJh1CAZCJBYmQYyzKJRaOEgiGG+gfZtmUL586cIairaKpKQNO4eOECO7bvoKenBxwXTVFIp5NsfvddTnWexLEdampiJbtKimvxG5eFcjJGd+rKPgkuuI5nIFRx2RALZyKRoKenh8HBQelJFl5WUTxoGIZU1AWrkOM4DA0NkU6npaLlOA6tra0sWrSImpoaLly4wF9+6S/ZunUrIyMjuK5Lc3Mzd955Z0G0IJVK0dfXRyqVkt44UfsgigaHhobkeVTxy4HrumRzWQYHBhkcHJTKnmVb2I5NKpVieHiYbDYrZUVRFEKhELlcjt7eXtLptJQVx3FoaWlh3bp1RKNRzp8/z1e+8hVefvll2UjvlltuYdGiRTLdxLIsWQSdTCal7FmWRTqdBmB4eJjh4eGiFNcqrgeKU36SySR9fX0MDQ0VPLuu65JOpenr68O2bVlTIL4zDY8iN5vN4jiOrINqaWlh4cKFxONxTpw4wd/93d+xefNmhoaGsCyLtrY2lixZQiAQkMZif3+/lBfBWgRj/TaSySRDw0OYlllxStFk96CKX31cn7SifLq/KzQ1kepzJYd0bDRVIRDUmTu3jf/5+c+y/LZloMDrr79Of38vSxYvpKPjBDt27mRwyCvCWbVqFXfecQc4NuFImIa6WhzbBsdBUyCgqeDY6JqCrqkEAwHC4RCaqhAJ6QTUvHJ6RfI/pvIp+RSZ6pI/EZSi2pSpwPUiCHnFWlFg7vy5fO5zn6F9wQJUVeGb3/gGwyNDTGtsoOPwId5++21GRkZonNbInXfeybJlywjkDQI179lRcfO9Blxsy8S1HQK6jmnZhHQd1bW9AmgFXNfL8VSVMnzll3tbqrgidHV1sX37drq6ulBVlZUrV7JhwwZ0XefMmTO8/fbbDAwMMHPmTHp6erj11ltRFIXh4WHee+89zp49S21tLadPnwa8RbWurg7wFsjNmzezZcsWYrEYqVSKJ598kpkzZ9Lf3y/D+QcOHGDz5s1kMhmamppYs2YNCxculB2SAc6fP08qlWLVqlXccccdcnGfKqpRg8uHZVl0dXWxc+dOurq6CAaDrFy5kjVr1hAIBDhz5gxbt26VLFdDQ0PSW9zb18vWrVs5ffo0c+bMobu7W3pxW1pamDFjBpqmsXv3bl599VV6e3tpbW3lrrvuora2ltbWVmKxGLlcjkOHDrFv3z4SiQRNTU2sXr2a9vZ2uru7OXbsGKFQiFOnTtHX18eGDRu45557Kh734ggCVGVmqvCziZ09e5bdu3dz4cIFdF1n9erV3HHHHei6zrlz53jrrbcYHh6mra2NoaEh5s2bJ5mqtm/fTkdHBw0NDZw8eVIWLsdjcdm74v333+edd97Btm0Mw+CBBx5g+vTpskDecRz27t3Lu+++C3iNGtetW8eCBQsYGRnhnXfeoba2lgsXLpBIJFi7di0rV64kGo1e9vVXDYMbB9evIFlkQjiCi+XyhUhRQNdUL70D6B/o4+ixoximwcWLF2ltbaWhro6TnZ289NJLpLMZbpkxg507dnDgwAHmzpkjGQAATNvCsnwhv3zBkKYoWJaBsARcUdNcJp9wCleAiDfc3DxFYyhfraFegWEwHo5jMTAwwNkzpxkcGuLs2bMsXbaUhoYG+vr6+M53vkMum2VBeztHjx7lyJHDfOEL/9dLJzE9WkBN18AQOeKulBfHcdBUlWAwiOrLeVfwaORsqzpxfpBw4MABDh8+TDAY5OzZs7z66qssWLCA1tZWvvOd77B582bWr19PV1cXe/bsYcaMGWQyGd555x2ef/555s2bRyAQYOfOnSxcuFB2Nj58+DBPPfWUjBaMjo4yMjKC4zhs2bKF5557js997nOcOHGCv/mbvyEYDNLW1sbevXt55513+OIXv0h/fz9f//rXiUQiLF68mFOnTrF7924ikQhr1679Zd+6mw6maXLq1Cn27t1LKBTi3Llz7Ny5k5qaGmbOnMl//Md/sHv3bpYuXUpPTw/Hjh3jwx/+MMFgkBdffJGXX36Z2267jYGBAd59910aGhpQFIX9+/fzla98hbVr18r1yLIsBgcHSafTvP/++2zfvp3Fixdz5swZnn32WXBh5qyZvPfee2zdupU//dM/pbu7m69+9au0tLSwZMkSdu/ezZtvvsmLL75IS0tLyWuSeeI+ljVpIExcPldFGQg9wLIsjh49ytGjR1FVlc7OTjZv3syXv/xlZsyYwde//nX27NnDhz/8Yd5++232799Pe3s7qVSKn/3sZ3z/+99n7ty5hMNh9u3bx6JFi9A0jXc3vcv+/ft56qmnGBoawnVdhoaG5PyyceNGuru7WbhgIRcuXuCv//qvaWxsZPas2ezdu5c333yTZ555hsHBQb761a8ye/ZsFi1aJA2ZP/qjP2L16tUFdQxV3Jz4JfCUCbf75Que67qYloOrq6iqRm9vH6+++hoBTaOvv4//+fnP097ezo9+8lMOHDjAp//Hr3H32rX87Oev89y/Pcf57ouQD+2KQmbTNFDzLBPiO9vvPXHBchwsxy16cKqz6K8E8nq5qml0X7zIy6+8yrlzXZw7d44v/J//Q2tTIz96eSOvvfYaX/yLL3L3urXs3b+fL3/5yxw6dIiGhoZ8bjGyQ3JAz9MV+nIvVVX3ml4pKuSLFVVNw54CpWYV1wfLly+nvb2dSCTCoUOH+J3f+R3OnTtHbW0tP/rRj/jN3/xN/uzP/oz33nuPffv2Yds23d3dbN68mcbGRv78z/+cgYEBuru7ZVFqLpdjcHCQaDTKww8/zHPPPcfHP/5xPvaxjxEOhxkeHmZ0dBTbtvnJT37CkSNHeOGFF1i4cCG/+MUv+Ku/+iveeustli1bRjqdZvny5fzxH/8xe/bs4Zvf/CbHjx/nzjvvnPLCXV3orwyaprFw4UJmzJhBMBhky5YtvPTSSxw7dox0Os2uXbtYt24dv/d7v8f27ds5ePCg7F2xceNGlixZwhe+8AVSqRT79++Xip3jOFJe1q9fz6JFi9iwYQOf/exnMU1TUqValsXbb79NIpHgf//5/2bV7av4wQ9+wFe+8hU6OztpaGggmUzy2GOP8Qd/8AccPHiQxx9/nDNnzhQYByXloPgjQeRR5MuoytDkEMaV67osWbKEefPmoWkaW7du5Wtf+xo9PT3U1tbyve99jy9/+cv8+v/6dXbu2snu3bsxTZORkRHeeOMNWlpa+OIXv0hvby+9vb1S5zBNk3Q6TV1dHevXr2fTpk18/OMf51Of+hQ1NTVkMhlSqRS2Y/PP//zPDA8P86UvfYn2+e1sfW8rv/3bv83+/fuZM2cOIyMj3H333fzhH/4h+/bt45vf/CaHDh3i9ttvnxK1bxU3Jq6xcVCoOHsPjVPW+365qK2tZcnSJaRHkwz09xMKhggFQ1y4cJ6+vj7279/PhQsXuHjxYr6KPyCjBF4e71jhkJtX/kVPBdvOF4DlPcOFSfHuVb2OKq4+vJx+j+1IARzbpqlxGvPnt+M4Lp2dHUSjUQJ4XrzRkQQnT53i4sWLjIyM0No6o4BC0rJt78+ysHSrIHrg2DaO40qKUz0f2hV5o5p6s7NSfbAwOjrK5s2bsW2brq4uDMOQja1c1+Wuu+5C13UWLFjA6tWrAWT+/7Jly2hubqa+vp41a9bQ0dEx7viCfSYSiYyjmnQch87OTtra2li2bBm5XI4FCxYwa9Yszp49y5IlS2hpaWH16tU0NTZ50dA8b30V1x+u65JIJNi+fTu9vb2cP3+ebDaLbduMjIygaRrt7e3U1tZKo1M01RMpG7FYjMZGL1Xx9ddfl4Xvommd6I8QDATRNb2ggDSXyzEwMEB7ezsLFy4EYO3atbS2tpJIJGhoaKCxsZF77rmHYDDI0qVLicfjBedfiXLvuqLrTLmO8lVMBBFBVlWVRCLBli1byGazknEIxhiFHn30URRVYcWKFSxbtgxc5Djff//9NDc1Ew6FWbVqFQcPHsQoavwaDofRNI14PD6uYaOISq1fv5729nYcx2H16tXMmDGDQ4cO0dbWRlNTE3feeSdNjU00NjbS1NQk2a6qhmAV19A4yFdZyorQwu+Uch73y8i8mDatgQcfeJCmpkaeeeZveeOtt1mzZg26ohKN1tA+dx7t7fMxV6wgGo2yYP48jhw7jqbpRKM1aJpG47RGbNulpiaGZVr09vSiqSq6rpHNZslk0syceQuqql32gyMuzVXGEquuuHzhhoZ3dwqLbyu/92Iv0bdCccGxXVpnzebJjzwBqJw9e45nn3uOxx95iFAoTDAYYsniJTQ21GFZNg8++CBr7riDU2fOEgiECAdDhAI6TjhCMBAgGq3BcVwymSwBXUdRVZKjCSzTJBwMoSgqlmF4xoXvMpSif8tfhDLFq66iUvzrv/4ryWSSRx99lLq6OiKRCJqmScpIYdRZlkUqlSIej0uGD9GsynEcUqnUuGZrruNKZhhRHOiH+Nyv7LuuSzqdlr8vGGYUVZHc5JdDF1hd6K8cw8PDfO9736Ozs5NPfvKT6LpOR0fHmFPJxySUy+VIp9NS6ffzyyuKQiKRkAwxoi5BsM1YliULnAXEd7quk81myRk5ojVRMpmMLHi2bVsWrQIyR72K6wsxxsPDw7z00ksMDw+zYcMGAoEAkUikgCVNjJdlWfT29jJv3jzJYCSaLVq2JQvc/fsKdiwozzAlusb7ZSGXy1FTUyONAF3X0QNjrEWqcpn9Yaq44XCNjIMJ1N084YrHzlK4XeUsNB7jkeO65HIGmayBYVrMbZvLHatX88Mf/hf7Dhxi0eJlNGzbQTZrEK+tJ2sY+RQQBct0MFJZdu7YjWPD8Mgwy29bTtucucyfv4AXX/w+pmkTDkfYuXMXmUyOO9euwxE2jetPhXdL20Al7oqjeMaB4ro4roKtjBUj35xT+Rjf/7g7oADYhdxWFbA8ibFQ8/0BFNebUC3TJpvJMTTo5We2zWvj4Ycf5e/+9qvsP3KMBx58mBdeeIlLl3qZP28ehmGSzmQ9piBFI5PNsXvPPhobm8jkDJYuXcL89oXEY3X89KevYNsusVgNb/z3m4QjUebMaUNTVUJ6AEVVREV+wYmOH3NRrK6MFfCjoLoumutVqYg6lerif2U4ceIEs2bNYsGCBRw8eBDXdRkcHGTRokU0NTXx8ssvEw6H6ejoYO/evaxbt47GxkZmzJjBjh07ePnll0kmk2zevJna2losy5LMI47rEIvF0DRN5qavW7cO0QBLVVVuv/123n33Xb7//e+zYMECtm7Zim3brF27VnZl9TOcGIYxpY7PVVw95HI5Tp06hW3bzJ49m66uLjKZjOwuGwgE2LRpE3V1dZw4cYLjx4+zbt06IpEIc+fO5fXXX2fatGnYts2WLVukQSDSRCzLkhHKnTt3smvXLhYvXgyM8dLPmTOHN998k1deeYV5c+fx9jtv47qujB6kUilEgy1haBqGUdC/oBT8yqVQPKtRg8uDMA5SqRSnT5+mtbWVtrY2RkZGMAyDTCbDvHnzaGxs5Nvf/jYf+chHOH78OAcPHuTWW28lEokwe/Zstm3bxsZXNpJMJnn//feJRqPouhdNymazmJYpjY3t27cze/ZsL/oAco64//77eeONN9i4cSPTp09n586dZLNZ7r33XlnEbNt2QUqkYRplr62Kmwva008//fTVP6xf6xH0pWA4NlnLxFGK6T8VqQCW+/O/85q8eGHYS909pDNZ7r7nQ4df1sAAACAASURBVMy45RYs2+HChW4am5u58667yWazHDl2nOPHOzl46DDJZJolS5eRM0yOHD7CpZ4+Ll3qYcfOXbS0tLJq1e1Ea+KcONHJgQMHOXL0GH39/WxYfx8PPvgQqqZ7E6lPMRvn/VcoiArIP8XFztfXeuSUCiFdJxTQi671ZkHhFcvi7LzBZNgWOdP0baOUEI4Sn+UVaEVREM3TFEUFB052nsSyLO7dcB8NDdOoicU5cPAQTS0zeOCBDzOSSLJ33z6Od5zk2IkOhkcSzF+wEE3TOHT4COe7u7nQ3UNH50lq6+q5bfkKQuEwx44d59ix4xw5eozh4REef/wjrFu3jlAwVLDgFvwnzq/gb+y+iG4IntXsoCsQCeoENQ1/d9MqwDItui91y/ScSgyn0dFRTp48ycjICKdPn6a2tpZ169YxZ84cwuEwu3fvpquri3QqTUN9AwsXLmTDhg0Eg0FOnTrF8ePHGR0dJRQKsWjRIm6//XZJWbhmzRpaWlro6upi3759pNNp1q5dy8DAAKOjo3zsYx9jxowZDA0Nsf397Zw/f57zF87z0EMP8cgjj5BOp7l48SKrVq1i7ty5jIyMcO7cORYsWMDSpUsrur6Ojg5c15VpKFUU4uDBgzQ1NdHS0jJpjrXw9J7KpxwODAxQV1fHnXfeycqVKzFNk6NHj9LV1UU2myUWi7Fy5UqWLF7CtMZp7NmzhzNnztDX10c0GuXWW2/liSee4NKlS/T09PDxj39cshyJhli33XYbyWSSbDbL+vXraW5ult93dHSQSCR4+OGHWbt2LSMjIwwMDLBhwwYaGxtRFIVNmzbx2GOPMX369Amvz3EcbMvmUs8lbNtm1qxZMmJVfA9uRti2x/3fdc5jNZs3b96E2yuKQiAQIJlMcurUKXp6ehgeHkbTNB566CFaWloIBoNs3ryZnp4eRkdHaW5uZunSpdx9993U1tZy8uRJjh49SjKZJB6Ps3DhQm6//Xb6evuwHZs1a9Ywffp0+vr62LdvH4qisHjxYsmMtGHDBpYsWcLZs2c5fPgwx48fp7Ozk0984hM8/PDDGIZBR0cHq1aton1+O8Mjw1y8eJEFCxawePHiisa6s7MTRVFoa2sb10jwZpWVGwmKe024p4S3S7jXFRwUkrkcw5kMJqAoquSun2q7BdEgJBQOMTQ4RE9PL21tc6irq2N0NMGp02eIx2LcMnMmA/39nOvqYjSRwHFc2ubcwpy2+di2zdGjx0gmk2i6TjqVZu7cNo8mTHE4e+YMZ86ex7Ft6uvrWbx4EbW19TiOPS6M5yn+RedY4tlwlLH7oroOAVchFg5RGwmPGUtTuhM3BkSOq4oqy1QsXJJGjpFUChddylEhJjKnFBTF2807pGeAnu86TzI5yoKFCwkFg1iWzZEjhwkEAixespjRxDDHj3cyPDxMIBBg+vTpLFiwACvfCXd4eMjrWaBAa0srs2+9FcvMcfr0Gbq7L2GaFjNnttDWNo9QKFzm3CpBnj1EycelHAtdUWioCRMJBPI0qlWIZzGTzrBn7x4SiQRPPPHEuBz/Uujr6+PIkSNomkYsFkPXdVpbW6mrqyOTybB//34Mw6CpqYlwKIwe0Jk7dy7pdJpTp05x6dIlGhsbicVihEIhmpubpfI/a9Ys6urqOHv2LJ2dnYTDYe68807JOX7bbbehKArnzp2jo6MD0zBpbGpkwYIFNDQ0MDw8TFdXFzNnzqSxsZFkMsmZM2eor6tn5qyZFS2+r732Go7j8OSTT16t231D4cUXX2Tx4sWsWLGiZB8SP0Th8NGjR8lms9TV1REOh2lubqa5uZnBwUE6OjrIZDIyklBXW0dTcxO2ZXP4yGEGBwdpnNZITawGy7JYtGgRA/0DnOs6x6pVq9A0je7ubk6cOEE4HGblypWk02kGBgaYO3cuqqrS3d3NqVOnSKfTtLS00N7eTjQaZWRkhAsXLki5E0WwixYtYtq0aWWNA9f1Gl/ljBwHDhwgl8uNOTWqxgGu68oGYlu3bEXTNR588MGK9r1w4QKdnZ0YhkFzczOO4zB//nyCwSCZTIbDhw8zOjrKjBkzZMri7FmzMS2TEydOcPHiRRoaGqivrycQCDBjxgz6+/pJjCaYPXs24XCY7u5uOjs7qa+vZ8mSJfT09JDNZmlvbycQCHDq1ClOnjxJLpejvr6e25bdRiwewzAMOjs7md48nZbWFpLJJF1dXdTW1nLLLbdUlFr0s5/9DEVRuP/++2UqpMDNKCs3Gq6hceBnJVJxXIVUNsdIJoOBYAAS6vDUfeaCZSgQ0HHyRcRe3qeN64Kua/KYwaCe38fGdWxsx8vfDIV0TNORdcW27eXdhUJBXNfBcZC5voGATiaTJRQKlVQ6KjEO3LzRpOCgug46LrFwmNpI5CaNHHhw82lZKsqYceC6JM0sI6k0DoEJ0onKT2KK4tegPePAsizJE5/L5dB1nXA4RCaTxXVdamoigIJpWjj5vF/XdXAd0AMBwEXLR4+ER0nTVAIBHcvy5N5xLK9R8xU/WS6OLJaw0BVoqIkSDQRuWkOyGOJZTKVS7N27t2LjYGy+cEp2i/Xn5PoZSETqh8zRVcdydB3b8YJbvoVR5KSL7Tx50eT8JZplWZZFIBAoOCfHcVAV1evG63NIVJoTXDUOJsZUjAMBvxz45UvUBYj8blVVsUwLVfPG3XXyaTtqoWwoKBimUaBcCdkS9Qqu48oaBClr+XQzofQrikImk5FFzqLRml9my11P1TgojysxDorrUQKBgBxLUY8kupiL8ffLlqhLgbFxFuMuxmKiMfHXuvhlsXgf8V6sZ5U+C1Xj4MbGNSxIFhUFylj2h6KAk28epah57caXxD8BLDO/eOa301UVXAfHslBUFUUsnnmtzDJsBEON4VooKDiupxwqgO26ZB0TXFWyywhKylwm67E15AVcxcU2LTRFAcdrbuXiMd8oioKqeROvP4JQ6oryv4Tqen5sDfIpIsj9x9/FmwGlr9LJs0VpupdWUzpyMLHcKC6eHOSL43VVATdvQGoKKi6WaRDQVWzLxsjmgLxiny+CcR0HXdNxHa/+wSHPIoLXqdixLcy8Ueq6LpZtS7H25+5Odb50lXxMxfWMAxSv9kDN9xgfuwc3LyRXuyjezRfsFTdzKrdPsUdVdJsVip6/ALjYgPAbBoCcB8TYi21EHrI4hmM7cpEX+wsDwV906C9iv1wGkWpxYWn4C4Ft20bX9AkfJf/4+Tscl0qnkOuGWBfyDEBiLAQrnmEahMPhAgPUL1P+3/TLopCNYtkOBAIFxafFhkQ5+Pu2CKW0ylbkQVEUNFXDwisULzaYJoIYIyEviqLIjqdybFHksy/mIr9hUK4Z3UTGXqnzCATHkyKU2s4vV8Xb+3tgiPswkeFZxa82rplx4PlQx6YXN1+GENDVMYXN9W89keC6oDgE8GhQs9msVLRcFFA9n7vn4XVwHLGiev/YRuE019PXi2kYzLl1Di6eAjqZl1EcznEUuYAHNS1/Hs6YilpQqDz+OpS8B1x1FXQVAppetIXvdye4IzcapJ3o+0TTdCKRiEcvW7Lie+JYi/TuW3ZBB2rbFpOoi5VX6HFdGUHysxy5rsvgwADJVIrZs2cXKJOK73+294MFl+CK9/n/eelIUxhVWbTvoqoKYV1HVxUU8TAVnslNDeHt2rlzJ2fOnJFjV4rJo1jZ93v0TdMklUpJFhihmPlpJQFsy0ZRFcleJFiNVFUlm82i67qkMPUbB1C4+PsNGtHZVJyviHCJ3yg3RxUv4pZleTnSXV08/vjjl39Tb2CoqkosFuOtt95ix44dk6agCaW7eCx1XZd9CKDQ81sse2LdEJ+L2oRsNks67dW1mJZXfOyPSgl58RuOwhstvotEIgQCARzHIRgMYpqmlDERiRKyVWwsKIrisSDlcrKHRrln5maEcNAEg0F27NjBqVOnKtvPd69Fx+JgMMjo6Kicr0SEUkSKADkX+JV0vwGZyWRwXZdIJCLl0W94+iGiE/7v/POef74R3/mjlwKCaldsm8vl6O/v59FHH/V6/lQYbajiVwfXxDjwF+ECMnIQDuroegwRLFNcPI9uJcfMT7q27WCkhr0QPmOKuH+y9A5e6Fv1+1rPdhzFyOVom9mClZ9EC/lyfBPhOO+vl6qi6TrRcC2RSBiUYt6lcv7sQiNFBTStanWXgqJAUNNRI7rH1FN6q4kP4rqMJkcZTSe9SbhgH88YcFwX13GkvIhvFdWL7ti2zfkzHV6PjKZ6HOEZ9GcskZ9QXUcaGuRrHlBUedyWaTMr8LIUXpMjMq1cl4ACAU2TxsaUQxE3GPyLWiAQYOnSpTQ2NhZ44CZTqP3RAEH9NzQ0JBXscsaBMAT8irv43T179hCLxWhvbweQHmZxLsKYgDHjQFVVDMOQx4hEItTX1xemLfmUOn9BeinFTfxGa2vrlO7pzQJFUbjvvvtYsWJFRfUpYh9/moiCgmVbJBIJcrlcgfI1bj1izDMrFLJMJkM0GuXAgQMkk0nu//D9XLp0SRoHmqZJpbLYOAAkw5FhGMRiMRoaGgiFQvL4QvEUXulyCqRfiW1paSESicjPLzdidSNB0zTC4TBr1qxh7ty5k27vn1NEqqHfyLt48aKcV4qNA7+joHh+E3PSnj17CIVCrFixomCOKjXfCeNVnI84P13XaWlpKbkeuU5hpEvs45cDYXC0traOSymq4sbANYsclPLxaqqKqoJNfjF23Yp9nl4TMhvVccmlRscmOsbCtsJzW8zkonqJwPJ9YrCfQCiIbWRxbRvHtuR3LqAqRQ+M3+uHlw+vEiCoQjigA0Ue47JXUXjcm3vKLUQ+mCShALqioucjsSql7uvE4XJQ0FUXxbGwcjkcJ9/gBcXT2RU1b7j6qPvE5Gp7J+TaNkYmhWPm0FWwLLM0be1YiGAsrcRxC74O61qFnScL5U0k3ikiFufYVeHJw18zUFdXR21tLXD5ns50Ok1vby+5XK6g7kAssP78XKHoiTxd8frkyZNEo1FmzpwpF35RTwCVRQ7C4TAzZsyQ8lIqjUSgFHOVP53BnxpVxRimTZsmC0GnmhohxiKTydDb2yu9uTAWiSr20gvjQNStZbNZwuEw586d86iV29qIRqMAFRsHmub14amtraWlpQVd02WNiv8c/EaJX0kU8qnlnQ4ybcaXznazQ8hGfX09dXV1Fd8TkT4GXoqZv17ANE3Zn8I/R/i/LzYOxFxw8uRJOT/4jQMYn0JWzjgIBoPMnTu35LWUSyua7FqruLFwRcaBXwz9CR6KVOU8ZWZM8fIUQA28tKKxvIwKoKAqYOPiugquP3dHhil8nnmfrKr5cJ2qqvmC1LBnHTueZa8WF7WOywvyv3dxHBdV0dH1gKioqOpq1wBjarRTIoFIoRKWKw0N27DBcQloAS/ti3zepH+clbysKoXFpjguGhq6qhNQdVC8gjLHKiwMA29hVfEvrkWhef+zMCGEOSCiXt5nMj4lFZmbW+pK5bteqTIjogT+Y4uUI//xxff+NA/DMFAURXZGLpcf7l/M/QWu/t8TdQ/F3rtKUZx3XkUhxHj4m5RNZV+/8eVPNSpXy+KH6IcRjUYJBoMF/TFEhArG6iIExO8IeRP/+o0RRVXkNsXXVS5dqNS27gQurpsRxXUglUDWGDAmF6Kxon8MxfELIoNFY+I38jVNkw32/EXPpc5PrGOllHfTNGXq4rjz9qES50LViLzxcNUiB2PqjIey2eAiXVop9IlWhssTQMEIIvLvxL+O42JZ9riisknPoTpvXnNU1uqscg+OVMzHtO1xhxMLopHvaBwMBkkkEt7ibXlNYybK/R5/SlcyYRYaCOI6xHGrk7GHye7DVL3mpRQov5JenI4kXvs9eLlcTqYMCFSipBfXJVRx7XHZz5GIDk5SzzLR7/qLUIVB6P+s3HmWko1SymGpc7iSz6q4cpRT4id7L2DbNul0GqCgzmWy+aXcvFbp+VZx8+EashVNhqkYBVcG4dWrqakpyMkMhUIEg0Gy2ex1OY8qLhfXx/spJlAhH5Zlyc6UgUCAWCyGZVmYpikNhWuziJY65likpLpwfzChqiqBQEDOMeFwWNYSVHHjo9LaBY8u28vTjsfjaKpGKBSipqaGdDpdsB5Vc/6r8CMQCBCNRolGox5Zh+vK4vOqnFRxNfFLNA6uH0RYraOjg9raWkkdNjQ0xMjICC0tLQWsAlVr+cbFRGPruq5kmUkmk/T09BCJRGSb+u7ubtLpNJFIRCp+VdyYKEf/WE5+kskk6XSampoamYbU19eHaZoFRdKV4GoqhNV6g+uDSg0DGGOuuXjxIiMjI6B43brPnz9PT08P06dPr1gGqmvVrx78kcbJ1iOxPXhzDHgsZmJ+yeVyRKNRampqCvapooorxRUZB5MEshjnAfWXCUxRiP25ljA5d7Mfwrp+7bXX2LZtm8zvtG2bBx54gN/5nd8pYA+Z7NzG5QI6lV9LzshJikOR7nSzo1wMqVQupSjyctzKxl80BUqn0zJX049iBd+2bRKJBDU1NWzatIlXXnlFjtW///u/s3btWn73d3+XUCiEaZpTMhAc27mslDRBpVfMq19FafgLAf2pHx6T1Nh2xTLkp+MrpvLzo1TqSC6X4+WXX2b37t2k02kpcx/96Ed57LHHaGhomHJ60+WOtd8gcGxnrP9C0fnfrCg7r0ww7xfP+Y7j1aqJdcRfhzAZxDr26quv8uabb0p6y40bN3LPPffwG7/xGzJKKX6v+Bz81+Jn1promovfl9v+ZpePiSDmlkr1F0mWkodgOBN1TZPda9M0URSFXC7Hj3/8Y9566y1yOa8Xj67rPP7443ziE5+oSP4KerLk1xJRrFyMApKO/Hs/O1pVRm58XDfNVFI8ijXb64RW8f5i8hOUX/7Crcmgqio1NTXcfvvt/Nd//Rfnzp3DNE0ikQh/8id/4p2PWEwrsOj92yuKgqJVfh1+7vOqlV8ZiosyXcUdX0ReBqIAzE/lNxFyuZzsMLp8+XKeeeYZhoaGUFWVefPm0d7eTiwWI5VKTckbDB5jxVT3gUKqwSrKo6AbcQUUwVoJglx/oamQl2K5KfXctrW1sXTpUjZu3EhHRwcA06dPZ/78+TQ1NU2qfJY6Dz/3+VRQzHZSyb24meA3nGzXqwupdH4AZNdqRVVkamomk6n491VVldSYf//3fy/TiGbMmMHv/u7vEo/HC+aXiRQxQZMbDocn3G6inHbHcaSjo8pXPzGmut4XP/PpdHpK84DorxGNRpkxYwaXLl2iq6sLy7KYN28e8+bNk6nRwWCwYqVdUZRJ55aJjmXnG32q2viOy1XcGLhuxoGiKDiuS87IYRiG9LZMZX8/q8NUBFLkeK5du5bHHnuMH/zgBwwMDPC5z32OD33oQ6TTafmgiCLCiRYKsfiOjIxIRbJSCEVP0zSCwWB1Mp4EruMyMjpS4P2tVNESHpepKFl+7volS5bw1FNP8a1vfYtYLMbdd9/Nww8/XNBifipK+/Dw8GVPpLquEw6FUQMq16lU51cOjuPI8S5mkRGYqChPeNKEYeBnEJnMYWBZFnfddRf33+9x1SeTST796U+zcuXKKRt2wjgZGRmRdJZTgaBEDQaDMt2givFw8bzukxENlHpmxZj696v02TZNE9M0+dCHPsTv//7v841vfINwOMwTTzzBhg0bpIFazGhTCkJ5tG2b0dHRsutWuciBX65DoVB1PZoEluX1tZgK/PKRSqVkj5RK6gTE94FAgPXr17Nr1y6ef/55NE3jIx/5CCtXrpTkGVOJNIq06kplvvi9iMKL+qoqbjxc15wW0VQqlUqRTCYxDKNiJS8UCkmqwFwuJxu1VPS7ikI6nSYUCvHII4/w85//nEAgwMc+9rFxlIGmaU6oSIrJVHS1hMmZSPxRCcGWFIvFqKurqy7ek0GBvr4+qewVpIhQ2osrd1XGaPr8rCAT7RMOh3EcB8MwCIVCPPnkk7z66qsEg0EefPBBdF0nm83KRblSOI5Db29vRakLxbSXwnM0bdo09IBeJc6dAJZlkU6lSaaSBYXA4rmdKL3CcRwikYhcvKFyKtB0Ok08HueBBx5g27ZtGIbBhz/8YWKx2JSdGeJch4eHy4b9i6/BD1E8Lzo8VyOU4yHGw7ZtLMuiv79fRluKlWb/9uK1P0o11RQw0fNCURQefPBBnnvuOaLRKI899hjhcJihoSFqampk6kk549I/X6TTaRKJRFlDpdS8Kc5f1FVVU1wnh2ma9Pf3j6MQnQj+MSlOSZxsvIQcmqYp55ddu3ahKAr33nsv4XCYTCZDTU3NlCLMhmFw6dKlioyD4teKotDQ0DAlHayKXz1c3dlgjGmx4CNJWKoqxGIxotEoiUSCZDJJJpORi2cpL4l471+ww+HwlE9NePvnzJnD+vXr0TSN5cuXj5uAJ5rk/V5rf2v7ieBvZJPNZonH48TjcWKxWEmO4SrGIJT6OXPmkMlkGBoaIpvNEggEChr8TDRJFy/ck+VLisiRWMBnzJjBJz7xCbq7u7njjjtk+H2qaSLCC13ut/3yJDzfIv2gpqaG2ngtgWDVqzcRdF2ntraWSCRCtCbK0NCQTM8QXWf99KJiLPzy4bpuQcOycotkKeRyOZYuXcratWupr69n3rx5Mto5VWNS/H4lnlzhdFAUr7lRU1MTkUik2rl0EmiaRiwWIxaLoaoqvb29cn7x9x8AxkUKy3UbrgRirNLpNAsXLuQzn/kMvb293HPPPRiGQTAYHNe4qhT8ir6iKJPKiqhPEHV1tm0TDoflmiSaswlU00XGIxKJ0N7ezujoKMPDw2Sz2YI5RaB4nfH3MPHXTRbLUSnjQbzO5XIsXLiQu+++m1AoxK233orreg0TS53DZJhMfxFrp4ioKopCJBIhHo9TW1tbJW+5waG4V3N0JzMOijY3DINUKsXo6CiGYUgvfsEJlvCm+j+fKlRV5fSp0wRDXofAYoWhFEqdQ6XpLSJ8qOu6jBaEQqGql2YKsC1bFuWm02kGBgZkKgBMLAtigisnR6W290N4cIeHh5kzZ84VLZgTeXWKo0u6rhOPx6mpqSESiRSkr1UX7cnhOl50byQxQjqdls95KeWnXCO1SgtMxT7i2OfOnZNKuuM4BIPBy5K7SiHmr3g8TlNTk4wYlDtWVX7Gw3U9umvBYCecRv5ahFKe2XIOrUrvseu6nDt3DsuyWL16NQMDA1NaG6a6fAsDQdM0ampqmDZtGsFgsORvVuVkYohUrqGhIVkkXC4S4DcOSn0uMNE8INLHzp49K2sQLrcWTexXaeRDsPiJNalYXqqycuPhuhkH47d1UfAesGw2K6kAhdI3WRHglRgHfqWgkofkSowD4Z1pbGykvr5+7Iu8xVR9qMpjXCjc8boTJ5NJEokEuVxu0snxSo0DoCBScCWPy0TnKhQPwZNfU1MjvTOljIKq3FQGwzBIJBJkMhkymUzJyEGxMnc591Ys3CJKICDGtBI59WOqRYvTpk2jrq4O13ULui9X8ltVUOBRTyaTDAwMkM1mC1ITxTPqf1/qHk/FOIAxRjXhIJtKDvdU5ESkp4gUxXg8PrbOunlDR63OMVOBbReuRyLqey2MAwFx/EoyF8qhUr1HdGIWRoGobag6HG58/FKMA9d1cR0HxVftns1mSSQSpFIpcrlcQR1AqYV1ooKZYuOi+BL97DWiBmAiVGIc+BVIf557LBYjHo9LrnzHLpocqkwiZVEqT1Z0OU6n0qRSKTJZT+kr5yktNg78bFRirPwpP/6xLjYKrnQC9MuL/3z872tra6mrqyMcDsuwbfG5+bevYnLYtk0ul5NpacULuD9VpNS8US7l0b+NOI4wDsSxFEWRXuiJMJnHUHzmP1ehVE6bNo1oNCp/60pYSKpApoCOjIzIAlIodCZNlFoo5EVsI57dcpFOy7Ik04woJq8UlXp+RdpROBymtraWaDQqU4uELBUfryonlcFxHNLptEyTLtZfil/777GQESFbfsXbH40s1jeE0+hqGgf+eU7IS01NjWy45p9XqsbBjY8rMw7K7VlB5EAp+lkR7kyn04yMjEh6N79yVLB/kaLkX4wzmYy0eMUEWO4y/Z62cpho4RaTq67rUukQk3A0GqW2tnZcznsVU0Px2MmcTdshmUoyNDRUUHsgipdhvHEglDcxVoD07AqWIuEBLs7BvdrXoSgKhmGg6zrRaFR6Z6qMIVcfwmuazWZJpVIFRoJfVvzPp/DiigVbGGt+lhF/YWrxQjuVZ72SbUWhvKBmFrm/U01RrM5Bk0PMI5lMRqaO+OeRie6hyNEWtWZifRCpJ1Ndb6YCIYfFci3Wotra2oqPVZWTqUFEEYT+Ukm0WshKKBSS9S7+lLbJ+ldcCfxOV/+5ivWopqZGMlj5Zb+KmwMfGOMAxri9LcsimUwyPDwsaUYnCr+JfYQQFzPbiP3LXWqlkQP/efpfS2XVcWRKSDwe96gnqw2IrhgTGXau6xYofKIpkRj/YuNAKOSCmUSkfYnFW8iC3/t7ra7Dtm1JNxmJRIhGo1XD4BrCi1i6mJZnJAwODpLL5Qq8cH5PnTDchLEoPKzCuMxkMpJGsLh54tU0DoScivklFotRW1sru3RPdQqvzkGVw3VdLNNiYHCA0dHRiiLNwhD1R6h1XSeZTOI4DrFYbMIxuJLxEXJomqYk8aitraWxsXHKBepVOZk6RJq0qKWspJ5RFL6LHjtCvoRTU9CFTtSY8XJQqn5GZDuI6PVkaU9V3LjQnn766aev+lErkJ/iTfy5nYqiEI/HZahVUJgWby+QSCTYvn07mzZtYmhoiJkzZzIyMsKmTZsYGRmhoaFhQmagiY5d6n3xd8UPVSwW89KISqQMVR+uqwchK8LT4WcxKqeo2bZNf38/W7duZceOHYyOjrJ48WJ6e3v56U9/Si6X45ZbbiEUCl31ybgYZ8Kp6wAAIABJREFUsVhM5v4KAwWqof1rAX9qmKZrBQtuOSIE4WgYGRlh27ZtbNmyhVQqxZw5cxgcHGTr1q2MjIzQ1NQ0bn4R+1eKyYwDf7Sgvr6+oOnVVGWkKlOVQ3hwI5GIzLcWCp9/vfKjt7eX7du38/7772MYBi0tLQwNDfHGG2+QzWZpbm6elC67HCZK5xBpSWI9CgQC1NfV09DQQDgcnnJqZFVOpg7RSC4QCEhDbSL6bNd16e/v57333mP79u2Mjo4ye/ZsBgcHeffddxkeHmb69OkVNzibyhgXn1MoFKKhoYH6+npCoRCqouLijpOxKm4OXH3NRxn/ttQfZYRMTMau6xKPx5kxYwatra0Fi3lxmpCmafT09PDCCy/wk5/8hGQySU9PD4cOHSKdThdQREIhbWRxLp84BxFemygELBSAUChEPB6nsbFRUsJd7sJdxdTgTymrqamRY+D3qhbXDUSjHs3lv/zLv/CjH/2IQCBAb28vW7dulY2EBMuM/3eK05aKJ1d/jUxxnrjwPiuKRzcpvHm1tbUEg8GCnN+rmcpUhQcZQVLHlLl4PC6NM39aoJiDRERB13UGBwd54YUX+OEPf0gqlaK/v58jR46QTqcLeOv9clKqxsQPEdEqN95CxsSi3djYSF1dXZVZ5pcA4YFvbm6moaFBrkXFTfIcxyEcDtPV1cWzzz7Lxo0bsW2bnp4e3nvvPRmdFIxkQr7KUaMK4xUoSHErVQsloqZiLmxoaKCpqUkaBtV55fpAURT5zDY0NBT0HBEQsiIaifX39/P888/zwx/+UDok9uzZI3vqiOiTmGP8eolfDvy1BH5KZiEX/nVJOB3EejR9+nQaGhrGnGy41Z46NzGuLHJQUuuvbDOF0p6X4veapkmvqphU/Tm/Isowe/ZsEokEJ0+elHlyCxcuZO3atbJBSCKRoKenh3A4TDgclmkDUDgpi4dRhGaLDQTxYOm6Lr15YgIoxWdezsNURWUojipNdD9FZ1gxrv5OuWJSjcfjtLe3c+7cOfbt28esWbMYHR1lwYIFPProo5I5xDRNzp07JxfbUvnp4hw0TcMwjHFRLr9hEAgEZO6vmITLXW+p11VcPYixE2MSDodlTrhQyv2UsrNmzWJ4eJhDhw4RjUbRNI22tjbuvvtu2TgvnU7T19cnHQZC4fPPVeK1ruuSPSkQCBTUM/jnomg0Ko0C4bku53iY6DmpzkFXBnHfhGdYKGL+9EWBhoYGZs2axfnz5zl+/DjNzc0kk0lWrlzJvffeK/sYOI7D6dOn5RpXnF/uNziACWm3xZokCA1qa2vHpS9VKh9VObl6EJ3t9YAu1whh7AmHheid0NfXx65du2hsbERVVebNm8eGDRsIh8OYpkk6nZaNNKPRaMm1SBinQm5EqpJIu/Y7t0TE3U+C4W/q55eDqkzcfLg2aUVXAcWCGA6HCQaDUqEqTgWIx+M0NDSwe/dutmzZwty5c1m/fj3hcBjLsgiHw1y8eJEf//jHtLW1MW3aNNkNuZihRFVVkskkb731FgMDA8yePVt+Lx4sYW3X1dXJSv5qtOCDAbGA+6NN/gXctm3q6upobW1l165dbNq0ifb2dh577DG5vfb/s3fm4VGW5/7/vPPOvmSSyUJCEiAJCYQAIksAoYLW9ienrXjZWmvVgra2taf2XO2p9bQ9rR61Hk61Hq1Lj0urtW4opSgomyKgrAHCHgghJCEhG9kmmcns7++P8XmYSYKirZXl/V4XF5DMvNtzv89zL9/7+6gqnZ2dvPzyy2RkZJCbm0ssFpObwQjakThuV1cXW7ZswefzkZ2dnZQxFlz1rKwsuUnXmSiS6Hb06UOMj9j4SlSNEvm/mhbfaCg7O5s9e/ZQUVFBXl4es2bNkjvZms1mDh8+zLvvvktqairDhw9PqnQOXGh7e3tZv349XV1djBkzZtCmfiaTiZSUFDwej9yJdKhgQMc/H6L6J4LESCQi5wWj0UgoFJJBXUVFBdu2bWPMmDFcdtllcsMqk8lEQ0MDr776KsOGDSM7O1s6jQPPpWkabW1tVFRU0N/fT2Zmpvy9sC+LxSLlbMW+KKe7dh3/PIj1wWK2yDUjcXM9VVXlDse5ublUVlayY8cOioqKuOyyy7BYLFKEoLa2lvXr12O328nKykJVVblZnqAwCf+lp6eHFStWoCiKXLsSKwwmk4nU1NQkEYzT0SB1m7kwcVbraA7MYpjNZkkFcDgccuKMRCJEIhFGjRpFeXk5vb291NTUSOdfvDB+v5/W1lZsNpuMpL1eL4FAQPLLhTPQ3d3NypUr2bZtW9I1iSxyRkZGUolff4HOLgiHL5GjLRbyYDBIMBikuLiYOXPm0NTURFVVVVJmRXy2qalJ2lokEsHr9eL3+2WgILI3ra2trF27ln379iUFD0ajUQYiiYGkjrMLgm7mdrvJSM8gPT1dOlgim5+fn8+MGTPwer3U1tZKXrcozXu9Xtra2pKaB7u7u+nt7R0kYtDd3c3q1avZtm0bdrud/v5+qXTmdDrJyIhfwyfZDV7Hp4+B1BG73S4r22Lsx48fz4wZM2hsbOT48ePAKXqHUKc5duyYVBDSNI3e3l4CgYBMfgmnrqenh3feeYfKysokSpHBYMDpdJKeni43NEusauj4bDCQUqhpGqpBJT09nYyMDOmQRyIRLBYL4XCYgoIC5syZQ2trK9XV1QCyqiiSVe3t7UkU1L6+Pin/LlSOwuEwXV1dvPTSSxw+fFjSo0WQkUiPEwGu2OdiKJq1jgsTZ3VwMBQElUe8ZHa7XUpQtrS0kJmZycyZM9mzZw/r1q2TiiKxWIwTJ04wcuRIWbazWCxSqk7ohAsnPyMjQzqIYrK3WCy43W6ZAR5K91cPEs4eCKdNVJWEwovglzc0NJCdnc28efPYsGEDa9askZlgo9FIbW0tw4cPZ9SoUUllWyFTJ+zOYDCQlpYmjwtIrrhoUh9K0lYv659dEBlh4Wy5XK6kcWhrayMlJYXp06ezZ88e1q9fL8c5GAzi9XrJyspi+PDh0iEQu7+LyqLI9GVlZaFpGv39/TLBYTKZJE984PwysLyv28dnB0FPBKQQhegfEpTWWCxGTU0NRYVFzJkzh40bN7Jt27YkNazjx4+TkpJCYWGhrD4JuVpRKVdVFaPRKEU1hP0YDAasViuZmZkMGzZMbmgmbMOgGDAog+cbHf8cDJrPDfE/gqaYmZkpg39RWa6trcVmszFr1iw2bNjAW2+9JYPJSCRCZ2enpKwJxoNoQE+kzSqKwvDhwzGZTFJSV6yDbrdbiqacTgVStxUdAOdkClNk761WKw6Hg/7+fmpra6mqqmLkyJGMHTuWJ554ghUrVlBcXMzkyZMJhUIcPHiQwsJCALq6utA0jfb2diln2d/fLx1Ii8UiG1IFL1mcU2QUBSVBx9kNVVWx2+1YLBZsNhuhUIhDhw6xefNmpkyZwvTp02lsbOTJJ59k0qRJjBw5EoB9+/aRm5uLyWSitbWV3t5eenp6kuhogrcp7EVQ34RGtCjx65PtuQFFUUABk8EkK4ORSIT6+noqKyspLS3l4osv5oknnmDZsmUUFhZyySWXcOLECerq6mQDaGdnJ5FIhBMnTsjKk5g7hHxtYo+SqIa6nC6MJuOga/q4SjM6Pn0k9o+oqiqDxEgkwv79+zl48CATJ0xkdPFo/vu//5s//elPjBgxgkmTJtHT08POnTsZO3YsLpeLw4cPE41GZc9KOByWvXFibklUUBM9BTLz+wH09ejsROK7K3pMxHoh/Jft27czduxYZs6cyf3338+yZcsYM2YMkyZNoru7m+bmZrmBndjBW/RQip+7XC6i0Sh2u11WkcSaJBT9EinQ8tr0qUXHAJzTM4lw+vr9/axatYrKykrS09PlAt7U1MTrr7/O0aNHaW5uprm5maKiIlRVJRAISHpJMBikr6+PQCAgqwyCSmAymRg2bFgSNUUvuZ17EJl+u92Oz+dj2bJlVFVVycrAZZddxpEjR3jssceor6+nr6+Puro6xowZI3mfwWCQcDgs/yQ2lwnesclkwmazkZaWJpWr9AX73ISiKLjdbgBWrlzJjh07yMvLY/To0UyZMoXa2loWL17MkSNHOH78OJ2dneTl5WE2mwkGg7JBPRQK4ff7ZVCZWEEwGo1YrVaysrJwuVyoxqF7UfTA4OxG4vzS09PDsmXLqK+vJz0jvh7NnDmTgwcP8vLLL1NXV0dPTw81NTXMmjVL7qobDAYJBAL4/fHd30OhkKwcKIoiewsyMjLkrtj63HJuQmT5bVYbBoOBJUuWsHv3bkaPHk1BQQHl5eVUV1fz4osvcuzYMTo6OvD7/RQWFmI2mwmFQvT399Pf308gEJB/C99E2JLNZosHD64UmajSNzTTcSY4JysHA2G2mCktLaWgoICcnBwURaG8vBybzSads9qjtVgsFtksKmgmwWCQaDRKfn4+fX19mEwmgsEgNptN9jfY7XaApPKdjnMXqqoybtw4Jk2aRHp6OsFgkLKyMn784x/LjYLq6+sJh8Pk5+VjNBrJyMggIyOD1tZWwuEww4YNIxKJEAqFgLhGtN1ux+l0Sp1r0Olm5zKEQwZQWFhIbm4uHo+HWCzGpEmTWLBggaw4NjU14XQ6Zclf0EB8Ph9Op1Nq2wtqmtFolE2tuvTx+QMxfhMnTpS0H0VRmDVrlqwoRiIRWlpaUFWV4uJi/H4/WVlZsh9J0zTZ0C5sUOy1IJpIB55Px7kJMR+UlpYyfvx40tPT6evrY8aMGRgMBux2O8FgkMbGRgBycnIAZIAo1I4ErUwkN0XlQOxxYVD+sRt66jj/cV4EBx6Ph//3//6fzPQHg0GmTJnCuHHjCAQCWCwW1qxZIxdyoWseiUTIzMzE5/PJUlwsFsPj8UhZwUAgAJzaTVCfjM99pKenc9VVV8nyrs/nY/r06UyaNIn+/n7S0tJ4+umnsVgsWKwWub19KBSSwYOwD7Hgh0Ih2UCYyPUF3WbOVYiF1u12M2/ePNmEGo1GcblcFBcXSztYu3YtmqZhNptlNclgMEhqkuhHEZRIt9tNKBTC5/Ml2YdOHzr3kZ2dzVVXXSXtJRKOMHnyZIqLi6VQwtKlS6XUqJDM1TQNt9uNz+eTzcYADodD7mEgkhEDNesFdNs5u/CR46GA2+3m6quvlr0BDocDp9NJSUmJlK99++236e3tlVQhEVQI2W4hpqFpmgwihf+iVwp0fBKcF8GBaPIRsFgs0unr6enB7/djtVopLS1Ncu6CwaDk4wmOp5AnbWtrIycnB7fbTXt7u2w201+ycx9Cxk1AyIuGw2EaGxtRFAWbzcb48eNlEKlpmrQRwQm2WCykpKTgcrk4efIkw4YNi1PWggFJMdLt5dyGyMYl2gsgF+X+/n66urqkHKXg9Yo9Umw2m2woFM3OqampdHR0kJeXR0pKCu3t7UnylHqAcG5DcMkT/68a44kIoVylqiqTJk2SlSnRiJzY0ByLxUhJSSElJYWOjg5ycnKw2+14vV48Hg8AWkzT+eLnOIQQAZzavMzpdOJwOOjq6sLr9ZKeni53LhbSyNFoVDYWi/VGNDl3d3czZswYzGYzvb29uJwuFFU3FB1nDkU7Twn0iZn/zs5OGhoaUFWV1NRU2eAnIKTC0tPTcTqdAIRCIZqbm7FarVLdSHf2zk9IycCYRndPN5FIhNraWgCpQiS0qcUGeU6nUzavC5ncjpMdGE1xCpLO7Ty/EYvFiIQj+Pv9eL1eOjs7AZJ2o02UORayuqKS0NfXR3NzMxaLhcyMTCzW5MSDbjfnDxKduc7OToLBIPX19RgMBnJzc/H7/fKzondBSCCnpKSgKAp9fX10d3djNBrxeDynlbjV7eb8gJDKFgnOkydPommaDAYEhC9jtVpxuVzxviVVlTbmdrtJT08f1ISsQ8dH4bwNDuDU1vNi91KhIDLwljMzM3HYHZgtcUqAwWBA4QP5MUUhGAyedutyHec2EjeGgVOb3ImMjcFgkAokgOSJp6WlxdVmDCoap/ZGEE6AyDjrOD+RqAcejUTpD/TT2dkppUkTdz0WvShCdllULIFBiQoBfSE/P5C4HwEg90Ho6emht7eXYDCYtB+BqqpxJSKHM17lVjglgqGBQf3whINuN+c2EtciYTuhUAiv10tfX59UqxLrlBDAEFTpxI0bw+EwqkH9SJvRoWMonNfBAXzwgsXizlsoHFcN6ejokM0+FouF1NRUmeVNfDkTHUY9q3dhIRqNEgwG6ezslBzglJQUWUVKzAoPbDrWaSEXHoQikc/nw+v1Sl1xm80mKUjCQUx0FnVcmBCJK6/XS3t7O1arVa5HQvJ2oI2cybyizzvnF8TaEo1G8fv9dHV10dfXB4DT6ZQ7HCcmGxK/q6CgoYti6Pj4OO+DAwFN04hFY8S0GN3d3XJTM4vZIuUDdcUQHYkQm1P5fD5isRhWqxWbzQboNqIjGdFoVFYpxU6lZpMZo8kYb1BX9MZRHYMhqEYWiyVpb52BTt6ZQrer8wsDd1YXSYhoNIrNZpM9TR827rpino5PggsmOBCIxWLEovEy7unKbfpLpENgIO1I35BKx1AYuIjD4F1p9eBAx0CIfifgtHRVPTi4cDFw7AfSEM9kvPXgQMcnwQUXHAyFoV5AHTpEpiYajUpqiD7R6vik0IMDHZ8EenBw4WLg2AuhFdHfBh895vqapeOTQA8O0F8eHafHR70eus3o0KFDhw4dOs4n6F1x6A6ejtND3xFbhw4dOnTo0HEhQQ8OPoDuAOrQoUOHDh06dOi40KEHBzp0fELoAaUOHTp06NCh43yD8aM/okOHDj0Q0KFDhw4dOnRcCNArBzp06NChQ4cOHTp06AD04ECHDh06dOjQoUOHDh0fQA8OdOjQoUOHDh06dOjQAejBgQ4dFwz0LU10/DOg25kOHTp0nNvQG5J16LgAoGnakE6b3mit4x8J3c506NCh49yHXjnQoUOHDh06dOjQoUMHoFcOdFzACAQCNDc3k5aWRjgcZseOHYwpGUNhUSGxWAyDIR47a5qG3++ns7MTt9tNSkrKhx6zv7+fYDAov6tpGkajEavVisvlklnUYDCI1+slFAphs9lIS0tDURQ0TUNRFKLRKP39/fj9fmKxGDabDbvdjqqqg3ZuFt8Z+O/Ea/D5fNTX19PR0UEkEqG4uJj8/PzzNqsr7lvcXywWQ9M0mpubsVgseDweVFWVn098DsFgkKamJtLT03G73ac9RyQSwefzEQqFiMVi8udGoxGHw4HFYhl07NNdJ5yyn3A4jKIocsyNxlNTtbCLQCAgP2e325M+5/f75bFsNhsOhwOz2YyiKPI6e3t7OXr0KLFYjNLSUux2+8e2BU3TQAN/v5/6+nra29vx+/2UlZWRn5+PpmlJ79H5YGuxWIyenh58Ph9paWnY7fak33u9Xg4dOoTFYqGkpITu7m4AsrKyksYxEWKOCQaDBINBFEVBVVU0TcNiseB0OpNs9aMQCoXw+/34fD5UVcVsNifZY+K9+P1+/H4/0WgUo9GIzWbDZrOhqirhcFjakaZpOBwO7Ha7HNMzgbDtj3oHFBRQ4OTJkxw+fBin08nYsWOl3erQoeOfB/Xuu++++7O+CB06/lkQDorf72fbtm3U1dWRk5PDjh07uOOOO8jJyeHiSRcPWtC8Xi979+6lrq4Od4obh92R9HuBvr4+9u/fz6uvvsqGDRtobW3l2LFj7N+/n02bNtHW1kZGRgZ2u52uri62bNnCm2++SUVFBampqWQPy5bnjkQitLa2snr1arZs2YLb7SYzM1MuzInBwMDgYOC1+Xw+3n77bSorK+nq6uKll16itbWVsrIyHA7Hhz6rcxVa7IPnYogHXOFwmIMHD3LgwAEcDgdpaWmDggMtphGLxQiFQmzfvp0jR44wbNiwQQ6gpmlosfgxjx49yhtvvMGqVauor6/nxIkT7Nq1iz179qBpGhkZGUM6hWLcNE0jGo0C0N7ezttvv80rr7xCfX092dnZuN3upO9HIhE6OjrYuHEjS5cu5dChQwwbNgy3243BYMBgMNDV1cXWrVt5/vnncTqdDBs2DKvVmnTe6upq/vd//5e9e/cydepUGfR+nDEXx3rxxRdpaGigra2Np59+mubmZmbNmoXRaJQB75k4iWc7otEora2t7Nq1i56eHrKysrBYLEn3VFVVxSOPPEL14WomTpyI1+tl69atBINBhg0bNsjJj0ajRKNROjs72bhxIy+//DJ79uyhq6uLgwcPsnXrVtrb23G73bhcrkHXlEjjEkmFYDDI3r17efLJJ9m8eTNZWVmkpaVJGxDfC4VCNDQ08Prrr7Nq1Sp6enrIzMzE4XBgNBplkLxs2TL27t1LVlYWKSkpKIrykQGCuK6BNLPTjX8sGiMajVJZWcnvfvc7WlpamDJlClar9WMFIzp06Pj7ob9xOi44RCIRVq1axZYtWxg1ahSZmZk4nU4OHjxIS0sL0WgUg8FAJBIB4otZSkoKw4cPp6amhjffepPunu4hFzmRwX3rrbdYvnw5RqORnJwcPB4PDQ0N/Od//icPP/wwoWAIs9lMRkYGsViMP/7xjzz88MPUHquNH1cDVVVJSUmhvb2dI0eOoKoqJpNpUFAgIJyMxN9pWtzZPXr0KM899xwZGRnMnz+fSy+9lEgkwsGDBzl58uSg+zjdwn4uQTEoGNT4FGcwGKisrGTDhg14PB7y8vIwGo1Jzwniz1CLaVitVoqKijh69CjLli2jt7d30PE1NIwmI3a7nYqKChYvXiydK6vVypIlS7jnnnuorKwkHA4nf/eDcdFi8cy7wWBAURQcDgft7e08++yzVFZWkpKSgslkSvqu0WjE7XbT3d3NkiVLOLD/AGazOSmAcLlcWCwWVqxYQVpaGmazWd6nqqoYDAaMRiNdXV00NTUNCi5P1zswFKqrq/mf//kfSktLueaaa/iXf/kX+vv7iYQjaLF44JNYVTnTYw/83mcJEcC1tbWxatUq2traKCwsxOVyJT0vTYvbTmdnJ/UN9QSCAQoLC/F4PCxevJgDBw4MeU+xWAyHw4HP5+PFF19kx44deDwe3G43R44c4YEHHuC1116jq6tr0HUNfNdFtSElJYUXXniBl156ifT0dGw225DfVVWVqqoqFi9eTEtLCw6HQwYZJpMJt9tNdXU1x48fl++MOM9HPrfYqc8MvNZEKEq8ahCNRklJSaG+vp7m5mYikUj8nTyH5yEdOs5F6MGBjgsKiqKwZ88eXnrpJSZMmMCYMWMwGAyUlJRIpynxs4BcQEtKShg/fjw7duzgvffeG3TsWCyGyWSiuLgYp9OJx+Nh7ty5zJs3j+uuu45///d/x+Px8MQTT7Bn7x5SXClMnz6d66+/noyMDFauXMmTTz5Jc3Nz3LE1GHC73YwcOZLRo0eTmZkps7BDIRQKEQwGB2X8I5EIVVVVHD58mIJRBWRkZPCdb3+Hy+Zexvr166mrq0s6jnCEPo4TcDZDURTq6+t57bXXsFqtXHTRRUNmYMPhMIohTudQVZWCggJmzZrF22+/PWi8Be1DNahkZ2eTlpaG0+lkxowZXHnlldx0001cccUV7Nixg5UrV+L3++V3pXOU8FhVQ9z2XC4XhYWFOJ1OcnJyGD58+KCsqaIoOJ1ORo0ahcPhIH9EPh6PB7PZLLPSNpuNSZMmMWzYMCZOnIjFYpFjGo1GURQFt9tNXl4eZrMZq9U6iKp2ps/27bffpr6+npKSEjIzM/ne977H7bffjs1mIxaLEQwG48HRxzSjYDB41gQHEK8erl+/nu3btzNt2jRGjBgx5Ps4fPhwSREU1LC5c+eSmprKU089JR188T1VVeM0NLuD4uJirFYrxcXFzJs3j6uvvprrr78ei8XCsmXLOHDgwIdeoxaL07hMJhMTxk/AbrfjdrspKS7BbDIP+ryqqmRkZDBixAhSUlIoKIjPD4J+ZjQaycrKYuTIkZSVlcnfCWrjaa/jYwaYEA+QzWYzBQUFWK1WOfcoDKZQ6tCh49OF3nOg44JCMBjkL3/5C5qmcdFFF6EoCpFIBL/fj6ZpmEwm6urr2LBhA06nk5kzZ0pevsViobS0FLfbzdKlS5k4cSJ5eXkASVlbsZCJRV84EIWFhYwfP56tW7dSU1PD1KlTUYhni/Py8jCZTCxZsoT09HR++MMfYrfbicVicpFMpA8ZDIaknx05coSmpiZ6e3vRNI2xY8cyevRoYrEY1dXVbN++Ha/Xy+Hqw9gddqLRKGvXruXd9e+SmZlJWloaOTk5aJpGQ0MDdXV1+P1+cnJyKCsrw+l00tDQwIEDBxg7dizBYJDNmzdzxRVXUFBQ8JmM5ZkiGo3yxhtvcPToUa6++mpSUlKIxWKyynLgwAHa29vp7OwkPz+fGTNmoKBgtVgZO3Ys+fn5vPTSS8yYMQOPxyOPq2kaGkNTuoSTY7PZ6Ovrk05uJBJBVVVqa2upr6uns6sTh8PBjOkzSE1LlY67oAcNBXG+xGzxwJ8Luxb3KbjmqqomBX6RSIRIJEJjYyMVFRV0d3czfvx4SkpKZMDQ3d1NbW0tzc3NRKNRRo8eTVFREZqmUVdXx5YtW9A0ja1bt5KdnU1xcTEjRoygq7uLAwcOyL6akpISSktLURSF5uZmao7UkJ6RjsFgoKqqiqKiIsaNG0d3d7ekZxkMBiZNmkReXt7H4tx/Gjh+/DhLlizh4osvprCwEECOVWdnJ4cPH6a/vx9FUWhpaYkHR9H4+2s2m7nuuuuYP38+c+bM4dprr00aK4PBQIxT77kI8g0GA2lpaWRnZ3PkyBG8Xm/SNbW2tspeD4CJEyaSNSze2yCel6ZpoMQrXQqnnGxxXuHoi7kmkTIk7Sx2KlEgqqqiiin6XsSfpqYmjh07htfrxWAwUFRURHFxMZFIhLq6OhoaGsjJyUFVVQ4cOIDRaGQAFs1PAAAgAElEQVTatGlkZ2cnnVf8+9DhQxw7dgy3283UqVPlvHjixAmOHj3K+PHjSU9P/3QHX4eOCwx65UDHBYX6+no2bdrE5MmTcTgcg0rdO3fuZMWKFSxdupR77rmHRYsWUVdXJ51xt9vNiBEj2L9/P9u2bUvKrAtqSKJz1tPTQ1dXF62trVRUVLB//37Gjh3LxRdfHC+5K/GFMD09nVtvvZWpU6fy/PPP88YbbxCJRFAUBbPZLKklYgGORqNx2pMGu3bt4v7776eyshKr1crrr7/OL37xCwKBAIqi0NPTQ3t7O5FIhJaWFjo7O2lra6Ouvo7Ozk46Ozvp7e0lHA6zbds2tm7dSiwWo7a2lscff5x3332X/v5+1q1bx6JFi/jzn//MsmXL+O1vf8uaNWs+y+H8cHyQYOzq6mLHjh3xACg7B9UQd5oMBgNLly5l+fLlkmL185//nLfXvv3B1+MNmJMmTWLXrl1UVFQk04O0U+fQtHjTuQgGm5qaWL9+PUajkVmzZklKh6IoVFZW8vLLL2MymwiFQjz33HM8/5fnZXUh0abOJHMubOJ0VDDhZAln0WAwJB23sbGRt956i2XLlvH4449z11138d577xEOhzl58iRr1qzhyJEjWCwW3n//fRYtWkRVVRWapnHy5Ek6OjrQNI0TJ07Q1taGyWSitbWVZ555hoqKCqLRKJs2beKhhx7i/fffJxaLsW/vPh75/SM8/vjjLF68mEceeYSVK1dSW1vL8uXLaW5uxuVy8eabb7Jo0SLp/H5WCIVCHDlyhKNHjzJx4kSZDBCBztKlS9myZQt+v599+/bR1NSEyWTCoBpk5nv06NE4HA6effZZ2XQsAtSBVRvRjOz3+9m9ezfV1dWUlZUxevRo+Znjx4+zZs0aamvjVMS1a9fy8CMP09jYKD8jbSHBVhOR6IyL4EBAXI/BYJB9OwAmkympLypxTqqtreXRRx+lpqaGYDDImjVr+N3vfkdFRQU+n49169bx61//mj/96U9s2rSJN998kwcffJCVK1fS19uXZMPCXo8dO8b999/PQw89lPTcqqqqeOutt/D5fJ94XHXo0DE09OBAxwWFyspKOjo6KC4uluougkaiqip9fX1ccskl3H777cybN48lS5bw6quvyiZVq9XK8OHDCYVCHDp0KGkRExALXGNjI6tXr2bZsmU8//zz/OpXv+LAgQN85zvfoXh0cdJ3zGYzkyZN4jvf+Q5paWn8+c9/ZvPmzdJJSOx/EH8LdY8DBw5QV1fHjBkzuOSSSygrK+Ott96ioaFB0pxE43F5eTkXXXQR48aNo7i4mNTUVJkJbW5u5s0338Tr9TJp0iTKy8upq6vjmWee4cSJE6Smpkou8MyZM/n+97/P2LFj/wmj9smQ2G/R1NTEqFGjSPOkgXKqB+H//u//mDhxItOnT+frX/96/Oe7KwFkxregoIDe3l62bdsmHeuhnPaOjg62bNnCM888w7333kt3dzf/9m//xqWXXprUN/DHP/6RkydPMn78eC655BIsFgsvvvgi+/btk5n8xEzsp9nAqygKJpOJglEF3HDDDVx11VXU1dWxZMkSWU145513SE1N5aKLLuKiiy5i48aN/O1vfyMaiVJaWsro0aNRFIXLLruMqVOnArBy5UrWrVvHF77wBebMmcPll19OS0sLzz//PPX19aSlpdHX20dNTQ0lJSXcfPPNTJ06lY0bN7Jt2zaysrKYPHkyJSUlLFu2jLVr135qz+BM0NfXx969ezGZTIwcOVI61X6/n9WrV7N161ZKS0uZNWsWM2bMkMIBgksvqDiji0azbds2WeFL7BGKRU9l7Wtqali2bBkPPPAAK1as4PLLL+c73/kOI0eOlH0c7733Hjt27GD48OGUl5eTk5PDsmXLWL9+PaFQCEBSJRWDgmL4++woce4xmUyyypA4/z3++OMcOXKEyy67jLlz5zJr1iwqKyt57rnnpOJaU1MTXq+Xiy66iJtuugmXy8X7779P+8n2JFsXvV8TJ04kJyeHTZs2yUAgGo1y7Ngxxo0bp1cNdOj4FKDTii5wnA8KIh8HR44coa+vj/T0dEwmk6RxiPufOHEi06ZNIxaLMXLkSDZu3Mi7777Lj370o3gm0GDA4XCgqipdXV1EIpEkecCBma+CggLJSW9paaGqqop169ZxySWXMGXylKTvKYrCtGnT+O6t3+XxJx7nueeeIzMzM+m4iRDZvpkzZzJixAiysrLYsGGDbKoWmWin04nT6ZQUBaGeI2RR3W43TqeT/fv3s3v3bhRFYePGjfT39zNy5EjZ6JyVlSV7L2bMmMG0adMwqmfvFCIoP3V1dTQ3N2Oz2ZKc9FWrVtHa2sqUKVNwuVykpaVx3333kZGRkUT3cLlcGAwGqqurUVX1FBdaSaZoRKNRwuEwu3btYvny5Xz9619n/vz58ngQDyBWrFjBtddey8qVK9E0jaysLDo6OvB6vRiNxqRrTKSBfFrIyspi9udmM3LESMaNG0d9fT07d+6Uf9fV1XH48GE6Ojro6uqioKAg3igai5Keno7T6cRkMpGVlYXL5aKlpYWlS5fi8XgoKysjHA4zffp0tm/fzpIlS9i+bTtTpk7BneqOU6pmzCAvL49gMMirr75Kd3c3u3fv5tixY0QiEQoKCvD7/B99I58i+vv7OXz4MCaTKUmOuLW1lU2bNuF2uykvL4/z+z/ovQgGg5LaJeaDESNHEAgEOHnypOxLEBDVn0gkQn9/P3V1dbzxxhs4nU5uueUWpk2bhsViIRaNS6lu27ZNKqE1NTURiUQYOXIkgUBABq+SkphQpfykiEXjx+ru7ubQoUP09vZiNpsJBAJMmTIFo9HIq6++yo033khBQQGxWIzp06dTXl7O1q1bOXToEB6PB4/HQ0FBARMmTEBRFF599VWOHTs2ZNO/wWAgPz+f7373u6xZs4bFixfz05/+FL/fT1NTE9/4xjewWW1DXK0OHWeGgXO5+BlcOH7RUDh7V/a/AyLLejpN6X/Ud84UYsJXDWq8PBvTpIrKR0FkKQUHOdFJ/CSGm9iQKLLSn/RY5yL6+vqIRCLYbLZBTW5C5UNwst1uN2PGjKGmpkYGFOK5GY1GwuEwwWBQ6nCrBlU6pJqmkZmZSVlZGUVFRQSDQaZOnUpubi6//OUvycjI4I9//KM8t3D0U1JSuHLelbS2tfLcc8/x6KOPUlRUhNl8qplQBjSGePWguLiYmpoali5dysiRIxk2bBgQd2hEg6LgFify1AWvWTgSLS0t+P1+xo0bx/iy8YTCIcrKyjAajeTl5dHZ2QlAWlqadHaMJuPQyiNnAcT7IjT/DQaDVMAxGAwcO3ZMqvYYjUai0SjTp08fpGIksruCegUMqhYJlZWLLrqIvLw8Dhw4wKpVq7jiiivIzMyUAWRrayutra1MmDCBSZMm4ff7KS0tRVVVcofnYjQa5XUaDAZiWgyiyKAETj1fEayKLLbBYCAYDMrgQjTIJ9rOUDCZTPH+AoNCZmYmeXl5bN68Gb/fT2NjIxaLhfHjx+PxeAiHw0yePDlJ3jWRRqcoCr29vezbt48vfvGLMvB2OV1xJ9/vp+lEE1OVqVKNy2q1YrFY6Onpoa6ujtLS0njgaTQyevRoLr30UvLz8/8RJvGJEQ6Hpf0nUrhOnDhBXV0ds2fPJiUlJckuDAYDBiVePTAop6hdmqbR0dHB2LFjZd+HqqoY1Hgjsbjv+fPn09vby7PPPss777zDhAkTpCiBz+ejqamJrKwsJk6ciNVqZcyYMVx55ZVkZWXJ+S0cDsfXNiU+HwjZ1cR+hMQG44HKQIn9KQY1fi81NTXcc889tLS0oKoqgUCAZ555BrPZTFdXF6mpqfI5paamUlpayqpVq6iurpZzqMViSVrPxHupaXF54MSeIIPBwKxZs5g7dy5PPPEECxYsoLq6mqysrHg/2CeoiCT2T3zUfJXY6xWLxT6y90Ws2YnvrGpQiWmxIc+VGBSKioy47wsRiYFs4n5Dn9r5Pmh619AGje/Zurb9M3BeBgdn8sIP9R2IT1L/yMY3McGpqooW+0B5waCc0XkSJ27x/78HA+kQ0cgHfNe/s9x8LiFRv3uo5xkKheQCLhwel8slmzMheYIQdCTx82g0KlVjxM+Fs5mbm8s3vvENfvOb37Bx40Y6OztJT09H0+J642IydLvdXH311dTX1/PXv/6V7Oxs5s+fP2jSEmoiS5cu5YknnuCWW27h8ssvp6qqSjqYikFJctzEoijsEkhymAOBAHa7ndJxpXLx7OjokFKYgOx1EMc+W5H4jEQjrpgbxP22tLTQ3t5ORkaGdLRbWlpwuVxyUzDxHVF9kQ3hseRAXVHizeVTpkxh4cKF3HPPPTz00EOUlZUxatQoGXwKOxGN3SLQTHLEPrgWQWMS72ogGJCbs1ksFlRVxev1JiU3wuEwFosFr9d7RotrJBIhEAgQiUTks7Lb7ZjNZqLRKD09PXg8HtlMbFAM9Pn6JP9b2Jfog9E0jf7+frn5l8VikU2rFotF9vok3q8Yr1AoRF9fH7m5uXg8nqQA77OEkI8VzeWJDl04HKarq4ve3l5SU1Nlo65w+EUDrxhLTYvLnco+AOVUb4lwThx2BwWjCvja177GoUOHWLp0KaWlpdxwww1yjESFYdiwYYwaNQpFUTAajfEekJgGajIVSJzfYDAQDodpaWkhHA6TnZ2N3W4nGAzKzc60mIamnEos9Pf3k5aWhsViITc3l/nz59PV1YXdbqe3t5eCggLa29vRNI3GxsZTCbEP5JfNZrN8f4YSbxCBrnhHAWlPPp8Ph8PBbbfdxjXXXMNTTz2Fx+Nh8uTJg/YfOWNog/s8TofEz5yJo5q4Zst7iUUHfXdg1WioBEBigkKM7/mOSDQiabPRWDRJvvsfDfG8w5GwTMyIeRAubGWs8zI0TQwO/H7/II3xgfD5fHLi/EcbYeIiH4lEpNrEmU4yQklHLP6fFGKSSXQ4wpHwGV/L+YKSkhIcDgdNTU2Ew+FTC6F2SqNcLKShUIjjx4/LRSjRpmKxGDk5OTgcjlPZ2w9MRzhKQiJS7I6sKIp0frKzs3E6nXIRNapGSUEwGo2MGjWKm2++mRkzZlBVVSUpJ8CghWfFihV4vV6mTJmCx+PB6/WiaZrUKxfZOHFNooogMsbCySwqKsJms/HOO+/IfoWWlhYqKiro6OiQjo1QZBHHOlshFtW8vDwyMzPp6uqSDm0sFmPy5MkYjUZeeOGFOEdbi2v2b9iwQY51OByWjq1QfxLfT4SQjxRzz9VXX821115LVVUVzz33HD09PUSjUYYNG0ZaWhqLFi2itrYWm81GJBJh48aNHDx4MKm5XdinwWAgGotTuw4fPsyePXvo6+sjIyMDp9PJkSNH6OnpkTYsKgcbN25MamBNRKLzISQkDYoBr9dLW1sb48aNo7CwkMLCQhoaGlizZg19fX0oikJ1dTXvv/8+gMw4C5uKxWKkpqZSXl5OY2MjR48eRdM0AoEAra2tpKamkp+fTzAYlHQ14aSlpaUxevRo3nnnHdavXy97PioqKqioqPhUbORMYbfbKSsrIxQK0d3dLccpKzOLnJwcjh49Sn19fVLzt3i3EzPUnZ2duFyuuMqZAqpRTZJQFg5xIBhAQ2PMmDHcfPPNZGdns3jxYnbu3AmAx+OhsLCQTZs2sX79evr6+lBVlU2bNnHgwAHCkTCxaEweOxQKyeqVUFfavHkzx44dw2QykZOTg8lk4vjx4/FA5oOgRmz65vV6ycjIwGw2k5mZyfXXX8/3v/99Fi5cyA9+8AMyMzMZMWIEOTk5vP/++/j9flRVJRgM0tHRwfDhw+PqbAl9NOKZJO74Lq5X2FPiXDd37ly+9rWv8eSTT9Le3s6E8RPkM/s4iEajMjOdSMEaCiIwTewD+igM1Ss0MJkgjp0IEbgpSnyfG0HjEkHBZ63W9c+CDIAUpMDDpwVR2RMJPJG0FXPphYyzd2X/mBhqIHfu3MmGDRsGbRwzEJs3b2bp0qVJk/Q/yjBEYNLf389N37qJW265RTobH+Xwh8Nh/vrXv7JgwQJef/31jwxy4PTqJmKy6jjZwf/93/+xYMEC/va3v2FQDbIJ8kLAuHHjcLlc1NfXSx31aOxUBnP9+vX4fD56e3tZtmwZ+fn53HrrrUmL/YkTJ4jFYowePTopkxMIBNA0jd7eXkKhEM3NzdTX19PY2Eh9fT1Llizhuuuuw2Aw8JOf/ERmRXt7e2luaSYQCCSpoJSVlfH973+f6dOny2uVXHjFQDQS57hbrVZOnDjBqlWrWL58OatWrcJsNvPWW29RX19PKBSitbWVUChES0sLEM/mCnnSN998k3fffZf8/HymTJnCG2+8wcKFC/nmN7/Jj370I44fP47FYiEQCMgFH2UwteZsg5j0y8rKyM3N5cSJE5LXrKoqV1xxBfn5+fzpT3/iq1/9KgtvXsidd95JampqUuaos7MTu81OeXl5kiOTiGg0itfrlQ50Wload9xxB1OmTOHJJ5/khRdeIBgM4nQ6+d73vkdNTQ1XXXUV3/rWt7j++uupqKhgxIgR+P1+Ojs7OXnyJA0NDVIBqKWlhXfWvcOjjz6K1+slPT2dgoICrr32Wurr63nppZdob483dHq9Xl566SXeeOMNfvKTnwz9bDglt9vW1sbBgwcJBAOsW7eOrq4uvvKVrzAifwTzrpzHiBEjePjhh7nlllv4xje+wS//85cyCFGUuGyn0WjE6/ViNpvxeDwsXLiQ2tpannnmGfr7+6mvr+fw4cNceeWVTJ8+nUAgQCgUkkGr2HDr61//Og6Hg1/84hfccMMNfO1rX+Ppp58mKyvrU7SUj4AGDruDCRMmEAwGaWlpkeM/qmAUc+bM4dixYzz44IO89tprvPTSSxw6dIi6ujqOHz8ug2lFUdi7dy+lpaV4PB5CoZAMjiA+3/f399PV1UVHR4d0+OfMmcM3v/lNDh8+zO9//3v279+PxWLhS1/6Eunp6dx1113ceuut3HDDDTz11FNYLBZMJhOhcIiuri7a29tpaGiQqmnHjh3jz3/+MytXriQnJwej0ciECROYOXMmq1ev5s0335RzWU1NDU888YTcE0NBkXQwh8OB0+nEneJGi2mYzWbuuOMO6uvr+cMf/gDEFZUOHDjAF7/4RRkU9vT00NfXRyAQIBAIEA6H6e3tlYF7d3c3oVBINlWLCpbD4WDhwoWEQiEmTJiAw+EgHA5/onlIi8Ulm5cvX051dfVp1z+R0Fm2bBn79u07o2NHo1Gqq6t5+umn+fl//JwXX3yRnp6eISv04h6DwSA1NTU8//zzPPvss+yq3EUgEGDHjh08++yzvPLKKxw9evRj3+e5Ck3TeO2113jmmWfo6ek57Wf+bnwQJHZ0dPDwww/z2muvxTdwjETk2Hwq5z0HoN599913f9YX8fciabC0eOb23Xffpaqqiosuuojc3NxBGc5gMIhCPHsxbNgwNm7cyNq1a5kyZUqcQhHTkuTbEjFQd14cO1EnWovFnbhgKCh5hIsXLyYUCnHjjTfS39+flIVMdDYE31JVVQ4eOMiuXbuYNGkSZWVlQ2YlYtHYII5e4jETG24UQ5wz+sc//pHi4mJmz5od//0AisjZTBf5e+DxeDhy5AhVVVVcccUVpKSkYDQacblcTJgwgdraWjZt2sTu3btJTU1l4cKFFBYUSr5te3s7K1euxGAwcOONNyYpZaiqSmtrK1u3bqW3t5fMzExOnDjBjh072LFjB42NjUyZMoU777yTz33uc5jNZtra2ti0aRMnmk6QmZmJy+UiPT1dlt9zc3PJzc2V1AG73S7VRwDZ0FpdXc3WrVvJy8vji1/8Iu+99x4lJSXMnj2bEydOUFFRgcViITU1FafTKXfQbWhooL29nYsvvpiJEycyduxYHA4HBw8exOv1Mm/ePElpOnjwIG1tbaSlpZGfny/vfaCtnC22I+hSdrud1tZWDhw4wNSpU+NOjqLIJtKTJ0+yadMm7HY7N998M1/4whck/aenp4cXX3wRTdP46U9/Kvn7Iqj09njZuWsnx44dIyUlBbfbjcfjwWKxYLPZGDt2LF1dXbJJPC8vj5kzZ5Kdnc2hQ3H99lmzZnHzzTeTlZXF0aNHqaysxGg0kpaWRn19PXv37mXnzp3s3bsXo9HIZZddRkFBAaqqUlpaSmFhIdXV1axbt463336bDRs2AHDdddcxZcqU046H0+lk5MiR+P1+Nm3axPbt2wmHw3z5y1/mc7M/h8lswuPxcPHFF9PX18euXbuw2Wxce+21fP7yz6MY4hsK7t69G4/Hg9PpJDU1lfT0dPLy8igqKmL37t1s2rSJuro6ysvLufbaa7Hb7Rw9epTm5mbMZjP5+flkZ2djNBrJz89nwoQJHDlyhIqKCgoLC7n55ptlw+tnAgUMajyLvm3bNqLRKHPmzJHZ7aKiItLS0mTTbWpqKg6Hg4KCAmbPnk1OTg4KCoerD/Pkk0/y7//+70ycOFEKIgjKW01NDTt37iQajVJQUEBaWhqZmZnY7XZyc3Mxm800Njbi9/tJSUlh3LhxjBkzhvb2diorK3E4HHz3u99l6tSpdHV18c4779Dd3c2YMWNoaWlh//797Nixg507d1J7tJby8nK+8IUvSGe/rKwMm81GRUWFtKWqqipGjx7NVVddxYgRI5ISaCLDn5j1F9Wmt99+m40bN9La2kp5eTnXX389Pp+PvXv34vf7yczMJCsri/b2durq6qQqmMfjobq6mvr6etxuN0VFRWRmZsq+LlFJv+6667A77IM2rvwoxGIxDIqBQ4cPsWbNGoqLiykpKcFiscg1f/DwK4Qj8URdNBqlsLAwiYoJpyo+ABs2bOBXv/oVjY2NHK4+zJLXllBYVEhBQUESRUZUTwT9KhQK8dhjj/HKK6/gcrm47PLLOHr0KL/97W9Zv349ubm5TJo0SV5XogyuoLeJY4p7FRTGgc8okfYl/i+qzEn3fgZzubhvQZH8MCTSJgG5Q/zu3btpbW2V4gaHDh3i17/+Na+99hqf//znycnJke+KqOKIc4t7EP6XuO/Ea0/srYxGo+zZswefzyfFJlavXs1vfvMb1q1bxw033EBKSkqSP5U4Zol9QqLaMJC+mTg25yoU7TwJgxId9XXr1vHGG2/wxS9+kSuuuOKUnFsCT3TgS+H1evnhD3/ItGnT+MEPfpC0edVQyiSJj22o3wNJRqppcU1wg8FAenp6nNtuUKXTKT4/0BgDgQB+vx+LxSInSCDp+sTLn8iTF05MOBxOUj+JRqOsWbOGf/u3f2PhwoX8/Oc/H/J5nstG/WHQNI39+/dz5513cscddzB71myisShWq5VQKJ5pE8/TarXicrnitCPimVIhVXnZZZdx7bXXylK9oCeFI/Em5VAolGQjsjFRjR9XjI+gXPT39wNxh81qtcrvBYNBAoEAZrNZfidxAYhGo4RD8cxbJBrB6XRiNpnp8fZgNptxuVz09/fLLIgoT1utVqLRaPx7kQhutxuj0Rinm4XDkuPtcDiwWq0yqxkMBrFardjt9iS980ScTbYjrq+xsZH77ruPCRMmcN1115GRkSE57z09PbLnw+PxJO0pUVNTw+23387NN9/Mddddl3RsoU4kaGThcBiDwYDNZpOUK8HZF3x7sd9BX18fXq8Xk8mE3W6XtLVIJCLtJ9H5SuTmi2cv0N/fL5s4hYNgs9mw2WyyXD7Uc1GUeMNqX1+fXMwEzWxgA7zI7EajUdxud9IOuSLRIehpVqtV9g/4fL74+6QYsNnjz0U8L7EPh8ViwWKxSMciHA7T091DOBKvijmdzqSK2mcFv9/P66+/zsqVK/n1r38tAzRBPfH5fITD4aQ9LYSzo2kaDzzwADt37uTxxx4nxZ2SZGdiXQoGg7Ifymw2S7nlaDQq32Oj0SjtS4gihEIhTCYTKSkpGBQDoXBI/ly888IxEjRD0VcjIMZEXAPE7UHYRGLPwukgxl3MK8JWLWaLfE7hcBiT2RR3yD+Y/0Q/jslois95wfjPXC5X0rr36quv0tHRwbe//W3JEf8oJDqGmqbR2trK//zP/zBx4kTmz58/SDUKktdiYa/vvvsuf/3rX7ntttuYMmWKPKb4vLi/e++9lyeffJLvfe97jB49mo0bN3LbbbfFK48fNCYnOtHiXTx58iT/+q//ytq1a/nBD37Afffdx3vvvce//uu/0tPTwy9/+Uu++93vDnmP4hoFtVEcMxQKxXfGTrw97QPfxHDKN0lMJCbe18D/J55v4C7ZA/2ggUh8pokMh7a2Nh555BHy8/O54YYbSE1Npb+/n0WLFtHV1cUvfvELsrOz5RyYSJ2MRqIYVEOcgsUp2vTA8yb6cXt27+HpZ57mqquu4tJLL8Vut9PY2Mj9999PdnY2P/vZz+Q7PNT9x2Ix2cAsnrUIOjVOff5sWgc/Cc6L7hYxsSootLW1SYnAsrKypEXO7/fT1dWFqqpSh1oYampqKt/61rf48Y9/zJw5c5Ii9IEvgKZp+Hw+Ojvju5umpaUlGaRY9I1GI729vTI7nZmZKRdS0eApFlwhC5eSkiLPoaoqVotVTiiCgyk472azme7ubsldF2o5ZrOZWCxGS0sLoVCIrKwsyXlXVRWbzSb/P3ASON+hKAolJSXceOONvPrqq4waNYqRI0cCSD7toPFW4o3kR48eZfPmzUybNo1rrrkmScJUURQUVcGiWpJ+nnSchCqTQDQaxW63yybNgROKcNQSsxUKpyZ0VVXBDKmpqahGVdpNujEd1agSDoelGo8ICMQfs9lMampqXF/9g4VCBCEOhwMgSXvdZrPhdrsHVaTOVttJbPLMycnhpptuYtmyZVRWVjJ9+nSZNUqULk38u62tjeXLl/PlL3+Za665ZshjC0dYJALE+IpsmqqqeDyeQQk+rQcAACAASURBVOPqcrlwOp1Acs+PmDecTmdSJkwkOIQNJT5z4UQmJgfE4inUtAYiMcngcrnkcUWAmJhFVVWV1NRU6Wgm2rFw7hMX32gkSkyLSZuxmC2nMrIaKKb4d4ZqJo1FYxhVIxmZGR85vv9s2Gw2Lr30Uk6ePMny5cu58cYbpWNpMpnIyMgYsqobDofZtGkTtbW13HXXXXjST9lDonOpqqoMxgc6jwaDQdpLIsT7OjCDbjHEnXmHw4FBMRCJxu0xMZkxEOL8iePycZw/QDZep6eny8ZOkW2NxWI4nA75WXG9idekKAqqMa6CJhzdyspKqqqqCAQCvPfee/zsZz8748AATjmlRtVIJBph8SuLaWho4Fvf+pa0/cT7ErtbW61WFBT5/owfP57ly5fzwgsvUFZWhsVsAUNyskYobgn64rx587jhhhtkgBONxbPfIhkkVKXENVit1rhfkqBuJZ7DUPvpiKBABJMGQ1yxrLu7W87VwVAQi8UiEw6qGldNjIQjhMKngk3xzgcCAfr6+nA4HLKCOnDcjUZjnLFgiI95b28vPp8Pm81GWlraoGuNxWL4fD4CgQAOh0Nea19fH4sXL+bll1/m5ptvPjWvWqzc+bM740k6W9xX8fl82Kw2wpFTCc9oLEqfr08GsJqmEQwE6fP1EQ6Hsdvtcp4HqKur4/eP/p53332XuXPnyvvKy8vjd7/7nXw+0UiUSDQir1H4cYmJmVg0RiAQkHN2NBrF5/NhNptlcHEu47wJDoSjtH37drZv3843r/8m2cOyZRb4vffeY+XKlXR2dlJXV0daWhp33303JSUl0nBmz55Nb28vr7zyigwOBjoMnZ2dvPPOO+zYsYOuri68PV6+8pWv8KUvfwmr1cratWv505/+xLx582hpaeEvf/kLd9xxB5dccgk/+tGPGDFiBM8//zyaFteLXrp0KSdOnCAtLY2mpiays7MpKiqiqKgIt9vNyy+/zK5du1iwYAHl5eUsXryY1atXc+WVV0qqUjgc5sEHH2TatGkoikJDQwP33Xcfdrudrq4uTp48yc9+9jPmzp0rJSwTM9tnq3P3acFisfDVr34Vh8PBsmXL+OpXv0p+fn5S057MBGjxnW/b2tp4//33ycnJ4Stf+QoWi2WQqoGwk6EW0IE/9/l8SdlS8RkBuaAlNGSJcRoog5vYuAdxhzDxPkS/gHBixUQGH1Q0jKcUZ4T8pSiTG41GDIpBZj8HVsg+jSb+fxRkhkqLP7NLLrkEVVXZunUrLpeLyZMny0VTTPjiGXd0dLBmzRqGDx/OVVddJXdVFkgcTzH3iABOlvWjcflHkc1PHEtFUeINo0Y1uSFdi0lnZOC4iqBOfF9cr3AkxDUlVhU+TMZUfD7RyRpowwNVdkQJXSQ3Eu9HJjWMKiqnAlUtpkHsA7tVwKAZZBY7Go0mybcqSlzN7bS0yM/Q1hRFYfjw4VxzzTWsXr2aNWvW8C//8i/xwDyhEp2YFVUMCvv27GPnzp38+Mc/ZvTo0TJ4E/eSGMBpsfgzG0gRERlsGCy3LTK4IhEgPmexWGSmVjWeuj7hVJ7ONgYGu+LYQ2VlB0KcX4wrcGoeScgYC1saSk5bVLuFY/bII4/w2muvYbfbeeThRxg7duzHsoNEmm5bWxvvrHuHgoIC0tPTk97JPXv2sHz5cjo6Oti9ezezZs3iP/7jP3A4HASDQTweD1OnTuWxxx6joqKCWbNmyTUC4juxL168mMrKSsxmM6tWraK8vJzPf/7zPPnkk/ztb3+jqKiIhx9+mG3btvGb3/wGRVG49957mT17dtLYigx0YlAw8J7F/7du3cof/vAHfD4f48ePp6+vj9dff50JEyZw3333cfHFFxMKhdiwYQMPPfQQADfddBORSIQHHniA2bNnc8899xAOh3n99dfZsmULoVCIvLw8FixYwIQJE4Z8rgbVgM/n49lnn6W+vp6enh62bNnCl770JRYtWiQ/19XVxZIlS1i/fj09PT2Ew2Fuv/12Pv/5z/PKK6/whz/8Qe4y3t/fzy233MK+fft4/vnnicVi3HPPPfh8Ph588EGampooLS3lzjvvZOzYsaxevZoXX3yRH/7wh8ycOZOjR4+ydOlSenp62L17N+FwmFtvvZUvf/nL9Pb28thjj/HGG2/g8/l46KGHOH78ONdeey1LlixhzZo1uFwunnjiCbKysujz9fHoo49SUVFBbm4ugUCAWbNmceONNxKLxdi1a5dsjp80aRImk4kVK1aQkZHBXXfdxSWXXHLWro1ngvMiOJATWChMTU0N/f395AzPwWyJNzI1NDRw7733Mnz4cO699158Ph/z58/nkUce4YEHHkiKzEtKSnjrrbf4xS9+IbP4YqLr6+tj6dKlrF27lttuu41p06bxwAMP8B8//w8CwQALFiwgEAhw4MAB+vv7mTx5Mh6PJ97QaLezY8cOSdeIRCJs2LCBRYsW8fvf/57y8nJeeOEF7rvvPr72ta9x2223YTQaaWlpYcOGDZIH3dHRwdatW1EUhfnz53PLLbfwX//1Xzz11FOUlpbidrtZsGABJ06coLq6mvb2di6//HIWLVpEeXm53AgqMTA4XenwfIbFYmH+/Pk0NzdjMpmk/KOAzIwa4nalKAqXX375h+qtf5xSosPh+FCVjIEL8UBH8cOQeB/i3yKTMZDKEN9kebBTOdT5Pm4W8WzAwOc4depUSkpK5A61Ilga+A6kpaVx+eWXS74zfLTmdeK5En93Oik+4bAJh8CgGjAaTj8lfxwbSLzGjzNWQ2UIAVlVgNNTDQY6jvJ9GOBPiu8NvB/RJH06GudnbW/iGnJzc/n6179Oe3v7oHd4qDkgPT2dBQsWSGnWgc8pqQKpnpL2FOcUamqnk7ROrAINfI9PNyYfFhjIimTCzwZWMhLPO/D4iecX13W66xHfSVyHRHIC4hS6n/zkJxQUFHD55Zfzuc99bsjr/jCoqopRNcYDtX37aGpq4gtf+AJpaWkyaGhtbeX+++/n29/+NldccQWbN2/myiuvxG63c+fP7sRkNGEymhhTMoaenh42bNjA7FmzZdUV4nPG3LlzWblyJTU1NZSWljJx4kRSU1Nlw/GJEycIBAJMnTqVnTt3EggEaGhokNVAEVglyvwmNq0nQlz78OHDOX78OFu2bKGpqYm77roLi8XCU089xS233MJ7772Hy+WivLycLVu2EAwG6evrw2KxUFVVxbBhw/D5fKxYsYLf/va3/OpXv2Ls2LHcfffddHV18fOf/5yioqJBYwZw55138swzz/DKK69w9dVXM3PmTB577DFyc3O5/Ye3093dzZ///GcefPBBfvrTn1JYWMjChQtZtGgRTqeTUf+/vfMOj+o68/9nRr2NekO9VwQCSXTTO9jGEK9tHNZ4YzukrL3Z3dhJftk4dpKNN5s4cWzHPUscMGBTTC/GYFtUgyhCgEAFVFAvoynSaMr9/THc45EQHQfbnM/z8Ni6c+fec+85c+95z/u+3zcxkdDQUM6ePcvYsWNZsGABcXFxIhelrKyMp59+moKCAqxWK0ePHqW3t5fo6GjA6bkNCgoiIz2D8tPlLPneEgBef/11xowZw49//GN+97vfodPpmDRpEoMHDyYmJga9Xs+8efOYOXMmUVFRaLVaDh8+TFdXF3/+859xOBy8/fbb/P73v+fpp5/m+9//Pi+++CI///nPsVqtPProowQGBtLZ2cnOnTvp6upiwYIFJCUlsWHDBuLi4oiOjiY5Ofm6x+tXhW+MWpFGo0Hfpaeurq5PFUv1pTZq1Cjmz59PUFCQiFlTH+5qrKyqPd7S0iJUXdQVP4DKyko2b95MYmIiEydOJCAggIcffpjCwkLWr1/P6dOnGTx4MMHBwQwdOpQf/duP2L9vPz/5yU9ITk4WaifgXB357LPPABg6dCjBQcEMGzaMmJgYEhISyM3JJSIiguzsbCEzpxYjCgsLY/r06SxYsICHH36YvLw8Dh06RG+vM840NzeXp556SsjuRUVF0dXV5XzgOAaOy7tTiYyMJDQ09LIvS3Ul08/Pj7Cwy4c6XI9hoPJ174OvwoTtenF3dyc4KJjYmFg83D0uv6PiHBtXKyB2K/myxsOt7iN1rN/y416hbsaXcb7rRZ3EOuzOJPekpCRCgkOu6HlVFGd9E1Vk4Hq9tOrz505Dq9EKAyE3N5df/OIXQuXqWlT7XFHjwwGqq6tpaWnpE9KnOBQ2bNhAdXU13t7eFBcX093djU6nY9OmTX2O5enpiYeHBzU1Nc7x2q9vYmNjhbJWSkoKQUFBfeYQagiYmmdzTe2/DsN+4cKFTJw4kR//+MdkZGRQWlrK9u3bxbVGRESgKApBQUG89dZbbNy4kZ///Od0dHSwfv16oqOjSUhIwNfXF29vbz777DNOnz4t1HvUf2quS3V1NV5eXhiNRrq7uwkNDcVqtXLixAnQQGtbK8uWLSM8PJwRI0YQFxfHiBEjxDxIlb91d3dnyJAhDB48GB8fnz41H1QVv8ceewxfX1/Onj3L4cOHsfRYKC8vZ/r06YRHhNPd001VVRXWXittbW3oAnSEhobS3NxMc3OzEPhQ5cfz8/NJSkrC3d2dkJAQEV6l5h+q3o9p06bh6+vLlClTMBqNvPnmm9TW1op8MYfDQVFREUuWLGH06NH4+/vT1taGyWS6pn77qvKN8ByA8yHc3d2NwWAQSVTq5CU6Opqf/exnVFRUsHbtWpqammhtbRVxc+rqjIrD4aClpYX09HRxbEVRqK6upry8nMLCQiwWi/ixRUREsGPHDhoaGoiNjcXNzY3o6GhnDDhfVD5UkwbVbPugoCDsdjuNjY2EhYVhMBhE8qlDceCwOUSohxoepWrY+/v7C3eya0VXDw8PXnzxRSoqKvjrX/9KR0cHdXV1REZGirAF14fV7X7h3m7U8A6H4hB5G66TFPVeuUrc3un37OuI62qnxk0jQrMuN1lTV/XVFTxXkQDJnYs6fsRKtwYR1nW5/QfyTN1poZwDcaV7oNFq0PJFUTQ1pt71u9c8ab5YSR6gtbVVxMarHj2NVsPnn3+OXq9n//79Iixz4cKFl4TUqM8BNUFfnWe4tkv9Ww3FU3PF+qsc3moURRFFPoODg0XOQUlJCffcc4+YI3l6epKVlUVCQgLx8fEAbN++nerqajQaDdu3bxderuTkZDo7O3n55Zc5c+aMOFdqaiqLFy/m2Wef5fPPP8fHx4ctW7ZQVVUl2mKz2WhubqasrIy0tDQUxVm34w9/+APd3d2kpKRw/vx5EQZnMBhEOJtrfQs1NG7ChAlkZWVRUlLChg0byM/Px2AwMGTIEOw2p4rUyy+/TEtLC52dnezbt4+6uro+og6iYjhf5EupeR2uXprDhw/T3t5ObGwsvr6+wiCKiIgQMuVhYWEi2V/N61Olmb8JfCOMA9d4b/UHr/4QwfmCX7NmDZs3b2bKlCncc889vPfee06daccXqhmq5aiG3SiK0ie5rqenh66uLpGYp9Fo8PX1FQmH/WMrVfeq66qBqjjh5eXFnDlzWL9+Pe/+7V3+5Tv/wvnz5xk1ahQzZswQcadq+10rLVutVrq6upzSYW7uYsCrbd66dStvvfUW48eP54EHHqCsrIxTp06JiY7qUXENgbhTX1aKoqB10+KmuXK4xo2s6vZPcr3e7/Zp4wBSdHKyeu24TsqEaoZGe0n+hop6/9U47htZ9f2ycJ1oXusYk+Pl1qKGm7oqSl0JVZ3O3WNg9aivCrfiXXAtY+1azqG+pwY63o0+T9XJnBqmpR6nvb2dqKgoFi9eTFhYmMgHUuvLaLVfKNG4ikP0x7UWjfr/rgpPrguE6vv9Wu/3QOFk/XOG1P5zVbdzrZ+jhvIFBgaKCTw4J+Zqte2ioiLGjRvHE088gb+/P3V1dfz0pz8VEskAOTk53HfffaSlpVFdXc3f/vY3pk6dSmJiIpWVlcLT0NnZSU9PDyaTifr6ekaNGkVmZqY4jmsyr6t30LWejGpcBwQEsHjxYg4fPszHH39MUFAQ+fn5xMXGodFoCAgIIDs7m3Xr1nH48GFCQ0MJCwujtbW1T7FGdUypYjBqgrh6DnAqsA3021Zz8Xp7e/vky6iCAOr4+rpHBcA3xDgAxOBQS9ybzWbRQcePH+ell17i3nvvZebMmX0qRYJz0q56Atrb20VcqUZzUTlB4xycUZFRhIeHU1dXh8FgELGEFotFxM6pbrfLxWWqVWkVRSEqKoqHH34Yd3d3ampqSE5OZvr06SQkJIgfrfoQc4331Wq1IplV69a3MmtPT49QXHrqqacwGAxotVphqLhp3YRknkajEfGsV3Lpf5P5sn7Edpsdc7dZPJDUFYo++1yUDlRVXcD58lBVJVwNTdfx5HA46O7uFsbsjRQButm+/rqOFXVVaqD47YGuyVVW9nqu+XrvjypDarfbhWJJf+w2O5ZeiwiF9PDwoKenR+REqf8UxamupcoXqkoh7u7uX2kVja/LmHKdaF7r/qoaDErf7XD1677Z+zKQ7ru6vaenB6DP8+lGz6dej6vMpUbjTDxX3zfXWlVdPdateD73Vw4LDAzsIwsLzpXw7du3c+LECYoKi3B3d0ffpae8vJyMjAyCg4Odq8c2Z9Xy8PDwPouIKq7qQq7XoC5aqh4EHx8ffH19hbSr66q1RqMRIY/qe0CVSnZF7SfXCaxY1LTbhTxzampqH49F/xwSde6k0+loaWnhQv0FIcGr1+vR6XT84he/oKurS3wnMDCQiIgInn32WV555RV+9KMf8YMf/IBjx46Je67VOmtIBQUF0dnZyZEjR5g9e7ZIWlfnImp7+i/qukZE2Gw2vLy8mDlzJhEREVRXV1NcXMwTTzzhDO3SwJnyMzz99NOcOXOGX/zXL0hJSeHAgQO0tLQII0A9j6t3or+haLPZiImJwcPDo48IgConHB4eTmBgoLh36hhVixqqfflVXgS4Fr7+5g1f/Eh0Oh1JSUnYbDZaW1vFQGtoaBAyWm1tbZSWltLV1YXJZBIa4b6+vlitVs6dO0dCQgLh4eHCDaXGvqWkpjBx4kQqKirYuXMnHR0dVFVVodfrueuuu4iJiemjN67q4Wo0GvEwUi303t5eNm7cyOHDhxk2bBiJiYnEx8djtVpFBV5wThZd/7mqhqgPXvWfzWajq6uL1tZWFEWh5nwNNTU1nDlzRkib2uw28UKwWCzYHfY+tRYkN47rSpHJbKK4uJjVq1djtVoveVAoikJLSwvLly9n69atYjX73LlzrFixgtOnT/dxraoSpijOh9COHTvYtWsXRqPxdlyq5BaiKE7lsk8//ZR169bR2tp6yT4Oh4Om5iY2bdrE3r17hbDB6dOnRaik64vJ7vjCtW2321m/fj3r1q277nhtyaXcaP6DRvtF7Ps/Etf3hPocUhRn3Z3169eze/fuWxLqor6D+nvvGxoaeO+99yguLga+UA/6R+GmdRPFUVNTUwkNDaWxsRGjwSgmp3fffTfR0dE89dRTrPtwHcV7inn77bc5e/asyFNUq4BrNBqGDBkyoKCEzWbrE7YCzpwHVdHKZDLR2NjI3r17Rf0TVw++eO/brH1CiqFvobX+k331+x0dHRgMBk6fPi1UEMePH4/FYhG1aqCvh0ODhtjYWPLz82lpaeHvy/7Ou+++y4YNG9i4cSPt7e1kZGRQWFAo/mVmOHMz161bh8ViISIigqamJk6cOIG7u7uYY0RFRTF9+nSMRiObN29mw4YNlJWVsWfPHs7XnBeRGna7nfb2dqqrq4XBpC6WqJ4Pq9VKZGQkjzzyCHa7nbFjxxIXFyeUziorK9mxY4fT8PLz5WzFWWpra0U4laust8Vioa6ujtraWlEDyNWoysrKYsKECXR0dFBZWYnRaKSqqgqLxUJ+fj7p6el9PC+uhrE6pr7ufGM8B+rkKjU1lYiICM6fP4/JZMLPz4+8vDyGDh3K8uXL6ejoICMjg5iYGKqrqzl+/DgTJ04EwGgwUltby3e+8x1RO0DIEjocxMbG8q1vfYsLFy7w4YcfYrU6E1/S0tKYN28e0dHRHDx4kICAAKqqqujo6BBuqsrKSsxmM4qi0NbWRlhYGDabjU8//ZRTp07h7e2NzWbD29ub3NxcHnjgAVJTU+no6MBqtQpJ0s7OToKCgujo6MBoNPaxbJubm8nJyWHu3Lls27YNf39/srOzSU5OprS0lL179xIREUFnZyfe3t5YLBa6uroICgr6RrjBbjeq3J/dbqetrY2XX36ZqqoqxowZg06n67OvoiicO3eOX//61+Tk5DBjxgwAPv/8c15++WUee+wxsrOzxSqL1WoVqxsXLlzggw8+wN3dnfT0dFHNUXL9fBXum2q4q5ORwYMHi6RGFZvNxpEjR4RkcXZ2Njqdjj3Fe3j7nbfx8fFh9uzZYgLhOuHo6enhzTffxGq1MmXKFMLDw2/HZUpuE6pxYDKZ+uTj1dTU8Mc//pHMzEzGjBkjVkNvFHUxw2w2C6+mw+GgurqaP/3pT0yaNInRo0eL81/Na3er0Gg1aBTnv7y8PBHrbu42E+EegcPhYOTIkTzxxBMsXbqUp59+mrCwMIqKirjnnnuALzy6lZWVDBo0iJEjRzpzTfo1u6mpCa1WS0pKCmazGb1eT3BwMPn5+eTm5nL69Glee+014uLiSElJwWazicVA9Z0eGRmJXq+npaVFeIjVoo0Wi0WEszjsX9RxAec75fTp05SXl/PRRx+h1Wp58sknyczMxGKx0NLS4pRvdXMXE3B1dT45OZkHHniA1tZWTp06xe9//3vS0tJYuHAhkZGRfQp8gbO+gIeHB5mZmVitVpYuXUpgYCBJSUk0NDRw4cIF6urqiI+P57vf/S5tbW2cOnWKZ599loKCAsaNG0dGRgb+/v4UFBRw8uRJPvvsM3Q6HQsXLqS+vp7Q0FBSUlJoa2sT0rtqdfItW7YwZ86cPuF9ISEhZGZmYjQaeffddxk+fDjJycmUl5dTU1NDW1sbMTExZGVlUVdXx5o1a/Dx8WHu3Lk0NTURHR1Nd3c3lZWVREVF8dOf/pSuri7WrFmDm5sbxcXFjBs3jiVLluDr6yvmX+qicHV1tQjNUitef51xe/bZZ5+93Y24lQQHB9Pa2kpTUxOZmZmEhoai0+lISUkhNjaWnJwcJkyYwKhRo8jJyRGqQwDrN6zn3LlzPPXUU+Ll7BqrBk41gmHDhuHv74/dbic+Pp7p06eTmJgoKlvm5eWRm5tLdHS0yLzv6ekhLS2NGTNmEBkZSUBAAD09PcTGxjJixAhSUlJITEwkKiqKlpYW9Ho9eXl5hIeHM3r0aIYMGYJO58y+z8/PJzs7m7CwMKxWK8nJyYwfP56oqCjCwsIYOXIkYWFhxMXFMW3aNAoKCkhNTWXEiBGEhYXh5uZGYWEh+fn5BAUF3XBoyp2Ga+zr5RIMVYMyJCSENWvWUFtby+LFi/sUD1O/5+Pjw7Jly/D19eWRRx7Bzc0NX19fEhMTGT16NBERzhdXWVkZbW1tQmnCw8MDf39/hg0bRkZGRp/ke/gijKD//0v+sSiKM4zEdYwMFNqhxgmXlZVRXV3NvHnz+hgH6tgym83s27ePwMBAxo4di06nw8fXh4SEBEaOHElgYCBarZa9e/disVhEdVm73U5MTAxFRUUMHTr0i5Vvxamn3j/OfKDxcjP5M3cC/Z8HV5IpViczrlzp99p/dXignBPXfQfabrFYOHnyJIAojObu7k50dDQjR44kOzv7qtd3ufOobVFXXT/55BMRpqKGEg0aNIixY8eSkpIyoOdFrLJfYfu1hmENhEbjTDz29XEmlx49dpSsrCwGDRokwkoKCgrIzc0lNjaWCRMm8Mgjj5CcnCxyBhoaGli9ejX5+fkiPGYgEhISRCHV6OhoAgICCAsLY8iQISQlJZGWlsbcuXO56667mDRpEjk5OWJCGRUVxYQJExg5ciTR0dH4+vqKVezBgwcTGhrq9MxcLISp4PQ6rlu3jrq6OhYsWEBaWhp2u517772Xhx56SBRgs9lsDB06lImTJpKfn09UVJS4Bi8vLxISEhg2bBiZmZkUFRVx3333MX78eKG4pKozabQaUZQvJzuH5JRkJk6cyJw5cxg1ahRRUVFMmzaNIUOG4OPjw6BBgygqKiI9PZ3c3FzGjRvH1KlTGTRoEN7e3iQnJ5OZmUlaWhpjx44lMTERb29vsrOzmTp1Kjk5OYSHh4u2BgcHM2LECHJzc/H29hYx/iEhIeTk5JCbm8vs2bOZOnUqubm55OTkMHbsWBISEoQCZEpKCoMHD2bcuHGEhYbh6+dLUVER06ZNIy4ujtCQUBISExgzZgw+Pj709PSQm5vLokWLxP0FSEpKYuLEiRQWFhIcHExMTAyjR48Wxo9aTPTriEb5Jvg/+nHs2DE++OADMjMzmTt37iWrtv1RFIXz587z69/8milTpnD//feLzy73IOqfMNqfyz3s1EFVX1/Pn//8Z+677z4KCgrECnFPTw979+6lrq6Ob33rW/j7+1/2WJc7940iX/qXR1EUent76enpEYpSaqVHdfVCURR6enowm834+fnxgx/8gP3797N161YGDRokYlTNZjM9PT3YbDYWLlyIu7s7W7duRaPRCNevGgN89uxZ/u///o/4+HgeeOABfH198fLyErkkPj4+fRK6DAYDBoMBf39/dDoddrtdKDGoxqu3t7cIbdPpdNIw/BJQV/b0Xc6iPz4+Pvj5+okq1iomkwm9Xo/D4eDdd99l9erVvPPOO+Tl5YlxZTAYsFqttLe381//9V+EhYXx05/+lEGDBomkOjUBsaamhqeffpp7772X2bNni+eHKnPsWmVXXU3u7e3tUxVbXQxR82HUSuzg1J1XJxt3uqFgsViEt1f9PalVZVXvjdlsFjkkRqMRf39/ent78fb2FlVl1Url6gSuf50AZxNlOAAAIABJREFUNVxMTZw0GAx4eno6K79qLiZNai+qsfRa6dR3YrfbhYGp1Wo5dOgQL774Ig8//DCTJ08WEyr1OaSG1arvJw8PD7Hy393djc1mw8/PT4SAdHZ2inGn0+mEx/TAgQP86le/4te/+jVZ2Vl4eXkJowHoU325p6dH1BvR6XQiF1ANr1Gr9Gq1Wjo7O3F3d8fP18+pEHUTnm6DwcCrr76Kp6cn9957L/Hx8SJHQBggfCFTqiag7ty5kz179vDd736XhIQEcbzb5XVX++r8+fMsWrSIgwcP8tZbb7FgwQI8PT0vMV4GSmiWSC7HNyasyJXBgwfT3d1NSUkJx48fZ9iwYX0eSv2pra3l410fM27cOGbNmiW2X80wuJGJuTpZ6+zs5ODBg3R0dFBTUyMsYIvFQnd3N0VFRaK0u+T24HrvjUYjp0+fpqKiQrwskpKSGDZsmJhg19XVUVpaSltbG6GhoTQ1NYljqHG4J0pPcObsGTHpam9vJzo6WriMjx49ypkzZ0TNiw0bNrBixQomTJhAdna2cON++umn6HQ6xo0dJ4r5HDt2jPr6ejHpSE9P56677sJut1NVVcXevXsJCAggPT2dkpISGhsbGTdunKgULLl1mM1mTpw4QUNDA2azGYPBQHZ2NqNGjXJKKF8MJTp8+LAIFSwvLxcyx4rDqaZx5uwZTp8+jbu7OwaDgcbGRkJCQlAcCiaTiZKSEioqKhg7dizR0dEsW7aMzZs3k5ycTHh4OCNHjkSv17N7924cDgf3338/Hh4eGI1GKisrqampwWQyYbPZSEtLIzMzE09PT2pra9m/fz/R0dFERkayf/9+9Hq9WBFVJ453omGphg2WlJTQ2dlJeno6586do6KigsTEREaOHCmSJvfs2UNeXh49PT0cO3aMyZMnk5mZydmzZzl9+jRGoxGj0UheXh7Dhw+/xDAARBJrRUUFJ0+eFJLXcXFx5OfnExYWhsbhDDesrKykqamJtrY2YmNjGTt2LA6Hg9dff52tW7cybNgwoqOjiY2Npa2tTVR/HTFiBNXV1Rw6dAgPDw9GjBhBYmIiNqsznE2v11NYWIiXl5cYs2azGZPJRGFhIcOGDaO5uZk333yTvXv3sm//PhyKg/T0dM6ePcvx48dJSkpi/PjxKIpCe3s7ZWVlNDc3i8WUwYMHExcXh91u5+TJkxw8eFDEy+/evRtPT0/mz59PVFTUTfWfl5cX8+fPZ9u2bRw9epSAgACCg4MvkdFUDeDu7m7Ky8upra3lwQcfJCEhQRQ/u53jXz23qlzocDhobm7G2mv9Ik+tn7daIrlWvrGB5vn5+UyeNBlAJO9djgsXLpCamso/3f9PVzQi+qO6Rwf6dznUFYqMjAwee+wxFEVh7dq1rFixgo0bN1JXV0dGRgYZGRlfJAzdYAKc5OZx2J25LKdOneLFF1/k2NFj+Pj4sHv3bl544QVKSkpwOBzU1tayatUqjh49ip+fH42NjZw5c0YkZgGcOnWKP730J5qamnB3d6e8vJyysjIxITAajWzZsoXf/va3HD9+XKyeqTJrauGZ8vJyXn75ZVatWkWnvhM0UFxczMsvv0x7ezvBwcEcP36c//iP/6C4uBi73U55eTm//OUv+dOf/sShQ4c4deoUq1at4qWXXqK2tvZ23d5vLHv27OG5556jqqqKgIAAtm7dyjPPPENjYyN2u53W1laWLl0qqpe2trZSVlYmJicKCidPnWTlypXU1tbi6enJmTNnqKmpcaqhuDlXpVeuXMnzzz/P2bNnMZvNYsVa9WKpmtzPP/88r7/+uoidLikpYenSpVRXV+Pp6cnnn3/Of//3f/PJJ584wy6OHuWPf/wj77zzDvv27aOiooI333yTF198Uah/3Kl5Sqph99577/Hcc8+xYsUKiouLWb9+Pc899xzvvvsuDQ0N7Nmzh1/96le8/PLLbN68mb/+9a8cOnSI+vp63njjDYxGI0FBQRw4cIDnn3+eU6dOXfac586d46WXXmLbtm34+Phw/Phxfvvb33LgwAFsNptI+v3oo4/w8/OjtraWp556SiSvu7m5iUUNvV6PxWLh+PHj/OIXv2Djxo1otVoMBgPLli3jlVdeobq62pm0ikJJSYmQp9yxYwfPP/88LS0t+Hj7sHTpUn72s58JcQ+DwQA4Y/R7enro7u7m8OHD/OY3v2Hnzp0AdHZ2snnzZj788EPhnVq+fDl/+MMfRG7eli1beOGFF1i7di2HDx/m1KlTPPPMM7z77rs3PSFX9fsXLFiAn58fRqOxT7Jq//etKvQxccJEUfdA9Sp8FRbvTCYTeXl5TJ06FXd3d3qtvcK7J5HcKN9Iz4G6KpuWnkZiUuJVHyb5+fl4eXl9oWf8JbrL1VUgtcjKPffcQ3Nzs3A1h4eHCwPlWuJ8+8cL3yjyQXIpaniF3WEXBVpmzJxBfn4+lZWVLF26VCQcb9q0iRMnTvD4449TWFiIwWBg1apVVFZWOg+mwKuvvkpra6swCtPT03nxxReFzJpOpyMrKwtwvpAiIiIYPnw4cXFxDB06lEmTJgHOyYlr8qBa8j0wMJC7776b0NBQ8vLymDBhAs899xzr1q0jJycHnU5Hb28vY8aMYe7cufj5+bFu3TrKy8tJTU39h9/fbzJ1dXWiqubgwYM5fvw4//M//0N9fT1hYWFs2bKFNWvW8MYbbzBkyBCamprYt3cfBz8/iMPhoLW1lY0bN9LS0sKSJUuIjY3F39+fzz77TPxWo6KiSEpKckofengQHh7OhAkTePXVVxkxYgSzZs1Co9GQkZFBVGQU+i49Xl5eNDU18f7779PW1saTTz5JbGwsgwYN4v/9v//HypUrRUxueHg43t7ejBkzhoULF2IwGNi5cyfNzc2Eh4ffkV4DcHoBExISSElJYe/evURGRnLPPfcwb948XnjhBTZs2MD48ePJzMwkICAAu93OvHnzGDx4MAUFBWzevJm9e/eyaNEiHA4HhYWF/OQnP+GD9z8gNzf3kth+VcSiu7ubSZMmcd9996EoCrt376asrIy77rqLnTt3sn37dp555hnGjBlDSkoKFRUVNDY2MnPmTGbPns2aNWuYPHkyw4cPx83Njbi4OPz8/ITxkJaWxsiRI1m7di0XLlxAURQMBgNms5lRo0YRGRlJbW0tMTExzJkzh6jIKDZv2czy5ctpbW0lISGBwsJCiouLmT59OhnpGSg4F8IAYTiUlpayevVqRo4cydy5c/Hx8UGv1/PSSy+RkZHBo48+Kr7j5+fHggULuPfee9mzZw+rV6/mP//zP29q7KnSn+Hh4YwfP/6K71CNRoNOp2PMmDEihBQQScFfhdC6rKwsnn76aex2O35+fnh7e9/2Nkm+/nwjjQP4YlX/WsIl+tc9uNoPq38S6pX2GWi7q9syICBAJEQPhGsI05WOKbn1KIoi4ltzcnJYsmQJWq2Wjz/+mPPnz4tY2paWFpEoqtbHCAwMZNCgQZw7d07IBm7bto0lS5aIWNDQ0FASEhKEipWapOxaXAUuyqNZbSgOBTd3N1HjQqW8vJxjx46xZMkSkZwcFxfH5MmTee+996ioqCAyMhJfX18GDRpESkoKvb29DBo0SMjrSm4tU6ZMISsri46ODlE9Xc0hcHd3Z/Xq1UJJzW63i0T0AwcPoCiKCEkZO3YsMTExgFMMISoqqk/FTx8fnz4a9a4Sha74+PpgNBnRarU0NTXx8ccfO4sWJSSioJCamsrQoUPZvn27qGjq5ubmFEmIjMLf35+UlBS2bdsmxqviUNC43ZnPHk9PT3x9fYmIiGDYsGGkpKSQkpLC/v37efnll2lubiY1NRUPDw+GDBlCVlYWhYWFaDQannzySby9vamoqMBisQA4J9vRTjGK4uJi2tra8PDwwMPDg4KCAjIyMliyZAlGo5Fdu3Zx9uxZLBaL0Fbfs2cPDoeDlJQUvL29SU9P57nnnhOqeGqOgRq+qj5rdDod3t7eeHh4EBoayujRo9m2bRslJSXMmDGDkydP4uvrS3RUNFqtlrlz5zJixAjOnDkjJB5Vj0R/FMVZP8fb2xtfX1+0Wi29vb2cOHGC8+fPc//99zvzARUYO3YsH3zwAcXFxcyZM0fUeMnNzRWJ9ZmZmRw/flwot90orh6va1lhVz0K/fmqePRDQkIICQm53c2QfMP4xhoHEsmtQHE4Kyi7u7tTW1vLuXPnSEtLE6uqAC0tLTQ1NRESEtKncJmrrnhNbQ2tra2EhoaKF4o6yVP/qRUZXYva9N+ublMURSREXrhwQRROU9FoNBQUFLB8+XKam5uJjIz8R962Ox5PT09Onz5NU1MTiYmJDBo0SPSrVqvl+PHjFBUVodVqxQTRlfb2durq6vD387/kMzVB1bXSqlpLQ5UyVf9WVWRU/W27zY7ZbKalpUV4xQCCgoKIiIhAr9cL/XW4OP4uVpHuPza/CiEVXwXUGgJuWjdiYmLw8fERRb8GmjzW1NQwdOhQRowYgclkQqvVMmvWLHQ6HefPn2fZsmWcPHkSPz8/goKC0Ol0QsXu+PHjDBo0iMDAQHx9fIXSXHt7O0ajsU9CbWpqquh7VYyg/2q36zatVkteXh4FBQUcOnSI/fv3U19fT3x8PNHR0ULr/8SJE7S1tTF06FDCw8P7GKt9hDroW/QNnEnIra2tznAizUWZcMUpEx4YGEhbW9slbVUcX844+ypM7CWSryp3ZtDoLeJGcg5u5hySfyzqfe/t7eXzzz9n2bJlwqWel5cnVEhUBaHGxkYMBoP4nvoydTgcIpb13LlzfYrkXMvY0WguVrvVOF/60LfqqVqt8/Tp0yI0zuFwiFWxazUM+r/cJTfOhg0bWL58OampqcyePZv09PQ+q51eXl5UVlaK/uqPm5sbZrOZhsYGIYvZ3+B0ncBfz/PBy8uLoKAg6uvr++RjaTQaQkJCRN0T14RG+Qy6PGqhS3D2kbe3N15eXpf9PYWHh3Ps2DH8/f1JSkoiISGBwMBA2tvbCQkJ4dsPf5t///d/54c//CGPP/Y42dnZHDlyhLfffpve3l6nPPXwAgKDAsVvPTg4mMbGxj7PF7vdLnKarqXvFEUhIiKCUaNGYTKZWLVqFa0trcTGxuLj64PD7mD58uWsW7eOwsJCJk2aRGJiIh4eHmJl3XUBQ6PRiOeVen4vLy9CQ0OF+paiKMLQBac3VdXel0gktw9pHEgkV0CjdVa3PnnyJA0NDUJN4/z58yIPISwsjKSkJEpLS9m/fz9Go5Guri4MBgNdXV0oikJCQgLR0dGsW7eOY8eO4XA4MBgMtLS0YLFYMJlMAKIipFrJVpU3NBgMtLW1Ye429zE+HA4HaWlpZGVlsW/fPs6fPy8qcx86dIicnBzS0tJQHF9U++6fbCc02RUuWemT3Biff/65WHV1c3OjpqYGm81GW1sbiqIwZcoUzp49y/r164UEZWNjo5CODA8PJyMjg5KSEg4ePIjVaqWrq0skT6rStWpIh2sstJubG52dnZhMJkwmE25ubsKo0Gg1QsWoqqqK0tJStBotTY1N1NbWkpWVRWZmZp9wRjVUqbe3V5zrTs03cEWjcT4bzN3OMCujyUhNTQ1xcXGioJLq5VFrXgBMnjyZyspKfve731FaWsq5c+fYsWMHlZWVREZGcvfdd/Po4kf59sPfZsGCBSQlJlFVWcWxY8fQ6XQEBATQ2NSI0Wikvb2dnp4ehg8fjs1m46233nI+B2rO8+GHH1JVVSXCFO12Oy0tLSKPQPUwqXK4drsdxaFQWFBIWloau3fvRheoIzk52Sl7aulh3759tLS0kJiYiEbjVEhSawAAIi7faDRiNpuFZ0q9B56enqSmphIeHk7piVLq6+vRaDRUVVVhNpspKCggNDQU+GKxwlVSVL2fEonky0WGFUkkV8HT05PIyEi6urr461//Sk1NjYi3LSsrw2AwMGvWLI4cOcKrr77K2bNnSUxMpLGxke7ubs6fP09iYiJPPPEEL7zwAs888wz33HOPSMRTV5GTkpKEtF9HRwdms5mQkBDCw8PZs2cPMTExTJ06FZPJJKqQGo1GEhMTefTRR/nVr37FX/7yF/75n/8Zo9FIQ0MDP/rRj/Dw8KCxsRGLxYLFYqG9vR13d3c6Ozux2Wy0trbS3d0twqS+Ckl2X3dSUlLYsWMHb7/9NmPGjKG9vR2Hw8GuXbvIz8/n8ccf59ChQzz//POcOHGCiIgITpefpqenh/r6esaOHcv999/Pn1/6M7/+9a+ZOnUqPT09NDU14eXlJaqsq7KWzc3N2Gw2oqKiCAgIYNWqVTgcDqZNm4abmxt6vR6bzUZNTQ3R0dHcf//9vPTSS/ztb3/DarWKKq333HMPsbGxlJSUiMlnd3e3kK10c3OjocHpzbhT8w1c6ejo4MiRI4SHhVNXX0d9fT1z5swhLS2NQ4cOYbFYaGhooKurC39/f7QaLQsXLuTgwYO88sor7Nu3D53OOQF//PHHB1w1V1f0dTodmzZtwsPDg46ODrq7uzl+/Dj19fVMnjyZ/fv3s23bNmprawkJCSEiIoInn3wSgOjoaGw2G2+88QadnZ2MHDkSs9ksqvi2tLQQERGB1k1LYmIiw4cPp66ujuTk5D6epLS0NI4ePcqrr77K6NGjaW5uxm63s23bNoYOHUpSUhJms5nXX3+duXPnMmbMGBoaGoSh2tHRwZAhQ7jnnnv4+OOPWbFiBaNHj2bPnj3k5uYybdo0/P39RVXcmpoa7HY7TU1NdHd343A4aGhoIDk5WT6jJJIvkW9chWSJ5Fbj5uZGQEAAXl5eWCwWkpKSKCoqIjw8nNTUVIYMGUJiYqJ4YRkMBtLT04UO+dChQ0Up+MTERDo6Oujp6SEvL4/ExERyc3MZPny4SBaNiooiOzub2NhYIsIj8PV1VvVMT08nIyMDvV4POKszJiUlERERQWJiIomJibS2tqLX6zEYDEybNo3x48fj7u5OQ0MD7u7uZGVlkZCQgKIo6PV6IiIiyMrKIi4uThgHIONxbxY11MtkMpGamsro0aNxc3MjOzuboUOHEh8fT0pKCt3d3bS3t5ORkUFaWpqoZJ6QkEB8fDxh4WGivzMzM4mLjSNvSB75+fnC+xQdHU1qaipJSUkEBwfj6ekpKrIPHjyYzs5OFEVxfj8uTiQ2x8XFCY+Uh4cHo0ePZvTo0Xh4eHDhwgWhypOQkCAKX8XHx5OYmEhCQsIdLZeohhqePn2anJwcbDYbHR0dTgntyZPx9vamubmZwMBA0ZfBwcGikmtWVhY+Pj4ApKWlMX/+fFHDRA0Dcg3lCgoOIigoiO7ublGXICAggLi4OKFolpmZKapkx8TE8E//9E8MGTJECF+oq/d5g/OIT4hHr9fj6+tLZmYmsbGxon1u7m74+PiQlpYm6rhoNBrc3d2JiYnB4XDQ29tLQUGBSLIeNmyYqOCr5ruoNRWamprw9/cnKytLKGMlJyfj5+cnclxCQ0OZOnUqmZmZmM1mWltbCQ8PJz09naioKNrb2wFITk4mLS2NqKioO3bsSST/CL6RFZIlkluG4kyYs9vtdHR0oNfrCQkJISAggPa2dtB8ESerho0YDAbCwsJEaFBAQICQsFUUhQsXLmC1WsVqnt1uF4XM1Imcu7s7/v7+eHt709nZSWtrK8HBwQQHB2MymUTyoa+PLwG6ALRardA7N5lM+Pj4EBUVhZeXFxqNBr1ej9FodFYZvVh11Gw2Y7Va8fLy6lMp+U7Vr7+VqLUM2traiIqKIigoiNqaWnx8fQgLCxP9VV9fj9FgJDIqEq1Wi9VqRafTiQlid3c3jY2NoDjHmdXmnDzqdDqsVitGo1GE+kRERIgCi62trWKcGo1GETri5+cnJnu9vb3CU+Xv709oaCgeHh7YbDZMJpNIlPb38weNU09dVVsKDgp2Jt+73XljRQ39euONN1izZg0//vGPnRKkaAgNDcU/wJ+enh5RXA6clYFVY0Cd9Le2ttLR0SG8g1brF8WrVFwTiNV+1el0hIWFiSKL4eHhuLs5gwA69Z1i0h8ZGemse6HRonXT0tLSQldXF0FBQfj7+2M2m+nt7UWj0eDn54evr6+YcKufqRW21WR0h8NBXV0dJpOJhIQEvLy8qK2txdfXl8DAQDQaDc3NzSI0zs/Pj46ODlFHwM/PDz8/PzQaDV1dXbS3t4sxr9Pp8PT0pLe3V4TPabVaMdbVcEsfHx9CQkKkcSCRfIlI40AiuQqu9Sagr5Sta6G6y33PdV/XOhoDhe9c6Vyufw+0f/991fNdqV39tw90DsmN45pw7PqovZzij6vqi2tuifici8np/VCLkg00Pi43DgbicuPOdZtr3sqdOFbUqrl/+ctf+OCDD/jlL3/JxIkTRQKu+D1qXZ4LykX1nou43l+1b1zr7PTnknGg0fQRJbjcb9d1H9dt6r6X6z/X4/V/XvRXPFIVsVyP6dq+gdo10PkGepYOdAwZ9iiRfPnInAOJ5Cpc7gV3NQUX189c973SC/NK57rWtl3thXy92yU3Tn952f5cbttA/XklLpcgfL0qQ9cy7u50z5LD4aCpqYn6+nosFgutra3OFW1vH+ckl36GATjrpWguvW+u+1zuvl7u93y1sXW5Y15L/11p/A00pgYaf9czTi43Tgc6hnxOSSRfPtJzIJFIJBLJNWKz2WhqauLMmTOYTCaSkpJITEzEz8+vj3zptRr4EolE8lVDGgcSiUQikVwjikPBarNeEubjWtRQ3eaKNA4kEsnXBWkcSCQSiURyEzgcDlAQmvyuSKNAIpF83ZA5BxKJRCKR3AQazcCJ4hKJRPJ15M7OLJNIJBKJRCKRSCQCaRxIJBKJRCKRSCQSQIYVSSQSiURyU8i8AolE8k1Ceg4kEolEIpFIJBIJII0DiUQikUgkEolEchFpHEgkEolEIpFIJBJAGgcSiUQikUgkEonkItI4kEgkEolEIpFIJIA0DiQSiUQikUgkEslFpHEgkUgkEolEIpFIAGkcSCQSiUQikUgkkotI40AikUgkEolEIpEA0jiQSCQSiUQikUgkF5HGgUQikUgkEolEIgGkcSCRSCQSiUQikUguIo0DiUQikUgkEolEAoD77W6ARCL56vPuu+9e8fPExETGjRv3D2rNzWMymdiyZQv19fXMnz+f2NhY8VlNTQ2ffPKJ+Fuj0RAQEEBCQgJDhgxBo9Hc9Pl3796NxWJh+vTpl91n7969dHd3M3ny5Js+H8Dq1avJysoiOzu7z3aLxcKqVav6bPPz8yM2NpZhw4bh7u58TRQXF2O1Wpk4ceJNt8VgMLBu3Tpmz55NSEjIdX/fZDLx5z//mbvuuousrCw2btzI1KlTiYqKuum2/aPp6uripZdeYubMmQwfPvx2N0cikUik50AikVydgIAA8c9sNlNaWoqvr6/Y5uPjc7ubeF2sX7+eiooKRo4cSWBgYJ/P9Hq9uL7AwEB0Oh16vZ6VK1fy9ttvoyjKTZ+/ra2N5ubmK+5TW1tLdXX1TZ9L5fTp07S0tFyy3WazUVpaiqIohIaGEhoaSm9vL+vXr+eNN97A4XCI9pw7d+6WtKW3t5fS0lLMZvMNfX/VqlUEBwczatQoent7qauro6en55a07R+NTqdjzpw5rFmzhtbW1tvdHIlEIpGeA4lEcnXuvfde8f8HDx6ksrKSuXPn4unpeRtbdePU1NRQWFjIiBEjLrvPtGnTCAgIEH+fPXuWN998k7Nnz5Kenn5T558/f/5Nff/LYPjw4eTk5Ii/KyoqeOONN6ivrycuLu42tqwvlZWVnDp1iu9973toNBoiIyP5yU9+crubdVMMGTKEnTt3sm3bNhYuXHi7myORSO5wpHEgkUhuCkVRWLp0KTk5ORQWFortR48epaSkhMWLF7Nz5056e3uJiopi165d9Pb2kpWVxYwZM/D29gbA4XCwa9cujh49isViITk5mTlz5uDv7w9AfX09W7dupampiYCAAIqKii47ub9w4QLbtm3jwoUL+Pv7U1RUJFaZ33rrLTo7Ozl48CDl5eU88MAD1xTakpycjEajob29/ZraazQa2bx5M1VVVbi7u5OTk8OUKVPw8PDgo48+ore3l1mzZgFgtVrZvn07paWluLm5UVRU1OfcLS0tvP/++3z7298WBkt1dTVbtmzhiSeewM3NDbvdzs6dOzl+/Dg2m020x9fX93q6UxAeHg5w2RV5k8nE1q1bOXPmDFqtltzcXKZOnSoMRofDwaeffkpJSQkWi4X4+HhmzZpFcHDwgMfbvHkz7e3t3H///Vc0Ovfv309YWBiJiYmA09OzbNkyvvWtbxEeHs6pU6coLi5mzJgx7NixA7PZzLBhw5g4cSJbt26lrKwMPz8/pk2bRmZmpjjuvn372LdvHz09PWRmZpKUlMShQ4d47LHHLmnDlfpWPf/06dPZsWMHMTExzJgxA5PJxPbt2ykvL8fNzY2srCymT5+Oh4cHGo2G4cOHs3XrVsxm8w33mUQikdwKZFiRRCK5KTQaDUFBQXz22Wd9tu/Zs4fAwEA0Gg0tLS0cOHCAffv2MW3aNCZPnsyJEyf65DKsX7+eAwcOMHHiRO677z7a29tZunQp4Jygvvnmm0RFRbFo0SKKiorYtGkTJSUll7Snvb2dV199FW9vb+6//34KCwvZtGkTn3zyiZh4e3p6Eh8fT1FR0TWHRB09ehRFUURc+5XaC/Dee+/R1dXFQw89xKxZszh58iQffvgh4JzsNzU1iX3ff/99Dh48yF133cXMmTMpLy/nxIkT4nOLxcK5c+ew2Wxim9ls5ty5cyLMae3atZSUlDBlyhRmz55NVVWVON+10N3djcFgwGAwcOHCBT788EPCwsJISkq6ZF+HwyG8Cvfeey+zZs3ixIkT/P3vfxf7bNiwgV27djFq1CjmzZtHd3c3f/nLX7BarZccb+PGjRw+fJih42VSAAAL+UlEQVTp06df1Rt15swZ0tLSxN82m41z585hsVgAZz5DZWUlmzdvZsSIEQwePJidO3fy+9//nubmZqZMmYKvry/vvvsuer0egAMHDvDhhx+SnZ3Nvffei0ajYe3atZw/f37ANlypbw0GA1VVVfztb38jODiYmJgYHA4Hb731FtXV1cycOZPp06dTVlbGihUrxDEzMjJwOBycPXv2itcvkUgkXzbScyCRSG6aoqIi9u7dS319PTExMbS3t3P+/HnuvvvuPvv9y7/8i/AURERE8Oqrr1JbW4u/vz/79+9nyZIlJCQkABAXF8fzzz9PVVUVXl5emM1mioqKCA8PJzY2loSEBCIiIi5py0cffURERAQPPvgggJhIbtmyhVGjRlFQUMC2bduIjY2loKDgste0YsUK3N3dURSFzs5OGhsbGTlyJImJiXR0dFyxvcnJydTU1DBnzhzi4+MBiImJEcm9rrS1tXHs2DEWLVokwnoyMzN54YUXrqsPkpKSGDFihAgBam9vZ+/evdf8/f5JyZ6enixevHjANh85coTW1lZ+8pOfCE9JeHg4L774IlVVVQQFBbFv3z4WLVokEqBTUlJ47733MJlMfY61fft2SkpK+O53vyu8FZeju7ub7u7uq3p6HA4HixYtEuPj3LlzGI1GHn30UeHlePbZZ6murmbo0KHs3LmTu+66ixkzZgCQnZ2NXq+noqJiwONfrW/tdjvz5s0T/Xn48GGam5t55plnhOcnODiYAwcO4HA40Gq1wqOieqYkEonkdiGNA4lEctMMGjSImJgYSkpKxH+joqL6xKrHxcUJwwCcCkfe3t7U19fj5+eHoih8/PHHfY6r1WppamqioKCAyMhIXnnlFTIyMkhKSiI3Nxet9lLnZ21tLbm5uX22ZWZmsm7dOpqbm/soE12J8PBwPD09KSsrw2Qy8cMf/lBcT11d3RXbm5ycTF5eHuvWraOsrIzk5GSysrKIjIy85Dz19fWijSru7u4kJydfMpG+EsOHD6eiooJ169ZRU1NDQ0PDdSWKz58/X+RS9PT0cOTIEd555x2+973vERMT02ffmpoaYmJihGEAEBUVRWBgILW1tRiNxkuuycPDg0WLFgFOgwjgs88+48iRI0ydOnVAQ68/vb294lhXwsPDo8/xgoOD0el0Yrz4+Pjg5eVFT08PZrOZzs7OS/JI0tPTL2scXK1vtVotWVlZ4u+amhri4uL65LDExcX1+X2oHhP1GiUSieR2IY0DiURySygqKmLHjh3Mnj2bI0eOMGrUqD6fD7QC7e7ujtVqxWq14unpeclKfkFBAVFRUXh4ePCv//qvlJaWUlVVxe7du9m4cSPf+c53ROy5itVqveRc6t+uYTlXY/LkyQQEBJCbm8srr7zChQsXxGTuau0FWLBgAUOGDOHMmTOUlpayefNm5s6de4nkq81mQ6vVXmLouLm5XXNbFUVh+fLlVFdXM2LECGbPnk1tbS2ffvrpNR/D39+/Tz5AdHQ0lZWVHDhwgPvuu++SNg/Unx4eHthsNnFNV5N9PXPmDEVFRezevZshQ4Zc1UDw9/dHo9EI4+NyDHTey7VFve+qKpNK/79duVrfuru79+nPy90vVwwGA0AfA0IikUhuB9I4kEgkt4ShQ4eyYcMGPvroIzo6Ohg2bFifzxsaGkQIBThXj41GI5GRkfj6+mKxWBg0aBChoaHiO2VlZQQEBGC32+nq6mLYsGEMGzYMRVF47bXXOHjw4CXGQWRkJDU1NX221dTUoNForhq2MhDx8fGMHj2aTZs2kZmZSWBgIBEREVdsL0BzczPp6eliRXrr1q3s2bPnEuMgIiICu91OXV1dn5VkNZkavjBu1Lh66Bt+0tzczLFjx/i3f/s3oqOjxTXfLDabbUDp1sjISE6ePNln0ms0GmlvbycyMpLg4GBsNhv19fXCU6MoCp9++mmfpPUHHniAtLQ0mpubWbFiBd///vevaBS5ubkxaNAgamtrb/raVLy9vQkPD6e0tLSP9+DUqVOX/c619q2Ker+sVqvwenR0dHDmzBkKCwvRarXU1dUBfKWUoSQSyZ2JTEiWSCS3BB8fH5H8mZOTc4niSmdnJ+vXr8doNIrJYHh4OGlpacTGxpKWlsaKFStobm6mt7eX4uJi/v73v2M0Gvnoo4947bXXqKqqEjkAer2esLCwS9oxfvx4Tp8+zb59+4QG/saNGyksLMTPz++Grm3mzJl4e3uzdu1agKu2t6Kigj/+8Y8cPHgQu92OxWKhqampjyGhEhsbS3x8PB988AENDQ1CBaihoUHsExoaipeXF7t27aKzs5OzZ8+ya9cu8bkaktLY2IiiKNTV1Ynrv9oqu0pbWxt1dXXU1dVRWVnJ6tWraWxsZPDgwZfsW1hYiKIorFmzBpPJhF6vZ9WqVYSEhJCdnU1MTAzp6em8//771NfX093dzbZt29i2bVufsBk/Pz+0Wi0PPvggra2tfPTRRwAcO3aM1157jQsXLlxy7tzcXCorK29pXYMZM2Zw8OBBVq5cyf79+1m6dOmA5wauq29VVPWp999/X4zdtWvXUlxcLDwaJ06cICgo6JrD3iQSieTLQnoOJBLJLSM/P58jR45cIsUJkJqaislk4vnnnxeqP4sWLRKTowcffJAVK1bwv//7vwAEBgayaNEiwsLCmDRpEmazmbfffhu73Y6iKOTn5zN+/PhLzpOcnMz8+fPZtGkTa9euRaPRkJeXd0ly9PXg6enJfffdxzvvvMPRo0cZOnToFdsbFhbG7Nmz2bp1K2vWrEFRFOLj43nooYcGPP5DDz3EsmXLePHFFwFnrH5ubq7wFHh4eDB//nw++OADjhw5QmBgIAUFBezevRtwxtTPmjWL999/n5UrV+Lr68vEiRPZtWsXy5cv5/HHH7/qNW7cuLHP9UZERPDwww8PWNPBx8eHxYsXs2rVKn75y18CTiPnkUceEZ6hBx98kJUrV/LSSy+hKApBQUEsWrSIoKAgkXOgEhwczLx581i5ciWZmZl0dnZSVVVFd3f3JeceM2YMn376KcXFxUyZMuWq13UtDB48mG9/+9vs27ePzz//nPT0dJKSksT9dSU1NfW6+hac3olHH32UVatW8Zvf/AZweggeeeQRNBoNnZ2dHD16VCglSSQSye1Eo9yKcp8SiUQC7Nixg0OHDvHMM8/0meS899579PT0sHjxYsxmM1ar9ZLKxCrq5zqd7pKJks1mw2Aw4O/vf9WkVIfDQWdnJ76+vn0SoW81V2qvoih0dXXh4eFxTdr1XV1daLXaPom+rqjhVYGBgQMmY9tsNkwmk2iLoigoijLgvrcKvV6PVqu9bKx8d3c3FotFyNreCo4cOcKaNWt46qmnrrhif61s2LCBxMTEPl6SlStXotfrL2tYXW/fquj1etzc3Pr08dKlS+np6eGxxx77UvtKIpFIrgXpOZBIJDdNc3MzJ0+e5LPPPmPWrFlXnARebSJ1pc/d3d0vW0SrP1qt9pqKm90sV2qvRqO5rBE0EDqd7oqfu7m5XfH63d3d+5xPo9F86SvRV7s+Hx+f61JNuhby8/PRaDS0trbeEuNAURTef/99Ojo6CAkJoaqqiqNHj/LEE09csu/SpUspKyu76XOqTJo0icTERAoKCqRhIJFIvhJIz4FEIrlpysvL+fTTT0lPTx8w1Ke4uBir1crEiRNvQ+skkiujKAr79++ntLSU7u5uwsPDGT9+/CUSrhKJRHInII0DiUQikUgkEolEAki1IolEIpFIJBKJRHIRaRxIJBKJRCKRSCQSQBoHEolEIpFIJBKJ5CLSOJBIJBKJRCKRSCSANA4kEolEIpFIJBLJRaRxIJFIJBKJRCKRSABpHEgkEolEIpFIJJKLSONAIpFIJBKJRCKRANI4kEgkEolEIpFIJBeRxoFEIpFIJBKJRCIBpHEgkUgkEolEIpFILiKNA4lEIpFIJBKJRAJI40AikUgkEolEIpFcRBoHEolEIpFIJBKJBJDGgUQikUgkEolEIrmINA4kEolEIpFIJBIJII0DiUQikUgkEolEchFpHEgkEolEIpFIJBJAGgcSiUQikUgkEonkIv8fhCGR9lkCldIAAAAASUVORK5CYII=)\n",
        "\n",
        "source: https://towardsdatascience.com/residual-blocks-building-blocks-of-resnet-fd90ca15d6ec"
      ]
    },
    {
      "cell_type": "code",
      "execution_count": null,
      "metadata": {
        "colab": {
          "background_save": true
        },
        "id": "JcvmzyBAWrBr"
      },
      "outputs": [],
      "source": [
        "class MultiHeadAttention(nn.Module):\n",
        "  \"\"\" multiple heads of self-attention running in parallel. \"\"\"\n",
        "  def __init__(self, num_heads, n_embd, head_size, block_size):\n",
        "    super().__init__()\n",
        "    self.heads = nn.ModuleList([Head(n_embd, head_size, block_size) for _ in range(num_heads)])\n",
        "\n",
        "    # We also want to add this projection here.  This projects us back into\n",
        "    # the residual pathway\n",
        "    self.proj = nn.Linear(n_embd, n_embd)\n",
        "\n",
        "  def forward(self, x):\n",
        "    out = torch.cat([h(x) for h in self.heads], dim=-1)\n",
        "    out = self.proj(out)\n",
        "    return out"
      ]
    },
    {
      "cell_type": "code",
      "execution_count": null,
      "metadata": {
        "colab": {
          "background_save": true
        },
        "id": "GaI6xc8fZkZY"
      },
      "outputs": [],
      "source": [
        "class FeedForward(nn.Module):\n",
        "  \"\"\" a simple linear  layer followed by a non-linearity. \"\"\"\n",
        "  def __init__(self, n_embd):\n",
        "    super().__init__()\n",
        "    self.net = nn.Sequential(\n",
        "        nn.Linear(n_embd, 4 * n_embd),  # also, in the paper, the inner dimensionality is multiplied by 4, and then brought back down (happens on the side of the residual pathway)\n",
        "        nn.ReLU(),\n",
        "        nn.Linear(4 * n_embd, n_embd),  # <-- WE ADD THIS PROJECTION HERE TO GO BACK TO THE RESIDUAL PATHWAY\n",
        "    )\n",
        "\n",
        "  def forward(self, x):\n",
        "    # per-token level.  all tokens do this individually\n",
        "    return self.net(x)"
      ]
    },
    {
      "cell_type": "code",
      "execution_count": null,
      "metadata": {
        "colab": {
          "background_save": true
        },
        "id": "yYr963KOkM0Y"
      },
      "outputs": [],
      "source": [
        "class Block(nn.Module):\n",
        "  \"\"\" Transformer block: communication followed by computation. \"\"\"\n",
        "\n",
        "  def __init__(self, n_embd, n_head, block_size):\n",
        "    super().__init__()\n",
        "\n",
        "    # The head size is automatically determined by having each attention head\n",
        "    # computing n_embd/n_head dimensional output, in parallel, so when we\n",
        "    # concatenate, the total is equal to n_embd\n",
        "    head_size = n_embd // n_head\n",
        "    self.sa = MultiHeadAttention(n_head, n_embd, head_size, block_size)\n",
        "    self.ffwd = FeedForward(n_embd)\n",
        "\n",
        "  def forward(self, x):\n",
        "    x = x + self.sa(x)  # <-- ADD SKIP CONNECTIONS HERE AND BELOW\n",
        "    x = x + self.ffwd(x)\n",
        "    return x"
      ]
    },
    {
      "cell_type": "code",
      "execution_count": null,
      "metadata": {
        "colab": {
          "background_save": true
        },
        "id": "55eqk7yejGCV"
      },
      "outputs": [],
      "source": [
        "torch.manual_seed(1337)\n",
        "\n",
        "class BigramLanguageModel(nn.Module):\n",
        "\n",
        "    def __init__(self, vocab_size, n_embd, block_size, n_head=4, n_layers=4):\n",
        "        super().__init__()\n",
        "        # each token directly reads off the logits for the next token from a lookup table\n",
        "        self.token_embedding_table = nn.Embedding(vocab_size, n_embd)\n",
        "        self.position_embedding_table = nn.Embedding(block_size, n_embd)\n",
        "        self.blocks = nn.Sequential(*[Block(n_embd, n_head, block_size) for _ in range(n_layers)])\n",
        "        self.lm_head = nn.Linear(n_embd, vocab_size)\n",
        "\n",
        "    def forward(self, idx, targets=None):\n",
        "        B,T = idx.shape\n",
        "\n",
        "        # idx and targets are both (B,T) tensor of integers\n",
        "        tok_emb = self.token_embedding_table(idx) # (B,T,C)\n",
        "        pos_emb = self.position_embedding_table(torch.arange(T, device=idx.device))  # (T,C)\n",
        "        x = tok_emb + pos_emb  # (B, T, C)\n",
        "        x = self.blocks(x)  # (B, T, C)\n",
        "        logits = self.lm_head(x)\n",
        "\n",
        "        if targets is None:\n",
        "            loss = None\n",
        "        else:\n",
        "            B, T, C = logits.shape\n",
        "            logits = logits.view(B*T, C)\n",
        "            targets = targets.view(B*T)\n",
        "            loss = F.cross_entropy(logits, targets)\n",
        "\n",
        "        return logits, loss\n",
        "\n",
        "    def generate(self, idx, max_new_tokens):\n",
        "        # idx is (B, T) array of indices in the current context.\n",
        "        #\n",
        "        # the job of this function is to take the (B, T) sequence, and extend\n",
        "        # it to be (B, T+1), and then (B, T+2), and so on, until we have extended\n",
        "        # it to `max_new_tokens` additional length.\n",
        "        for _ in range(max_new_tokens):\n",
        "            # crop idx to the last block_size tokens. we can never have more than\n",
        "            # block_size tokens, or our position embedding table will over-run.\n",
        "            idx_cond = idx[:, -block_size:]\n",
        "            # get the predictions with current indices.  ignore the loss.\n",
        "            logits, loss = self(idx_cond)\n",
        "            # focus only on the last time step, so pluck out the last element in the time dimension\n",
        "            logits = logits[:, -1, :] # becomes (B, C)\n",
        "            # apply softmax to get probabilities\n",
        "            probs = F.softmax(logits, dim=-1) # (B, C)\n",
        "            # sample from the distribution to get a single prediction for what comes next according to the given PDF\n",
        "            idx_next = torch.multinomial(probs, num_samples=1) # (B, 1)\n",
        "            # append sampled index to the running sequence\n",
        "            idx = torch.cat((idx, idx_next), dim=1) # (B, T+1)\n",
        "        return idx"
      ]
    },
    {
      "cell_type": "code",
      "execution_count": null,
      "metadata": {
        "colab": {
          "background_save": true
        },
        "id": "cTa_4D4eaG5k"
      },
      "outputs": [],
      "source": [
        "# Ok let's see if any of this helps\n",
        "\n",
        "model = BigramLanguageModel(vocab_size, n_embd, block_size).to(device)\n",
        "optimizer = torch.optim.AdamW(model.parameters(), lr=learning_rate)"
      ]
    },
    {
      "cell_type": "code",
      "execution_count": null,
      "metadata": {
        "colab": {
          "background_save": true
        },
        "id": "Bdg9uZKkaKPC",
        "outputId": "976347f8-84bb-44b4-e284-8bb476425171"
      },
      "outputs": [
        {
          "name": "stdout",
          "output_type": "stream",
          "text": [
            "step 0: train loss 4.5120, val loss 4.5043\n",
            "step 100: train loss 2.7508, val loss 2.7572\n",
            "step 200: train loss 2.5655, val loss 2.5627\n",
            "step 300: train loss 2.4837, val loss 2.4871\n",
            "step 400: train loss 2.4239, val loss 2.4256\n",
            "step 500: train loss 2.3642, val loss 2.3938\n",
            "step 600: train loss 2.3444, val loss 2.3472\n",
            "step 700: train loss 2.3069, val loss 2.3200\n",
            "step 800: train loss 2.2867, val loss 2.2959\n",
            "step 900: train loss 2.2560, val loss 2.2797\n",
            "step 1000: train loss 2.2347, val loss 2.2759\n",
            "step 1100: train loss 2.2319, val loss 2.2435\n",
            "step 1200: train loss 2.2255, val loss 2.2301\n",
            "step 1300: train loss 2.1942, val loss 2.2211\n",
            "step 1400: train loss 2.1910, val loss 2.2214\n",
            "step 1500: train loss 2.1863, val loss 2.2152\n",
            "step 1600: train loss 2.1683, val loss 2.2021\n",
            "step 1700: train loss 2.1442, val loss 2.1934\n",
            "step 1800: train loss 2.1411, val loss 2.1691\n",
            "step 1900: train loss 2.1387, val loss 2.1678\n",
            "step 2000: train loss 2.1055, val loss 2.1656\n",
            "step 2100: train loss 2.0939, val loss 2.1484\n",
            "step 2200: train loss 2.0987, val loss 2.1403\n",
            "step 2300: train loss 2.0907, val loss 2.1527\n",
            "step 2400: train loss 2.0798, val loss 2.1505\n",
            "step 2500: train loss 2.0740, val loss 2.1217\n",
            "step 2600: train loss 2.0620, val loss 2.1373\n",
            "step 2700: train loss 2.0653, val loss 2.1241\n",
            "step 2800: train loss 2.0646, val loss 2.1272\n",
            "step 2900: train loss 2.0502, val loss 2.1288\n",
            "step 3000: train loss 2.0373, val loss 2.1241\n",
            "step 3100: train loss 2.0457, val loss 2.1097\n",
            "step 3200: train loss 2.0275, val loss 2.1275\n",
            "step 3300: train loss 2.0222, val loss 2.0964\n",
            "step 3400: train loss 2.0161, val loss 2.0956\n",
            "step 3500: train loss 2.0234, val loss 2.1006\n",
            "step 3600: train loss 2.0083, val loss 2.0999\n",
            "step 3700: train loss 1.9988, val loss 2.0944\n",
            "step 3800: train loss 1.9959, val loss 2.1034\n",
            "step 3900: train loss 2.0005, val loss 2.1123\n",
            "step 4000: train loss 2.0032, val loss 2.1072\n",
            "step 4100: train loss 2.0027, val loss 2.0942\n",
            "step 4200: train loss 2.0027, val loss 2.0946\n",
            "step 4300: train loss 1.9855, val loss 2.0805\n",
            "step 4400: train loss 2.0049, val loss 2.0738\n",
            "step 4500: train loss 1.9774, val loss 2.0720\n",
            "step 4600: train loss 1.9833, val loss 2.0767\n",
            "step 4700: train loss 1.9736, val loss 2.0853\n",
            "step 4800: train loss 1.9740, val loss 2.0913\n",
            "step 4900: train loss 1.9672, val loss 2.0664\n",
            "step 4999: train loss 1.9705, val loss 2.0781\n"
          ]
        }
      ],
      "source": [
        "for steps in range(max_iters):\n",
        "\n",
        "    # every once in a while evaluate the loss on train and val sets\n",
        "    if steps % eval_interval == 0 or steps == max_iters - 1:\n",
        "        losses = estimate_loss()\n",
        "        print(f\"step {steps}: train loss {losses['train']:.4f}, val loss {losses['val']:.4f}\")\n",
        "\n",
        "    # sample a batch of data\n",
        "    xb, yb = get_batch('train')\n",
        "\n",
        "    # evaluate the loss\n",
        "    logits, loss = model(xb.to(device), yb.to(device))\n",
        "    optimizer.zero_grad(set_to_none=True)\n",
        "    loss.backward()\n",
        "    optimizer.step()"
      ]
    },
    {
      "cell_type": "code",
      "execution_count": null,
      "metadata": {
        "colab": {
          "background_save": true
        },
        "id": "ARYdl5Z0yV2L",
        "outputId": "13e6fdab-ebde-48a3-86ca-40e8eee9c874"
      },
      "outputs": [
        {
          "name": "stdout",
          "output_type": "stream",
          "text": [
            "\n",
            "\n",
            "Clet if bridce.\n",
            "Necking yet that sencurbeould andgrians me?\n",
            "I'll suppaith fould word.\n",
            "War dilaccaoes will my.\n",
            "\n",
            "PDY OY my toughtountertof it here trithed;\n",
            "Who eveirse:\n",
            "Onot will is therevers, and Warpordion trabous lord dope litliser oncely spear; andsell, you lord's nor\n",
            "To thind goodg\n",
            "the them that\n",
            "To What to draediby, with too rive wild in he poot of he trume known,\n",
            "Tuppeakson; wors! my mongey.\n",
            "Meporta,\n",
            "Madere?\n",
            "\n",
            "KIS:\n",
            "Nor fropea!\n",
            "Ardy, is:\n",
            "Ardate these here hoin cour ace tey ire to chan you!\n",
            "My timpand, bemary.\n",
            "You contrame?\n",
            "Is haven his me noble there threat swercaus in with lought.\n",
            "\n",
            "DUComect frepey stiatces lord\n",
            "Encastortly ivers.\n",
            "\n",
            "LUCIO:\n",
            "Abentily to-dedis?\n",
            "\n",
            "Leccousir, iver bose so upon sire fe's tall:\n",
            "Wh't Clorgs, sheirs,\n",
            "And weat nees our mereanthbeak\n",
            "these where\n",
            "Awear soul. Dold lord's dous well not a veardossed\n",
            "For hildeliderdips vone not with tyreet thee is ius done not the sut now prother is be than to brughter werell manoter her, where, death chotiur wort in forc;\n",
            "your with eneselven it we sofloing it Hank whe with the vartorser this doughtreeday.\n",
            "\n",
            "QUEETESCA:\n",
            "OF I wear nose will worting! Yord with great of word,\n",
            "And a beart and bry senInirst a canint to may it.\n",
            "And Pinkely, blame, to lible, leid menwmenging. Zriege word, in thave thou well, well to Trustlelop!'d,\n",
            "I oldreanot just dee to prarturde?\n",
            "\n",
            "Shall, master not is stande.\n",
            "\n",
            "Prir Whow'dl thenver ments beed dewarciven,\n",
            "Where of Makl vir be prene;\n",
            "And him.\n",
            "\n",
            "nuttorm This bee you therege, is one you,\n",
            "But raws,\n",
            "And there slords just what them wars, evaspaint but of a-latece my sutters\n",
            "At disherbsed we hrist arebove wacedrieven have, try.\n",
            "\n",
            "&riever.\n",
            "Ke\n",
            "'Tward shem mandand arwer,\n",
            "Gard as istial becoursehtrein:\n",
            "Saster not this send; can\n",
            "her of nothin wifl begire may I heapraces cher, of morglictorly tall weak the swould aftell 'tord!\n",
            "O but the peeroper liful wapen's would it arquear will:\n",
            "And fandure, try prous,\n",
            "They awonsels,\n",
            "But braudence stan,\n",
            "Jurewarparding: briforse wh'n from thee sul welle here work! \n",
            "Marc\n"
          ]
        }
      ],
      "source": [
        "# Let's see some output\n",
        "print(decode(model.generate(idx = torch.zeros((1, 1), dtype=torch.long, device=device), max_new_tokens=2000)[0].tolist()))"
      ]
    },
    {
      "cell_type": "markdown",
      "metadata": {
        "id": "-AYwZZJHxLkN"
      },
      "source": [
        "OK!  This is the best loss we've seen so far.  However, there's still a chance of overfitting when we make this model really huge.  So let's add in a few regularization tricks.  First, we will put in some Dropout layers in a few places.  This randomly zeros some neurons during training to reduce the chances of memorization.\n",
        "\n",
        "The other trick we will add is something called `LayerNorm`.  This is similar to `BatchNorm`, where we attempt to enforce a zero mean, unit variance on a mini-batch, however in `LayerNorm` it is row-wise instead of column-wise.  What this means is we do not need any running parameters and can do the normalization independently to each sample in a batch.\n",
        "\n",
        "This is the final code for each of these modules."
      ]
    },
    {
      "cell_type": "code",
      "execution_count": null,
      "metadata": {
        "colab": {
          "background_save": true
        },
        "id": "Fm2nhDI1umUy"
      },
      "outputs": [],
      "source": [
        "# Let's create a class to represent a single self-attention head\n",
        "class Head(nn.Module):\n",
        "  \"\"\" one head of self-attention \"\"\"\n",
        "\n",
        "  def __init__(self, n_embd, head_size, block_size, dropout):\n",
        "    super().__init__()\n",
        "    self.key = nn.Linear(n_embd, head_size, bias=False)\n",
        "    self.query = nn.Linear(n_embd, head_size, bias=False)\n",
        "    self.value = nn.Linear(n_embd, head_size, bias=False)\n",
        "\n",
        "    # this is not a parameter of the module.  and so we represent it as a \"buffer\"\n",
        "    self.register_buffer('tril', torch.tril(torch.ones(block_size, block_size)))\n",
        "\n",
        "    self.dropout = nn.Dropout(dropout)\n",
        "\n",
        "  def forward(self, x):\n",
        "    B,T,C = x.shape\n",
        "\n",
        "    k = self.key(x)    # (B, T, C)\n",
        "    q = self.query(x)  # (B, T, C)\n",
        "\n",
        "    # compute self attention scores (\"affinities\")\n",
        "    wei = q @ k.transpose(-2,-1) * C**-0.5  # (B, T, C) @ (B, C, T) --> (B, T, T)\n",
        "    wei = wei.masked_fill(self.tril[:T, :T] == 0, float('-inf')) # (B, T, T)\n",
        "    wei = F.softmax(wei, dim=-1)  # (B, T, T)\n",
        "    wei = self.dropout(wei)\n",
        "\n",
        "    # perform weighted aggregation of the values\n",
        "    v = self.value(x)  # (B, T, C)\n",
        "    out = wei @ v  # (B, T, T) @ (B, T, C) --> (B, T, C)\n",
        "    return out\n"
      ]
    },
    {
      "cell_type": "code",
      "execution_count": null,
      "metadata": {
        "colab": {
          "background_save": true
        },
        "id": "mrfc_Z1wumW9"
      },
      "outputs": [],
      "source": [
        "class MultiHeadAttention(nn.Module):\n",
        "  \"\"\" multiple heads of self-attention running in parallel. \"\"\"\n",
        "  def __init__(self, num_heads, n_embd, head_size, block_size, dropout):\n",
        "    super().__init__()\n",
        "    self.heads = nn.ModuleList([Head(n_embd, head_size, block_size, dropout) for _ in range(num_heads)])\n",
        "\n",
        "    # We also want to add this projection here.  This projects us back into\n",
        "    # the residual pathway\n",
        "    self.proj = nn.Linear(n_embd, n_embd)\n",
        "    self.dropout = nn.Dropout(dropout)\n",
        "\n",
        "  def forward(self, x):\n",
        "    out = torch.cat([h(x) for h in self.heads], dim=-1)\n",
        "    out = self.dropout(self.proj(out))\n",
        "    return out"
      ]
    },
    {
      "cell_type": "code",
      "execution_count": null,
      "metadata": {
        "colab": {
          "background_save": true
        },
        "id": "Njae60_MyOo5"
      },
      "outputs": [],
      "source": [
        "class FeedForward(nn.Module):\n",
        "  \"\"\" a simple linear  layer followed by a non-linearity. \"\"\"\n",
        "  def __init__(self, n_embd, dropout):\n",
        "    super().__init__()\n",
        "    self.net = nn.Sequential(\n",
        "        nn.Linear(n_embd, 4 * n_embd),  # also, in the paper, the inner dimensionality is multiplied by 4, and then brought back down (happens on the side of the residual pathway)\n",
        "        nn.ReLU(),\n",
        "        nn.Linear(4 * n_embd, n_embd),  # <-- WE ADD THIS PROJECTION HERE TO GO BACK TO THE RESIDUAL PATHWAY\n",
        "        nn.Dropout(dropout),\n",
        "    )\n",
        "\n",
        "  def forward(self, x):\n",
        "    # per-token level.  all tokens do this individually\n",
        "    return self.net(x)"
      ]
    },
    {
      "cell_type": "code",
      "execution_count": null,
      "metadata": {
        "colab": {
          "background_save": true
        },
        "id": "pWiMUumjymEr"
      },
      "outputs": [],
      "source": [
        "class Block(nn.Module):\n",
        "  \"\"\" Transformer block: communication followed by computation. \"\"\"\n",
        "\n",
        "  def __init__(self, n_embd, n_head, block_size, dropout):\n",
        "    super().__init__()\n",
        "\n",
        "    # The head size is automatically determined by having each attention head\n",
        "    # computing n_embd/n_head dimensional output, in parallel, so when we\n",
        "    # concatenate, the total is equal to n_embd\n",
        "    head_size = n_embd // n_head\n",
        "    self.sa = MultiHeadAttention(n_head, n_embd, head_size, block_size, dropout)\n",
        "    self.ffwd = FeedForward(n_embd, dropout)\n",
        "    self.ln1 = nn.LayerNorm(n_embd)\n",
        "    self.ln2 = nn.LayerNorm(n_embd)\n",
        "\n",
        "  def forward(self, x):\n",
        "    x = x + self.sa(self.ln1(x))  # <-- ADD SKIP CONNECTIONS HERE AND BELOW\n",
        "    x = x + self.ffwd(self.ln2(x))\n",
        "    return x"
      ]
    },
    {
      "cell_type": "code",
      "execution_count": null,
      "metadata": {
        "colab": {
          "background_save": true
        },
        "id": "jDpGxCyOyOq0"
      },
      "outputs": [],
      "source": [
        "torch.manual_seed(1337)\n",
        "\n",
        "class BigramLanguageModel(nn.Module):\n",
        "\n",
        "    def __init__(self, vocab_size, n_embd, block_size, n_head=4, n_layers=4, dropout=0.0):\n",
        "        super().__init__()\n",
        "        # each token directly reads off the logits for the next token from a lookup table\n",
        "        self.token_embedding_table = nn.Embedding(vocab_size, n_embd)\n",
        "        self.position_embedding_table = nn.Embedding(block_size, n_embd)\n",
        "        self.blocks = nn.Sequential(*[Block(n_embd, n_head, block_size, dropout) for _ in range(n_layers)])\n",
        "        self.ln_f = nn.LayerNorm(n_embd) # final layer norm\n",
        "        self.lm_head = nn.Linear(n_embd, vocab_size)\n",
        "\n",
        "    def forward(self, idx, targets=None):\n",
        "        B,T = idx.shape\n",
        "\n",
        "        # idx and targets are both (B,T) tensor of integers\n",
        "        tok_emb = self.token_embedding_table(idx) # (B,T,C)\n",
        "        pos_emb = self.position_embedding_table(torch.arange(T, device=idx.device))  # (T,C)\n",
        "        x = tok_emb + pos_emb  # (B, T, C)\n",
        "        x = self.blocks(x)  # (B, T, C)\n",
        "        x = self.ln_f(x) # (B,T,C)\n",
        "        logits = self.lm_head(x)\n",
        "\n",
        "        if targets is None:\n",
        "            loss = None\n",
        "        else:\n",
        "            B, T, C = logits.shape\n",
        "            logits = logits.view(B*T, C)\n",
        "            targets = targets.view(B*T)\n",
        "            loss = F.cross_entropy(logits, targets)\n",
        "\n",
        "        return logits, loss\n",
        "\n",
        "    def generate(self, idx, max_new_tokens):\n",
        "        # idx is (B, T) array of indices in the current context.\n",
        "        #\n",
        "        # the job of this function is to take the (B, T) sequence, and extend\n",
        "        # it to be (B, T+1), and then (B, T+2), and so on, until we have extended\n",
        "        # it to `max_new_tokens` additional length.\n",
        "        for _ in range(max_new_tokens):\n",
        "            # crop idx to the last block_size tokens. we can never have more than\n",
        "            # block_size tokens, or our position embedding table will over-run.\n",
        "            idx_cond = idx[:, -block_size:]\n",
        "            # get the predictions with current indices.  ignore the loss.\n",
        "            logits, loss = self(idx_cond)\n",
        "            # focus only on the last time step, so pluck out the last element in the time dimension\n",
        "            logits = logits[:, -1, :] # becomes (B, C)\n",
        "            # apply softmax to get probabilities\n",
        "            probs = F.softmax(logits, dim=-1) # (B, C)\n",
        "            # sample from the distribution to get a single prediction for what comes next according to the given PDF\n",
        "            idx_next = torch.multinomial(probs, num_samples=1) # (B, 1)\n",
        "            # append sampled index to the running sequence\n",
        "            idx = torch.cat((idx, idx_next), dim=1) # (B, T+1)\n",
        "        return idx"
      ]
    },
    {
      "cell_type": "code",
      "execution_count": null,
      "metadata": {
        "colab": {
          "background_save": true
        },
        "id": "NMdBMOxOzW7G"
      },
      "outputs": [],
      "source": [
        "# Alright!  Let's do this one more time:\n",
        "\n",
        "model = BigramLanguageModel(vocab_size, n_embd, block_size).to(device)\n",
        "optimizer = torch.optim.AdamW(model.parameters(), lr=learning_rate)"
      ]
    },
    {
      "cell_type": "code",
      "execution_count": null,
      "metadata": {
        "colab": {
          "background_save": true
        },
        "id": "c0Cqig2DzczB",
        "outputId": "002dac0e-a2f9-47cb-b16b-8e077fb0b393"
      },
      "outputs": [
        {
          "name": "stdout",
          "output_type": "stream",
          "text": [
            "step 0: train loss 4.2318, val loss 4.2261\n",
            "step 100: train loss 2.8911, val loss 2.9033\n",
            "step 200: train loss 2.6206, val loss 2.6290\n",
            "step 300: train loss 2.5244, val loss 2.5262\n",
            "step 400: train loss 2.4405, val loss 2.4344\n",
            "step 500: train loss 2.3812, val loss 2.4088\n",
            "step 600: train loss 2.3615, val loss 2.3597\n",
            "step 700: train loss 2.3186, val loss 2.3252\n",
            "step 800: train loss 2.2907, val loss 2.2951\n",
            "step 900: train loss 2.2487, val loss 2.2669\n",
            "step 1000: train loss 2.2333, val loss 2.2627\n",
            "step 1100: train loss 2.2265, val loss 2.2371\n",
            "step 1200: train loss 2.2175, val loss 2.2180\n",
            "step 1300: train loss 2.1893, val loss 2.2095\n",
            "step 1400: train loss 2.1840, val loss 2.2131\n",
            "step 1500: train loss 2.1726, val loss 2.1955\n",
            "step 1600: train loss 2.1595, val loss 2.1859\n",
            "step 1700: train loss 2.1376, val loss 2.1837\n",
            "step 1800: train loss 2.1302, val loss 2.1529\n",
            "step 1900: train loss 2.1277, val loss 2.1489\n",
            "step 2000: train loss 2.0957, val loss 2.1504\n",
            "step 2100: train loss 2.0908, val loss 2.1342\n",
            "step 2200: train loss 2.0940, val loss 2.1307\n",
            "step 2300: train loss 2.0827, val loss 2.1315\n",
            "step 2400: train loss 2.0763, val loss 2.1328\n",
            "step 2500: train loss 2.0712, val loss 2.1003\n",
            "step 2600: train loss 2.0513, val loss 2.1167\n",
            "step 2700: train loss 2.0657, val loss 2.1164\n",
            "step 2800: train loss 2.0566, val loss 2.1055\n",
            "step 2900: train loss 2.0398, val loss 2.1111\n",
            "step 3000: train loss 2.0254, val loss 2.0981\n",
            "step 3100: train loss 2.0305, val loss 2.0938\n",
            "step 3200: train loss 2.0116, val loss 2.1059\n",
            "step 3300: train loss 2.0132, val loss 2.0764\n",
            "step 3400: train loss 2.0062, val loss 2.0722\n",
            "step 3500: train loss 2.0119, val loss 2.0843\n",
            "step 3600: train loss 1.9959, val loss 2.0710\n",
            "step 3700: train loss 1.9948, val loss 2.0821\n",
            "step 3800: train loss 1.9877, val loss 2.0749\n",
            "step 3900: train loss 1.9897, val loss 2.0841\n",
            "step 4000: train loss 1.9906, val loss 2.0727\n",
            "step 4100: train loss 1.9982, val loss 2.0732\n",
            "step 4200: train loss 1.9959, val loss 2.0760\n",
            "step 4300: train loss 1.9756, val loss 2.0619\n",
            "step 4400: train loss 1.9899, val loss 2.0576\n",
            "step 4500: train loss 1.9720, val loss 2.0679\n",
            "step 4600: train loss 1.9733, val loss 2.0492\n",
            "step 4700: train loss 1.9618, val loss 2.0640\n",
            "step 4800: train loss 1.9594, val loss 2.0600\n",
            "step 4900: train loss 1.9605, val loss 2.0440\n",
            "step 4999: train loss 1.9574, val loss 2.0531\n"
          ]
        }
      ],
      "source": [
        "for steps in range(max_iters):\n",
        "\n",
        "    # every once in a while evaluate the loss on train and val sets\n",
        "    if steps % eval_interval == 0 or steps == max_iters - 1:\n",
        "        losses = estimate_loss()\n",
        "        print(f\"step {steps}: train loss {losses['train']:.4f}, val loss {losses['val']:.4f}\")\n",
        "\n",
        "    # sample a batch of data\n",
        "    xb, yb = get_batch('train')\n",
        "\n",
        "    # evaluate the loss\n",
        "    logits, loss = model(xb.to(device), yb.to(device))\n",
        "    optimizer.zero_grad(set_to_none=True)\n",
        "    loss.backward()\n",
        "    optimizer.step()"
      ]
    },
    {
      "cell_type": "code",
      "execution_count": null,
      "metadata": {
        "colab": {
          "background_save": true
        },
        "id": "Fq2TTz05zfNM",
        "outputId": "869551e9-406d-4937-d509-ac734ac6c94c"
      },
      "outputs": [
        {
          "name": "stdout",
          "output_type": "stream",
          "text": [
            "\n",
            "\n",
            "CCOLADIR:\n",
            "Nochwild, O love the dised bube to take O--\n",
            "Sther, hands:\n",
            "Whith foulquet toth cretlassay, away, my thans' prizerous\n",
            "Yount\n",
            "Murful I come millow!\n",
            "Whoues is ententcintlaity therevets, and Will.\n",
            "\n",
            "DUKENGE:\n",
            "O, leling than.\n",
            "His my deave speager is plaw you:\n",
            "My, sweer\n",
            "To this down my like thee killow in on have is all's thouNCHALET:\n",
            "Go, me strow more-forgued known,\n",
            "Turthe so;\n",
            "Angred must wity allook, that Pried my ommer for be!\n",
            "At you samards.\n",
            "With Edwest hoing mustear tey Rrents I crown voulk nepter, bembry.\n",
            "You conty me?\n",
            " so a cemysed-sencursetwerlentreand thouse, in with thesired, with couses:\n",
            "It statchs lord\n",
            "Is as we lopeises.\n",
            "\n",
            "LALIOPEABRI:\n",
            "To to-dedias!\n",
            "\n",
            "KAMINGELY:\n",
            "Sit Hese so umpeaser!\n",
            "Fet hates:\n",
            "Whith pongsuess?\n",
            "Whown: duRTh nees our mer the beak-sir\n",
            "werchince wall To with selp monderss well I man in wicks hows,\n",
            "And I it himpe voniend.\n",
            "\n",
            "CLWABERS:\n",
            "But to meised the now the summen ip you ou what thought brust this belbam, on so hat there, drewat dotived:\n",
            "The glear!;\n",
            "To know our Therean it wee.\n",
            "\n",
            "FLERIAQUEEN ELIA:\n",
            "Shen the is thou, nottland, and Coace, I harge.\n",
            "Me, me with nose.\n",
            "\n",
            "DUCELIO:\n",
            "By, it sove, greater, word, wascallow ClanEd?\n",
            "\n",
            "SICAI:\n",
            "Bettizel in but may in to nabed\n",
            "But dot me art these woes\n",
            "I bremenciall have evince, is thave thou for He whert:\n",
            "Thell; I\n",
            "Hager, coliace of just her voults murth?\n",
            "\n",
            "Should maste love is s; do belottreds,\n",
            "For then sing the beed seet cavenburter to gaing vity elp horther the deenuet ommenter tent, dele, gracius yeed:\n",
            "And Rark: old the deens; sing.\n",
            "\n",
            "HARus RICHARD LIO:\n",
            "A spaith but of a--\n",
            "Shave Clout.\n",
            "\n",
            "PONALOUCE:\n",
            "My, But hows is\n",
            "My ever, your is on me, he knaw you priel\n",
            "'Tward shem mansher arwill GardINIU, thath, courseh'd, byoraster I haveth sent; corlabring,\n",
            "These wifl it brefut that cormous cilt, of munglisholloter her at the swouch's,\n",
            "These I ourth's were thereser life he pusilt our butt thee, of Sknow-Morthes swouly promble thy mingsent,\n",
            "But hath and will\n",
            "one shou parcion:\n",
            "In is shown'd for a doness me one here woe a \n",
            "Marr\n"
          ]
        }
      ],
      "source": [
        "# Let's see some output\n",
        "print(decode(model.generate(idx = torch.zeros((1, 1), dtype=torch.long, device=device), max_new_tokens=2000)[0].tolist()))"
      ]
    },
    {
      "cell_type": "markdown",
      "metadata": {
        "id": "aYF0VZNqzjIo"
      },
      "source": [
        "To create the final model, let's update some of the hyper-parameters to make the model a little larger, and the block size and embedding sizes a little more reasonable to learn the task for the final run."
      ]
    },
    {
      "cell_type": "code",
      "execution_count": null,
      "metadata": {
        "colab": {
          "background_save": true
        },
        "id": "26clsPgczqGE"
      },
      "outputs": [],
      "source": [
        "block_size = 256 # what is the maximum context length for predictions?\n",
        "batch_size = 64 # how many independent sequences will we process in parallel?\n",
        "n_embd = 384\n",
        "max_iters = 5000\n",
        "learning_rate = 3e-4\n",
        "n_head = 6\n",
        "n_layers = 6\n",
        "eval_iters = 200\n",
        "eval_interval = 100\n",
        "dropout = 0.2\n",
        "\n",
        "model = BigramLanguageModel(vocab_size, n_embd, block_size, n_head=n_head, n_layers=n_layers, dropout=dropout).to(device)\n",
        "optimizer = torch.optim.AdamW(model.parameters(), lr=learning_rate)"
      ]
    },
    {
      "cell_type": "code",
      "execution_count": null,
      "metadata": {
        "colab": {
          "background_save": true
        },
        "id": "6v63uSpa06yc",
        "outputId": "6e981193-3ef1-4c7b-aff3-4691cc7f9f22"
      },
      "outputs": [
        {
          "name": "stdout",
          "output_type": "stream",
          "text": [
            "10.788929 M parameters\n"
          ]
        }
      ],
      "source": [
        "# print the number of parameters in the model\n",
        "print(sum(p.numel() for p in model.parameters())/1e6, 'M parameters')"
      ]
    },
    {
      "cell_type": "code",
      "execution_count": null,
      "metadata": {
        "id": "i4ag4Rug03KV"
      },
      "outputs": [],
      "source": [
        "for steps in range(max_iters):\n",
        "\n",
        "    # every once in a while evaluate the loss on train and val sets\n",
        "    if steps % eval_interval == 0 or steps == max_iters - 1:\n",
        "        losses = estimate_loss()\n",
        "        print(f\"step {steps}: train loss {losses['train']:.4f}, val loss {losses['val']:.4f}\")\n",
        "\n",
        "    # sample a batch of data\n",
        "    xb, yb = get_batch('train')\n",
        "\n",
        "    # evaluate the loss\n",
        "    logits, loss = model(xb.to(device), yb.to(device))\n",
        "    optimizer.zero_grad(set_to_none=True)\n",
        "    loss.backward()\n",
        "    optimizer.step()"
      ]
    },
    {
      "cell_type": "markdown",
      "metadata": {
        "id": "_WXQV-x45Jnv"
      },
      "source": [
        "The loss is by far much better, but took much longer to train (> 60 mins).  This also requires a GPU.  I would not try to train this on a CPU.  That said, we finally showed some reasonable results.  Let's look at some example generation."
      ]
    },
    {
      "cell_type": "code",
      "execution_count": null,
      "metadata": {
        "id": "Q41prc3iaPuV"
      },
      "outputs": [],
      "source": [
        "# Let's see some output\n",
        "print(decode(model.generate(idx = torch.zeros((1, 1), dtype=torch.long, device=device), max_new_tokens=5000)[0].tolist()))"
      ]
    },
    {
      "cell_type": "markdown",
      "metadata": {
        "id": "EqXOHlLo4p8E"
      },
      "source": [
        "This now looks much more like the Shakespeare text.  It is still nonsensical, but looks Shakespearean.  This is b/c it is just trained on the character level.  That said, it's pretty good!\n",
        "\n",
        "To make this more sophisticated, we need:\n",
        "\n",
        "\n",
        "*   A better tokenization strategy (e.g., sub-words)\n",
        "*   A larger model (12 layers, 12 heads per layer, 768 embd dims)\n",
        "*   A much larger dataset\n",
        "*   That's it!\n",
        "\n",
        "Content adapted from Andrej Karpathy's fantastic overview of GPTs and Transformers.  Here are some good links:\n",
        "\n",
        "* https://karpathy.ai/zero-to-hero.html\n",
        "* nanoGPT GitHub repo: https://github.com/karpathy/nanoGPT\n",
        "* Attention Is All You Need Paper: https://arxiv.org/pdf/1706.03762.pdf\n",
        "* GPT-3 Paper: https://arxiv.org/pdf/2005.14165.pdf\n",
        "\n",
        "\n",
        "\n"
      ]
    },
    {
      "cell_type": "code",
      "execution_count": null,
      "metadata": {
        "id": "L2PEip5E0hID"
      },
      "outputs": [],
      "source": []
    }
  ],
  "metadata": {
    "accelerator": "GPU",
    "colab": {
      "provenance": []
    },
    "gpuClass": "standard",
    "kernelspec": {
      "display_name": "Python 3",
      "name": "python3"
    },
    "language_info": {
      "name": "python"
    }
  },
  "nbformat": 4,
  "nbformat_minor": 0
}